{
 "cells": [
  {
   "cell_type": "code",
   "execution_count": 46,
   "metadata": {},
   "outputs": [],
   "source": [
    "import yfinance as yf\n",
    "import numpy as np\n",
    "import statistics\n",
    "import pandas as pd\n",
    "import matplotlib.pyplot as plt\n",
    "import plotly.graph_objects as go\n",
    "import plotly.express as px\n",
    "import plotly.io as pio\n",
    "PATH_TO_STOCK = 'data/SSE50.csv'"
   ]
  },
  {
   "cell_type": "markdown",
   "metadata": {},
   "source": [
    "1. Собрать данные по дневным ценам активов (акций) и дневным объемам продаж на заданном фондовом рынке за указанный период. Добавить (если нет) данные по индексу рынка\n",
    "\n",
    "2. Преобразовать данные по ценам в данные по доходностям (используйте логарифмическую доходность). Вычислите оценки ожидаемых доходностей и стандартных отклонений и постройте «карту» активов в системе координат (σ, E).\n",
    "\n",
    "3. Рассмотрите портфель с равными долями капитала и отметьте его на карте активов в системе координат (σ, E). Дайте характеристику этому портфелю.\n",
    "\n",
    "4. Рассмотрите индекс рынка и отметьте его на карте активов в системе координат (σ,E). Дайте характеристику индексу рынка. PS σ - Risk, E - Expectation"
   ]
  },
  {
   "cell_type": "code",
   "execution_count": 18,
   "metadata": {},
   "outputs": [],
   "source": [
    "def get_descriptive_statistics(frame):\n",
    "    E = np.mean(frame[\"Log_R\"])\n",
    "    sigma = np.std(frame[\"Log_R\"])\n",
    "    frame['E'] = E\n",
    "    frame['sigma'] = sigma\n",
    "    return frame, E, sigma\n",
    "\n",
    "def get_log_R(frame):\n",
    "    frame['Log_R'] = np.log(frame['Close'] / frame['Close'].shift(1))\n",
    "    return frame"
   ]
  },
  {
   "cell_type": "code",
   "execution_count": 32,
   "metadata": {
    "scrolled": true
   },
   "outputs": [
    {
     "name": "stdout",
     "output_type": "stream",
     "text": [
      "[*********************100%***********************]  1 of 1 completed\n",
      "[*********************100%***********************]  1 of 1 completed\n",
      "[*********************100%***********************]  1 of 1 completed\n",
      "[*********************100%***********************]  1 of 1 completed\n",
      "[*********************100%***********************]  1 of 1 completed\n",
      "[*********************100%***********************]  1 of 1 completed\n",
      "[*********************100%***********************]  1 of 1 completed\n",
      "[*********************100%***********************]  1 of 1 completed\n",
      "[*********************100%***********************]  1 of 1 completed\n",
      "[*********************100%***********************]  1 of 1 completed\n",
      "[*********************100%***********************]  1 of 1 completed\n",
      "[*********************100%***********************]  1 of 1 completed\n",
      "[*********************100%***********************]  1 of 1 completed\n",
      "[*********************100%***********************]  1 of 1 completed\n",
      "[*********************100%***********************]  1 of 1 completed\n",
      "[*********************100%***********************]  1 of 1 completed\n",
      "[*********************100%***********************]  1 of 1 completed\n",
      "[*********************100%***********************]  1 of 1 completed\n",
      "[*********************100%***********************]  1 of 1 completed\n",
      "[*********************100%***********************]  1 of 1 completed\n",
      "[*********************100%***********************]  1 of 1 completed\n",
      "[*********************100%***********************]  1 of 1 completed\n",
      "[*********************100%***********************]  1 of 1 completed\n",
      "[*********************100%***********************]  1 of 1 completed\n",
      "[*********************100%***********************]  1 of 1 completed\n",
      "[*********************100%***********************]  1 of 1 completed\n",
      "[*********************100%***********************]  1 of 1 completed\n",
      "[*********************100%***********************]  1 of 1 completed\n",
      "[*********************100%***********************]  1 of 1 completed\n",
      "[*********************100%***********************]  1 of 1 completed\n",
      "[*********************100%***********************]  1 of 1 completed\n",
      "[*********************100%***********************]  1 of 1 completed\n",
      "[*********************100%***********************]  1 of 1 completed\n",
      "[*********************100%***********************]  1 of 1 completed\n",
      "[*********************100%***********************]  1 of 1 completed\n",
      "[*********************100%***********************]  1 of 1 completed\n",
      "[*********************100%***********************]  1 of 1 completed\n",
      "[*********************100%***********************]  1 of 1 completed\n",
      "[*********************100%***********************]  1 of 1 completed\n",
      "[*********************100%***********************]  1 of 1 completed\n",
      "[*********************100%***********************]  1 of 1 completed\n",
      "[*********************100%***********************]  1 of 1 completed\n",
      "[*********************100%***********************]  1 of 1 completed\n",
      "[*********************100%***********************]  1 of 1 completed\n",
      "[*********************100%***********************]  1 of 1 completed\n",
      "[*********************100%***********************]  1 of 1 completed\n",
      "[*********************100%***********************]  1 of 1 completed\n",
      "[*********************100%***********************]  1 of 1 completed\n",
      "[*********************100%***********************]  1 of 1 completed\n",
      "[*********************100%***********************]  1 of 1 completed\n"
     ]
    }
   ],
   "source": [
    "stocks_stat = pd.DataFrame(columns=['sigma', 'E', 'names', 'mean_vol', 'industry'])\n",
    "stocks_info = pd.read_csv(PATH_TO_STOCK, names=['Name', 'Industry','Symbol'], delimiter=',')\n",
    "n_stocks = len(stocks_info)\n",
    "stocks = {}\n",
    "\n",
    "for index, row in stocks_info.iterrows():\n",
    "    name, industry, symbol = row\n",
    "    stock = yf.download(str(symbol) + '.SS', start=\"2018-01-01\", end=\"2018-12-31\")\n",
    "    stock = get_log_R(stock)\n",
    "    stock, E, s = get_descriptive_statistics(stock)\n",
    "    mean_vol = stock['Volume'].mean()\n",
    "        \n",
    "    stocks_stat.loc[index] = [s, E, name, mean_vol, industry]\n",
    "    stocks[str(industry)+'/'+str(name)] = stock\n"
   ]
  },
  {
   "cell_type": "code",
   "execution_count": 37,
   "metadata": {},
   "outputs": [
    {
     "data": {
      "text/html": [
       "<div>\n",
       "<style scoped>\n",
       "    .dataframe tbody tr th:only-of-type {\n",
       "        vertical-align: middle;\n",
       "    }\n",
       "\n",
       "    .dataframe tbody tr th {\n",
       "        vertical-align: top;\n",
       "    }\n",
       "\n",
       "    .dataframe thead th {\n",
       "        text-align: right;\n",
       "    }\n",
       "</style>\n",
       "<table border=\"1\" class=\"dataframe\">\n",
       "  <thead>\n",
       "    <tr style=\"text-align: right;\">\n",
       "      <th></th>\n",
       "      <th>sigma</th>\n",
       "      <th>E</th>\n",
       "      <th>names</th>\n",
       "      <th>mean_vol</th>\n",
       "      <th>industry</th>\n",
       "    </tr>\n",
       "  </thead>\n",
       "  <tbody>\n",
       "    <tr>\n",
       "      <th>0</th>\n",
       "      <td>0.023398</td>\n",
       "      <td>-0.000042</td>\n",
       "      <td>Tsinghua Tongfang</td>\n",
       "      <td>1.591310e+07</td>\n",
       "      <td>Other</td>\n",
       "    </tr>\n",
       "    <tr>\n",
       "      <th>1</th>\n",
       "      <td>0.000000</td>\n",
       "      <td>0.000000</td>\n",
       "      <td>Xinwei Group</td>\n",
       "      <td>0.000000e+00</td>\n",
       "      <td>Other</td>\n",
       "    </tr>\n",
       "    <tr>\n",
       "      <th>2</th>\n",
       "      <td>0.027398</td>\n",
       "      <td>-0.002233</td>\n",
       "      <td>China Southern Airlines</td>\n",
       "      <td>9.277587e+07</td>\n",
       "      <td>Airline</td>\n",
       "    </tr>\n",
       "    <tr>\n",
       "      <th>3</th>\n",
       "      <td>0.018884</td>\n",
       "      <td>-0.000723</td>\n",
       "      <td>SAIC Motor</td>\n",
       "      <td>1.980929e+07</td>\n",
       "      <td>Automotive</td>\n",
       "    </tr>\n",
       "    <tr>\n",
       "      <th>4</th>\n",
       "      <td>0.013733</td>\n",
       "      <td>-0.001078</td>\n",
       "      <td>Shanghai Pudong Development Bank</td>\n",
       "      <td>3.586864e+07</td>\n",
       "      <td>Banking</td>\n",
       "    </tr>\n",
       "    <tr>\n",
       "      <th>5</th>\n",
       "      <td>0.012233</td>\n",
       "      <td>-0.000886</td>\n",
       "      <td>China Minsheng Bank</td>\n",
       "      <td>8.009104e+07</td>\n",
       "      <td>Banking</td>\n",
       "    </tr>\n",
       "    <tr>\n",
       "      <th>6</th>\n",
       "      <td>0.019207</td>\n",
       "      <td>-0.000668</td>\n",
       "      <td>China Merchants Bank</td>\n",
       "      <td>5.053268e+07</td>\n",
       "      <td>Banking</td>\n",
       "    </tr>\n",
       "    <tr>\n",
       "      <th>7</th>\n",
       "      <td>0.012119</td>\n",
       "      <td>-0.000910</td>\n",
       "      <td>Bank of Jiangsu</td>\n",
       "      <td>3.255697e+07</td>\n",
       "      <td>Banking</td>\n",
       "    </tr>\n",
       "    <tr>\n",
       "      <th>8</th>\n",
       "      <td>0.013313</td>\n",
       "      <td>-0.000592</td>\n",
       "      <td>Industrial Bank</td>\n",
       "      <td>7.639053e+07</td>\n",
       "      <td>Banking</td>\n",
       "    </tr>\n",
       "    <tr>\n",
       "      <th>9</th>\n",
       "      <td>0.011458</td>\n",
       "      <td>-0.001020</td>\n",
       "      <td>Bank of Beijing</td>\n",
       "      <td>3.756217e+07</td>\n",
       "      <td>Banking</td>\n",
       "    </tr>\n",
       "    <tr>\n",
       "      <th>10</th>\n",
       "      <td>0.014491</td>\n",
       "      <td>0.000351</td>\n",
       "      <td>Bank of Shanghai</td>\n",
       "      <td>3.694606e+07</td>\n",
       "      <td>Banking</td>\n",
       "    </tr>\n",
       "    <tr>\n",
       "      <th>11</th>\n",
       "      <td>0.015355</td>\n",
       "      <td>-0.000277</td>\n",
       "      <td>Agricultural Bank of China</td>\n",
       "      <td>3.317504e+08</td>\n",
       "      <td>Banking</td>\n",
       "    </tr>\n",
       "    <tr>\n",
       "      <th>12</th>\n",
       "      <td>0.012251</td>\n",
       "      <td>-0.000336</td>\n",
       "      <td>Bank of Communications</td>\n",
       "      <td>9.692052e+07</td>\n",
       "      <td>Banking</td>\n",
       "    </tr>\n",
       "    <tr>\n",
       "      <th>13</th>\n",
       "      <td>0.016498</td>\n",
       "      <td>-0.000643</td>\n",
       "      <td>Industrial and Commercial Bank of China</td>\n",
       "      <td>2.146678e+08</td>\n",
       "      <td>Banking</td>\n",
       "    </tr>\n",
       "    <tr>\n",
       "      <th>14</th>\n",
       "      <td>0.014227</td>\n",
       "      <td>-0.000404</td>\n",
       "      <td>China Everbright Bank</td>\n",
       "      <td>1.007116e+08</td>\n",
       "      <td>Banking</td>\n",
       "    </tr>\n",
       "    <tr>\n",
       "      <th>15</th>\n",
       "      <td>0.013035</td>\n",
       "      <td>-0.000403</td>\n",
       "      <td>Bank of China</td>\n",
       "      <td>1.560815e+08</td>\n",
       "      <td>Banking</td>\n",
       "    </tr>\n",
       "    <tr>\n",
       "      <th>16</th>\n",
       "      <td>0.023406</td>\n",
       "      <td>-0.000729</td>\n",
       "      <td>Kweichow Moutai</td>\n",
       "      <td>4.445039e+06</td>\n",
       "      <td>Beverages</td>\n",
       "    </tr>\n",
       "    <tr>\n",
       "      <th>17</th>\n",
       "      <td>0.022811</td>\n",
       "      <td>-0.000200</td>\n",
       "      <td>China Railway Construction</td>\n",
       "      <td>4.434866e+07</td>\n",
       "      <td>Construction</td>\n",
       "    </tr>\n",
       "    <tr>\n",
       "      <th>18</th>\n",
       "      <td>0.013810</td>\n",
       "      <td>-0.000813</td>\n",
       "      <td>China Railway [Engineering]</td>\n",
       "      <td>2.420205e+07</td>\n",
       "      <td>Construction</td>\n",
       "    </tr>\n",
       "    <tr>\n",
       "      <th>19</th>\n",
       "      <td>0.018202</td>\n",
       "      <td>-0.000592</td>\n",
       "      <td>China State Construction Engineering</td>\n",
       "      <td>1.725085e+08</td>\n",
       "      <td>Construction</td>\n",
       "    </tr>\n",
       "    <tr>\n",
       "      <th>20</th>\n",
       "      <td>0.022946</td>\n",
       "      <td>-0.000644</td>\n",
       "      <td>China Communications Construction</td>\n",
       "      <td>1.660584e+07</td>\n",
       "      <td>Construction</td>\n",
       "    </tr>\n",
       "    <tr>\n",
       "      <th>21</th>\n",
       "      <td>0.025424</td>\n",
       "      <td>-0.001380</td>\n",
       "      <td>Yili Group</td>\n",
       "      <td>6.099441e+07</td>\n",
       "      <td>Dairy</td>\n",
       "    </tr>\n",
       "    <tr>\n",
       "      <th>22</th>\n",
       "      <td>0.021013</td>\n",
       "      <td>-0.001165</td>\n",
       "      <td>China Shenhua Energy</td>\n",
       "      <td>2.589409e+07</td>\n",
       "      <td>Energy</td>\n",
       "    </tr>\n",
       "    <tr>\n",
       "      <th>23</th>\n",
       "      <td>0.012882</td>\n",
       "      <td>-0.001397</td>\n",
       "      <td>China National Nuclear Power</td>\n",
       "      <td>1.962656e+07</td>\n",
       "      <td>Energy</td>\n",
       "    </tr>\n",
       "    <tr>\n",
       "      <th>24</th>\n",
       "      <td>0.021269</td>\n",
       "      <td>-0.000584</td>\n",
       "      <td>CITIC Securities</td>\n",
       "      <td>1.124787e+08</td>\n",
       "      <td>Financial services</td>\n",
       "    </tr>\n",
       "    <tr>\n",
       "      <th>25</th>\n",
       "      <td>0.019365</td>\n",
       "      <td>-0.001638</td>\n",
       "      <td>Haitong Securities</td>\n",
       "      <td>4.210195e+07</td>\n",
       "      <td>Financial services</td>\n",
       "    </tr>\n",
       "    <tr>\n",
       "      <th>26</th>\n",
       "      <td>0.021780</td>\n",
       "      <td>-0.002325</td>\n",
       "      <td>Orient Securities</td>\n",
       "      <td>1.532802e+07</td>\n",
       "      <td>Financial services</td>\n",
       "    </tr>\n",
       "    <tr>\n",
       "      <th>27</th>\n",
       "      <td>0.019859</td>\n",
       "      <td>-0.001113</td>\n",
       "      <td>China Merchants Securities</td>\n",
       "      <td>1.285185e+07</td>\n",
       "      <td>Financial services</td>\n",
       "    </tr>\n",
       "    <tr>\n",
       "      <th>28</th>\n",
       "      <td>0.025714</td>\n",
       "      <td>-0.001727</td>\n",
       "      <td>Dongxing Securities</td>\n",
       "      <td>1.323638e+07</td>\n",
       "      <td>Financial services</td>\n",
       "    </tr>\n",
       "    <tr>\n",
       "      <th>29</th>\n",
       "      <td>0.017949</td>\n",
       "      <td>-0.000830</td>\n",
       "      <td>Guotai Junan Securities</td>\n",
       "      <td>2.115875e+07</td>\n",
       "      <td>Financial services</td>\n",
       "    </tr>\n",
       "    <tr>\n",
       "      <th>30</th>\n",
       "      <td>0.022786</td>\n",
       "      <td>-0.000440</td>\n",
       "      <td>Huatai Securities</td>\n",
       "      <td>4.980450e+07</td>\n",
       "      <td>Financial services</td>\n",
       "    </tr>\n",
       "    <tr>\n",
       "      <th>31</th>\n",
       "      <td>0.021439</td>\n",
       "      <td>-0.001819</td>\n",
       "      <td>Everbright Securities</td>\n",
       "      <td>1.281374e+07</td>\n",
       "      <td>Financial services</td>\n",
       "    </tr>\n",
       "    <tr>\n",
       "      <th>32</th>\n",
       "      <td>0.026517</td>\n",
       "      <td>-0.001822</td>\n",
       "      <td>China Galaxy Securities</td>\n",
       "      <td>2.353971e+07</td>\n",
       "      <td>Financial services</td>\n",
       "    </tr>\n",
       "    <tr>\n",
       "      <th>33</th>\n",
       "      <td>0.020942</td>\n",
       "      <td>-0.001136</td>\n",
       "      <td>Founder Securities</td>\n",
       "      <td>1.741531e+07</td>\n",
       "      <td>Financial services</td>\n",
       "    </tr>\n",
       "    <tr>\n",
       "      <th>34</th>\n",
       "      <td>0.019903</td>\n",
       "      <td>-0.001065</td>\n",
       "      <td>Ping An Insurance</td>\n",
       "      <td>7.490588e+07</td>\n",
       "      <td>Insurance</td>\n",
       "    </tr>\n",
       "    <tr>\n",
       "      <th>35</th>\n",
       "      <td>0.023704</td>\n",
       "      <td>-0.002140</td>\n",
       "      <td>New China Life Insurance</td>\n",
       "      <td>1.711746e+07</td>\n",
       "      <td>Insurance</td>\n",
       "    </tr>\n",
       "    <tr>\n",
       "      <th>36</th>\n",
       "      <td>0.024211</td>\n",
       "      <td>-0.001604</td>\n",
       "      <td>China Pacific Insurance</td>\n",
       "      <td>2.476541e+07</td>\n",
       "      <td>Insurance</td>\n",
       "    </tr>\n",
       "    <tr>\n",
       "      <th>37</th>\n",
       "      <td>0.016884</td>\n",
       "      <td>-0.001663</td>\n",
       "      <td>China Life Insurance</td>\n",
       "      <td>1.128927e+07</td>\n",
       "      <td>Insurance</td>\n",
       "    </tr>\n",
       "    <tr>\n",
       "      <th>38</th>\n",
       "      <td>0.020896</td>\n",
       "      <td>-0.002165</td>\n",
       "      <td>China Northern Rare Earth</td>\n",
       "      <td>3.864102e+07</td>\n",
       "      <td>Mining</td>\n",
       "    </tr>\n",
       "    <tr>\n",
       "      <th>39</th>\n",
       "      <td>0.022105</td>\n",
       "      <td>-0.000175</td>\n",
       "      <td>Shandong Gold Mining</td>\n",
       "      <td>2.688601e+07</td>\n",
       "      <td>Mining</td>\n",
       "    </tr>\n",
       "    <tr>\n",
       "      <th>40</th>\n",
       "      <td>0.019268</td>\n",
       "      <td>-0.000960</td>\n",
       "      <td>Sinopec</td>\n",
       "      <td>1.549011e+08</td>\n",
       "      <td>Oil &amp; gas</td>\n",
       "    </tr>\n",
       "    <tr>\n",
       "      <th>41</th>\n",
       "      <td>0.016499</td>\n",
       "      <td>-0.000557</td>\n",
       "      <td>PetroChina</td>\n",
       "      <td>4.829600e+07</td>\n",
       "      <td>Oil &amp; gas</td>\n",
       "    </tr>\n",
       "    <tr>\n",
       "      <th>42</th>\n",
       "      <td>0.024369</td>\n",
       "      <td>-0.003669</td>\n",
       "      <td>Kangmei Pharmaceutical</td>\n",
       "      <td>3.255646e+07</td>\n",
       "      <td>Pharmaceutical</td>\n",
       "    </tr>\n",
       "    <tr>\n",
       "      <th>43</th>\n",
       "      <td>0.015457</td>\n",
       "      <td>-0.000429</td>\n",
       "      <td>Daqin Railway</td>\n",
       "      <td>4.106944e+07</td>\n",
       "      <td>Rail transport</td>\n",
       "    </tr>\n",
       "    <tr>\n",
       "      <th>44</th>\n",
       "      <td>0.028794</td>\n",
       "      <td>-0.000889</td>\n",
       "      <td>Poly Real Estate</td>\n",
       "      <td>1.040998e+08</td>\n",
       "      <td>Real estate</td>\n",
       "    </tr>\n",
       "    <tr>\n",
       "      <th>45</th>\n",
       "      <td>0.028929</td>\n",
       "      <td>-0.000980</td>\n",
       "      <td>China Fortune Land Development</td>\n",
       "      <td>2.254979e+07</td>\n",
       "      <td>Real estate</td>\n",
       "    </tr>\n",
       "    <tr>\n",
       "      <th>46</th>\n",
       "      <td>0.021045</td>\n",
       "      <td>-0.001041</td>\n",
       "      <td>Greenland Holdings</td>\n",
       "      <td>7.278984e+07</td>\n",
       "      <td>Real estate</td>\n",
       "    </tr>\n",
       "    <tr>\n",
       "      <th>47</th>\n",
       "      <td>0.018493</td>\n",
       "      <td>-0.001430</td>\n",
       "      <td>CRRC</td>\n",
       "      <td>5.712403e+07</td>\n",
       "      <td>Rolling stock</td>\n",
       "    </tr>\n",
       "    <tr>\n",
       "      <th>48</th>\n",
       "      <td>0.016443</td>\n",
       "      <td>-0.001452</td>\n",
       "      <td>China Shipbuilding Industry</td>\n",
       "      <td>7.484867e+07</td>\n",
       "      <td>Shipbuilding</td>\n",
       "    </tr>\n",
       "    <tr>\n",
       "      <th>49</th>\n",
       "      <td>0.020965</td>\n",
       "      <td>-0.000908</td>\n",
       "      <td>China United Network Communications</td>\n",
       "      <td>1.379230e+08</td>\n",
       "      <td>Telecommunication</td>\n",
       "    </tr>\n",
       "  </tbody>\n",
       "</table>\n",
       "</div>"
      ],
      "text/plain": [
       "       sigma         E                                    names      mean_vol  \\\n",
       "0   0.023398 -0.000042                        Tsinghua Tongfang  1.591310e+07   \n",
       "1   0.000000  0.000000                             Xinwei Group  0.000000e+00   \n",
       "2   0.027398 -0.002233                  China Southern Airlines  9.277587e+07   \n",
       "3   0.018884 -0.000723                               SAIC Motor  1.980929e+07   \n",
       "4   0.013733 -0.001078         Shanghai Pudong Development Bank  3.586864e+07   \n",
       "5   0.012233 -0.000886                      China Minsheng Bank  8.009104e+07   \n",
       "6   0.019207 -0.000668                     China Merchants Bank  5.053268e+07   \n",
       "7   0.012119 -0.000910                          Bank of Jiangsu  3.255697e+07   \n",
       "8   0.013313 -0.000592                          Industrial Bank  7.639053e+07   \n",
       "9   0.011458 -0.001020                          Bank of Beijing  3.756217e+07   \n",
       "10  0.014491  0.000351                         Bank of Shanghai  3.694606e+07   \n",
       "11  0.015355 -0.000277               Agricultural Bank of China  3.317504e+08   \n",
       "12  0.012251 -0.000336                   Bank of Communications  9.692052e+07   \n",
       "13  0.016498 -0.000643  Industrial and Commercial Bank of China  2.146678e+08   \n",
       "14  0.014227 -0.000404                    China Everbright Bank  1.007116e+08   \n",
       "15  0.013035 -0.000403                            Bank of China  1.560815e+08   \n",
       "16  0.023406 -0.000729                          Kweichow Moutai  4.445039e+06   \n",
       "17  0.022811 -0.000200              China Railway Construction   4.434866e+07   \n",
       "18  0.013810 -0.000813             China Railway [Engineering]   2.420205e+07   \n",
       "19  0.018202 -0.000592    China State Construction Engineering   1.725085e+08   \n",
       "20  0.022946 -0.000644       China Communications Construction   1.660584e+07   \n",
       "21  0.025424 -0.001380                               Yili Group  6.099441e+07   \n",
       "22  0.021013 -0.001165                    China Shenhua Energy   2.589409e+07   \n",
       "23  0.012882 -0.001397            China National Nuclear Power   1.962656e+07   \n",
       "24  0.021269 -0.000584                         CITIC Securities  1.124787e+08   \n",
       "25  0.019365 -0.001638                       Haitong Securities  4.210195e+07   \n",
       "26  0.021780 -0.002325                        Orient Securities  1.532802e+07   \n",
       "27  0.019859 -0.001113               China Merchants Securities  1.285185e+07   \n",
       "28  0.025714 -0.001727                      Dongxing Securities  1.323638e+07   \n",
       "29  0.017949 -0.000830                  Guotai Junan Securities  2.115875e+07   \n",
       "30  0.022786 -0.000440                        Huatai Securities  4.980450e+07   \n",
       "31  0.021439 -0.001819                    Everbright Securities  1.281374e+07   \n",
       "32  0.026517 -0.001822                  China Galaxy Securities  2.353971e+07   \n",
       "33  0.020942 -0.001136                       Founder Securities  1.741531e+07   \n",
       "34  0.019903 -0.001065                        Ping An Insurance  7.490588e+07   \n",
       "35  0.023704 -0.002140                 New China Life Insurance  1.711746e+07   \n",
       "36  0.024211 -0.001604                  China Pacific Insurance  2.476541e+07   \n",
       "37  0.016884 -0.001663                     China Life Insurance  1.128927e+07   \n",
       "38  0.020896 -0.002165                China Northern Rare Earth  3.864102e+07   \n",
       "39  0.022105 -0.000175                     Shandong Gold Mining  2.688601e+07   \n",
       "40  0.019268 -0.000960                                  Sinopec  1.549011e+08   \n",
       "41  0.016499 -0.000557                               PetroChina  4.829600e+07   \n",
       "42  0.024369 -0.003669                   Kangmei Pharmaceutical  3.255646e+07   \n",
       "43  0.015457 -0.000429                            Daqin Railway  4.106944e+07   \n",
       "44  0.028794 -0.000889                         Poly Real Estate  1.040998e+08   \n",
       "45  0.028929 -0.000980           China Fortune Land Development  2.254979e+07   \n",
       "46  0.021045 -0.001041                       Greenland Holdings  7.278984e+07   \n",
       "47  0.018493 -0.001430                                     CRRC  5.712403e+07   \n",
       "48  0.016443 -0.001452              China Shipbuilding Industry  7.484867e+07   \n",
       "49  0.020965 -0.000908      China United Network Communications  1.379230e+08   \n",
       "\n",
       "              industry  \n",
       "0                Other  \n",
       "1                Other  \n",
       "2              Airline  \n",
       "3           Automotive  \n",
       "4              Banking  \n",
       "5              Banking  \n",
       "6              Banking  \n",
       "7              Banking  \n",
       "8              Banking  \n",
       "9              Banking  \n",
       "10             Banking  \n",
       "11             Banking  \n",
       "12             Banking  \n",
       "13             Banking  \n",
       "14             Banking  \n",
       "15             Banking  \n",
       "16           Beverages  \n",
       "17        Construction  \n",
       "18        Construction  \n",
       "19        Construction  \n",
       "20        Construction  \n",
       "21               Dairy  \n",
       "22              Energy  \n",
       "23              Energy  \n",
       "24  Financial services  \n",
       "25  Financial services  \n",
       "26  Financial services  \n",
       "27  Financial services  \n",
       "28  Financial services  \n",
       "29  Financial services  \n",
       "30  Financial services  \n",
       "31  Financial services  \n",
       "32  Financial services  \n",
       "33  Financial services  \n",
       "34           Insurance  \n",
       "35           Insurance  \n",
       "36           Insurance  \n",
       "37           Insurance  \n",
       "38              Mining  \n",
       "39              Mining  \n",
       "40           Oil & gas  \n",
       "41           Oil & gas  \n",
       "42      Pharmaceutical  \n",
       "43      Rail transport  \n",
       "44         Real estate  \n",
       "45         Real estate  \n",
       "46         Real estate  \n",
       "47       Rolling stock  \n",
       "48        Shipbuilding  \n",
       "49   Telecommunication  "
      ]
     },
     "execution_count": 37,
     "metadata": {},
     "output_type": "execute_result"
    }
   ],
   "source": [
    "stocks_stat"
   ]
  },
  {
   "cell_type": "code",
   "execution_count": null,
   "metadata": {},
   "outputs": [],
   "source": []
  },
  {
   "cell_type": "code",
   "execution_count": 47,
   "metadata": {},
   "outputs": [
    {
     "data": {
      "application/vnd.plotly.v1+json": {
       "config": {
        "plotlyServerURL": "https://plot.ly"
       },
       "data": [
        {
         "customdata": [
          [
           "Tsinghua Tongfang"
          ]
         ],
         "hovertemplate": "industry= Other<br>sigma=%{x}<br>E=%{y}<br>mean_vol=%{marker.size}<br>names=%{customdata[0]}<extra></extra>",
         "legendgroup": " Other",
         "marker": {
          "color": "#636efa",
          "size": [
           15913101.868312757
          ],
          "sizemode": "area",
          "sizeref": 829375.9342695473,
          "symbol": "circle"
         },
         "mode": "markers",
         "name": " Other",
         "orientation": "v",
         "showlegend": true,
         "type": "scatter",
         "x": [
          0.023397727939211556
         ],
         "xaxis": "x",
         "y": [
          -4.2252385315912526e-05
         ],
         "yaxis": "y"
        },
        {
         "customdata": [
          [
           "Xinwei Group"
          ]
         ],
         "hovertemplate": "industry=Other<br>sigma=%{x}<br>E=%{y}<br>mean_vol=%{marker.size}<br>names=%{customdata[0]}<extra></extra>",
         "legendgroup": "Other",
         "marker": {
          "color": "#EF553B",
          "size": [
           0
          ],
          "sizemode": "area",
          "sizeref": 829375.9342695473,
          "symbol": "circle"
         },
         "mode": "markers",
         "name": "Other",
         "orientation": "v",
         "showlegend": true,
         "type": "scatter",
         "x": [
          0
         ],
         "xaxis": "x",
         "y": [
          0
         ],
         "yaxis": "y"
        },
        {
         "customdata": [
          [
           "China Southern Airlines"
          ]
         ],
         "hovertemplate": "industry=Airline<br>sigma=%{x}<br>E=%{y}<br>mean_vol=%{marker.size}<br>names=%{customdata[0]}<extra></extra>",
         "legendgroup": "Airline",
         "marker": {
          "color": "#00cc96",
          "size": [
           92775866.56378601
          ],
          "sizemode": "area",
          "sizeref": 829375.9342695473,
          "symbol": "circle"
         },
         "mode": "markers",
         "name": "Airline",
         "orientation": "v",
         "showlegend": true,
         "type": "scatter",
         "x": [
          0.02739833143572189
         ],
         "xaxis": "x",
         "y": [
          -0.0022334767708985176
         ],
         "yaxis": "y"
        },
        {
         "customdata": [
          [
           "SAIC Motor"
          ]
         ],
         "hovertemplate": "industry=Automotive<br>sigma=%{x}<br>E=%{y}<br>mean_vol=%{marker.size}<br>names=%{customdata[0]}<extra></extra>",
         "legendgroup": "Automotive",
         "marker": {
          "color": "#ab63fa",
          "size": [
           19809289.03292181
          ],
          "sizemode": "area",
          "sizeref": 829375.9342695473,
          "symbol": "circle"
         },
         "mode": "markers",
         "name": "Automotive",
         "orientation": "v",
         "showlegend": true,
         "type": "scatter",
         "x": [
          0.018883756554085928
         ],
         "xaxis": "x",
         "y": [
          -0.0007230707505599738
         ],
         "yaxis": "y"
        },
        {
         "customdata": [
          [
           "Shanghai Pudong Development Bank"
          ],
          [
           "China Minsheng Bank"
          ],
          [
           "China Merchants Bank"
          ],
          [
           "Bank of Jiangsu"
          ],
          [
           "Industrial Bank"
          ],
          [
           "Bank of Beijing"
          ],
          [
           "Bank of Shanghai"
          ],
          [
           "Agricultural Bank of China"
          ],
          [
           "Bank of Communications"
          ],
          [
           "Industrial and Commercial Bank of China"
          ],
          [
           "China Everbright Bank"
          ],
          [
           "Bank of China"
          ]
         ],
         "hovertemplate": "industry=Banking<br>sigma=%{x}<br>E=%{y}<br>mean_vol=%{marker.size}<br>names=%{customdata[0]}<extra></extra>",
         "legendgroup": "Banking",
         "marker": {
          "color": "#FFA15A",
          "size": [
           35868636.20576131,
           80091037.16460906,
           50532683.58436214,
           32556968.901234567,
           76390533.68724279,
           37562169.27983539,
           36946055.03703704,
           331750373.7078189,
           96920518.16049382,
           214667815.52263373,
           100711570.57613169,
           156081468.23868313
          ],
          "sizemode": "area",
          "sizeref": 829375.9342695473,
          "symbol": "circle"
         },
         "mode": "markers",
         "name": "Banking",
         "orientation": "v",
         "showlegend": true,
         "type": "scatter",
         "x": [
          0.013732922482684862,
          0.012233258891306721,
          0.01920665884582793,
          0.012118869896020948,
          0.013313086519065135,
          0.011457792204730657,
          0.014491379161511898,
          0.015354848500486032,
          0.012250891970607098,
          0.01649818332526671,
          0.014227043084449954,
          0.013034581104360609
         ],
         "xaxis": "x",
         "y": [
          -0.001077657742832811,
          -0.0008858646138838149,
          -0.0006677926131414701,
          -0.0009096031581619352,
          -0.0005916946295101731,
          -0.001019622379412805,
          0.0003510718436268873,
          -0.0002774351428009029,
          -0.0003356930945975166,
          -0.0006425620042711419,
          -0.00040398403792936074,
          -0.00040319868100503536
         ],
         "yaxis": "y"
        },
        {
         "customdata": [
          [
           "Kweichow Moutai"
          ]
         ],
         "hovertemplate": "industry= Beverages<br>sigma=%{x}<br>E=%{y}<br>mean_vol=%{marker.size}<br>names=%{customdata[0]}<extra></extra>",
         "legendgroup": " Beverages",
         "marker": {
          "color": "#19d3f3",
          "size": [
           4445038.864197531
          ],
          "sizemode": "area",
          "sizeref": 829375.9342695473,
          "symbol": "circle"
         },
         "mode": "markers",
         "name": " Beverages",
         "orientation": "v",
         "showlegend": true,
         "type": "scatter",
         "x": [
          0.02340618427187137
         ],
         "xaxis": "x",
         "y": [
          -0.0007290319344099985
         ],
         "yaxis": "y"
        },
        {
         "customdata": [
          [
           "China Railway Construction "
          ],
          [
           "China Railway [Engineering] "
          ],
          [
           "China State Construction Engineering "
          ],
          [
           "China Communications Construction "
          ]
         ],
         "hovertemplate": "industry=Construction<br>sigma=%{x}<br>E=%{y}<br>mean_vol=%{marker.size}<br>names=%{customdata[0]}<extra></extra>",
         "legendgroup": "Construction",
         "marker": {
          "color": "#FF6692",
          "size": [
           44348662.7654321,
           24202047.925925925,
           172508537.69547325,
           16605839.456790123
          ],
          "sizemode": "area",
          "sizeref": 829375.9342695473,
          "symbol": "circle"
         },
         "mode": "markers",
         "name": "Construction",
         "orientation": "v",
         "showlegend": true,
         "type": "scatter",
         "x": [
          0.02281055275905274,
          0.01380997042065194,
          0.01820243519747332,
          0.022946122675987196
         ],
         "xaxis": "x",
         "y": [
          -0.00020034487560263394,
          -0.0008130638263610723,
          -0.0005923604886360605,
          -0.0006443193027430556
         ],
         "yaxis": "y"
        },
        {
         "customdata": [
          [
           "Yili Group"
          ]
         ],
         "hovertemplate": "industry=Dairy<br>sigma=%{x}<br>E=%{y}<br>mean_vol=%{marker.size}<br>names=%{customdata[0]}<extra></extra>",
         "legendgroup": "Dairy",
         "marker": {
          "color": "#B6E880",
          "size": [
           60994414.37037037
          ],
          "sizemode": "area",
          "sizeref": 829375.9342695473,
          "symbol": "circle"
         },
         "mode": "markers",
         "name": "Dairy",
         "orientation": "v",
         "showlegend": true,
         "type": "scatter",
         "x": [
          0.025423775382228696
         ],
         "xaxis": "x",
         "y": [
          -0.0013797895655822243
         ],
         "yaxis": "y"
        },
        {
         "customdata": [
          [
           "China Shenhua Energy "
          ],
          [
           "China National Nuclear Power "
          ]
         ],
         "hovertemplate": "industry=Energy<br>sigma=%{x}<br>E=%{y}<br>mean_vol=%{marker.size}<br>names=%{customdata[0]}<extra></extra>",
         "legendgroup": "Energy",
         "marker": {
          "color": "#FF97FF",
          "size": [
           25894093.942386832,
           19626560.423868313
          ],
          "sizemode": "area",
          "sizeref": 829375.9342695473,
          "symbol": "circle"
         },
         "mode": "markers",
         "name": "Energy",
         "orientation": "v",
         "showlegend": true,
         "type": "scatter",
         "x": [
          0.0210134003241338,
          0.012881844381876272
         ],
         "xaxis": "x",
         "y": [
          -0.0011651182899613947,
          -0.0013970965204925408
         ],
         "yaxis": "y"
        },
        {
         "customdata": [
          [
           "CITIC Securities"
          ],
          [
           "Haitong Securities"
          ],
          [
           "Orient Securities"
          ],
          [
           "China Merchants Securities"
          ],
          [
           "Dongxing Securities"
          ],
          [
           "Guotai Junan Securities"
          ],
          [
           "Huatai Securities"
          ],
          [
           "Everbright Securities"
          ],
          [
           "China Galaxy Securities"
          ],
          [
           "Founder Securities"
          ]
         ],
         "hovertemplate": "industry=Financial services<br>sigma=%{x}<br>E=%{y}<br>mean_vol=%{marker.size}<br>names=%{customdata[0]}<extra></extra>",
         "legendgroup": "Financial services",
         "marker": {
          "color": "#FECB52",
          "size": [
           112478697.79012346,
           42101950.12345679,
           15328019.271604938,
           12851845.646090535,
           13236381.053497942,
           21158748.621399175,
           49804498.304526746,
           12813738.460905349,
           23539708.3127572,
           17415308.596707817
          ],
          "sizemode": "area",
          "sizeref": 829375.9342695473,
          "symbol": "circle"
         },
         "mode": "markers",
         "name": "Financial services",
         "orientation": "v",
         "showlegend": true,
         "type": "scatter",
         "x": [
          0.021268556796911472,
          0.01936497752688617,
          0.021780045772568195,
          0.019859295432691295,
          0.0257137088668738,
          0.017949265648675543,
          0.0227863561875066,
          0.0214391730117627,
          0.026516548945434943,
          0.020942084626392337
         ],
         "xaxis": "x",
         "y": [
          -0.000583920271841135,
          -0.0016377380042876272,
          -0.0023250343216514014,
          -0.0011125180192215016,
          -0.0017270217767223256,
          -0.0008304435852211166,
          -0.0004399627613632849,
          -0.0018190183212327092,
          -0.001822291487934173,
          -0.0011359037149738418
         ],
         "yaxis": "y"
        },
        {
         "customdata": [
          [
           "Ping An Insurance"
          ],
          [
           "New China Life Insurance"
          ],
          [
           "China Pacific Insurance"
          ],
          [
           "China Life Insurance"
          ]
         ],
         "hovertemplate": "industry=Insurance<br>sigma=%{x}<br>E=%{y}<br>mean_vol=%{marker.size}<br>names=%{customdata[0]}<extra></extra>",
         "legendgroup": "Insurance",
         "marker": {
          "color": "#636efa",
          "size": [
           74905882.98353909,
           17117463.238683127,
           24765406.596707817,
           11289268.732510287
          ],
          "sizemode": "area",
          "sizeref": 829375.9342695473,
          "symbol": "circle"
         },
         "mode": "markers",
         "name": "Insurance",
         "orientation": "v",
         "showlegend": true,
         "type": "scatter",
         "x": [
          0.01990338584762517,
          0.023704091564784757,
          0.024211201600951204,
          0.016884383117929797
         ],
         "xaxis": "x",
         "y": [
          -0.0010648402294137973,
          -0.002140094115393431,
          -0.0016036343880121383,
          -0.0016626206563672865
         ],
         "yaxis": "y"
        },
        {
         "customdata": [
          [
           "China Northern Rare Earth"
          ],
          [
           "Shandong Gold Mining"
          ]
         ],
         "hovertemplate": "industry=Mining<br>sigma=%{x}<br>E=%{y}<br>mean_vol=%{marker.size}<br>names=%{customdata[0]}<extra></extra>",
         "legendgroup": "Mining",
         "marker": {
          "color": "#EF553B",
          "size": [
           38641018.736625515,
           26886012.781893004
          ],
          "sizemode": "area",
          "sizeref": 829375.9342695473,
          "symbol": "circle"
         },
         "mode": "markers",
         "name": "Mining",
         "orientation": "v",
         "showlegend": true,
         "type": "scatter",
         "x": [
          0.020895859288782792,
          0.022105174718109473
         ],
         "xaxis": "x",
         "y": [
          -0.0021651479257537585,
          -0.00017519926244947178
         ],
         "yaxis": "y"
        },
        {
         "customdata": [
          [
           "Sinopec"
          ],
          [
           "PetroChina"
          ]
         ],
         "hovertemplate": "industry=Oil & gas<br>sigma=%{x}<br>E=%{y}<br>mean_vol=%{marker.size}<br>names=%{customdata[0]}<extra></extra>",
         "legendgroup": "Oil & gas",
         "marker": {
          "color": "#00cc96",
          "size": [
           154901071.28395063,
           48295997.0781893
          ],
          "sizemode": "area",
          "sizeref": 829375.9342695473,
          "symbol": "circle"
         },
         "mode": "markers",
         "name": "Oil & gas",
         "orientation": "v",
         "showlegend": true,
         "type": "scatter",
         "x": [
          0.01926795836440376,
          0.016499441668100263
         ],
         "xaxis": "x",
         "y": [
          -0.0009595502915781691,
          -0.0005567943956978943
         ],
         "yaxis": "y"
        },
        {
         "customdata": [
          [
           "Kangmei Pharmaceutical"
          ]
         ],
         "hovertemplate": "industry=Pharmaceutical<br>sigma=%{x}<br>E=%{y}<br>mean_vol=%{marker.size}<br>names=%{customdata[0]}<extra></extra>",
         "legendgroup": "Pharmaceutical",
         "marker": {
          "color": "#ab63fa",
          "size": [
           32556456.53909465
          ],
          "sizemode": "area",
          "sizeref": 829375.9342695473,
          "symbol": "circle"
         },
         "mode": "markers",
         "name": "Pharmaceutical",
         "orientation": "v",
         "showlegend": true,
         "type": "scatter",
         "x": [
          0.024368761009415388
         ],
         "xaxis": "x",
         "y": [
          -0.0036689165742784975
         ],
         "yaxis": "y"
        },
        {
         "customdata": [
          [
           "Daqin Railway"
          ]
         ],
         "hovertemplate": "industry=Rail transport<br>sigma=%{x}<br>E=%{y}<br>mean_vol=%{marker.size}<br>names=%{customdata[0]}<extra></extra>",
         "legendgroup": "Rail transport",
         "marker": {
          "color": "#FFA15A",
          "size": [
           41069439.251028806
          ],
          "sizemode": "area",
          "sizeref": 829375.9342695473,
          "symbol": "circle"
         },
         "mode": "markers",
         "name": "Rail transport",
         "orientation": "v",
         "showlegend": true,
         "type": "scatter",
         "x": [
          0.015457386925163722
         ],
         "xaxis": "x",
         "y": [
          -0.00042884193418945264
         ],
         "yaxis": "y"
        },
        {
         "customdata": [
          [
           "Poly Real Estate"
          ],
          [
           "China Fortune Land Development"
          ],
          [
           "Greenland Holdings"
          ]
         ],
         "hovertemplate": "industry=Real estate<br>sigma=%{x}<br>E=%{y}<br>mean_vol=%{marker.size}<br>names=%{customdata[0]}<extra></extra>",
         "legendgroup": "Real estate",
         "marker": {
          "color": "#19d3f3",
          "size": [
           104099820.02057613,
           22549787.436213993,
           72789839.00823045
          ],
          "sizemode": "area",
          "sizeref": 829375.9342695473,
          "symbol": "circle"
         },
         "mode": "markers",
         "name": "Real estate",
         "orientation": "v",
         "showlegend": true,
         "type": "scatter",
         "x": [
          0.02879438529916983,
          0.02892914103965568,
          0.02104545607178855
         ],
         "xaxis": "x",
         "y": [
          -0.0008890030379346753,
          -0.0009798026764182102,
          -0.0010407430925305488
         ],
         "yaxis": "y"
        },
        {
         "customdata": [
          [
           "CRRC"
          ]
         ],
         "hovertemplate": "industry=Rolling stock<br>sigma=%{x}<br>E=%{y}<br>mean_vol=%{marker.size}<br>names=%{customdata[0]}<extra></extra>",
         "legendgroup": "Rolling stock",
         "marker": {
          "color": "#FF6692",
          "size": [
           57124025.004115224
          ],
          "sizemode": "area",
          "sizeref": 829375.9342695473,
          "symbol": "circle"
         },
         "mode": "markers",
         "name": "Rolling stock",
         "orientation": "v",
         "showlegend": true,
         "type": "scatter",
         "x": [
          0.01849338614063459
         ],
         "xaxis": "x",
         "y": [
          -0.001430111102396903
         ],
         "yaxis": "y"
        },
        {
         "customdata": [
          [
           "China Shipbuilding Industry"
          ]
         ],
         "hovertemplate": "industry=Shipbuilding<br>sigma=%{x}<br>E=%{y}<br>mean_vol=%{marker.size}<br>names=%{customdata[0]}<extra></extra>",
         "legendgroup": "Shipbuilding",
         "marker": {
          "color": "#B6E880",
          "size": [
           74848669.50205761
          ],
          "sizemode": "area",
          "sizeref": 829375.9342695473,
          "symbol": "circle"
         },
         "mode": "markers",
         "name": "Shipbuilding",
         "orientation": "v",
         "showlegend": true,
         "type": "scatter",
         "x": [
          0.01644304021192835
         ],
         "xaxis": "x",
         "y": [
          -0.001452417449151541
         ],
         "yaxis": "y"
        },
        {
         "customdata": [
          [
           "China United Network Communications"
          ]
         ],
         "hovertemplate": "industry=Telecommunication<br>sigma=%{x}<br>E=%{y}<br>mean_vol=%{marker.size}<br>names=%{customdata[0]}<extra></extra>",
         "legendgroup": "Telecommunication",
         "marker": {
          "color": "#FF97FF",
          "size": [
           137923049.86419752
          ],
          "sizemode": "area",
          "sizeref": 829375.9342695473,
          "symbol": "circle"
         },
         "mode": "markers",
         "name": "Telecommunication",
         "orientation": "v",
         "showlegend": true,
         "type": "scatter",
         "x": [
          0.020964890111881438
         ],
         "xaxis": "x",
         "y": [
          -0.0009076687839836355
         ],
         "yaxis": "y"
        }
       ],
       "layout": {
        "legend": {
         "itemsizing": "constant",
         "title": {
          "text": "industry"
         },
         "tracegroupgap": 0
        },
        "template": {
         "data": {
          "bar": [
           {
            "error_x": {
             "color": "#2a3f5f"
            },
            "error_y": {
             "color": "#2a3f5f"
            },
            "marker": {
             "line": {
              "color": "#E5ECF6",
              "width": 0.5
             }
            },
            "type": "bar"
           }
          ],
          "barpolar": [
           {
            "marker": {
             "line": {
              "color": "#E5ECF6",
              "width": 0.5
             }
            },
            "type": "barpolar"
           }
          ],
          "carpet": [
           {
            "aaxis": {
             "endlinecolor": "#2a3f5f",
             "gridcolor": "white",
             "linecolor": "white",
             "minorgridcolor": "white",
             "startlinecolor": "#2a3f5f"
            },
            "baxis": {
             "endlinecolor": "#2a3f5f",
             "gridcolor": "white",
             "linecolor": "white",
             "minorgridcolor": "white",
             "startlinecolor": "#2a3f5f"
            },
            "type": "carpet"
           }
          ],
          "choropleth": [
           {
            "colorbar": {
             "outlinewidth": 0,
             "ticks": ""
            },
            "type": "choropleth"
           }
          ],
          "contour": [
           {
            "colorbar": {
             "outlinewidth": 0,
             "ticks": ""
            },
            "colorscale": [
             [
              0,
              "#0d0887"
             ],
             [
              0.1111111111111111,
              "#46039f"
             ],
             [
              0.2222222222222222,
              "#7201a8"
             ],
             [
              0.3333333333333333,
              "#9c179e"
             ],
             [
              0.4444444444444444,
              "#bd3786"
             ],
             [
              0.5555555555555556,
              "#d8576b"
             ],
             [
              0.6666666666666666,
              "#ed7953"
             ],
             [
              0.7777777777777778,
              "#fb9f3a"
             ],
             [
              0.8888888888888888,
              "#fdca26"
             ],
             [
              1,
              "#f0f921"
             ]
            ],
            "type": "contour"
           }
          ],
          "contourcarpet": [
           {
            "colorbar": {
             "outlinewidth": 0,
             "ticks": ""
            },
            "type": "contourcarpet"
           }
          ],
          "heatmap": [
           {
            "colorbar": {
             "outlinewidth": 0,
             "ticks": ""
            },
            "colorscale": [
             [
              0,
              "#0d0887"
             ],
             [
              0.1111111111111111,
              "#46039f"
             ],
             [
              0.2222222222222222,
              "#7201a8"
             ],
             [
              0.3333333333333333,
              "#9c179e"
             ],
             [
              0.4444444444444444,
              "#bd3786"
             ],
             [
              0.5555555555555556,
              "#d8576b"
             ],
             [
              0.6666666666666666,
              "#ed7953"
             ],
             [
              0.7777777777777778,
              "#fb9f3a"
             ],
             [
              0.8888888888888888,
              "#fdca26"
             ],
             [
              1,
              "#f0f921"
             ]
            ],
            "type": "heatmap"
           }
          ],
          "heatmapgl": [
           {
            "colorbar": {
             "outlinewidth": 0,
             "ticks": ""
            },
            "colorscale": [
             [
              0,
              "#0d0887"
             ],
             [
              0.1111111111111111,
              "#46039f"
             ],
             [
              0.2222222222222222,
              "#7201a8"
             ],
             [
              0.3333333333333333,
              "#9c179e"
             ],
             [
              0.4444444444444444,
              "#bd3786"
             ],
             [
              0.5555555555555556,
              "#d8576b"
             ],
             [
              0.6666666666666666,
              "#ed7953"
             ],
             [
              0.7777777777777778,
              "#fb9f3a"
             ],
             [
              0.8888888888888888,
              "#fdca26"
             ],
             [
              1,
              "#f0f921"
             ]
            ],
            "type": "heatmapgl"
           }
          ],
          "histogram": [
           {
            "marker": {
             "colorbar": {
              "outlinewidth": 0,
              "ticks": ""
             }
            },
            "type": "histogram"
           }
          ],
          "histogram2d": [
           {
            "colorbar": {
             "outlinewidth": 0,
             "ticks": ""
            },
            "colorscale": [
             [
              0,
              "#0d0887"
             ],
             [
              0.1111111111111111,
              "#46039f"
             ],
             [
              0.2222222222222222,
              "#7201a8"
             ],
             [
              0.3333333333333333,
              "#9c179e"
             ],
             [
              0.4444444444444444,
              "#bd3786"
             ],
             [
              0.5555555555555556,
              "#d8576b"
             ],
             [
              0.6666666666666666,
              "#ed7953"
             ],
             [
              0.7777777777777778,
              "#fb9f3a"
             ],
             [
              0.8888888888888888,
              "#fdca26"
             ],
             [
              1,
              "#f0f921"
             ]
            ],
            "type": "histogram2d"
           }
          ],
          "histogram2dcontour": [
           {
            "colorbar": {
             "outlinewidth": 0,
             "ticks": ""
            },
            "colorscale": [
             [
              0,
              "#0d0887"
             ],
             [
              0.1111111111111111,
              "#46039f"
             ],
             [
              0.2222222222222222,
              "#7201a8"
             ],
             [
              0.3333333333333333,
              "#9c179e"
             ],
             [
              0.4444444444444444,
              "#bd3786"
             ],
             [
              0.5555555555555556,
              "#d8576b"
             ],
             [
              0.6666666666666666,
              "#ed7953"
             ],
             [
              0.7777777777777778,
              "#fb9f3a"
             ],
             [
              0.8888888888888888,
              "#fdca26"
             ],
             [
              1,
              "#f0f921"
             ]
            ],
            "type": "histogram2dcontour"
           }
          ],
          "mesh3d": [
           {
            "colorbar": {
             "outlinewidth": 0,
             "ticks": ""
            },
            "type": "mesh3d"
           }
          ],
          "parcoords": [
           {
            "line": {
             "colorbar": {
              "outlinewidth": 0,
              "ticks": ""
             }
            },
            "type": "parcoords"
           }
          ],
          "pie": [
           {
            "automargin": true,
            "type": "pie"
           }
          ],
          "scatter": [
           {
            "marker": {
             "colorbar": {
              "outlinewidth": 0,
              "ticks": ""
             }
            },
            "type": "scatter"
           }
          ],
          "scatter3d": [
           {
            "line": {
             "colorbar": {
              "outlinewidth": 0,
              "ticks": ""
             }
            },
            "marker": {
             "colorbar": {
              "outlinewidth": 0,
              "ticks": ""
             }
            },
            "type": "scatter3d"
           }
          ],
          "scattercarpet": [
           {
            "marker": {
             "colorbar": {
              "outlinewidth": 0,
              "ticks": ""
             }
            },
            "type": "scattercarpet"
           }
          ],
          "scattergeo": [
           {
            "marker": {
             "colorbar": {
              "outlinewidth": 0,
              "ticks": ""
             }
            },
            "type": "scattergeo"
           }
          ],
          "scattergl": [
           {
            "marker": {
             "colorbar": {
              "outlinewidth": 0,
              "ticks": ""
             }
            },
            "type": "scattergl"
           }
          ],
          "scattermapbox": [
           {
            "marker": {
             "colorbar": {
              "outlinewidth": 0,
              "ticks": ""
             }
            },
            "type": "scattermapbox"
           }
          ],
          "scatterpolar": [
           {
            "marker": {
             "colorbar": {
              "outlinewidth": 0,
              "ticks": ""
             }
            },
            "type": "scatterpolar"
           }
          ],
          "scatterpolargl": [
           {
            "marker": {
             "colorbar": {
              "outlinewidth": 0,
              "ticks": ""
             }
            },
            "type": "scatterpolargl"
           }
          ],
          "scatterternary": [
           {
            "marker": {
             "colorbar": {
              "outlinewidth": 0,
              "ticks": ""
             }
            },
            "type": "scatterternary"
           }
          ],
          "surface": [
           {
            "colorbar": {
             "outlinewidth": 0,
             "ticks": ""
            },
            "colorscale": [
             [
              0,
              "#0d0887"
             ],
             [
              0.1111111111111111,
              "#46039f"
             ],
             [
              0.2222222222222222,
              "#7201a8"
             ],
             [
              0.3333333333333333,
              "#9c179e"
             ],
             [
              0.4444444444444444,
              "#bd3786"
             ],
             [
              0.5555555555555556,
              "#d8576b"
             ],
             [
              0.6666666666666666,
              "#ed7953"
             ],
             [
              0.7777777777777778,
              "#fb9f3a"
             ],
             [
              0.8888888888888888,
              "#fdca26"
             ],
             [
              1,
              "#f0f921"
             ]
            ],
            "type": "surface"
           }
          ],
          "table": [
           {
            "cells": {
             "fill": {
              "color": "#EBF0F8"
             },
             "line": {
              "color": "white"
             }
            },
            "header": {
             "fill": {
              "color": "#C8D4E3"
             },
             "line": {
              "color": "white"
             }
            },
            "type": "table"
           }
          ]
         },
         "layout": {
          "annotationdefaults": {
           "arrowcolor": "#2a3f5f",
           "arrowhead": 0,
           "arrowwidth": 1
          },
          "coloraxis": {
           "colorbar": {
            "outlinewidth": 0,
            "ticks": ""
           }
          },
          "colorscale": {
           "diverging": [
            [
             0,
             "#8e0152"
            ],
            [
             0.1,
             "#c51b7d"
            ],
            [
             0.2,
             "#de77ae"
            ],
            [
             0.3,
             "#f1b6da"
            ],
            [
             0.4,
             "#fde0ef"
            ],
            [
             0.5,
             "#f7f7f7"
            ],
            [
             0.6,
             "#e6f5d0"
            ],
            [
             0.7,
             "#b8e186"
            ],
            [
             0.8,
             "#7fbc41"
            ],
            [
             0.9,
             "#4d9221"
            ],
            [
             1,
             "#276419"
            ]
           ],
           "sequential": [
            [
             0,
             "#0d0887"
            ],
            [
             0.1111111111111111,
             "#46039f"
            ],
            [
             0.2222222222222222,
             "#7201a8"
            ],
            [
             0.3333333333333333,
             "#9c179e"
            ],
            [
             0.4444444444444444,
             "#bd3786"
            ],
            [
             0.5555555555555556,
             "#d8576b"
            ],
            [
             0.6666666666666666,
             "#ed7953"
            ],
            [
             0.7777777777777778,
             "#fb9f3a"
            ],
            [
             0.8888888888888888,
             "#fdca26"
            ],
            [
             1,
             "#f0f921"
            ]
           ],
           "sequentialminus": [
            [
             0,
             "#0d0887"
            ],
            [
             0.1111111111111111,
             "#46039f"
            ],
            [
             0.2222222222222222,
             "#7201a8"
            ],
            [
             0.3333333333333333,
             "#9c179e"
            ],
            [
             0.4444444444444444,
             "#bd3786"
            ],
            [
             0.5555555555555556,
             "#d8576b"
            ],
            [
             0.6666666666666666,
             "#ed7953"
            ],
            [
             0.7777777777777778,
             "#fb9f3a"
            ],
            [
             0.8888888888888888,
             "#fdca26"
            ],
            [
             1,
             "#f0f921"
            ]
           ]
          },
          "colorway": [
           "#636efa",
           "#EF553B",
           "#00cc96",
           "#ab63fa",
           "#FFA15A",
           "#19d3f3",
           "#FF6692",
           "#B6E880",
           "#FF97FF",
           "#FECB52"
          ],
          "font": {
           "color": "#2a3f5f"
          },
          "geo": {
           "bgcolor": "white",
           "lakecolor": "white",
           "landcolor": "#E5ECF6",
           "showlakes": true,
           "showland": true,
           "subunitcolor": "white"
          },
          "hoverlabel": {
           "align": "left"
          },
          "hovermode": "closest",
          "mapbox": {
           "style": "light"
          },
          "paper_bgcolor": "white",
          "plot_bgcolor": "#E5ECF6",
          "polar": {
           "angularaxis": {
            "gridcolor": "white",
            "linecolor": "white",
            "ticks": ""
           },
           "bgcolor": "#E5ECF6",
           "radialaxis": {
            "gridcolor": "white",
            "linecolor": "white",
            "ticks": ""
           }
          },
          "scene": {
           "xaxis": {
            "backgroundcolor": "#E5ECF6",
            "gridcolor": "white",
            "gridwidth": 2,
            "linecolor": "white",
            "showbackground": true,
            "ticks": "",
            "zerolinecolor": "white"
           },
           "yaxis": {
            "backgroundcolor": "#E5ECF6",
            "gridcolor": "white",
            "gridwidth": 2,
            "linecolor": "white",
            "showbackground": true,
            "ticks": "",
            "zerolinecolor": "white"
           },
           "zaxis": {
            "backgroundcolor": "#E5ECF6",
            "gridcolor": "white",
            "gridwidth": 2,
            "linecolor": "white",
            "showbackground": true,
            "ticks": "",
            "zerolinecolor": "white"
           }
          },
          "shapedefaults": {
           "line": {
            "color": "#2a3f5f"
           }
          },
          "ternary": {
           "aaxis": {
            "gridcolor": "white",
            "linecolor": "white",
            "ticks": ""
           },
           "baxis": {
            "gridcolor": "white",
            "linecolor": "white",
            "ticks": ""
           },
           "bgcolor": "#E5ECF6",
           "caxis": {
            "gridcolor": "white",
            "linecolor": "white",
            "ticks": ""
           }
          },
          "title": {
           "x": 0.05
          },
          "xaxis": {
           "automargin": true,
           "gridcolor": "white",
           "linecolor": "white",
           "ticks": "",
           "title": {
            "standoff": 15
           },
           "zerolinecolor": "white",
           "zerolinewidth": 2
          },
          "yaxis": {
           "automargin": true,
           "gridcolor": "white",
           "linecolor": "white",
           "ticks": "",
           "title": {
            "standoff": 15
           },
           "zerolinecolor": "white",
           "zerolinewidth": 2
          }
         }
        },
        "title": {
         "text": "E, Risk"
        },
        "xaxis": {
         "anchor": "y",
         "domain": [
          0,
          1
         ],
         "title": {
          "text": "sigma"
         }
        },
        "yaxis": {
         "anchor": "x",
         "domain": [
          0,
          1
         ],
         "title": {
          "text": "E"
         }
        }
       }
      },
      "text/html": [
       "<div>\n",
       "        \n",
       "        \n",
       "            <div id=\"01a49bf7-d8b3-4c8a-98f3-5020d60a89fc\" class=\"plotly-graph-div\" style=\"height:525px; width:100%;\"></div>\n",
       "            <script type=\"text/javascript\">\n",
       "                require([\"plotly\"], function(Plotly) {\n",
       "                    window.PLOTLYENV=window.PLOTLYENV || {};\n",
       "                    \n",
       "                if (document.getElementById(\"01a49bf7-d8b3-4c8a-98f3-5020d60a89fc\")) {\n",
       "                    Plotly.newPlot(\n",
       "                        '01a49bf7-d8b3-4c8a-98f3-5020d60a89fc',\n",
       "                        [{\"customdata\": [[\"Tsinghua Tongfang\"]], \"hovertemplate\": \"industry= Other<br>sigma=%{x}<br>E=%{y}<br>mean_vol=%{marker.size}<br>names=%{customdata[0]}<extra></extra>\", \"legendgroup\": \" Other\", \"marker\": {\"color\": \"#636efa\", \"size\": [15913101.868312757], \"sizemode\": \"area\", \"sizeref\": 829375.9342695473, \"symbol\": \"circle\"}, \"mode\": \"markers\", \"name\": \" Other\", \"orientation\": \"v\", \"showlegend\": true, \"type\": \"scatter\", \"x\": [0.023397727939211556], \"xaxis\": \"x\", \"y\": [-4.2252385315912526e-05], \"yaxis\": \"y\"}, {\"customdata\": [[\"Xinwei Group\"]], \"hovertemplate\": \"industry=Other<br>sigma=%{x}<br>E=%{y}<br>mean_vol=%{marker.size}<br>names=%{customdata[0]}<extra></extra>\", \"legendgroup\": \"Other\", \"marker\": {\"color\": \"#EF553B\", \"size\": [0.0], \"sizemode\": \"area\", \"sizeref\": 829375.9342695473, \"symbol\": \"circle\"}, \"mode\": \"markers\", \"name\": \"Other\", \"orientation\": \"v\", \"showlegend\": true, \"type\": \"scatter\", \"x\": [0.0], \"xaxis\": \"x\", \"y\": [0.0], \"yaxis\": \"y\"}, {\"customdata\": [[\"China Southern Airlines\"]], \"hovertemplate\": \"industry=Airline<br>sigma=%{x}<br>E=%{y}<br>mean_vol=%{marker.size}<br>names=%{customdata[0]}<extra></extra>\", \"legendgroup\": \"Airline\", \"marker\": {\"color\": \"#00cc96\", \"size\": [92775866.56378601], \"sizemode\": \"area\", \"sizeref\": 829375.9342695473, \"symbol\": \"circle\"}, \"mode\": \"markers\", \"name\": \"Airline\", \"orientation\": \"v\", \"showlegend\": true, \"type\": \"scatter\", \"x\": [0.02739833143572189], \"xaxis\": \"x\", \"y\": [-0.0022334767708985176], \"yaxis\": \"y\"}, {\"customdata\": [[\"SAIC Motor\"]], \"hovertemplate\": \"industry=Automotive<br>sigma=%{x}<br>E=%{y}<br>mean_vol=%{marker.size}<br>names=%{customdata[0]}<extra></extra>\", \"legendgroup\": \"Automotive\", \"marker\": {\"color\": \"#ab63fa\", \"size\": [19809289.03292181], \"sizemode\": \"area\", \"sizeref\": 829375.9342695473, \"symbol\": \"circle\"}, \"mode\": \"markers\", \"name\": \"Automotive\", \"orientation\": \"v\", \"showlegend\": true, \"type\": \"scatter\", \"x\": [0.018883756554085928], \"xaxis\": \"x\", \"y\": [-0.0007230707505599738], \"yaxis\": \"y\"}, {\"customdata\": [[\"Shanghai Pudong Development Bank\"], [\"China Minsheng Bank\"], [\"China Merchants Bank\"], [\"Bank of Jiangsu\"], [\"Industrial Bank\"], [\"Bank of Beijing\"], [\"Bank of Shanghai\"], [\"Agricultural Bank of China\"], [\"Bank of Communications\"], [\"Industrial and Commercial Bank of China\"], [\"China Everbright Bank\"], [\"Bank of China\"]], \"hovertemplate\": \"industry=Banking<br>sigma=%{x}<br>E=%{y}<br>mean_vol=%{marker.size}<br>names=%{customdata[0]}<extra></extra>\", \"legendgroup\": \"Banking\", \"marker\": {\"color\": \"#FFA15A\", \"size\": [35868636.20576131, 80091037.16460906, 50532683.58436214, 32556968.901234567, 76390533.68724279, 37562169.27983539, 36946055.03703704, 331750373.7078189, 96920518.16049382, 214667815.52263373, 100711570.57613169, 156081468.23868313], \"sizemode\": \"area\", \"sizeref\": 829375.9342695473, \"symbol\": \"circle\"}, \"mode\": \"markers\", \"name\": \"Banking\", \"orientation\": \"v\", \"showlegend\": true, \"type\": \"scatter\", \"x\": [0.013732922482684862, 0.012233258891306721, 0.01920665884582793, 0.012118869896020948, 0.013313086519065135, 0.011457792204730657, 0.014491379161511898, 0.015354848500486032, 0.012250891970607098, 0.01649818332526671, 0.014227043084449954, 0.013034581104360609], \"xaxis\": \"x\", \"y\": [-0.001077657742832811, -0.0008858646138838149, -0.0006677926131414701, -0.0009096031581619352, -0.0005916946295101731, -0.001019622379412805, 0.0003510718436268873, -0.0002774351428009029, -0.0003356930945975166, -0.0006425620042711419, -0.00040398403792936074, -0.00040319868100503536], \"yaxis\": \"y\"}, {\"customdata\": [[\"Kweichow Moutai\"]], \"hovertemplate\": \"industry= Beverages<br>sigma=%{x}<br>E=%{y}<br>mean_vol=%{marker.size}<br>names=%{customdata[0]}<extra></extra>\", \"legendgroup\": \" Beverages\", \"marker\": {\"color\": \"#19d3f3\", \"size\": [4445038.864197531], \"sizemode\": \"area\", \"sizeref\": 829375.9342695473, \"symbol\": \"circle\"}, \"mode\": \"markers\", \"name\": \" Beverages\", \"orientation\": \"v\", \"showlegend\": true, \"type\": \"scatter\", \"x\": [0.02340618427187137], \"xaxis\": \"x\", \"y\": [-0.0007290319344099985], \"yaxis\": \"y\"}, {\"customdata\": [[\"China Railway Construction \"], [\"China Railway [Engineering] \"], [\"China State Construction Engineering \"], [\"China Communications Construction \"]], \"hovertemplate\": \"industry=Construction<br>sigma=%{x}<br>E=%{y}<br>mean_vol=%{marker.size}<br>names=%{customdata[0]}<extra></extra>\", \"legendgroup\": \"Construction\", \"marker\": {\"color\": \"#FF6692\", \"size\": [44348662.7654321, 24202047.925925925, 172508537.69547325, 16605839.456790123], \"sizemode\": \"area\", \"sizeref\": 829375.9342695473, \"symbol\": \"circle\"}, \"mode\": \"markers\", \"name\": \"Construction\", \"orientation\": \"v\", \"showlegend\": true, \"type\": \"scatter\", \"x\": [0.02281055275905274, 0.01380997042065194, 0.01820243519747332, 0.022946122675987196], \"xaxis\": \"x\", \"y\": [-0.00020034487560263394, -0.0008130638263610723, -0.0005923604886360605, -0.0006443193027430556], \"yaxis\": \"y\"}, {\"customdata\": [[\"Yili Group\"]], \"hovertemplate\": \"industry=Dairy<br>sigma=%{x}<br>E=%{y}<br>mean_vol=%{marker.size}<br>names=%{customdata[0]}<extra></extra>\", \"legendgroup\": \"Dairy\", \"marker\": {\"color\": \"#B6E880\", \"size\": [60994414.37037037], \"sizemode\": \"area\", \"sizeref\": 829375.9342695473, \"symbol\": \"circle\"}, \"mode\": \"markers\", \"name\": \"Dairy\", \"orientation\": \"v\", \"showlegend\": true, \"type\": \"scatter\", \"x\": [0.025423775382228696], \"xaxis\": \"x\", \"y\": [-0.0013797895655822243], \"yaxis\": \"y\"}, {\"customdata\": [[\"China Shenhua Energy \"], [\"China National Nuclear Power \"]], \"hovertemplate\": \"industry=Energy<br>sigma=%{x}<br>E=%{y}<br>mean_vol=%{marker.size}<br>names=%{customdata[0]}<extra></extra>\", \"legendgroup\": \"Energy\", \"marker\": {\"color\": \"#FF97FF\", \"size\": [25894093.942386832, 19626560.423868313], \"sizemode\": \"area\", \"sizeref\": 829375.9342695473, \"symbol\": \"circle\"}, \"mode\": \"markers\", \"name\": \"Energy\", \"orientation\": \"v\", \"showlegend\": true, \"type\": \"scatter\", \"x\": [0.0210134003241338, 0.012881844381876272], \"xaxis\": \"x\", \"y\": [-0.0011651182899613947, -0.0013970965204925408], \"yaxis\": \"y\"}, {\"customdata\": [[\"CITIC Securities\"], [\"Haitong Securities\"], [\"Orient Securities\"], [\"China Merchants Securities\"], [\"Dongxing Securities\"], [\"Guotai Junan Securities\"], [\"Huatai Securities\"], [\"Everbright Securities\"], [\"China Galaxy Securities\"], [\"Founder Securities\"]], \"hovertemplate\": \"industry=Financial services<br>sigma=%{x}<br>E=%{y}<br>mean_vol=%{marker.size}<br>names=%{customdata[0]}<extra></extra>\", \"legendgroup\": \"Financial services\", \"marker\": {\"color\": \"#FECB52\", \"size\": [112478697.79012346, 42101950.12345679, 15328019.271604938, 12851845.646090535, 13236381.053497942, 21158748.621399175, 49804498.304526746, 12813738.460905349, 23539708.3127572, 17415308.596707817], \"sizemode\": \"area\", \"sizeref\": 829375.9342695473, \"symbol\": \"circle\"}, \"mode\": \"markers\", \"name\": \"Financial services\", \"orientation\": \"v\", \"showlegend\": true, \"type\": \"scatter\", \"x\": [0.021268556796911472, 0.01936497752688617, 0.021780045772568195, 0.019859295432691295, 0.0257137088668738, 0.017949265648675543, 0.0227863561875066, 0.0214391730117627, 0.026516548945434943, 0.020942084626392337], \"xaxis\": \"x\", \"y\": [-0.000583920271841135, -0.0016377380042876272, -0.0023250343216514014, -0.0011125180192215016, -0.0017270217767223256, -0.0008304435852211166, -0.0004399627613632849, -0.0018190183212327092, -0.001822291487934173, -0.0011359037149738418], \"yaxis\": \"y\"}, {\"customdata\": [[\"Ping An Insurance\"], [\"New China Life Insurance\"], [\"China Pacific Insurance\"], [\"China Life Insurance\"]], \"hovertemplate\": \"industry=Insurance<br>sigma=%{x}<br>E=%{y}<br>mean_vol=%{marker.size}<br>names=%{customdata[0]}<extra></extra>\", \"legendgroup\": \"Insurance\", \"marker\": {\"color\": \"#636efa\", \"size\": [74905882.98353909, 17117463.238683127, 24765406.596707817, 11289268.732510287], \"sizemode\": \"area\", \"sizeref\": 829375.9342695473, \"symbol\": \"circle\"}, \"mode\": \"markers\", \"name\": \"Insurance\", \"orientation\": \"v\", \"showlegend\": true, \"type\": \"scatter\", \"x\": [0.01990338584762517, 0.023704091564784757, 0.024211201600951204, 0.016884383117929797], \"xaxis\": \"x\", \"y\": [-0.0010648402294137973, -0.002140094115393431, -0.0016036343880121383, -0.0016626206563672865], \"yaxis\": \"y\"}, {\"customdata\": [[\"China Northern Rare Earth\"], [\"Shandong Gold Mining\"]], \"hovertemplate\": \"industry=Mining<br>sigma=%{x}<br>E=%{y}<br>mean_vol=%{marker.size}<br>names=%{customdata[0]}<extra></extra>\", \"legendgroup\": \"Mining\", \"marker\": {\"color\": \"#EF553B\", \"size\": [38641018.736625515, 26886012.781893004], \"sizemode\": \"area\", \"sizeref\": 829375.9342695473, \"symbol\": \"circle\"}, \"mode\": \"markers\", \"name\": \"Mining\", \"orientation\": \"v\", \"showlegend\": true, \"type\": \"scatter\", \"x\": [0.020895859288782792, 0.022105174718109473], \"xaxis\": \"x\", \"y\": [-0.0021651479257537585, -0.00017519926244947178], \"yaxis\": \"y\"}, {\"customdata\": [[\"Sinopec\"], [\"PetroChina\"]], \"hovertemplate\": \"industry=Oil & gas<br>sigma=%{x}<br>E=%{y}<br>mean_vol=%{marker.size}<br>names=%{customdata[0]}<extra></extra>\", \"legendgroup\": \"Oil & gas\", \"marker\": {\"color\": \"#00cc96\", \"size\": [154901071.28395063, 48295997.0781893], \"sizemode\": \"area\", \"sizeref\": 829375.9342695473, \"symbol\": \"circle\"}, \"mode\": \"markers\", \"name\": \"Oil & gas\", \"orientation\": \"v\", \"showlegend\": true, \"type\": \"scatter\", \"x\": [0.01926795836440376, 0.016499441668100263], \"xaxis\": \"x\", \"y\": [-0.0009595502915781691, -0.0005567943956978943], \"yaxis\": \"y\"}, {\"customdata\": [[\"Kangmei Pharmaceutical\"]], \"hovertemplate\": \"industry=Pharmaceutical<br>sigma=%{x}<br>E=%{y}<br>mean_vol=%{marker.size}<br>names=%{customdata[0]}<extra></extra>\", \"legendgroup\": \"Pharmaceutical\", \"marker\": {\"color\": \"#ab63fa\", \"size\": [32556456.53909465], \"sizemode\": \"area\", \"sizeref\": 829375.9342695473, \"symbol\": \"circle\"}, \"mode\": \"markers\", \"name\": \"Pharmaceutical\", \"orientation\": \"v\", \"showlegend\": true, \"type\": \"scatter\", \"x\": [0.024368761009415388], \"xaxis\": \"x\", \"y\": [-0.0036689165742784975], \"yaxis\": \"y\"}, {\"customdata\": [[\"Daqin Railway\"]], \"hovertemplate\": \"industry=Rail transport<br>sigma=%{x}<br>E=%{y}<br>mean_vol=%{marker.size}<br>names=%{customdata[0]}<extra></extra>\", \"legendgroup\": \"Rail transport\", \"marker\": {\"color\": \"#FFA15A\", \"size\": [41069439.251028806], \"sizemode\": \"area\", \"sizeref\": 829375.9342695473, \"symbol\": \"circle\"}, \"mode\": \"markers\", \"name\": \"Rail transport\", \"orientation\": \"v\", \"showlegend\": true, \"type\": \"scatter\", \"x\": [0.015457386925163722], \"xaxis\": \"x\", \"y\": [-0.00042884193418945264], \"yaxis\": \"y\"}, {\"customdata\": [[\"Poly Real Estate\"], [\"China Fortune Land Development\"], [\"Greenland Holdings\"]], \"hovertemplate\": \"industry=Real estate<br>sigma=%{x}<br>E=%{y}<br>mean_vol=%{marker.size}<br>names=%{customdata[0]}<extra></extra>\", \"legendgroup\": \"Real estate\", \"marker\": {\"color\": \"#19d3f3\", \"size\": [104099820.02057613, 22549787.436213993, 72789839.00823045], \"sizemode\": \"area\", \"sizeref\": 829375.9342695473, \"symbol\": \"circle\"}, \"mode\": \"markers\", \"name\": \"Real estate\", \"orientation\": \"v\", \"showlegend\": true, \"type\": \"scatter\", \"x\": [0.02879438529916983, 0.02892914103965568, 0.02104545607178855], \"xaxis\": \"x\", \"y\": [-0.0008890030379346753, -0.0009798026764182102, -0.0010407430925305488], \"yaxis\": \"y\"}, {\"customdata\": [[\"CRRC\"]], \"hovertemplate\": \"industry=Rolling stock<br>sigma=%{x}<br>E=%{y}<br>mean_vol=%{marker.size}<br>names=%{customdata[0]}<extra></extra>\", \"legendgroup\": \"Rolling stock\", \"marker\": {\"color\": \"#FF6692\", \"size\": [57124025.004115224], \"sizemode\": \"area\", \"sizeref\": 829375.9342695473, \"symbol\": \"circle\"}, \"mode\": \"markers\", \"name\": \"Rolling stock\", \"orientation\": \"v\", \"showlegend\": true, \"type\": \"scatter\", \"x\": [0.01849338614063459], \"xaxis\": \"x\", \"y\": [-0.001430111102396903], \"yaxis\": \"y\"}, {\"customdata\": [[\"China Shipbuilding Industry\"]], \"hovertemplate\": \"industry=Shipbuilding<br>sigma=%{x}<br>E=%{y}<br>mean_vol=%{marker.size}<br>names=%{customdata[0]}<extra></extra>\", \"legendgroup\": \"Shipbuilding\", \"marker\": {\"color\": \"#B6E880\", \"size\": [74848669.50205761], \"sizemode\": \"area\", \"sizeref\": 829375.9342695473, \"symbol\": \"circle\"}, \"mode\": \"markers\", \"name\": \"Shipbuilding\", \"orientation\": \"v\", \"showlegend\": true, \"type\": \"scatter\", \"x\": [0.01644304021192835], \"xaxis\": \"x\", \"y\": [-0.001452417449151541], \"yaxis\": \"y\"}, {\"customdata\": [[\"China United Network Communications\"]], \"hovertemplate\": \"industry=Telecommunication<br>sigma=%{x}<br>E=%{y}<br>mean_vol=%{marker.size}<br>names=%{customdata[0]}<extra></extra>\", \"legendgroup\": \"Telecommunication\", \"marker\": {\"color\": \"#FF97FF\", \"size\": [137923049.86419752], \"sizemode\": \"area\", \"sizeref\": 829375.9342695473, \"symbol\": \"circle\"}, \"mode\": \"markers\", \"name\": \"Telecommunication\", \"orientation\": \"v\", \"showlegend\": true, \"type\": \"scatter\", \"x\": [0.020964890111881438], \"xaxis\": \"x\", \"y\": [-0.0009076687839836355], \"yaxis\": \"y\"}],\n",
       "                        {\"legend\": {\"itemsizing\": \"constant\", \"title\": {\"text\": \"industry\"}, \"tracegroupgap\": 0}, \"template\": {\"data\": {\"bar\": [{\"error_x\": {\"color\": \"#2a3f5f\"}, \"error_y\": {\"color\": \"#2a3f5f\"}, \"marker\": {\"line\": {\"color\": \"#E5ECF6\", \"width\": 0.5}}, \"type\": \"bar\"}], \"barpolar\": [{\"marker\": {\"line\": {\"color\": \"#E5ECF6\", \"width\": 0.5}}, \"type\": \"barpolar\"}], \"carpet\": [{\"aaxis\": {\"endlinecolor\": \"#2a3f5f\", \"gridcolor\": \"white\", \"linecolor\": \"white\", \"minorgridcolor\": \"white\", \"startlinecolor\": \"#2a3f5f\"}, \"baxis\": {\"endlinecolor\": \"#2a3f5f\", \"gridcolor\": \"white\", \"linecolor\": \"white\", \"minorgridcolor\": \"white\", \"startlinecolor\": \"#2a3f5f\"}, \"type\": \"carpet\"}], \"choropleth\": [{\"colorbar\": {\"outlinewidth\": 0, \"ticks\": \"\"}, \"type\": \"choropleth\"}], \"contour\": [{\"colorbar\": {\"outlinewidth\": 0, \"ticks\": \"\"}, \"colorscale\": [[0.0, \"#0d0887\"], [0.1111111111111111, \"#46039f\"], [0.2222222222222222, \"#7201a8\"], [0.3333333333333333, \"#9c179e\"], [0.4444444444444444, \"#bd3786\"], [0.5555555555555556, \"#d8576b\"], [0.6666666666666666, \"#ed7953\"], [0.7777777777777778, \"#fb9f3a\"], [0.8888888888888888, \"#fdca26\"], [1.0, \"#f0f921\"]], \"type\": \"contour\"}], \"contourcarpet\": [{\"colorbar\": {\"outlinewidth\": 0, \"ticks\": \"\"}, \"type\": \"contourcarpet\"}], \"heatmap\": [{\"colorbar\": {\"outlinewidth\": 0, \"ticks\": \"\"}, \"colorscale\": [[0.0, \"#0d0887\"], [0.1111111111111111, \"#46039f\"], [0.2222222222222222, \"#7201a8\"], [0.3333333333333333, \"#9c179e\"], [0.4444444444444444, \"#bd3786\"], [0.5555555555555556, \"#d8576b\"], [0.6666666666666666, \"#ed7953\"], [0.7777777777777778, \"#fb9f3a\"], [0.8888888888888888, \"#fdca26\"], [1.0, \"#f0f921\"]], \"type\": \"heatmap\"}], \"heatmapgl\": [{\"colorbar\": {\"outlinewidth\": 0, \"ticks\": \"\"}, \"colorscale\": [[0.0, \"#0d0887\"], [0.1111111111111111, \"#46039f\"], [0.2222222222222222, \"#7201a8\"], [0.3333333333333333, \"#9c179e\"], [0.4444444444444444, \"#bd3786\"], [0.5555555555555556, \"#d8576b\"], [0.6666666666666666, \"#ed7953\"], [0.7777777777777778, \"#fb9f3a\"], [0.8888888888888888, \"#fdca26\"], [1.0, \"#f0f921\"]], \"type\": \"heatmapgl\"}], \"histogram\": [{\"marker\": {\"colorbar\": {\"outlinewidth\": 0, \"ticks\": \"\"}}, \"type\": \"histogram\"}], \"histogram2d\": [{\"colorbar\": {\"outlinewidth\": 0, \"ticks\": \"\"}, \"colorscale\": [[0.0, \"#0d0887\"], [0.1111111111111111, \"#46039f\"], [0.2222222222222222, \"#7201a8\"], [0.3333333333333333, \"#9c179e\"], [0.4444444444444444, \"#bd3786\"], [0.5555555555555556, \"#d8576b\"], [0.6666666666666666, \"#ed7953\"], [0.7777777777777778, \"#fb9f3a\"], [0.8888888888888888, \"#fdca26\"], [1.0, \"#f0f921\"]], \"type\": \"histogram2d\"}], \"histogram2dcontour\": [{\"colorbar\": {\"outlinewidth\": 0, \"ticks\": \"\"}, \"colorscale\": [[0.0, \"#0d0887\"], [0.1111111111111111, \"#46039f\"], [0.2222222222222222, \"#7201a8\"], [0.3333333333333333, \"#9c179e\"], [0.4444444444444444, \"#bd3786\"], [0.5555555555555556, \"#d8576b\"], [0.6666666666666666, \"#ed7953\"], [0.7777777777777778, \"#fb9f3a\"], [0.8888888888888888, \"#fdca26\"], [1.0, \"#f0f921\"]], \"type\": \"histogram2dcontour\"}], \"mesh3d\": [{\"colorbar\": {\"outlinewidth\": 0, \"ticks\": \"\"}, \"type\": \"mesh3d\"}], \"parcoords\": [{\"line\": {\"colorbar\": {\"outlinewidth\": 0, \"ticks\": \"\"}}, \"type\": \"parcoords\"}], \"pie\": [{\"automargin\": true, \"type\": \"pie\"}], \"scatter\": [{\"marker\": {\"colorbar\": {\"outlinewidth\": 0, \"ticks\": \"\"}}, \"type\": \"scatter\"}], \"scatter3d\": [{\"line\": {\"colorbar\": {\"outlinewidth\": 0, \"ticks\": \"\"}}, \"marker\": {\"colorbar\": {\"outlinewidth\": 0, \"ticks\": \"\"}}, \"type\": \"scatter3d\"}], \"scattercarpet\": [{\"marker\": {\"colorbar\": {\"outlinewidth\": 0, \"ticks\": \"\"}}, \"type\": \"scattercarpet\"}], \"scattergeo\": [{\"marker\": {\"colorbar\": {\"outlinewidth\": 0, \"ticks\": \"\"}}, \"type\": \"scattergeo\"}], \"scattergl\": [{\"marker\": {\"colorbar\": {\"outlinewidth\": 0, \"ticks\": \"\"}}, \"type\": \"scattergl\"}], \"scattermapbox\": [{\"marker\": {\"colorbar\": {\"outlinewidth\": 0, \"ticks\": \"\"}}, \"type\": \"scattermapbox\"}], \"scatterpolar\": [{\"marker\": {\"colorbar\": {\"outlinewidth\": 0, \"ticks\": \"\"}}, \"type\": \"scatterpolar\"}], \"scatterpolargl\": [{\"marker\": {\"colorbar\": {\"outlinewidth\": 0, \"ticks\": \"\"}}, \"type\": \"scatterpolargl\"}], \"scatterternary\": [{\"marker\": {\"colorbar\": {\"outlinewidth\": 0, \"ticks\": \"\"}}, \"type\": \"scatterternary\"}], \"surface\": [{\"colorbar\": {\"outlinewidth\": 0, \"ticks\": \"\"}, \"colorscale\": [[0.0, \"#0d0887\"], [0.1111111111111111, \"#46039f\"], [0.2222222222222222, \"#7201a8\"], [0.3333333333333333, \"#9c179e\"], [0.4444444444444444, \"#bd3786\"], [0.5555555555555556, \"#d8576b\"], [0.6666666666666666, \"#ed7953\"], [0.7777777777777778, \"#fb9f3a\"], [0.8888888888888888, \"#fdca26\"], [1.0, \"#f0f921\"]], \"type\": \"surface\"}], \"table\": [{\"cells\": {\"fill\": {\"color\": \"#EBF0F8\"}, \"line\": {\"color\": \"white\"}}, \"header\": {\"fill\": {\"color\": \"#C8D4E3\"}, \"line\": {\"color\": \"white\"}}, \"type\": \"table\"}]}, \"layout\": {\"annotationdefaults\": {\"arrowcolor\": \"#2a3f5f\", \"arrowhead\": 0, \"arrowwidth\": 1}, \"coloraxis\": {\"colorbar\": {\"outlinewidth\": 0, \"ticks\": \"\"}}, \"colorscale\": {\"diverging\": [[0, \"#8e0152\"], [0.1, \"#c51b7d\"], [0.2, \"#de77ae\"], [0.3, \"#f1b6da\"], [0.4, \"#fde0ef\"], [0.5, \"#f7f7f7\"], [0.6, \"#e6f5d0\"], [0.7, \"#b8e186\"], [0.8, \"#7fbc41\"], [0.9, \"#4d9221\"], [1, \"#276419\"]], \"sequential\": [[0.0, \"#0d0887\"], [0.1111111111111111, \"#46039f\"], [0.2222222222222222, \"#7201a8\"], [0.3333333333333333, \"#9c179e\"], [0.4444444444444444, \"#bd3786\"], [0.5555555555555556, \"#d8576b\"], [0.6666666666666666, \"#ed7953\"], [0.7777777777777778, \"#fb9f3a\"], [0.8888888888888888, \"#fdca26\"], [1.0, \"#f0f921\"]], \"sequentialminus\": [[0.0, \"#0d0887\"], [0.1111111111111111, \"#46039f\"], [0.2222222222222222, \"#7201a8\"], [0.3333333333333333, \"#9c179e\"], [0.4444444444444444, \"#bd3786\"], [0.5555555555555556, \"#d8576b\"], [0.6666666666666666, \"#ed7953\"], [0.7777777777777778, \"#fb9f3a\"], [0.8888888888888888, \"#fdca26\"], [1.0, \"#f0f921\"]]}, \"colorway\": [\"#636efa\", \"#EF553B\", \"#00cc96\", \"#ab63fa\", \"#FFA15A\", \"#19d3f3\", \"#FF6692\", \"#B6E880\", \"#FF97FF\", \"#FECB52\"], \"font\": {\"color\": \"#2a3f5f\"}, \"geo\": {\"bgcolor\": \"white\", \"lakecolor\": \"white\", \"landcolor\": \"#E5ECF6\", \"showlakes\": true, \"showland\": true, \"subunitcolor\": \"white\"}, \"hoverlabel\": {\"align\": \"left\"}, \"hovermode\": \"closest\", \"mapbox\": {\"style\": \"light\"}, \"paper_bgcolor\": \"white\", \"plot_bgcolor\": \"#E5ECF6\", \"polar\": {\"angularaxis\": {\"gridcolor\": \"white\", \"linecolor\": \"white\", \"ticks\": \"\"}, \"bgcolor\": \"#E5ECF6\", \"radialaxis\": {\"gridcolor\": \"white\", \"linecolor\": \"white\", \"ticks\": \"\"}}, \"scene\": {\"xaxis\": {\"backgroundcolor\": \"#E5ECF6\", \"gridcolor\": \"white\", \"gridwidth\": 2, \"linecolor\": \"white\", \"showbackground\": true, \"ticks\": \"\", \"zerolinecolor\": \"white\"}, \"yaxis\": {\"backgroundcolor\": \"#E5ECF6\", \"gridcolor\": \"white\", \"gridwidth\": 2, \"linecolor\": \"white\", \"showbackground\": true, \"ticks\": \"\", \"zerolinecolor\": \"white\"}, \"zaxis\": {\"backgroundcolor\": \"#E5ECF6\", \"gridcolor\": \"white\", \"gridwidth\": 2, \"linecolor\": \"white\", \"showbackground\": true, \"ticks\": \"\", \"zerolinecolor\": \"white\"}}, \"shapedefaults\": {\"line\": {\"color\": \"#2a3f5f\"}}, \"ternary\": {\"aaxis\": {\"gridcolor\": \"white\", \"linecolor\": \"white\", \"ticks\": \"\"}, \"baxis\": {\"gridcolor\": \"white\", \"linecolor\": \"white\", \"ticks\": \"\"}, \"bgcolor\": \"#E5ECF6\", \"caxis\": {\"gridcolor\": \"white\", \"linecolor\": \"white\", \"ticks\": \"\"}}, \"title\": {\"x\": 0.05}, \"xaxis\": {\"automargin\": true, \"gridcolor\": \"white\", \"linecolor\": \"white\", \"ticks\": \"\", \"title\": {\"standoff\": 15}, \"zerolinecolor\": \"white\", \"zerolinewidth\": 2}, \"yaxis\": {\"automargin\": true, \"gridcolor\": \"white\", \"linecolor\": \"white\", \"ticks\": \"\", \"title\": {\"standoff\": 15}, \"zerolinecolor\": \"white\", \"zerolinewidth\": 2}}}, \"title\": {\"text\": \"E, Risk\"}, \"xaxis\": {\"anchor\": \"y\", \"domain\": [0.0, 1.0], \"title\": {\"text\": \"sigma\"}}, \"yaxis\": {\"anchor\": \"x\", \"domain\": [0.0, 1.0], \"title\": {\"text\": \"E\"}}},\n",
       "                        {\"responsive\": true}\n",
       "                    ).then(function(){\n",
       "                            \n",
       "var gd = document.getElementById('01a49bf7-d8b3-4c8a-98f3-5020d60a89fc');\n",
       "var x = new MutationObserver(function (mutations, observer) {{\n",
       "        var display = window.getComputedStyle(gd).display;\n",
       "        if (!display || display === 'none') {{\n",
       "            console.log([gd, 'removed!']);\n",
       "            Plotly.purge(gd);\n",
       "            observer.disconnect();\n",
       "        }}\n",
       "}});\n",
       "\n",
       "// Listen for the removal of the full notebook cells\n",
       "var notebookContainer = gd.closest('#notebook-container');\n",
       "if (notebookContainer) {{\n",
       "    x.observe(notebookContainer, {childList: true});\n",
       "}}\n",
       "\n",
       "// Listen for the clearing of the current output cell\n",
       "var outputEl = gd.closest('.output');\n",
       "if (outputEl) {{\n",
       "    x.observe(outputEl, {childList: true});\n",
       "}}\n",
       "\n",
       "                        })\n",
       "                };\n",
       "                });\n",
       "            </script>\n",
       "        </div>"
      ]
     },
     "metadata": {},
     "output_type": "display_data"
    }
   ],
   "source": [
    "fig = px.scatter(stocks_stat, x=\"sigma\", y=\"E\", hover_data=[\"names\"], color=\"industry\",title=\"E, Risk\", size=\"mean_vol\")\n",
    "fig.show()\n",
    "pio.write_html(fig, file='report/figure.html', auto_open=True)"
   ]
  }
 ],
 "metadata": {
  "kernelspec": {
   "display_name": "Python 3",
   "language": "python",
   "name": "python3"
  },
  "language_info": {
   "codemirror_mode": {
    "name": "ipython",
    "version": 3
   },
   "file_extension": ".py",
   "mimetype": "text/x-python",
   "name": "python",
   "nbconvert_exporter": "python",
   "pygments_lexer": "ipython3",
   "version": "3.6.10"
  }
 },
 "nbformat": 4,
 "nbformat_minor": 4
}
