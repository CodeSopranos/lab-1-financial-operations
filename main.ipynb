{
 "cells": [
  {
   "cell_type": "code",
   "execution_count": 15,
   "metadata": {},
   "outputs": [],
   "source": [
    "import yfinance as yf\n",
    "import numpy as np\n",
    "import statistics\n",
    "import pandas as pd\n",
    "import matplotlib.pyplot as plt\n",
    "import plotly.graph_objects as go\n",
    "import plotly.express as px\n",
    "import plotly.io as pio\n",
    "import warnings\n",
    "import scipy\n",
    "from scipy import stats\n",
    "from scipy.stats import norm\n",
    "warnings.filterwarnings('ignore')\n",
    "PATH_TO_STOCK = 'data/SSE50.csv'"
   ]
  },
  {
   "cell_type": "markdown",
   "metadata": {},
   "source": [
    "1. Собрать данные по дневным ценам активов (акций) и дневным объемам продаж на заданном фондовом рынке за указанный период. Добавить (если нет) данные по индексу рынка\n",
    "\n",
    "2. Преобразовать данные по ценам в данные по доходностям (используйте логарифмическую доходность). Вычислите оценки ожидаемых доходностей и стандартных отклонений и постройте «карту» активов в системе координат (σ, E).\n",
    "\n",
    "3. Рассмотрите портфель с равными долями капитала и отметьте его на карте активов в системе координат (σ, E). Дайте характеристику этому портфелю.\n",
    "\n",
    "4. Рассмотрите индекс рынка и отметьте его на карте активов в системе координат (σ,E). Дайте характеристику индексу рынка. PS σ - Risk, E - Expectation"
   ]
  },
  {
   "cell_type": "code",
   "execution_count": 29,
   "metadata": {},
   "outputs": [],
   "source": [
    "def get_descriptive_statistics(frame):\n",
    "    E = np.mean(frame[\"Log_R\"])\n",
    "    sigma = np.std(frame[\"Log_R\"])\n",
    "    frame['E'] = E\n",
    "    frame['sigma'] = sigma\n",
    "    return frame, E, sigma\n",
    "\n",
    "def get_log_R(frame):\n",
    "    frame['Log_R'] = np.log(frame['Close'] / frame['Close'].shift(1))\n",
    "    return frame"
   ]
  },
  {
   "cell_type": "code",
   "execution_count": 45,
   "metadata": {
    "collapsed": true
   },
   "outputs": [
    {
     "name": "stdout",
     "output_type": "stream",
     "text": [
      "[*********************100%***********************]  1 of 1 completed\n",
      "[*********************100%***********************]  1 of 1 completed\n",
      "[*********************100%***********************]  1 of 1 completed\n",
      "[*********************100%***********************]  1 of 1 completed\n",
      "[*********************100%***********************]  1 of 1 completed\n",
      "[*********************100%***********************]  1 of 1 completed\n",
      "[*********************100%***********************]  1 of 1 completed\n",
      "[*********************100%***********************]  1 of 1 completed\n",
      "[*********************100%***********************]  1 of 1 completed\n",
      "[*********************100%***********************]  1 of 1 completed\n",
      "[*********************100%***********************]  1 of 1 completed\n",
      "[*********************100%***********************]  1 of 1 completed\n",
      "[*********************100%***********************]  1 of 1 completed\n",
      "[*********************100%***********************]  1 of 1 completed\n",
      "[*********************100%***********************]  1 of 1 completed\n",
      "[*********************100%***********************]  1 of 1 completed\n",
      "[*********************100%***********************]  1 of 1 completed\n",
      "[*********************100%***********************]  1 of 1 completed\n",
      "[*********************100%***********************]  1 of 1 completed\n",
      "[*********************100%***********************]  1 of 1 completed\n",
      "[*********************100%***********************]  1 of 1 completed\n",
      "[*********************100%***********************]  1 of 1 completed\n",
      "[*********************100%***********************]  1 of 1 completed\n",
      "[*********************100%***********************]  1 of 1 completed\n",
      "[*********************100%***********************]  1 of 1 completed\n",
      "[*********************100%***********************]  1 of 1 completed\n",
      "[*********************100%***********************]  1 of 1 completed\n",
      "[*********************100%***********************]  1 of 1 completed\n",
      "[*********************100%***********************]  1 of 1 completed\n",
      "[*********************100%***********************]  1 of 1 completed\n",
      "[*********************100%***********************]  1 of 1 completed\n",
      "[*********************100%***********************]  1 of 1 completed\n",
      "[*********************100%***********************]  1 of 1 completed\n",
      "[*********************100%***********************]  1 of 1 completed\n",
      "[*********************100%***********************]  1 of 1 completed\n",
      "[*********************100%***********************]  1 of 1 completed\n",
      "[*********************100%***********************]  1 of 1 completed\n",
      "[*********************100%***********************]  1 of 1 completed\n",
      "[*********************100%***********************]  1 of 1 completed\n",
      "[*********************100%***********************]  1 of 1 completed\n",
      "[*********************100%***********************]  1 of 1 completed\n",
      "[*********************100%***********************]  1 of 1 completed\n",
      "[*********************100%***********************]  1 of 1 completed\n",
      "[*********************100%***********************]  1 of 1 completed\n",
      "[*********************100%***********************]  1 of 1 completed\n",
      "[*********************100%***********************]  1 of 1 completed\n",
      "[*********************100%***********************]  1 of 1 completed\n",
      "[*********************100%***********************]  1 of 1 completed\n",
      "[*********************100%***********************]  1 of 1 completed\n",
      "[*********************100%***********************]  1 of 1 completed\n",
      "[*********************100%***********************]  1 of 1 completed\n"
     ]
    }
   ],
   "source": [
    "stocks_stat = pd.DataFrame(columns=['sigma', 'E', 'names', 'mean_vol', 'mean_log_R', 'industry'])\n",
    "stocks_info = pd.read_csv(PATH_TO_STOCK, names=['Name', 'Industry','Symbol'], delimiter=',')\n",
    "n_stocks = len(stocks_info)\n",
    "stocks = {}\n",
    "\n",
    "for index, row in stocks_info.iterrows():\n",
    "    name, industry, symbol = row\n",
    "    if (name != 'Index' and name != 'Bank of China Limited'):\n",
    "        symbol = str(symbol) + '.SS'\n",
    "    stock = yf.download(symbol, start=\"2018-01-01\", end=\"2018-12-31\")\n",
    "    stock = get_log_R(stock)\n",
    "    stock, E, s = get_descriptive_statistics(stock)\n",
    "    mean_vol = stock['Volume'].mean()\n",
    "        \n",
    "    stocks_stat.loc[index] = [s, E, name, mean_vol, stock['Log_R'].mean(), industry]\n",
    "    stocks[str(industry)+'/'+str(name)] = stock"
   ]
  },
  {
   "cell_type": "code",
   "execution_count": 46,
   "metadata": {},
   "outputs": [
    {
     "data": {
      "application/vnd.plotly.v1+json": {
       "config": {
        "plotlyServerURL": "https://plot.ly"
       },
       "data": [
        {
         "customdata": [
          [
           "Tsinghua Tongfang"
          ]
         ],
         "hovertemplate": "industry=Other<br>sigma=%{x}<br>E=%{y}<br>mean_vol=%{marker.size}<br>names=%{customdata[0]}<extra></extra>",
         "legendgroup": "Other",
         "marker": {
          "color": "#636efa",
          "size": [
           15913101.868312757
          ],
          "sizemode": "area",
          "sizeref": 879145.9405306121,
          "symbol": "circle"
         },
         "mode": "markers",
         "name": "Other",
         "orientation": "v",
         "showlegend": true,
         "type": "scatter",
         "x": [
          0.023397727939211556
         ],
         "xaxis": "x",
         "y": [
          -4.2252385315912526e-05
         ],
         "yaxis": "y"
        },
        {
         "customdata": [
          [
           "China Southern Airlines"
          ]
         ],
         "hovertemplate": "industry=Airline<br>sigma=%{x}<br>E=%{y}<br>mean_vol=%{marker.size}<br>names=%{customdata[0]}<extra></extra>",
         "legendgroup": "Airline",
         "marker": {
          "color": "#EF553B",
          "size": [
           92775866.56378601
          ],
          "sizemode": "area",
          "sizeref": 879145.9405306121,
          "symbol": "circle"
         },
         "mode": "markers",
         "name": "Airline",
         "orientation": "v",
         "showlegend": true,
         "type": "scatter",
         "x": [
          0.02739833143572189
         ],
         "xaxis": "x",
         "y": [
          -0.0022334767708985176
         ],
         "yaxis": "y"
        },
        {
         "customdata": [
          [
           "SAIC Motor"
          ]
         ],
         "hovertemplate": "industry=Automotive<br>sigma=%{x}<br>E=%{y}<br>mean_vol=%{marker.size}<br>names=%{customdata[0]}<extra></extra>",
         "legendgroup": "Automotive",
         "marker": {
          "color": "#00cc96",
          "size": [
           19809289.03292181
          ],
          "sizemode": "area",
          "sizeref": 879145.9405306121,
          "symbol": "circle"
         },
         "mode": "markers",
         "name": "Automotive",
         "orientation": "v",
         "showlegend": true,
         "type": "scatter",
         "x": [
          0.018883756554085928
         ],
         "xaxis": "x",
         "y": [
          -0.0007230707505599738
         ],
         "yaxis": "y"
        },
        {
         "customdata": [
          [
           "Shanghai Pudong Development Bank"
          ],
          [
           "China Minsheng Bank"
          ],
          [
           "China Merchants Bank"
          ],
          [
           "Bank of Jiangsu"
          ],
          [
           "Industrial Bank"
          ],
          [
           "Bank of Beijing"
          ],
          [
           "Bank of Shanghai"
          ],
          [
           "Agricultural Bank of China"
          ],
          [
           "Bank of Communications"
          ],
          [
           "Industrial and Commercial Bank of China"
          ],
          [
           "China Everbright Bank"
          ],
          [
           "Bank of China"
          ]
         ],
         "hovertemplate": "industry=Banking<br>sigma=%{x}<br>E=%{y}<br>mean_vol=%{marker.size}<br>names=%{customdata[0]}<extra></extra>",
         "legendgroup": "Banking",
         "marker": {
          "color": "#ab63fa",
          "size": [
           35868636.20576131,
           80091037.16460906,
           50532683.58436214,
           32556968.901234567,
           76390533.68724279,
           37562169.27983539,
           36946055.03703704,
           331750373.7078189,
           96920518.16049382,
           214667815.52263373,
           100711570.57613169,
           156081468.23868313
          ],
          "sizemode": "area",
          "sizeref": 879145.9405306121,
          "symbol": "circle"
         },
         "mode": "markers",
         "name": "Banking",
         "orientation": "v",
         "showlegend": true,
         "type": "scatter",
         "x": [
          0.013732922482684862,
          0.012233258891306721,
          0.01920665884582793,
          0.012118869896020948,
          0.013313086519065135,
          0.011457792204730657,
          0.014491379161511898,
          0.015354848500486032,
          0.012250891970607098,
          0.01649818332526671,
          0.014227043084449954,
          0.013034581104360609
         ],
         "xaxis": "x",
         "y": [
          -0.001077657742832811,
          -0.0008858646138838149,
          -0.0006677926131414701,
          -0.0009096031581619352,
          -0.0005916946295101731,
          -0.001019622379412805,
          0.0003510718436268873,
          -0.0002774351428009029,
          -0.0003356930945975166,
          -0.0006425620042711419,
          -0.00040398403792936074,
          -0.00040319868100503536
         ],
         "yaxis": "y"
        },
        {
         "customdata": [
          [
           "Kweichow Moutai"
          ]
         ],
         "hovertemplate": "industry=Beverages<br>sigma=%{x}<br>E=%{y}<br>mean_vol=%{marker.size}<br>names=%{customdata[0]}<extra></extra>",
         "legendgroup": "Beverages",
         "marker": {
          "color": "#FFA15A",
          "size": [
           4445038.864197531
          ],
          "sizemode": "area",
          "sizeref": 879145.9405306121,
          "symbol": "circle"
         },
         "mode": "markers",
         "name": "Beverages",
         "orientation": "v",
         "showlegend": true,
         "type": "scatter",
         "x": [
          0.02340618427187137
         ],
         "xaxis": "x",
         "y": [
          -0.0007290319344099985
         ],
         "yaxis": "y"
        },
        {
         "customdata": [
          [
           "China Railway Construction "
          ],
          [
           "China Railway [Engineering] "
          ],
          [
           "China State Construction Engineering "
          ],
          [
           "China Communications Construction "
          ]
         ],
         "hovertemplate": "industry=Construction<br>sigma=%{x}<br>E=%{y}<br>mean_vol=%{marker.size}<br>names=%{customdata[0]}<extra></extra>",
         "legendgroup": "Construction",
         "marker": {
          "color": "#19d3f3",
          "size": [
           44348662.7654321,
           24202047.925925925,
           172508537.69547325,
           16605839.456790123
          ],
          "sizemode": "area",
          "sizeref": 879145.9405306121,
          "symbol": "circle"
         },
         "mode": "markers",
         "name": "Construction",
         "orientation": "v",
         "showlegend": true,
         "type": "scatter",
         "x": [
          0.02281055275905274,
          0.01380997042065194,
          0.01820243519747332,
          0.022946122675987196
         ],
         "xaxis": "x",
         "y": [
          -0.00020034487560263394,
          -0.0008130638263610723,
          -0.0005923604886360605,
          -0.0006443193027430556
         ],
         "yaxis": "y"
        },
        {
         "customdata": [
          [
           "Yili Group"
          ]
         ],
         "hovertemplate": "industry=Dairy<br>sigma=%{x}<br>E=%{y}<br>mean_vol=%{marker.size}<br>names=%{customdata[0]}<extra></extra>",
         "legendgroup": "Dairy",
         "marker": {
          "color": "#FF6692",
          "size": [
           60994414.37037037
          ],
          "sizemode": "area",
          "sizeref": 879145.9405306121,
          "symbol": "circle"
         },
         "mode": "markers",
         "name": "Dairy",
         "orientation": "v",
         "showlegend": true,
         "type": "scatter",
         "x": [
          0.025423775382228696
         ],
         "xaxis": "x",
         "y": [
          -0.0013797895655822243
         ],
         "yaxis": "y"
        },
        {
         "customdata": [
          [
           "China Shenhua Energy "
          ],
          [
           "China National Nuclear Power "
          ]
         ],
         "hovertemplate": "industry=Energy<br>sigma=%{x}<br>E=%{y}<br>mean_vol=%{marker.size}<br>names=%{customdata[0]}<extra></extra>",
         "legendgroup": "Energy",
         "marker": {
          "color": "#B6E880",
          "size": [
           25894093.942386832,
           19626560.423868313
          ],
          "sizemode": "area",
          "sizeref": 879145.9405306121,
          "symbol": "circle"
         },
         "mode": "markers",
         "name": "Energy",
         "orientation": "v",
         "showlegend": true,
         "type": "scatter",
         "x": [
          0.0210134003241338,
          0.012881844381876272
         ],
         "xaxis": "x",
         "y": [
          -0.0011651182899613947,
          -0.0013970965204925408
         ],
         "yaxis": "y"
        },
        {
         "customdata": [
          [
           "CITIC Securities"
          ],
          [
           "Haitong Securities"
          ],
          [
           "Orient Securities"
          ],
          [
           "China Merchants Securities"
          ],
          [
           "Dongxing Securities"
          ],
          [
           "Guotai Junan Securities"
          ],
          [
           "Huatai Securities"
          ],
          [
           "Everbright Securities"
          ],
          [
           "China Galaxy Securities"
          ],
          [
           "Founder Securities"
          ]
         ],
         "hovertemplate": "industry=Financial services<br>sigma=%{x}<br>E=%{y}<br>mean_vol=%{marker.size}<br>names=%{customdata[0]}<extra></extra>",
         "legendgroup": "Financial services",
         "marker": {
          "color": "#FF97FF",
          "size": [
           112478697.79012346,
           42101950.12345679,
           15328019.271604938,
           12851845.646090535,
           13236381.053497942,
           21158748.621399175,
           49804498.304526746,
           12813738.460905349,
           23539708.3127572,
           17415308.596707817
          ],
          "sizemode": "area",
          "sizeref": 879145.9405306121,
          "symbol": "circle"
         },
         "mode": "markers",
         "name": "Financial services",
         "orientation": "v",
         "showlegend": true,
         "type": "scatter",
         "x": [
          0.021268556796911472,
          0.01936497752688617,
          0.021780045772568195,
          0.019859295432691295,
          0.0257137088668738,
          0.017949265648675543,
          0.0227863561875066,
          0.0214391730117627,
          0.026516548945434943,
          0.020942084626392337
         ],
         "xaxis": "x",
         "y": [
          -0.000583920271841135,
          -0.0016377380042876272,
          -0.0023250343216514014,
          -0.0011125180192215016,
          -0.0017270217767223256,
          -0.0008304435852211166,
          -0.0004399627613632849,
          -0.0018190183212327092,
          -0.001822291487934173,
          -0.0011359037149738418
         ],
         "yaxis": "y"
        },
        {
         "customdata": [
          [
           "Ping An Insurance"
          ],
          [
           "New China Life Insurance"
          ],
          [
           "China Pacific Insurance"
          ],
          [
           "China Life Insurance"
          ]
         ],
         "hovertemplate": "industry=Insurance<br>sigma=%{x}<br>E=%{y}<br>mean_vol=%{marker.size}<br>names=%{customdata[0]}<extra></extra>",
         "legendgroup": "Insurance",
         "marker": {
          "color": "#FECB52",
          "size": [
           74905882.98353909,
           17117463.238683127,
           24765406.596707817,
           11289268.732510287
          ],
          "sizemode": "area",
          "sizeref": 879145.9405306121,
          "symbol": "circle"
         },
         "mode": "markers",
         "name": "Insurance",
         "orientation": "v",
         "showlegend": true,
         "type": "scatter",
         "x": [
          0.01990338584762517,
          0.023704091564784757,
          0.024211201600951204,
          0.016884383117929797
         ],
         "xaxis": "x",
         "y": [
          -0.0010648402294137973,
          -0.002140094115393431,
          -0.0016036343880121383,
          -0.0016626206563672865
         ],
         "yaxis": "y"
        },
        {
         "customdata": [
          [
           "China Northern Rare Earth"
          ],
          [
           "Shandong Gold Mining"
          ]
         ],
         "hovertemplate": "industry=Mining<br>sigma=%{x}<br>E=%{y}<br>mean_vol=%{marker.size}<br>names=%{customdata[0]}<extra></extra>",
         "legendgroup": "Mining",
         "marker": {
          "color": "#636efa",
          "size": [
           38641018.736625515,
           26886012.781893004
          ],
          "sizemode": "area",
          "sizeref": 879145.9405306121,
          "symbol": "circle"
         },
         "mode": "markers",
         "name": "Mining",
         "orientation": "v",
         "showlegend": true,
         "type": "scatter",
         "x": [
          0.020895859288782792,
          0.022105174718109473
         ],
         "xaxis": "x",
         "y": [
          -0.0021651479257537585,
          -0.00017519926244947178
         ],
         "yaxis": "y"
        },
        {
         "customdata": [
          [
           "Sinopec"
          ],
          [
           "PetroChina"
          ]
         ],
         "hovertemplate": "industry=Oil & gas<br>sigma=%{x}<br>E=%{y}<br>mean_vol=%{marker.size}<br>names=%{customdata[0]}<extra></extra>",
         "legendgroup": "Oil & gas",
         "marker": {
          "color": "#EF553B",
          "size": [
           154901071.28395063,
           48295997.0781893
          ],
          "sizemode": "area",
          "sizeref": 879145.9405306121,
          "symbol": "circle"
         },
         "mode": "markers",
         "name": "Oil & gas",
         "orientation": "v",
         "showlegend": true,
         "type": "scatter",
         "x": [
          0.01926795836440376,
          0.016499441668100263
         ],
         "xaxis": "x",
         "y": [
          -0.0009595502915781691,
          -0.0005567943956978943
         ],
         "yaxis": "y"
        },
        {
         "customdata": [
          [
           "Kangmei Pharmaceutical"
          ]
         ],
         "hovertemplate": "industry=Pharmaceutical<br>sigma=%{x}<br>E=%{y}<br>mean_vol=%{marker.size}<br>names=%{customdata[0]}<extra></extra>",
         "legendgroup": "Pharmaceutical",
         "marker": {
          "color": "#00cc96",
          "size": [
           32556456.53909465
          ],
          "sizemode": "area",
          "sizeref": 879145.9405306121,
          "symbol": "circle"
         },
         "mode": "markers",
         "name": "Pharmaceutical",
         "orientation": "v",
         "showlegend": true,
         "type": "scatter",
         "x": [
          0.024368761009415388
         ],
         "xaxis": "x",
         "y": [
          -0.0036689165742784975
         ],
         "yaxis": "y"
        },
        {
         "customdata": [
          [
           "Daqin Railway"
          ]
         ],
         "hovertemplate": "industry=Rail transport<br>sigma=%{x}<br>E=%{y}<br>mean_vol=%{marker.size}<br>names=%{customdata[0]}<extra></extra>",
         "legendgroup": "Rail transport",
         "marker": {
          "color": "#ab63fa",
          "size": [
           41069439.251028806
          ],
          "sizemode": "area",
          "sizeref": 879145.9405306121,
          "symbol": "circle"
         },
         "mode": "markers",
         "name": "Rail transport",
         "orientation": "v",
         "showlegend": true,
         "type": "scatter",
         "x": [
          0.015457386925163722
         ],
         "xaxis": "x",
         "y": [
          -0.00042884193418945264
         ],
         "yaxis": "y"
        },
        {
         "customdata": [
          [
           "Poly Real Estate"
          ],
          [
           "China Fortune Land Development"
          ],
          [
           "Greenland Holdings"
          ]
         ],
         "hovertemplate": "industry=Real estate<br>sigma=%{x}<br>E=%{y}<br>mean_vol=%{marker.size}<br>names=%{customdata[0]}<extra></extra>",
         "legendgroup": "Real estate",
         "marker": {
          "color": "#FFA15A",
          "size": [
           104099820.02057613,
           22549787.436213993,
           72789839.00823045
          ],
          "sizemode": "area",
          "sizeref": 879145.9405306121,
          "symbol": "circle"
         },
         "mode": "markers",
         "name": "Real estate",
         "orientation": "v",
         "showlegend": true,
         "type": "scatter",
         "x": [
          0.02879438529916983,
          0.02892914103965568,
          0.02104545607178855
         ],
         "xaxis": "x",
         "y": [
          -0.0008890030379346753,
          -0.0009798026764182102,
          -0.0010407430925305488
         ],
         "yaxis": "y"
        },
        {
         "customdata": [
          [
           "CRRC"
          ]
         ],
         "hovertemplate": "industry=Rolling stock<br>sigma=%{x}<br>E=%{y}<br>mean_vol=%{marker.size}<br>names=%{customdata[0]}<extra></extra>",
         "legendgroup": "Rolling stock",
         "marker": {
          "color": "#19d3f3",
          "size": [
           57124025.004115224
          ],
          "sizemode": "area",
          "sizeref": 879145.9405306121,
          "symbol": "circle"
         },
         "mode": "markers",
         "name": "Rolling stock",
         "orientation": "v",
         "showlegend": true,
         "type": "scatter",
         "x": [
          0.01849338614063459
         ],
         "xaxis": "x",
         "y": [
          -0.001430111102396903
         ],
         "yaxis": "y"
        },
        {
         "customdata": [
          [
           "China Shipbuilding Industry"
          ]
         ],
         "hovertemplate": "industry=Shipbuilding<br>sigma=%{x}<br>E=%{y}<br>mean_vol=%{marker.size}<br>names=%{customdata[0]}<extra></extra>",
         "legendgroup": "Shipbuilding",
         "marker": {
          "color": "#FF6692",
          "size": [
           74848669.50205761
          ],
          "sizemode": "area",
          "sizeref": 879145.9405306121,
          "symbol": "circle"
         },
         "mode": "markers",
         "name": "Shipbuilding",
         "orientation": "v",
         "showlegend": true,
         "type": "scatter",
         "x": [
          0.01644304021192835
         ],
         "xaxis": "x",
         "y": [
          -0.001452417449151541
         ],
         "yaxis": "y"
        },
        {
         "customdata": [
          [
           "China United Network Communications"
          ]
         ],
         "hovertemplate": "industry=Telecommunication<br>sigma=%{x}<br>E=%{y}<br>mean_vol=%{marker.size}<br>names=%{customdata[0]}<extra></extra>",
         "legendgroup": "Telecommunication",
         "marker": {
          "color": "#B6E880",
          "size": [
           137923049.86419752
          ],
          "sizemode": "area",
          "sizeref": 879145.9405306121,
          "symbol": "circle"
         },
         "mode": "markers",
         "name": "Telecommunication",
         "orientation": "v",
         "showlegend": true,
         "type": "scatter",
         "x": [
          0.020964890111881438
         ],
         "xaxis": "x",
         "y": [
          -0.0009076687839836355
         ],
         "yaxis": "y"
        },
        {
         "customdata": [
          [
           "Bank of China Limited"
          ]
         ],
         "hovertemplate": "industry=Risk free<br>sigma=%{x}<br>E=%{y}<br>mean_vol=%{marker.size}<br>names=%{customdata[0]}<extra></extra>",
         "legendgroup": "Risk free",
         "marker": {
          "color": "#FF97FF",
          "size": [
           351658376.21224487
          ],
          "sizemode": "area",
          "sizeref": 879145.9405306121,
          "symbol": "circle"
         },
         "mode": "markers",
         "name": "Risk free",
         "orientation": "v",
         "showlegend": true,
         "type": "scatter",
         "x": [
          0.013667503358301308
         ],
         "xaxis": "x",
         "y": [
          -0.0006562331638291557
         ],
         "yaxis": "y"
        },
        {
         "customdata": [
          [
           "Index"
          ]
         ],
         "hovertemplate": "industry=index<br>sigma=%{x}<br>E=%{y}<br>mean_vol=%{marker.size}<br>names=%{customdata[0]}<extra></extra>",
         "legendgroup": "index",
         "marker": {
          "color": "#FECB52",
          "size": [
           41400
          ],
          "sizemode": "area",
          "sizeref": 879145.9405306121,
          "symbol": "circle"
         },
         "mode": "markers",
         "name": "index",
         "orientation": "v",
         "showlegend": true,
         "type": "scatter",
         "x": [
          0.01382184821428148
         ],
         "xaxis": "x",
         "y": [
          -0.0009826937875556342
         ],
         "yaxis": "y"
        },
        {
         "mode": "markers+text",
         "text": "Balanced portfolio",
         "textposition": "top center",
         "type": "scatter",
         "x": [
          0.0007021270790274693
         ],
         "y": [
          -0.0010388652175660155
         ]
        },
        {
         "mode": "markers+text",
         "text": "Index SSE50",
         "textposition": "top center",
         "type": "scatter",
         "x": [
          0.01382184821428148
         ],
         "y": [
          -0.0009826937875556342
         ]
        }
       ],
       "layout": {
        "legend": {
         "itemsizing": "constant",
         "title": {
          "text": "industry"
         },
         "tracegroupgap": 0
        },
        "template": {
         "data": {
          "bar": [
           {
            "error_x": {
             "color": "#2a3f5f"
            },
            "error_y": {
             "color": "#2a3f5f"
            },
            "marker": {
             "line": {
              "color": "#E5ECF6",
              "width": 0.5
             }
            },
            "type": "bar"
           }
          ],
          "barpolar": [
           {
            "marker": {
             "line": {
              "color": "#E5ECF6",
              "width": 0.5
             }
            },
            "type": "barpolar"
           }
          ],
          "carpet": [
           {
            "aaxis": {
             "endlinecolor": "#2a3f5f",
             "gridcolor": "white",
             "linecolor": "white",
             "minorgridcolor": "white",
             "startlinecolor": "#2a3f5f"
            },
            "baxis": {
             "endlinecolor": "#2a3f5f",
             "gridcolor": "white",
             "linecolor": "white",
             "minorgridcolor": "white",
             "startlinecolor": "#2a3f5f"
            },
            "type": "carpet"
           }
          ],
          "choropleth": [
           {
            "colorbar": {
             "outlinewidth": 0,
             "ticks": ""
            },
            "type": "choropleth"
           }
          ],
          "contour": [
           {
            "colorbar": {
             "outlinewidth": 0,
             "ticks": ""
            },
            "colorscale": [
             [
              0,
              "#0d0887"
             ],
             [
              0.1111111111111111,
              "#46039f"
             ],
             [
              0.2222222222222222,
              "#7201a8"
             ],
             [
              0.3333333333333333,
              "#9c179e"
             ],
             [
              0.4444444444444444,
              "#bd3786"
             ],
             [
              0.5555555555555556,
              "#d8576b"
             ],
             [
              0.6666666666666666,
              "#ed7953"
             ],
             [
              0.7777777777777778,
              "#fb9f3a"
             ],
             [
              0.8888888888888888,
              "#fdca26"
             ],
             [
              1,
              "#f0f921"
             ]
            ],
            "type": "contour"
           }
          ],
          "contourcarpet": [
           {
            "colorbar": {
             "outlinewidth": 0,
             "ticks": ""
            },
            "type": "contourcarpet"
           }
          ],
          "heatmap": [
           {
            "colorbar": {
             "outlinewidth": 0,
             "ticks": ""
            },
            "colorscale": [
             [
              0,
              "#0d0887"
             ],
             [
              0.1111111111111111,
              "#46039f"
             ],
             [
              0.2222222222222222,
              "#7201a8"
             ],
             [
              0.3333333333333333,
              "#9c179e"
             ],
             [
              0.4444444444444444,
              "#bd3786"
             ],
             [
              0.5555555555555556,
              "#d8576b"
             ],
             [
              0.6666666666666666,
              "#ed7953"
             ],
             [
              0.7777777777777778,
              "#fb9f3a"
             ],
             [
              0.8888888888888888,
              "#fdca26"
             ],
             [
              1,
              "#f0f921"
             ]
            ],
            "type": "heatmap"
           }
          ],
          "heatmapgl": [
           {
            "colorbar": {
             "outlinewidth": 0,
             "ticks": ""
            },
            "colorscale": [
             [
              0,
              "#0d0887"
             ],
             [
              0.1111111111111111,
              "#46039f"
             ],
             [
              0.2222222222222222,
              "#7201a8"
             ],
             [
              0.3333333333333333,
              "#9c179e"
             ],
             [
              0.4444444444444444,
              "#bd3786"
             ],
             [
              0.5555555555555556,
              "#d8576b"
             ],
             [
              0.6666666666666666,
              "#ed7953"
             ],
             [
              0.7777777777777778,
              "#fb9f3a"
             ],
             [
              0.8888888888888888,
              "#fdca26"
             ],
             [
              1,
              "#f0f921"
             ]
            ],
            "type": "heatmapgl"
           }
          ],
          "histogram": [
           {
            "marker": {
             "colorbar": {
              "outlinewidth": 0,
              "ticks": ""
             }
            },
            "type": "histogram"
           }
          ],
          "histogram2d": [
           {
            "colorbar": {
             "outlinewidth": 0,
             "ticks": ""
            },
            "colorscale": [
             [
              0,
              "#0d0887"
             ],
             [
              0.1111111111111111,
              "#46039f"
             ],
             [
              0.2222222222222222,
              "#7201a8"
             ],
             [
              0.3333333333333333,
              "#9c179e"
             ],
             [
              0.4444444444444444,
              "#bd3786"
             ],
             [
              0.5555555555555556,
              "#d8576b"
             ],
             [
              0.6666666666666666,
              "#ed7953"
             ],
             [
              0.7777777777777778,
              "#fb9f3a"
             ],
             [
              0.8888888888888888,
              "#fdca26"
             ],
             [
              1,
              "#f0f921"
             ]
            ],
            "type": "histogram2d"
           }
          ],
          "histogram2dcontour": [
           {
            "colorbar": {
             "outlinewidth": 0,
             "ticks": ""
            },
            "colorscale": [
             [
              0,
              "#0d0887"
             ],
             [
              0.1111111111111111,
              "#46039f"
             ],
             [
              0.2222222222222222,
              "#7201a8"
             ],
             [
              0.3333333333333333,
              "#9c179e"
             ],
             [
              0.4444444444444444,
              "#bd3786"
             ],
             [
              0.5555555555555556,
              "#d8576b"
             ],
             [
              0.6666666666666666,
              "#ed7953"
             ],
             [
              0.7777777777777778,
              "#fb9f3a"
             ],
             [
              0.8888888888888888,
              "#fdca26"
             ],
             [
              1,
              "#f0f921"
             ]
            ],
            "type": "histogram2dcontour"
           }
          ],
          "mesh3d": [
           {
            "colorbar": {
             "outlinewidth": 0,
             "ticks": ""
            },
            "type": "mesh3d"
           }
          ],
          "parcoords": [
           {
            "line": {
             "colorbar": {
              "outlinewidth": 0,
              "ticks": ""
             }
            },
            "type": "parcoords"
           }
          ],
          "pie": [
           {
            "automargin": true,
            "type": "pie"
           }
          ],
          "scatter": [
           {
            "marker": {
             "colorbar": {
              "outlinewidth": 0,
              "ticks": ""
             }
            },
            "type": "scatter"
           }
          ],
          "scatter3d": [
           {
            "line": {
             "colorbar": {
              "outlinewidth": 0,
              "ticks": ""
             }
            },
            "marker": {
             "colorbar": {
              "outlinewidth": 0,
              "ticks": ""
             }
            },
            "type": "scatter3d"
           }
          ],
          "scattercarpet": [
           {
            "marker": {
             "colorbar": {
              "outlinewidth": 0,
              "ticks": ""
             }
            },
            "type": "scattercarpet"
           }
          ],
          "scattergeo": [
           {
            "marker": {
             "colorbar": {
              "outlinewidth": 0,
              "ticks": ""
             }
            },
            "type": "scattergeo"
           }
          ],
          "scattergl": [
           {
            "marker": {
             "colorbar": {
              "outlinewidth": 0,
              "ticks": ""
             }
            },
            "type": "scattergl"
           }
          ],
          "scattermapbox": [
           {
            "marker": {
             "colorbar": {
              "outlinewidth": 0,
              "ticks": ""
             }
            },
            "type": "scattermapbox"
           }
          ],
          "scatterpolar": [
           {
            "marker": {
             "colorbar": {
              "outlinewidth": 0,
              "ticks": ""
             }
            },
            "type": "scatterpolar"
           }
          ],
          "scatterpolargl": [
           {
            "marker": {
             "colorbar": {
              "outlinewidth": 0,
              "ticks": ""
             }
            },
            "type": "scatterpolargl"
           }
          ],
          "scatterternary": [
           {
            "marker": {
             "colorbar": {
              "outlinewidth": 0,
              "ticks": ""
             }
            },
            "type": "scatterternary"
           }
          ],
          "surface": [
           {
            "colorbar": {
             "outlinewidth": 0,
             "ticks": ""
            },
            "colorscale": [
             [
              0,
              "#0d0887"
             ],
             [
              0.1111111111111111,
              "#46039f"
             ],
             [
              0.2222222222222222,
              "#7201a8"
             ],
             [
              0.3333333333333333,
              "#9c179e"
             ],
             [
              0.4444444444444444,
              "#bd3786"
             ],
             [
              0.5555555555555556,
              "#d8576b"
             ],
             [
              0.6666666666666666,
              "#ed7953"
             ],
             [
              0.7777777777777778,
              "#fb9f3a"
             ],
             [
              0.8888888888888888,
              "#fdca26"
             ],
             [
              1,
              "#f0f921"
             ]
            ],
            "type": "surface"
           }
          ],
          "table": [
           {
            "cells": {
             "fill": {
              "color": "#EBF0F8"
             },
             "line": {
              "color": "white"
             }
            },
            "header": {
             "fill": {
              "color": "#C8D4E3"
             },
             "line": {
              "color": "white"
             }
            },
            "type": "table"
           }
          ]
         },
         "layout": {
          "annotationdefaults": {
           "arrowcolor": "#2a3f5f",
           "arrowhead": 0,
           "arrowwidth": 1
          },
          "coloraxis": {
           "colorbar": {
            "outlinewidth": 0,
            "ticks": ""
           }
          },
          "colorscale": {
           "diverging": [
            [
             0,
             "#8e0152"
            ],
            [
             0.1,
             "#c51b7d"
            ],
            [
             0.2,
             "#de77ae"
            ],
            [
             0.3,
             "#f1b6da"
            ],
            [
             0.4,
             "#fde0ef"
            ],
            [
             0.5,
             "#f7f7f7"
            ],
            [
             0.6,
             "#e6f5d0"
            ],
            [
             0.7,
             "#b8e186"
            ],
            [
             0.8,
             "#7fbc41"
            ],
            [
             0.9,
             "#4d9221"
            ],
            [
             1,
             "#276419"
            ]
           ],
           "sequential": [
            [
             0,
             "#0d0887"
            ],
            [
             0.1111111111111111,
             "#46039f"
            ],
            [
             0.2222222222222222,
             "#7201a8"
            ],
            [
             0.3333333333333333,
             "#9c179e"
            ],
            [
             0.4444444444444444,
             "#bd3786"
            ],
            [
             0.5555555555555556,
             "#d8576b"
            ],
            [
             0.6666666666666666,
             "#ed7953"
            ],
            [
             0.7777777777777778,
             "#fb9f3a"
            ],
            [
             0.8888888888888888,
             "#fdca26"
            ],
            [
             1,
             "#f0f921"
            ]
           ],
           "sequentialminus": [
            [
             0,
             "#0d0887"
            ],
            [
             0.1111111111111111,
             "#46039f"
            ],
            [
             0.2222222222222222,
             "#7201a8"
            ],
            [
             0.3333333333333333,
             "#9c179e"
            ],
            [
             0.4444444444444444,
             "#bd3786"
            ],
            [
             0.5555555555555556,
             "#d8576b"
            ],
            [
             0.6666666666666666,
             "#ed7953"
            ],
            [
             0.7777777777777778,
             "#fb9f3a"
            ],
            [
             0.8888888888888888,
             "#fdca26"
            ],
            [
             1,
             "#f0f921"
            ]
           ]
          },
          "colorway": [
           "#636efa",
           "#EF553B",
           "#00cc96",
           "#ab63fa",
           "#FFA15A",
           "#19d3f3",
           "#FF6692",
           "#B6E880",
           "#FF97FF",
           "#FECB52"
          ],
          "font": {
           "color": "#2a3f5f"
          },
          "geo": {
           "bgcolor": "white",
           "lakecolor": "white",
           "landcolor": "#E5ECF6",
           "showlakes": true,
           "showland": true,
           "subunitcolor": "white"
          },
          "hoverlabel": {
           "align": "left"
          },
          "hovermode": "closest",
          "mapbox": {
           "style": "light"
          },
          "paper_bgcolor": "white",
          "plot_bgcolor": "#E5ECF6",
          "polar": {
           "angularaxis": {
            "gridcolor": "white",
            "linecolor": "white",
            "ticks": ""
           },
           "bgcolor": "#E5ECF6",
           "radialaxis": {
            "gridcolor": "white",
            "linecolor": "white",
            "ticks": ""
           }
          },
          "scene": {
           "xaxis": {
            "backgroundcolor": "#E5ECF6",
            "gridcolor": "white",
            "gridwidth": 2,
            "linecolor": "white",
            "showbackground": true,
            "ticks": "",
            "zerolinecolor": "white"
           },
           "yaxis": {
            "backgroundcolor": "#E5ECF6",
            "gridcolor": "white",
            "gridwidth": 2,
            "linecolor": "white",
            "showbackground": true,
            "ticks": "",
            "zerolinecolor": "white"
           },
           "zaxis": {
            "backgroundcolor": "#E5ECF6",
            "gridcolor": "white",
            "gridwidth": 2,
            "linecolor": "white",
            "showbackground": true,
            "ticks": "",
            "zerolinecolor": "white"
           }
          },
          "shapedefaults": {
           "line": {
            "color": "#2a3f5f"
           }
          },
          "ternary": {
           "aaxis": {
            "gridcolor": "white",
            "linecolor": "white",
            "ticks": ""
           },
           "baxis": {
            "gridcolor": "white",
            "linecolor": "white",
            "ticks": ""
           },
           "bgcolor": "#E5ECF6",
           "caxis": {
            "gridcolor": "white",
            "linecolor": "white",
            "ticks": ""
           }
          },
          "title": {
           "x": 0.05
          },
          "xaxis": {
           "automargin": true,
           "gridcolor": "white",
           "linecolor": "white",
           "ticks": "",
           "title": {
            "standoff": 15
           },
           "zerolinecolor": "white",
           "zerolinewidth": 2
          },
          "yaxis": {
           "automargin": true,
           "gridcolor": "white",
           "linecolor": "white",
           "ticks": "",
           "title": {
            "standoff": 15
           },
           "zerolinecolor": "white",
           "zerolinewidth": 2
          }
         }
        },
        "title": {
         "text": "E, Risk"
        },
        "xaxis": {
         "anchor": "y",
         "domain": [
          0,
          1
         ],
         "title": {
          "text": "sigma"
         }
        },
        "yaxis": {
         "anchor": "x",
         "domain": [
          0,
          1
         ],
         "title": {
          "text": "E"
         }
        }
       }
      },
      "text/html": [
       "<div>\n",
       "        \n",
       "        \n",
       "            <div id=\"b490cff6-5656-4771-9cd2-857036538bea\" class=\"plotly-graph-div\" style=\"height:525px; width:100%;\"></div>\n",
       "            <script type=\"text/javascript\">\n",
       "                require([\"plotly\"], function(Plotly) {\n",
       "                    window.PLOTLYENV=window.PLOTLYENV || {};\n",
       "                    \n",
       "                if (document.getElementById(\"b490cff6-5656-4771-9cd2-857036538bea\")) {\n",
       "                    Plotly.newPlot(\n",
       "                        'b490cff6-5656-4771-9cd2-857036538bea',\n",
       "                        [{\"customdata\": [[\"Tsinghua Tongfang\"]], \"hovertemplate\": \"industry=Other<br>sigma=%{x}<br>E=%{y}<br>mean_vol=%{marker.size}<br>names=%{customdata[0]}<extra></extra>\", \"legendgroup\": \"Other\", \"marker\": {\"color\": \"#636efa\", \"size\": [15913101.868312757], \"sizemode\": \"area\", \"sizeref\": 879145.9405306121, \"symbol\": \"circle\"}, \"mode\": \"markers\", \"name\": \"Other\", \"orientation\": \"v\", \"showlegend\": true, \"type\": \"scatter\", \"x\": [0.023397727939211556], \"xaxis\": \"x\", \"y\": [-4.2252385315912526e-05], \"yaxis\": \"y\"}, {\"customdata\": [[\"China Southern Airlines\"]], \"hovertemplate\": \"industry=Airline<br>sigma=%{x}<br>E=%{y}<br>mean_vol=%{marker.size}<br>names=%{customdata[0]}<extra></extra>\", \"legendgroup\": \"Airline\", \"marker\": {\"color\": \"#EF553B\", \"size\": [92775866.56378601], \"sizemode\": \"area\", \"sizeref\": 879145.9405306121, \"symbol\": \"circle\"}, \"mode\": \"markers\", \"name\": \"Airline\", \"orientation\": \"v\", \"showlegend\": true, \"type\": \"scatter\", \"x\": [0.02739833143572189], \"xaxis\": \"x\", \"y\": [-0.0022334767708985176], \"yaxis\": \"y\"}, {\"customdata\": [[\"SAIC Motor\"]], \"hovertemplate\": \"industry=Automotive<br>sigma=%{x}<br>E=%{y}<br>mean_vol=%{marker.size}<br>names=%{customdata[0]}<extra></extra>\", \"legendgroup\": \"Automotive\", \"marker\": {\"color\": \"#00cc96\", \"size\": [19809289.03292181], \"sizemode\": \"area\", \"sizeref\": 879145.9405306121, \"symbol\": \"circle\"}, \"mode\": \"markers\", \"name\": \"Automotive\", \"orientation\": \"v\", \"showlegend\": true, \"type\": \"scatter\", \"x\": [0.018883756554085928], \"xaxis\": \"x\", \"y\": [-0.0007230707505599738], \"yaxis\": \"y\"}, {\"customdata\": [[\"Shanghai Pudong Development Bank\"], [\"China Minsheng Bank\"], [\"China Merchants Bank\"], [\"Bank of Jiangsu\"], [\"Industrial Bank\"], [\"Bank of Beijing\"], [\"Bank of Shanghai\"], [\"Agricultural Bank of China\"], [\"Bank of Communications\"], [\"Industrial and Commercial Bank of China\"], [\"China Everbright Bank\"], [\"Bank of China\"]], \"hovertemplate\": \"industry=Banking<br>sigma=%{x}<br>E=%{y}<br>mean_vol=%{marker.size}<br>names=%{customdata[0]}<extra></extra>\", \"legendgroup\": \"Banking\", \"marker\": {\"color\": \"#ab63fa\", \"size\": [35868636.20576131, 80091037.16460906, 50532683.58436214, 32556968.901234567, 76390533.68724279, 37562169.27983539, 36946055.03703704, 331750373.7078189, 96920518.16049382, 214667815.52263373, 100711570.57613169, 156081468.23868313], \"sizemode\": \"area\", \"sizeref\": 879145.9405306121, \"symbol\": \"circle\"}, \"mode\": \"markers\", \"name\": \"Banking\", \"orientation\": \"v\", \"showlegend\": true, \"type\": \"scatter\", \"x\": [0.013732922482684862, 0.012233258891306721, 0.01920665884582793, 0.012118869896020948, 0.013313086519065135, 0.011457792204730657, 0.014491379161511898, 0.015354848500486032, 0.012250891970607098, 0.01649818332526671, 0.014227043084449954, 0.013034581104360609], \"xaxis\": \"x\", \"y\": [-0.001077657742832811, -0.0008858646138838149, -0.0006677926131414701, -0.0009096031581619352, -0.0005916946295101731, -0.001019622379412805, 0.0003510718436268873, -0.0002774351428009029, -0.0003356930945975166, -0.0006425620042711419, -0.00040398403792936074, -0.00040319868100503536], \"yaxis\": \"y\"}, {\"customdata\": [[\"Kweichow Moutai\"]], \"hovertemplate\": \"industry=Beverages<br>sigma=%{x}<br>E=%{y}<br>mean_vol=%{marker.size}<br>names=%{customdata[0]}<extra></extra>\", \"legendgroup\": \"Beverages\", \"marker\": {\"color\": \"#FFA15A\", \"size\": [4445038.864197531], \"sizemode\": \"area\", \"sizeref\": 879145.9405306121, \"symbol\": \"circle\"}, \"mode\": \"markers\", \"name\": \"Beverages\", \"orientation\": \"v\", \"showlegend\": true, \"type\": \"scatter\", \"x\": [0.02340618427187137], \"xaxis\": \"x\", \"y\": [-0.0007290319344099985], \"yaxis\": \"y\"}, {\"customdata\": [[\"China Railway Construction \"], [\"China Railway [Engineering] \"], [\"China State Construction Engineering \"], [\"China Communications Construction \"]], \"hovertemplate\": \"industry=Construction<br>sigma=%{x}<br>E=%{y}<br>mean_vol=%{marker.size}<br>names=%{customdata[0]}<extra></extra>\", \"legendgroup\": \"Construction\", \"marker\": {\"color\": \"#19d3f3\", \"size\": [44348662.7654321, 24202047.925925925, 172508537.69547325, 16605839.456790123], \"sizemode\": \"area\", \"sizeref\": 879145.9405306121, \"symbol\": \"circle\"}, \"mode\": \"markers\", \"name\": \"Construction\", \"orientation\": \"v\", \"showlegend\": true, \"type\": \"scatter\", \"x\": [0.02281055275905274, 0.01380997042065194, 0.01820243519747332, 0.022946122675987196], \"xaxis\": \"x\", \"y\": [-0.00020034487560263394, -0.0008130638263610723, -0.0005923604886360605, -0.0006443193027430556], \"yaxis\": \"y\"}, {\"customdata\": [[\"Yili Group\"]], \"hovertemplate\": \"industry=Dairy<br>sigma=%{x}<br>E=%{y}<br>mean_vol=%{marker.size}<br>names=%{customdata[0]}<extra></extra>\", \"legendgroup\": \"Dairy\", \"marker\": {\"color\": \"#FF6692\", \"size\": [60994414.37037037], \"sizemode\": \"area\", \"sizeref\": 879145.9405306121, \"symbol\": \"circle\"}, \"mode\": \"markers\", \"name\": \"Dairy\", \"orientation\": \"v\", \"showlegend\": true, \"type\": \"scatter\", \"x\": [0.025423775382228696], \"xaxis\": \"x\", \"y\": [-0.0013797895655822243], \"yaxis\": \"y\"}, {\"customdata\": [[\"China Shenhua Energy \"], [\"China National Nuclear Power \"]], \"hovertemplate\": \"industry=Energy<br>sigma=%{x}<br>E=%{y}<br>mean_vol=%{marker.size}<br>names=%{customdata[0]}<extra></extra>\", \"legendgroup\": \"Energy\", \"marker\": {\"color\": \"#B6E880\", \"size\": [25894093.942386832, 19626560.423868313], \"sizemode\": \"area\", \"sizeref\": 879145.9405306121, \"symbol\": \"circle\"}, \"mode\": \"markers\", \"name\": \"Energy\", \"orientation\": \"v\", \"showlegend\": true, \"type\": \"scatter\", \"x\": [0.0210134003241338, 0.012881844381876272], \"xaxis\": \"x\", \"y\": [-0.0011651182899613947, -0.0013970965204925408], \"yaxis\": \"y\"}, {\"customdata\": [[\"CITIC Securities\"], [\"Haitong Securities\"], [\"Orient Securities\"], [\"China Merchants Securities\"], [\"Dongxing Securities\"], [\"Guotai Junan Securities\"], [\"Huatai Securities\"], [\"Everbright Securities\"], [\"China Galaxy Securities\"], [\"Founder Securities\"]], \"hovertemplate\": \"industry=Financial services<br>sigma=%{x}<br>E=%{y}<br>mean_vol=%{marker.size}<br>names=%{customdata[0]}<extra></extra>\", \"legendgroup\": \"Financial services\", \"marker\": {\"color\": \"#FF97FF\", \"size\": [112478697.79012346, 42101950.12345679, 15328019.271604938, 12851845.646090535, 13236381.053497942, 21158748.621399175, 49804498.304526746, 12813738.460905349, 23539708.3127572, 17415308.596707817], \"sizemode\": \"area\", \"sizeref\": 879145.9405306121, \"symbol\": \"circle\"}, \"mode\": \"markers\", \"name\": \"Financial services\", \"orientation\": \"v\", \"showlegend\": true, \"type\": \"scatter\", \"x\": [0.021268556796911472, 0.01936497752688617, 0.021780045772568195, 0.019859295432691295, 0.0257137088668738, 0.017949265648675543, 0.0227863561875066, 0.0214391730117627, 0.026516548945434943, 0.020942084626392337], \"xaxis\": \"x\", \"y\": [-0.000583920271841135, -0.0016377380042876272, -0.0023250343216514014, -0.0011125180192215016, -0.0017270217767223256, -0.0008304435852211166, -0.0004399627613632849, -0.0018190183212327092, -0.001822291487934173, -0.0011359037149738418], \"yaxis\": \"y\"}, {\"customdata\": [[\"Ping An Insurance\"], [\"New China Life Insurance\"], [\"China Pacific Insurance\"], [\"China Life Insurance\"]], \"hovertemplate\": \"industry=Insurance<br>sigma=%{x}<br>E=%{y}<br>mean_vol=%{marker.size}<br>names=%{customdata[0]}<extra></extra>\", \"legendgroup\": \"Insurance\", \"marker\": {\"color\": \"#FECB52\", \"size\": [74905882.98353909, 17117463.238683127, 24765406.596707817, 11289268.732510287], \"sizemode\": \"area\", \"sizeref\": 879145.9405306121, \"symbol\": \"circle\"}, \"mode\": \"markers\", \"name\": \"Insurance\", \"orientation\": \"v\", \"showlegend\": true, \"type\": \"scatter\", \"x\": [0.01990338584762517, 0.023704091564784757, 0.024211201600951204, 0.016884383117929797], \"xaxis\": \"x\", \"y\": [-0.0010648402294137973, -0.002140094115393431, -0.0016036343880121383, -0.0016626206563672865], \"yaxis\": \"y\"}, {\"customdata\": [[\"China Northern Rare Earth\"], [\"Shandong Gold Mining\"]], \"hovertemplate\": \"industry=Mining<br>sigma=%{x}<br>E=%{y}<br>mean_vol=%{marker.size}<br>names=%{customdata[0]}<extra></extra>\", \"legendgroup\": \"Mining\", \"marker\": {\"color\": \"#636efa\", \"size\": [38641018.736625515, 26886012.781893004], \"sizemode\": \"area\", \"sizeref\": 879145.9405306121, \"symbol\": \"circle\"}, \"mode\": \"markers\", \"name\": \"Mining\", \"orientation\": \"v\", \"showlegend\": true, \"type\": \"scatter\", \"x\": [0.020895859288782792, 0.022105174718109473], \"xaxis\": \"x\", \"y\": [-0.0021651479257537585, -0.00017519926244947178], \"yaxis\": \"y\"}, {\"customdata\": [[\"Sinopec\"], [\"PetroChina\"]], \"hovertemplate\": \"industry=Oil & gas<br>sigma=%{x}<br>E=%{y}<br>mean_vol=%{marker.size}<br>names=%{customdata[0]}<extra></extra>\", \"legendgroup\": \"Oil & gas\", \"marker\": {\"color\": \"#EF553B\", \"size\": [154901071.28395063, 48295997.0781893], \"sizemode\": \"area\", \"sizeref\": 879145.9405306121, \"symbol\": \"circle\"}, \"mode\": \"markers\", \"name\": \"Oil & gas\", \"orientation\": \"v\", \"showlegend\": true, \"type\": \"scatter\", \"x\": [0.01926795836440376, 0.016499441668100263], \"xaxis\": \"x\", \"y\": [-0.0009595502915781691, -0.0005567943956978943], \"yaxis\": \"y\"}, {\"customdata\": [[\"Kangmei Pharmaceutical\"]], \"hovertemplate\": \"industry=Pharmaceutical<br>sigma=%{x}<br>E=%{y}<br>mean_vol=%{marker.size}<br>names=%{customdata[0]}<extra></extra>\", \"legendgroup\": \"Pharmaceutical\", \"marker\": {\"color\": \"#00cc96\", \"size\": [32556456.53909465], \"sizemode\": \"area\", \"sizeref\": 879145.9405306121, \"symbol\": \"circle\"}, \"mode\": \"markers\", \"name\": \"Pharmaceutical\", \"orientation\": \"v\", \"showlegend\": true, \"type\": \"scatter\", \"x\": [0.024368761009415388], \"xaxis\": \"x\", \"y\": [-0.0036689165742784975], \"yaxis\": \"y\"}, {\"customdata\": [[\"Daqin Railway\"]], \"hovertemplate\": \"industry=Rail transport<br>sigma=%{x}<br>E=%{y}<br>mean_vol=%{marker.size}<br>names=%{customdata[0]}<extra></extra>\", \"legendgroup\": \"Rail transport\", \"marker\": {\"color\": \"#ab63fa\", \"size\": [41069439.251028806], \"sizemode\": \"area\", \"sizeref\": 879145.9405306121, \"symbol\": \"circle\"}, \"mode\": \"markers\", \"name\": \"Rail transport\", \"orientation\": \"v\", \"showlegend\": true, \"type\": \"scatter\", \"x\": [0.015457386925163722], \"xaxis\": \"x\", \"y\": [-0.00042884193418945264], \"yaxis\": \"y\"}, {\"customdata\": [[\"Poly Real Estate\"], [\"China Fortune Land Development\"], [\"Greenland Holdings\"]], \"hovertemplate\": \"industry=Real estate<br>sigma=%{x}<br>E=%{y}<br>mean_vol=%{marker.size}<br>names=%{customdata[0]}<extra></extra>\", \"legendgroup\": \"Real estate\", \"marker\": {\"color\": \"#FFA15A\", \"size\": [104099820.02057613, 22549787.436213993, 72789839.00823045], \"sizemode\": \"area\", \"sizeref\": 879145.9405306121, \"symbol\": \"circle\"}, \"mode\": \"markers\", \"name\": \"Real estate\", \"orientation\": \"v\", \"showlegend\": true, \"type\": \"scatter\", \"x\": [0.02879438529916983, 0.02892914103965568, 0.02104545607178855], \"xaxis\": \"x\", \"y\": [-0.0008890030379346753, -0.0009798026764182102, -0.0010407430925305488], \"yaxis\": \"y\"}, {\"customdata\": [[\"CRRC\"]], \"hovertemplate\": \"industry=Rolling stock<br>sigma=%{x}<br>E=%{y}<br>mean_vol=%{marker.size}<br>names=%{customdata[0]}<extra></extra>\", \"legendgroup\": \"Rolling stock\", \"marker\": {\"color\": \"#19d3f3\", \"size\": [57124025.004115224], \"sizemode\": \"area\", \"sizeref\": 879145.9405306121, \"symbol\": \"circle\"}, \"mode\": \"markers\", \"name\": \"Rolling stock\", \"orientation\": \"v\", \"showlegend\": true, \"type\": \"scatter\", \"x\": [0.01849338614063459], \"xaxis\": \"x\", \"y\": [-0.001430111102396903], \"yaxis\": \"y\"}, {\"customdata\": [[\"China Shipbuilding Industry\"]], \"hovertemplate\": \"industry=Shipbuilding<br>sigma=%{x}<br>E=%{y}<br>mean_vol=%{marker.size}<br>names=%{customdata[0]}<extra></extra>\", \"legendgroup\": \"Shipbuilding\", \"marker\": {\"color\": \"#FF6692\", \"size\": [74848669.50205761], \"sizemode\": \"area\", \"sizeref\": 879145.9405306121, \"symbol\": \"circle\"}, \"mode\": \"markers\", \"name\": \"Shipbuilding\", \"orientation\": \"v\", \"showlegend\": true, \"type\": \"scatter\", \"x\": [0.01644304021192835], \"xaxis\": \"x\", \"y\": [-0.001452417449151541], \"yaxis\": \"y\"}, {\"customdata\": [[\"China United Network Communications\"]], \"hovertemplate\": \"industry=Telecommunication<br>sigma=%{x}<br>E=%{y}<br>mean_vol=%{marker.size}<br>names=%{customdata[0]}<extra></extra>\", \"legendgroup\": \"Telecommunication\", \"marker\": {\"color\": \"#B6E880\", \"size\": [137923049.86419752], \"sizemode\": \"area\", \"sizeref\": 879145.9405306121, \"symbol\": \"circle\"}, \"mode\": \"markers\", \"name\": \"Telecommunication\", \"orientation\": \"v\", \"showlegend\": true, \"type\": \"scatter\", \"x\": [0.020964890111881438], \"xaxis\": \"x\", \"y\": [-0.0009076687839836355], \"yaxis\": \"y\"}, {\"customdata\": [[\"Bank of China Limited\"]], \"hovertemplate\": \"industry=Risk free<br>sigma=%{x}<br>E=%{y}<br>mean_vol=%{marker.size}<br>names=%{customdata[0]}<extra></extra>\", \"legendgroup\": \"Risk free\", \"marker\": {\"color\": \"#FF97FF\", \"size\": [351658376.21224487], \"sizemode\": \"area\", \"sizeref\": 879145.9405306121, \"symbol\": \"circle\"}, \"mode\": \"markers\", \"name\": \"Risk free\", \"orientation\": \"v\", \"showlegend\": true, \"type\": \"scatter\", \"x\": [0.013667503358301308], \"xaxis\": \"x\", \"y\": [-0.0006562331638291557], \"yaxis\": \"y\"}, {\"customdata\": [[\"Index\"]], \"hovertemplate\": \"industry=index<br>sigma=%{x}<br>E=%{y}<br>mean_vol=%{marker.size}<br>names=%{customdata[0]}<extra></extra>\", \"legendgroup\": \"index\", \"marker\": {\"color\": \"#FECB52\", \"size\": [41400.0], \"sizemode\": \"area\", \"sizeref\": 879145.9405306121, \"symbol\": \"circle\"}, \"mode\": \"markers\", \"name\": \"index\", \"orientation\": \"v\", \"showlegend\": true, \"type\": \"scatter\", \"x\": [0.01382184821428148], \"xaxis\": \"x\", \"y\": [-0.0009826937875556342], \"yaxis\": \"y\"}, {\"mode\": \"markers+text\", \"text\": \"Balanced portfolio\", \"textposition\": \"top center\", \"type\": \"scatter\", \"x\": [0.0007021270790274693], \"y\": [-0.0010388652175660155]}, {\"mode\": \"markers+text\", \"text\": \"Index SSE50\", \"textposition\": \"top center\", \"type\": \"scatter\", \"x\": [0.01382184821428148], \"y\": [-0.0009826937875556342]}],\n",
       "                        {\"legend\": {\"itemsizing\": \"constant\", \"title\": {\"text\": \"industry\"}, \"tracegroupgap\": 0}, \"template\": {\"data\": {\"bar\": [{\"error_x\": {\"color\": \"#2a3f5f\"}, \"error_y\": {\"color\": \"#2a3f5f\"}, \"marker\": {\"line\": {\"color\": \"#E5ECF6\", \"width\": 0.5}}, \"type\": \"bar\"}], \"barpolar\": [{\"marker\": {\"line\": {\"color\": \"#E5ECF6\", \"width\": 0.5}}, \"type\": \"barpolar\"}], \"carpet\": [{\"aaxis\": {\"endlinecolor\": \"#2a3f5f\", \"gridcolor\": \"white\", \"linecolor\": \"white\", \"minorgridcolor\": \"white\", \"startlinecolor\": \"#2a3f5f\"}, \"baxis\": {\"endlinecolor\": \"#2a3f5f\", \"gridcolor\": \"white\", \"linecolor\": \"white\", \"minorgridcolor\": \"white\", \"startlinecolor\": \"#2a3f5f\"}, \"type\": \"carpet\"}], \"choropleth\": [{\"colorbar\": {\"outlinewidth\": 0, \"ticks\": \"\"}, \"type\": \"choropleth\"}], \"contour\": [{\"colorbar\": {\"outlinewidth\": 0, \"ticks\": \"\"}, \"colorscale\": [[0.0, \"#0d0887\"], [0.1111111111111111, \"#46039f\"], [0.2222222222222222, \"#7201a8\"], [0.3333333333333333, \"#9c179e\"], [0.4444444444444444, \"#bd3786\"], [0.5555555555555556, \"#d8576b\"], [0.6666666666666666, \"#ed7953\"], [0.7777777777777778, \"#fb9f3a\"], [0.8888888888888888, \"#fdca26\"], [1.0, \"#f0f921\"]], \"type\": \"contour\"}], \"contourcarpet\": [{\"colorbar\": {\"outlinewidth\": 0, \"ticks\": \"\"}, \"type\": \"contourcarpet\"}], \"heatmap\": [{\"colorbar\": {\"outlinewidth\": 0, \"ticks\": \"\"}, \"colorscale\": [[0.0, \"#0d0887\"], [0.1111111111111111, \"#46039f\"], [0.2222222222222222, \"#7201a8\"], [0.3333333333333333, \"#9c179e\"], [0.4444444444444444, \"#bd3786\"], [0.5555555555555556, \"#d8576b\"], [0.6666666666666666, \"#ed7953\"], [0.7777777777777778, \"#fb9f3a\"], [0.8888888888888888, \"#fdca26\"], [1.0, \"#f0f921\"]], \"type\": \"heatmap\"}], \"heatmapgl\": [{\"colorbar\": {\"outlinewidth\": 0, \"ticks\": \"\"}, \"colorscale\": [[0.0, \"#0d0887\"], [0.1111111111111111, \"#46039f\"], [0.2222222222222222, \"#7201a8\"], [0.3333333333333333, \"#9c179e\"], [0.4444444444444444, \"#bd3786\"], [0.5555555555555556, \"#d8576b\"], [0.6666666666666666, \"#ed7953\"], [0.7777777777777778, \"#fb9f3a\"], [0.8888888888888888, \"#fdca26\"], [1.0, \"#f0f921\"]], \"type\": \"heatmapgl\"}], \"histogram\": [{\"marker\": {\"colorbar\": {\"outlinewidth\": 0, \"ticks\": \"\"}}, \"type\": \"histogram\"}], \"histogram2d\": [{\"colorbar\": {\"outlinewidth\": 0, \"ticks\": \"\"}, \"colorscale\": [[0.0, \"#0d0887\"], [0.1111111111111111, \"#46039f\"], [0.2222222222222222, \"#7201a8\"], [0.3333333333333333, \"#9c179e\"], [0.4444444444444444, \"#bd3786\"], [0.5555555555555556, \"#d8576b\"], [0.6666666666666666, \"#ed7953\"], [0.7777777777777778, \"#fb9f3a\"], [0.8888888888888888, \"#fdca26\"], [1.0, \"#f0f921\"]], \"type\": \"histogram2d\"}], \"histogram2dcontour\": [{\"colorbar\": {\"outlinewidth\": 0, \"ticks\": \"\"}, \"colorscale\": [[0.0, \"#0d0887\"], [0.1111111111111111, \"#46039f\"], [0.2222222222222222, \"#7201a8\"], [0.3333333333333333, \"#9c179e\"], [0.4444444444444444, \"#bd3786\"], [0.5555555555555556, \"#d8576b\"], [0.6666666666666666, \"#ed7953\"], [0.7777777777777778, \"#fb9f3a\"], [0.8888888888888888, \"#fdca26\"], [1.0, \"#f0f921\"]], \"type\": \"histogram2dcontour\"}], \"mesh3d\": [{\"colorbar\": {\"outlinewidth\": 0, \"ticks\": \"\"}, \"type\": \"mesh3d\"}], \"parcoords\": [{\"line\": {\"colorbar\": {\"outlinewidth\": 0, \"ticks\": \"\"}}, \"type\": \"parcoords\"}], \"pie\": [{\"automargin\": true, \"type\": \"pie\"}], \"scatter\": [{\"marker\": {\"colorbar\": {\"outlinewidth\": 0, \"ticks\": \"\"}}, \"type\": \"scatter\"}], \"scatter3d\": [{\"line\": {\"colorbar\": {\"outlinewidth\": 0, \"ticks\": \"\"}}, \"marker\": {\"colorbar\": {\"outlinewidth\": 0, \"ticks\": \"\"}}, \"type\": \"scatter3d\"}], \"scattercarpet\": [{\"marker\": {\"colorbar\": {\"outlinewidth\": 0, \"ticks\": \"\"}}, \"type\": \"scattercarpet\"}], \"scattergeo\": [{\"marker\": {\"colorbar\": {\"outlinewidth\": 0, \"ticks\": \"\"}}, \"type\": \"scattergeo\"}], \"scattergl\": [{\"marker\": {\"colorbar\": {\"outlinewidth\": 0, \"ticks\": \"\"}}, \"type\": \"scattergl\"}], \"scattermapbox\": [{\"marker\": {\"colorbar\": {\"outlinewidth\": 0, \"ticks\": \"\"}}, \"type\": \"scattermapbox\"}], \"scatterpolar\": [{\"marker\": {\"colorbar\": {\"outlinewidth\": 0, \"ticks\": \"\"}}, \"type\": \"scatterpolar\"}], \"scatterpolargl\": [{\"marker\": {\"colorbar\": {\"outlinewidth\": 0, \"ticks\": \"\"}}, \"type\": \"scatterpolargl\"}], \"scatterternary\": [{\"marker\": {\"colorbar\": {\"outlinewidth\": 0, \"ticks\": \"\"}}, \"type\": \"scatterternary\"}], \"surface\": [{\"colorbar\": {\"outlinewidth\": 0, \"ticks\": \"\"}, \"colorscale\": [[0.0, \"#0d0887\"], [0.1111111111111111, \"#46039f\"], [0.2222222222222222, \"#7201a8\"], [0.3333333333333333, \"#9c179e\"], [0.4444444444444444, \"#bd3786\"], [0.5555555555555556, \"#d8576b\"], [0.6666666666666666, \"#ed7953\"], [0.7777777777777778, \"#fb9f3a\"], [0.8888888888888888, \"#fdca26\"], [1.0, \"#f0f921\"]], \"type\": \"surface\"}], \"table\": [{\"cells\": {\"fill\": {\"color\": \"#EBF0F8\"}, \"line\": {\"color\": \"white\"}}, \"header\": {\"fill\": {\"color\": \"#C8D4E3\"}, \"line\": {\"color\": \"white\"}}, \"type\": \"table\"}]}, \"layout\": {\"annotationdefaults\": {\"arrowcolor\": \"#2a3f5f\", \"arrowhead\": 0, \"arrowwidth\": 1}, \"coloraxis\": {\"colorbar\": {\"outlinewidth\": 0, \"ticks\": \"\"}}, \"colorscale\": {\"diverging\": [[0, \"#8e0152\"], [0.1, \"#c51b7d\"], [0.2, \"#de77ae\"], [0.3, \"#f1b6da\"], [0.4, \"#fde0ef\"], [0.5, \"#f7f7f7\"], [0.6, \"#e6f5d0\"], [0.7, \"#b8e186\"], [0.8, \"#7fbc41\"], [0.9, \"#4d9221\"], [1, \"#276419\"]], \"sequential\": [[0.0, \"#0d0887\"], [0.1111111111111111, \"#46039f\"], [0.2222222222222222, \"#7201a8\"], [0.3333333333333333, \"#9c179e\"], [0.4444444444444444, \"#bd3786\"], [0.5555555555555556, \"#d8576b\"], [0.6666666666666666, \"#ed7953\"], [0.7777777777777778, \"#fb9f3a\"], [0.8888888888888888, \"#fdca26\"], [1.0, \"#f0f921\"]], \"sequentialminus\": [[0.0, \"#0d0887\"], [0.1111111111111111, \"#46039f\"], [0.2222222222222222, \"#7201a8\"], [0.3333333333333333, \"#9c179e\"], [0.4444444444444444, \"#bd3786\"], [0.5555555555555556, \"#d8576b\"], [0.6666666666666666, \"#ed7953\"], [0.7777777777777778, \"#fb9f3a\"], [0.8888888888888888, \"#fdca26\"], [1.0, \"#f0f921\"]]}, \"colorway\": [\"#636efa\", \"#EF553B\", \"#00cc96\", \"#ab63fa\", \"#FFA15A\", \"#19d3f3\", \"#FF6692\", \"#B6E880\", \"#FF97FF\", \"#FECB52\"], \"font\": {\"color\": \"#2a3f5f\"}, \"geo\": {\"bgcolor\": \"white\", \"lakecolor\": \"white\", \"landcolor\": \"#E5ECF6\", \"showlakes\": true, \"showland\": true, \"subunitcolor\": \"white\"}, \"hoverlabel\": {\"align\": \"left\"}, \"hovermode\": \"closest\", \"mapbox\": {\"style\": \"light\"}, \"paper_bgcolor\": \"white\", \"plot_bgcolor\": \"#E5ECF6\", \"polar\": {\"angularaxis\": {\"gridcolor\": \"white\", \"linecolor\": \"white\", \"ticks\": \"\"}, \"bgcolor\": \"#E5ECF6\", \"radialaxis\": {\"gridcolor\": \"white\", \"linecolor\": \"white\", \"ticks\": \"\"}}, \"scene\": {\"xaxis\": {\"backgroundcolor\": \"#E5ECF6\", \"gridcolor\": \"white\", \"gridwidth\": 2, \"linecolor\": \"white\", \"showbackground\": true, \"ticks\": \"\", \"zerolinecolor\": \"white\"}, \"yaxis\": {\"backgroundcolor\": \"#E5ECF6\", \"gridcolor\": \"white\", \"gridwidth\": 2, \"linecolor\": \"white\", \"showbackground\": true, \"ticks\": \"\", \"zerolinecolor\": \"white\"}, \"zaxis\": {\"backgroundcolor\": \"#E5ECF6\", \"gridcolor\": \"white\", \"gridwidth\": 2, \"linecolor\": \"white\", \"showbackground\": true, \"ticks\": \"\", \"zerolinecolor\": \"white\"}}, \"shapedefaults\": {\"line\": {\"color\": \"#2a3f5f\"}}, \"ternary\": {\"aaxis\": {\"gridcolor\": \"white\", \"linecolor\": \"white\", \"ticks\": \"\"}, \"baxis\": {\"gridcolor\": \"white\", \"linecolor\": \"white\", \"ticks\": \"\"}, \"bgcolor\": \"#E5ECF6\", \"caxis\": {\"gridcolor\": \"white\", \"linecolor\": \"white\", \"ticks\": \"\"}}, \"title\": {\"x\": 0.05}, \"xaxis\": {\"automargin\": true, \"gridcolor\": \"white\", \"linecolor\": \"white\", \"ticks\": \"\", \"title\": {\"standoff\": 15}, \"zerolinecolor\": \"white\", \"zerolinewidth\": 2}, \"yaxis\": {\"automargin\": true, \"gridcolor\": \"white\", \"linecolor\": \"white\", \"ticks\": \"\", \"title\": {\"standoff\": 15}, \"zerolinecolor\": \"white\", \"zerolinewidth\": 2}}}, \"title\": {\"text\": \"E, Risk\"}, \"xaxis\": {\"anchor\": \"y\", \"domain\": [0.0, 1.0], \"title\": {\"text\": \"sigma\"}}, \"yaxis\": {\"anchor\": \"x\", \"domain\": [0.0, 1.0], \"title\": {\"text\": \"E\"}}},\n",
       "                        {\"responsive\": true}\n",
       "                    ).then(function(){\n",
       "                            \n",
       "var gd = document.getElementById('b490cff6-5656-4771-9cd2-857036538bea');\n",
       "var x = new MutationObserver(function (mutations, observer) {{\n",
       "        var display = window.getComputedStyle(gd).display;\n",
       "        if (!display || display === 'none') {{\n",
       "            console.log([gd, 'removed!']);\n",
       "            Plotly.purge(gd);\n",
       "            observer.disconnect();\n",
       "        }}\n",
       "}});\n",
       "\n",
       "// Listen for the removal of the full notebook cells\n",
       "var notebookContainer = gd.closest('#notebook-container');\n",
       "if (notebookContainer) {{\n",
       "    x.observe(notebookContainer, {childList: true});\n",
       "}}\n",
       "\n",
       "// Listen for the clearing of the current output cell\n",
       "var outputEl = gd.closest('.output');\n",
       "if (outputEl) {{\n",
       "    x.observe(outputEl, {childList: true});\n",
       "}}\n",
       "\n",
       "                        })\n",
       "                };\n",
       "                });\n",
       "            </script>\n",
       "        </div>"
      ]
     },
     "metadata": {},
     "output_type": "display_data"
    }
   ],
   "source": [
    "fig = px.scatter(stocks_stat, x=\"sigma\", y=\"E\", hover_data=[\"names\"], color=\"industry\",title=\"E, Risk\", size=\"mean_vol\")\n",
    "\n",
    "E_balanced = stocks_stat['E'].mean()\n",
    "sigma_balanced = abs(np.sqrt(np.cov(stocks_stat['mean_log_R'])))\n",
    "vol_balanced = stocks_stat['mean_vol'].mean()\n",
    "\n",
    "fig.add_trace(go.Scatter(\n",
    "    x=[sigma_balanced],\n",
    "    y=[E_balanced],\n",
    "    mode=\"markers+text\",\n",
    "    #name=\"index\",\n",
    "    text='Balanced portfolio',\n",
    "    textposition=\"top center\"\n",
    "))\n",
    "fig.add_trace(go.Scatter(\n",
    "    x=stocks_stat[stocks_stat.names == 'Index']['sigma'].values,\n",
    "    y=stocks_stat[stocks_stat.names == 'Index']['E'].values,\n",
    "    mode=\"markers+text\",\n",
    "    #name=\"index\",\n",
    "    text='Index SSE50',\n",
    "    textposition=\"top center\"\n",
    "))\n",
    "fig.show()\n",
    "pio.write_html(fig, file='report/fig1.html', auto_open=True)"
   ]
  },
  {
   "cell_type": "markdown",
   "metadata": {},
   "source": [
    "## Задание 3-4 (Характеристика индекса рынка  сбалансированного портфеля)\n",
    "\n",
    "- Индекс рынка SSE50 - индекс топ-50 компаний Shanghai Stock Exchange, отобранных по \"отрегулированной\" (float-adjusted) капитализации и другим признакам. На графике (fig1.htaml) можно заметить, что индекс (точка Index SSE50) находится в зоне наибольшей концентрации активов ($\\sigma [0.01, 0.02], E [-0.0015, 0]$) и тем самым отражает поведение наиболее значимых активов рынка (рамер точки - средний объём продаж за 2018 год), которые принадлежат банкам (см. легенду графика).\n",
    "\n",
    "- Сбалансированный портфель представляет собой равнодолевой портфель из всех активов индекса SSE50. Стоит отметить, что равнодолевой портфель с успехом деверсифицирует риск акций SSE50 и вложение в него более выгодно, чем в индекс рынка. Для объяснения этого предположения обратимся к определению индекса SSE50: \"SSE 50 Index is the stock index of Shanghai Stock Exchange, representing the top 50 companies by \"float-adjusted\" capitalization and other criteria. In order to qualify as a constituent of SSE 50 Index, it must be a constituent of SSE 180 Index, thus SSE 50 is a subindex of SSE 180 Index.\"(Wiki). Т.е веса, которые даны активам в SSE50, которые должны отражать тенденции SSE180 и всего SSE нацелены на отражение тенденций, что и показано на графике. Если же мы рассматриваем целесообразность инвестиций, то для нас больший интерес представляет равнодолевой портфель, т.к он находится на одном уровне доходности с индексом SSE50, но имеет практически минимальный риск.\n",
    "\n"
   ]
  },
  {
   "cell_type": "markdown",
   "metadata": {},
   "source": [
    "7. Выберите несколько интересных (значимых) активов рынка из разных производственных секторов. В предположении, что наблюдаемые доходности (объемы продаж) являются повторной выборкой из некоторого распределения исследовать (выборочно) распределения доходностей и объемов продаж выбранных активов. Сделать выводы."
   ]
  },
  {
   "cell_type": "markdown",
   "metadata": {},
   "source": [
    "Для отбора значимых активов используется кэффициент sharp-ratio (1966) $S=\\frac{R_a−R_f}{σ_a}$, где $r_f$ - доходность безрискового актива (взята доходность Национального Банка Китая ($Bank of China Limited$))."
   ]
  },
  {
   "cell_type": "code",
   "execution_count": 49,
   "metadata": {},
   "outputs": [
    {
     "data": {
      "text/html": [
       "<div>\n",
       "<style scoped>\n",
       "    .dataframe tbody tr th:only-of-type {\n",
       "        vertical-align: middle;\n",
       "    }\n",
       "\n",
       "    .dataframe tbody tr th {\n",
       "        vertical-align: top;\n",
       "    }\n",
       "\n",
       "    .dataframe thead th {\n",
       "        text-align: right;\n",
       "    }\n",
       "</style>\n",
       "<table border=\"1\" class=\"dataframe\">\n",
       "  <thead>\n",
       "    <tr style=\"text-align: right;\">\n",
       "      <th></th>\n",
       "      <th>sigma</th>\n",
       "      <th>E</th>\n",
       "      <th>names</th>\n",
       "      <th>mean_vol</th>\n",
       "      <th>mean_log_R</th>\n",
       "      <th>industry</th>\n",
       "      <th>S</th>\n",
       "    </tr>\n",
       "  </thead>\n",
       "  <tbody>\n",
       "    <tr>\n",
       "      <th>29</th>\n",
       "      <td>0.022786</td>\n",
       "      <td>-0.000440</td>\n",
       "      <td>Huatai Securities</td>\n",
       "      <td>4.980450e+07</td>\n",
       "      <td>-0.000440</td>\n",
       "      <td>Financial services</td>\n",
       "      <td>0.009491</td>\n",
       "    </tr>\n",
       "    <tr>\n",
       "      <th>42</th>\n",
       "      <td>0.015457</td>\n",
       "      <td>-0.000429</td>\n",
       "      <td>Daqin Railway</td>\n",
       "      <td>4.106944e+07</td>\n",
       "      <td>-0.000429</td>\n",
       "      <td>Rail transport</td>\n",
       "      <td>0.014711</td>\n",
       "    </tr>\n",
       "    <tr>\n",
       "      <th>13</th>\n",
       "      <td>0.014227</td>\n",
       "      <td>-0.000404</td>\n",
       "      <td>China Everbright Bank</td>\n",
       "      <td>1.007116e+08</td>\n",
       "      <td>-0.000404</td>\n",
       "      <td>Banking</td>\n",
       "      <td>0.017730</td>\n",
       "    </tr>\n",
       "    <tr>\n",
       "      <th>14</th>\n",
       "      <td>0.013035</td>\n",
       "      <td>-0.000403</td>\n",
       "      <td>Bank of China</td>\n",
       "      <td>1.560815e+08</td>\n",
       "      <td>-0.000403</td>\n",
       "      <td>Banking</td>\n",
       "      <td>0.019413</td>\n",
       "    </tr>\n",
       "    <tr>\n",
       "      <th>16</th>\n",
       "      <td>0.022811</td>\n",
       "      <td>-0.000200</td>\n",
       "      <td>China Railway Construction</td>\n",
       "      <td>4.434866e+07</td>\n",
       "      <td>-0.000200</td>\n",
       "      <td>Construction</td>\n",
       "      <td>0.019986</td>\n",
       "    </tr>\n",
       "    <tr>\n",
       "      <th>38</th>\n",
       "      <td>0.022105</td>\n",
       "      <td>-0.000175</td>\n",
       "      <td>Shandong Gold Mining</td>\n",
       "      <td>2.688601e+07</td>\n",
       "      <td>-0.000175</td>\n",
       "      <td>Mining</td>\n",
       "      <td>0.021761</td>\n",
       "    </tr>\n",
       "    <tr>\n",
       "      <th>10</th>\n",
       "      <td>0.015355</td>\n",
       "      <td>-0.000277</td>\n",
       "      <td>Agricultural Bank of China</td>\n",
       "      <td>3.317504e+08</td>\n",
       "      <td>-0.000277</td>\n",
       "      <td>Banking</td>\n",
       "      <td>0.024670</td>\n",
       "    </tr>\n",
       "    <tr>\n",
       "      <th>11</th>\n",
       "      <td>0.012251</td>\n",
       "      <td>-0.000336</td>\n",
       "      <td>Bank of Communications</td>\n",
       "      <td>9.692052e+07</td>\n",
       "      <td>-0.000336</td>\n",
       "      <td>Banking</td>\n",
       "      <td>0.026165</td>\n",
       "    </tr>\n",
       "    <tr>\n",
       "      <th>0</th>\n",
       "      <td>0.023398</td>\n",
       "      <td>-0.000042</td>\n",
       "      <td>Tsinghua Tongfang</td>\n",
       "      <td>1.591310e+07</td>\n",
       "      <td>-0.000042</td>\n",
       "      <td>Other</td>\n",
       "      <td>0.026241</td>\n",
       "    </tr>\n",
       "    <tr>\n",
       "      <th>9</th>\n",
       "      <td>0.014491</td>\n",
       "      <td>0.000351</td>\n",
       "      <td>Bank of Shanghai</td>\n",
       "      <td>3.694606e+07</td>\n",
       "      <td>0.000351</td>\n",
       "      <td>Banking</td>\n",
       "      <td>0.069511</td>\n",
       "    </tr>\n",
       "  </tbody>\n",
       "</table>\n",
       "</div>"
      ],
      "text/plain": [
       "       sigma         E                        names      mean_vol  mean_log_R  \\\n",
       "29  0.022786 -0.000440            Huatai Securities  4.980450e+07   -0.000440   \n",
       "42  0.015457 -0.000429                Daqin Railway  4.106944e+07   -0.000429   \n",
       "13  0.014227 -0.000404        China Everbright Bank  1.007116e+08   -0.000404   \n",
       "14  0.013035 -0.000403                Bank of China  1.560815e+08   -0.000403   \n",
       "16  0.022811 -0.000200  China Railway Construction   4.434866e+07   -0.000200   \n",
       "38  0.022105 -0.000175         Shandong Gold Mining  2.688601e+07   -0.000175   \n",
       "10  0.015355 -0.000277   Agricultural Bank of China  3.317504e+08   -0.000277   \n",
       "11  0.012251 -0.000336       Bank of Communications  9.692052e+07   -0.000336   \n",
       "0   0.023398 -0.000042            Tsinghua Tongfang  1.591310e+07   -0.000042   \n",
       "9   0.014491  0.000351             Bank of Shanghai  3.694606e+07    0.000351   \n",
       "\n",
       "              industry         S  \n",
       "29  Financial services  0.009491  \n",
       "42      Rail transport  0.014711  \n",
       "13             Banking  0.017730  \n",
       "14             Banking  0.019413  \n",
       "16        Construction  0.019986  \n",
       "38              Mining  0.021761  \n",
       "10             Banking  0.024670  \n",
       "11             Banking  0.026165  \n",
       "0                Other  0.026241  \n",
       "9              Banking  0.069511  "
      ]
     },
     "execution_count": 49,
     "metadata": {},
     "output_type": "execute_result"
    }
   ],
   "source": [
    "stocks_stat['S'] = (stocks_stat['mean_log_R'] - stocks_stat[stocks_stat.industry == 'Risk free']['mean_log_R'].values)/stocks_stat['sigma']\n",
    "stocks_stat.sort_values(by='S')[-10:]"
   ]
  },
  {
   "cell_type": "markdown",
   "metadata": {},
   "source": [
    "Ожидаемо в список самых значимых активов по показателю sharp ratio вошло много банковских компаний (5/10), из этого списка взяты 5 остальных компаний и один банк в качестве значимых активов.\n",
    "\n",
    "// Удаляем из топ-10 компаний по sharp-ratio все банки, кроме Bank of Shanghai (максимальный sharp-ratio)"
   ]
  },
  {
   "cell_type": "code",
   "execution_count": 72,
   "metadata": {},
   "outputs": [],
   "source": [
    "top_sharp_ratio = stocks_stat.sort_values(by='S')[-10:]\n",
    "banking_index = top_sharp_ratio[top_sharp_ratio.industry == 'Banking'].index ^ [top_sharp_ratio['S'].argmax()]\n",
    "top_sharp_ratio = top_sharp_ratio.drop(banking_index)\n",
    "stocks_names = list(top_sharp_ratio['industry'] + '/' + top_sharp_ratio['names'])"
   ]
  },
  {
   "cell_type": "markdown",
   "metadata": {},
   "source": [
    "Сформированный список активов, наиболее интересных к рассмотрению ('Название области/Название компании')"
   ]
  },
  {
   "cell_type": "code",
   "execution_count": 73,
   "metadata": {},
   "outputs": [
    {
     "data": {
      "text/plain": [
       "['Financial services/Huatai Securities',\n",
       " 'Rail transport/Daqin Railway',\n",
       " 'Construction/China Railway Construction ',\n",
       " 'Mining/Shandong Gold Mining',\n",
       " 'Other/Tsinghua Tongfang',\n",
       " 'Banking/Bank of Shanghai']"
      ]
     },
     "execution_count": 73,
     "metadata": {},
     "output_type": "execute_result"
    }
   ],
   "source": [
    "stocks_names"
   ]
  },
  {
   "cell_type": "markdown",
   "metadata": {},
   "source": [
    "Предположим, что доходности выбранных активов имеют нормальное распределение, построим гистограммы доходностей."
   ]
  },
  {
   "cell_type": "code",
   "execution_count": 125,
   "metadata": {},
   "outputs": [],
   "source": [
    "def plot_R_vs_Norm_distribution(label, column):\n",
    "    stock = stocks[label]\n",
    "    stock[column].hist(bins=50, normed=True,histtype=\"stepfilled\",alpha=0.5)\n",
    "    E = stock[column].mean()\n",
    "    sigma = stock[column].std()\n",
    "    x = np.linspace(E - 3*sigma, E+3*sigma,100)\n",
    "    plt.plot(x, scipy.stats.norm.pdf(x, E, sigma), \"r\")\n",
    "    plt.title(\"{} {} ({} industry) vs. normal distribution\".format(label.split('/')[1], column, label.split('/')[0]))\n",
    "    plt.show()"
   ]
  },
  {
   "cell_type": "code",
   "execution_count": 126,
   "metadata": {
    "scrolled": true
   },
   "outputs": [
    {
     "data": {
      "image/png": "[encoded data removed]",
      "text/plain": [
       "<Figure size 432x288 with 1 Axes>"
      ]
     },
     "metadata": {
      "needs_background": "light"
     },
     "output_type": "display_data"
    },
    {
     "data": {
      "image/png": "[encoded data removed]",
      "text/plain": [
       "<Figure size 432x288 with 1 Axes>"
      ]
     },
     "metadata": {
      "needs_background": "light"
     },
     "output_type": "display_data"
    },
    {
     "data": {
      "image/png": "[encoded data removed]",
      "text/plain": [
       "<Figure size 432x288 with 1 Axes>"
      ]
     },
     "metadata": {
      "needs_background": "light"
     },
     "output_type": "display_data"
    },
    {
     "data": {
      "image/png": "[encoded data removed]",
      "text/plain": [
       "<Figure size 432x288 with 1 Axes>"
      ]
     },
     "metadata": {
      "needs_background": "light"
     },
     "output_type": "display_data"
    },
    {
     "data": {
      "image/png": "[encoded data removed]",
      "text/plain": [
       "<Figure size 432x288 with 1 Axes>"
      ]
     },
     "metadata": {
      "needs_background": "light"
     },
     "output_type": "display_data"
    },
    {
     "data": {
      "image/png": "[encoded data removed]",
      "text/plain": [
       "<Figure size 432x288 with 1 Axes>"
      ]
     },
     "metadata": {
      "needs_background": "light"
     },
     "output_type": "display_data"
    }
   ],
   "source": [
    "for label in stocks_names:\n",
    "    plot_R_vs_Norm_distribution(label, 'Log_R')"
   ]
  },
  {
   "cell_type": "markdown",
   "metadata": {},
   "source": [
    "По построенным графикам нельзя сделать однозначного вывода, построим тесты для проверки гипотезы о нормальности распределения доходности с уровнем значимости $\\alpha = 0.05$. Для тестирования гипотезы будем использовать тесты Шапиро-Вилка, Д'Агостино, Андерсона-Дарлинга"
   ]
  },
  {
   "cell_type": "code",
   "execution_count": 129,
   "metadata": {},
   "outputs": [],
   "source": [
    "from scipy.stats import shapiro, normaltest, anderson\n",
    "tests = {\"Shapiro-test\" : shapiro, \n",
    "         \"D'Agostino-test\" : normaltest,} \n",
    "         # \"Anderson-test\" : anderson}\n",
    "def test_gipothesys(label, column, alfa=0.05):\n",
    "    for test_name, test_f in tests.items():\n",
    "        p_value = test_f(stocks[label][column].dropna())[1]\n",
    "        answer = 'ACCEPTED' if p_value > alfa else 'REJECTED'\n",
    "        print(\"\\t{} {}, p_value = {}\".format(test_name, answer, p_value))"
   ]
  },
  {
   "cell_type": "code",
   "execution_count": 130,
   "metadata": {},
   "outputs": [
    {
     "name": "stdout",
     "output_type": "stream",
     "text": [
      "For Financial services/Huatai Securities:\n",
      "\tShapiro-test REJECTED, p_value = 0.010962826199829578\n",
      "\tD'Agostino-test REJECTED, p_value = 0.014842071233216245\n",
      "For Rail transport/Daqin Railway:\n",
      "\tShapiro-test REJECTED, p_value = 9.847847870503301e-09\n",
      "\tD'Agostino-test REJECTED, p_value = 1.2994019827701504e-16\n",
      "For Construction/China Railway Construction :\n",
      "\tShapiro-test REJECTED, p_value = 2.472685077525849e-11\n",
      "\tD'Agostino-test REJECTED, p_value = 7.339317844232216e-13\n",
      "For Mining/Shandong Gold Mining:\n",
      "\tShapiro-test REJECTED, p_value = 5.3640815167455e-06\n",
      "\tD'Agostino-test REJECTED, p_value = 5.42397013969301e-06\n",
      "For Other/Tsinghua Tongfang:\n",
      "\tShapiro-test REJECTED, p_value = 7.98965720605338e-06\n",
      "\tD'Agostino-test REJECTED, p_value = 5.6629802715501987e-08\n",
      "For Banking/Bank of Shanghai:\n",
      "\tShapiro-test REJECTED, p_value = 0.001083880546502769\n",
      "\tD'Agostino-test REJECTED, p_value = 3.9752703952931525e-05\n"
     ]
    }
   ],
   "source": [
    "for label in stocks_names:\n",
    "    print(\"For {}:\".format(label))\n",
    "    test_gipothesys(label, column='Log_R')"
   ]
  },
  {
   "cell_type": "markdown",
   "metadata": {},
   "source": [
    "Гипотеза о нормальности распределения доходностей не подтвердилась, тесты опровергли гипотезу о нормальности."
   ]
  },
  {
   "cell_type": "markdown",
   "metadata": {},
   "source": [
    "Сделаем аналогичное предположение по поводу объёма продаж."
   ]
  },
  {
   "cell_type": "code",
   "execution_count": 127,
   "metadata": {},
   "outputs": [
    {
     "data": {
      "image/png": "[encoded data removed]",
      "text/plain": [
       "<Figure size 432x288 with 1 Axes>"
      ]
     },
     "metadata": {
      "needs_background": "light"
     },
     "output_type": "display_data"
    },
    {
     "data": {
      "image/png": "[encoded data removed]",
      "text/plain": [
       "<Figure size 432x288 with 1 Axes>"
      ]
     },
     "metadata": {
      "needs_background": "light"
     },
     "output_type": "display_data"
    },
    {
     "data": {
      "image/png": "[encoded data removed]",
      "text/plain": [
       "<Figure size 432x288 with 1 Axes>"
      ]
     },
     "metadata": {
      "needs_background": "light"
     },
     "output_type": "display_data"
    },
    {
     "data": {
      "image/png": "[encoded data removed]",
      "text/plain": [
       "<Figure size 432x288 with 1 Axes>"
      ]
     },
     "metadata": {
      "needs_background": "light"
     },
     "output_type": "display_data"
    },
    {
     "data": {
      "image/png": "[encoded data removed]",
      "text/plain": [
       "<Figure size 432x288 with 1 Axes>"
      ]
     },
     "metadata": {
      "needs_background": "light"
     },
     "output_type": "display_data"
    },
    {
     "data": {
      "image/png": "[encoded data removed]",
      "text/plain": [
       "<Figure size 432x288 with 1 Axes>"
      ]
     },
     "metadata": {
      "needs_background": "light"
     },
     "output_type": "display_data"
    }
   ],
   "source": [
    "for label in stocks_names:\n",
    "    plot_R_vs_Norm_distribution(label, 'Volume')"
   ]
  },
  {
   "cell_type": "code",
   "execution_count": 131,
   "metadata": {},
   "outputs": [
    {
     "name": "stdout",
     "output_type": "stream",
     "text": [
      "For Financial services/Huatai Securities:\n",
      "\tShapiro-test REJECTED, p_value = 3.3945309111754708e-15\n",
      "\tD'Agostino-test REJECTED, p_value = 7.769953622665247e-26\n",
      "For Rail transport/Daqin Railway:\n",
      "\tShapiro-test REJECTED, p_value = 1.6161185974361975e-18\n",
      "\tD'Agostino-test REJECTED, p_value = 2.754579650556506e-26\n",
      "For Construction/China Railway Construction :\n",
      "\tShapiro-test REJECTED, p_value = 9.798687198008665e-14\n",
      "\tD'Agostino-test REJECTED, p_value = 5.006905574397669e-13\n",
      "For Mining/Shandong Gold Mining:\n",
      "\tShapiro-test REJECTED, p_value = 1.4062906858436884e-15\n",
      "\tD'Agostino-test REJECTED, p_value = 2.644208444336112e-24\n",
      "For Other/Tsinghua Tongfang:\n",
      "\tShapiro-test REJECTED, p_value = 1.5886628185443374e-18\n",
      "\tD'Agostino-test REJECTED, p_value = 2.8202860910262637e-34\n",
      "For Banking/Bank of Shanghai:\n",
      "\tShapiro-test REJECTED, p_value = 6.047082057642601e-22\n",
      "\tD'Agostino-test REJECTED, p_value = 3.346898233811604e-42\n"
     ]
    }
   ],
   "source": [
    "for label in stocks_names:\n",
    "    print(\"For {}:\".format(label))\n",
    "    test_gipothesys(label, column='Volume')"
   ]
  },
  {
   "cell_type": "markdown",
   "metadata": {},
   "source": [
    "Объём продаж выбранных активов также не имеет нормального распределения."
   ]
  },
  {
   "cell_type": "code",
   "execution_count": 267,
   "metadata": {},
   "outputs": [
    {
     "data": {
      "application/vnd.plotly.v1+json": {
       "config": {
        "plotlyServerURL": "https://plot.ly"
       },
       "data": [
        {
         "hovertemplate": "Names=Mining/Shandong Gold Mining<br>Time=%{x}<br>Log_R=%{y}<extra></extra>",
         "legendgroup": "Mining/Shandong Gold Mining",
         "line": {
          "color": "#636efa",
          "dash": "solid"
         },
         "mode": "lines",
         "name": "Mining/Shandong Gold Mining",
         "orientation": "v",
         "showlegend": true,
         "type": "scatter",
         "x": [
          "2018-01-02T00:00:00",
          "2018-01-03T00:00:00",
          "2018-01-04T00:00:00",
          "2018-01-05T00:00:00",
          "2018-01-08T00:00:00",
          "2018-01-09T00:00:00",
          "2018-01-10T00:00:00",
          "2018-01-11T00:00:00",
          "2018-01-12T00:00:00",
          "2018-01-15T00:00:00",
          "2018-01-16T00:00:00",
          "2018-01-17T00:00:00",
          "2018-01-18T00:00:00",
          "2018-01-19T00:00:00",
          "2018-01-22T00:00:00",
          "2018-01-23T00:00:00",
          "2018-01-24T00:00:00",
          "2018-01-25T00:00:00",
          "2018-01-26T00:00:00",
          "2018-01-29T00:00:00",
          "2018-01-30T00:00:00",
          "2018-01-31T00:00:00",
          "2018-02-01T00:00:00",
          "2018-02-02T00:00:00",
          "2018-02-05T00:00:00",
          "2018-02-06T00:00:00",
          "2018-02-07T00:00:00",
          "2018-02-08T00:00:00",
          "2018-02-09T00:00:00",
          "2018-02-12T00:00:00",
          "2018-02-13T00:00:00",
          "2018-02-14T00:00:00",
          "2018-02-22T00:00:00",
          "2018-02-23T00:00:00",
          "2018-02-26T00:00:00",
          "2018-02-27T00:00:00",
          "2018-02-28T00:00:00",
          "2018-03-01T00:00:00",
          "2018-03-02T00:00:00",
          "2018-03-05T00:00:00",
          "2018-03-06T00:00:00",
          "2018-03-07T00:00:00",
          "2018-03-08T00:00:00",
          "2018-03-09T00:00:00",
          "2018-03-12T00:00:00",
          "2018-03-13T00:00:00",
          "2018-03-14T00:00:00",
          "2018-03-15T00:00:00",
          "2018-03-16T00:00:00",
          "2018-03-19T00:00:00",
          "2018-03-20T00:00:00",
          "2018-03-21T00:00:00",
          "2018-03-22T00:00:00",
          "2018-03-23T00:00:00",
          "2018-03-26T00:00:00",
          "2018-03-27T00:00:00",
          "2018-03-28T00:00:00",
          "2018-03-29T00:00:00",
          "2018-03-30T00:00:00",
          "2018-04-02T00:00:00",
          "2018-04-03T00:00:00",
          "2018-04-04T00:00:00",
          "2018-04-09T00:00:00",
          "2018-04-10T00:00:00",
          "2018-04-11T00:00:00",
          "2018-04-12T00:00:00",
          "2018-04-13T00:00:00",
          "2018-04-16T00:00:00",
          "2018-04-17T00:00:00",
          "2018-04-18T00:00:00",
          "2018-04-19T00:00:00",
          "2018-04-20T00:00:00",
          "2018-04-23T00:00:00",
          "2018-04-24T00:00:00",
          "2018-04-25T00:00:00",
          "2018-04-26T00:00:00",
          "2018-04-27T00:00:00",
          "2018-05-02T00:00:00",
          "2018-05-03T00:00:00",
          "2018-05-04T00:00:00",
          "2018-05-07T00:00:00",
          "2018-05-08T00:00:00",
          "2018-05-09T00:00:00",
          "2018-05-10T00:00:00",
          "2018-05-11T00:00:00",
          "2018-05-14T00:00:00",
          "2018-05-15T00:00:00",
          "2018-05-16T00:00:00",
          "2018-05-17T00:00:00",
          "2018-05-18T00:00:00",
          "2018-05-21T00:00:00",
          "2018-05-22T00:00:00",
          "2018-05-23T00:00:00",
          "2018-05-24T00:00:00",
          "2018-05-25T00:00:00",
          "2018-05-28T00:00:00",
          "2018-05-29T00:00:00",
          "2018-05-30T00:00:00",
          "2018-05-31T00:00:00",
          "2018-06-01T00:00:00",
          "2018-06-04T00:00:00",
          "2018-06-05T00:00:00",
          "2018-06-06T00:00:00",
          "2018-06-07T00:00:00",
          "2018-06-08T00:00:00",
          "2018-06-11T00:00:00",
          "2018-06-12T00:00:00",
          "2018-06-13T00:00:00",
          "2018-06-14T00:00:00",
          "2018-06-15T00:00:00",
          "2018-06-19T00:00:00",
          "2018-06-20T00:00:00",
          "2018-06-21T00:00:00",
          "2018-06-22T00:00:00",
          "2018-06-25T00:00:00",
          "2018-06-26T00:00:00",
          "2018-06-27T00:00:00",
          "2018-06-28T00:00:00",
          "2018-06-29T00:00:00",
          "2018-07-02T00:00:00",
          "2018-07-03T00:00:00",
          "2018-07-04T00:00:00",
          "2018-07-05T00:00:00",
          "2018-07-06T00:00:00",
          "2018-07-09T00:00:00",
          "2018-07-10T00:00:00",
          "2018-07-11T00:00:00",
          "2018-07-12T00:00:00",
          "2018-07-13T00:00:00",
          "2018-07-16T00:00:00",
          "2018-07-17T00:00:00",
          "2018-07-18T00:00:00",
          "2018-07-19T00:00:00",
          "2018-07-20T00:00:00",
          "2018-07-23T00:00:00",
          "2018-07-24T00:00:00",
          "2018-07-25T00:00:00",
          "2018-07-26T00:00:00",
          "2018-07-27T00:00:00",
          "2018-07-30T00:00:00",
          "2018-07-31T00:00:00",
          "2018-08-01T00:00:00",
          "2018-08-02T00:00:00",
          "2018-08-03T00:00:00",
          "2018-08-06T00:00:00",
          "2018-08-07T00:00:00",
          "2018-08-08T00:00:00",
          "2018-08-09T00:00:00",
          "2018-08-10T00:00:00",
          "2018-08-13T00:00:00",
          "2018-08-14T00:00:00",
          "2018-08-15T00:00:00",
          "2018-08-16T00:00:00",
          "2018-08-17T00:00:00",
          "2018-08-20T00:00:00",
          "2018-08-21T00:00:00",
          "2018-08-22T00:00:00",
          "2018-08-23T00:00:00",
          "2018-08-24T00:00:00",
          "2018-08-27T00:00:00",
          "2018-08-28T00:00:00",
          "2018-08-29T00:00:00",
          "2018-08-30T00:00:00",
          "2018-08-31T00:00:00",
          "2018-09-03T00:00:00",
          "2018-09-04T00:00:00",
          "2018-09-05T00:00:00",
          "2018-09-06T00:00:00",
          "2018-09-07T00:00:00",
          "2018-09-10T00:00:00",
          "2018-09-11T00:00:00",
          "2018-09-12T00:00:00",
          "2018-09-13T00:00:00",
          "2018-09-14T00:00:00",
          "2018-09-17T00:00:00",
          "2018-09-18T00:00:00",
          "2018-09-19T00:00:00",
          "2018-09-20T00:00:00",
          "2018-09-21T00:00:00",
          "2018-09-25T00:00:00",
          "2018-09-26T00:00:00",
          "2018-09-27T00:00:00",
          "2018-09-28T00:00:00",
          "2018-10-08T00:00:00",
          "2018-10-09T00:00:00",
          "2018-10-10T00:00:00",
          "2018-10-11T00:00:00",
          "2018-10-12T00:00:00",
          "2018-10-15T00:00:00",
          "2018-10-16T00:00:00",
          "2018-10-17T00:00:00",
          "2018-10-18T00:00:00",
          "2018-10-19T00:00:00",
          "2018-10-22T00:00:00",
          "2018-10-23T00:00:00",
          "2018-10-24T00:00:00",
          "2018-10-25T00:00:00",
          "2018-10-26T00:00:00",
          "2018-10-29T00:00:00",
          "2018-10-30T00:00:00",
          "2018-10-31T00:00:00",
          "2018-11-01T00:00:00",
          "2018-11-02T00:00:00",
          "2018-11-05T00:00:00",
          "2018-11-06T00:00:00",
          "2018-11-07T00:00:00",
          "2018-11-08T00:00:00",
          "2018-11-09T00:00:00",
          "2018-11-12T00:00:00",
          "2018-11-13T00:00:00",
          "2018-11-14T00:00:00",
          "2018-11-15T00:00:00",
          "2018-11-16T00:00:00",
          "2018-11-19T00:00:00",
          "2018-11-20T00:00:00",
          "2018-11-21T00:00:00",
          "2018-11-22T00:00:00",
          "2018-11-23T00:00:00",
          "2018-11-26T00:00:00",
          "2018-11-27T00:00:00",
          "2018-11-28T00:00:00",
          "2018-11-29T00:00:00",
          "2018-11-30T00:00:00",
          "2018-12-03T00:00:00",
          "2018-12-04T00:00:00",
          "2018-12-05T00:00:00",
          "2018-12-06T00:00:00",
          "2018-12-07T00:00:00",
          "2018-12-10T00:00:00",
          "2018-12-11T00:00:00",
          "2018-12-12T00:00:00",
          "2018-12-13T00:00:00",
          "2018-12-14T00:00:00",
          "2018-12-17T00:00:00",
          "2018-12-18T00:00:00",
          "2018-12-19T00:00:00",
          "2018-12-20T00:00:00",
          "2018-12-21T00:00:00",
          "2018-12-24T00:00:00",
          "2018-12-25T00:00:00",
          "2018-12-26T00:00:00",
          "2018-12-27T00:00:00",
          "2018-12-28T00:00:00"
         ],
         "xaxis": "x",
         "y": [
          null,
          0.0022155033551178485,
          -0.0019006355255197908,
          0.0122791006504109,
          0.013055778170470224,
          -0.015248381812396253,
          -0.02027568350888874,
          0.010504039775924743,
          0.03148462796593991,
          0.012198364299848524,
          0.007849652823889088,
          -0.003919220542724378,
          -0.02909998157019658,
          0.010820930258070781,
          -0.01019874910728144,
          0.01632757874758956,
          0.004576260466087325,
          0.02848901206246566,
          -0.02091505085673531,
          -0.02259339900159299,
          -0.026919275024261544,
          0.008214322184952605,
          -0.050662878508433325,
          0.011518953772657207,
          -0.016829936192967788,
          0.01977130750386972,
          -0.01744460257899431,
          -0.09977111537626128,
          -0.0647816066883936,
          0.004684849015588465,
          0.0085369914690148,
          0.026678349274193568,
          -0.0067940347821443085,
          -0.008747670345711599,
          0.01666773106172014,
          -0.012095361900225175,
          -0.013780412146901629,
          -0.0015447895897555478,
          0.03378498010503335,
          -0.0026163967745364003,
          0.0026163967745363296,
          0.004843018360020782,
          0.01328216383305102,
          -0.00588309985050155,
          0.0022121607193650145,
          -0.0033175160612594276,
          0.0055195984328398106,
          -0.018895534910705284,
          0.000743466578575494,
          -0.003365636114044908,
          0.013410723203644039,
          0.0420365915240772,
          -0.023703017229958805,
          0.05720164561781748,
          -0.004473327047543712,
          0.03887935062826203,
          -0.02178799539745212,
          -0.022967210162016572,
          0.0069129660356623945,
          0.06110850694328018,
          0.0064598372741996694,
          0.017863263074345992,
          -0.01915273982047623,
          -0.02018501000255754,
          0.05065321621679356,
          0.00187570517966268,
          -0.02784236769080465,
          0.001602172729951849,
          0.010198999639910847,
          -0.021151084944513492,
          0.010310651235604021,
          -0.017134394065005006,
          -0.07478205805144643,
          -0.0014079096035742526,
          -0.006355085412585831,
          -0.00035200338710399825,
          -0.011040584240445817,
          -0.017705954290755478,
          0.010873253094077594,
          0.01964216794873507,
          0.0031780450239480983,
          0.015041059298793898,
          -0.011523829495311744,
          0,
          0.009441152558832608,
          -0.02430339499605704,
          -0.006795962005530623,
          -0.022872603270980143,
          -0.0066338354736150355,
          0.009934225208253513,
          -0.0029354614019435794,
          0.00403151539532095,
          -0.007707860503273777,
          0.008802714477460543,
          0.006554049557999757,
          -0.033198123373682165,
          0.00672525565274365,
          0.06316378522914225,
          -0.008428580505991294,
          -0.012422519998557209,
          -0.024953815180717515,
          0.009113998177062226,
          0.01869076399053079,
          0.003200746180055873,
          -0.021525817062073807,
          0.01654357441203225,
          -0.005007189736164871,
          -0.0003564215771417092,
          0.010345853963348185,
          -0.045016007613580634,
          -0.06878238396266606,
          -0.01563068898318981,
          -0.03244052800666017,
          0.01737740236984538,
          -0.005349047219081485,
          -0.009111014368965227,
          0.003739068458844595,
          -0.02095083734780789,
          0.01262187252976902,
          -0.024973040777776005,
          0.004705576683178832,
          0.0640291911136682,
          -0.028001911910808627,
          0.004931054404260755,
          0.004901200083189993,
          -0.013127414769957138,
          -0.008708306034369917,
          0.003323933007696673,
          -0.0074958706985458765,
          -0.0025150806756921527,
          -0.0004168088938960035,
          -0.006315226888445826,
          -0.020466394394993887,
          0.013266138171210754,
          0.01267529024650773,
          0.012928718163958363,
          0.01562361506908734,
          -0.010663751170113306,
          -0.012864227488804407,
          0.011217531764933265,
          0.010269201081322198,
          -0.015655790486689206,
          -0.0415490472698164,
          -0.031215513736195646,
          -0.035921917075823324,
          0.018799908062065412,
          0.019351811625864836,
          0.004444625901742676,
          -0.006674428513849537,
          0.023391093742112935,
          -0.011407857730920064,
          -0.016463982524712616,
          -0.013092984924888671,
          -0.01834818563741504,
          0.012418811265169999,
          0.023052789579659092,
          -0.002235733666790077,
          -0.0013425621651675633,
          -0.0017971698730083966,
          0.015600940813869925,
          0.008809409293195365,
          -0.009695212834956975,
          -0.0066595527240408065,
          0.007105683662418793,
          -0.012918451940665487,
          0.001793087537582221,
          -0.008991554717128602,
          0.0280455589032931,
          0.029413005199532098,
          -0.019366232868538766,
          0.017664036930610017,
          -0.007717084146948059,
          0.009419280084876828,
          0.00042959073978269754,
          -0.05473284935370062,
          0.013411881631529904,
          0.01891772129891672,
          0.0013046193391533902,
          0.02237436210939113,
          0.013103529847848017,
          0.0071186783533823735,
          -0.011745014723844911,
          -0.001270825551371736,
          0.005479651937651046,
          0.046383926740007186,
          0.04586813080454669,
          -0.011952365508421794,
          0.010417054310477111,
          0.015988207896815623,
          -0.03145562071768246,
          -0.0042975975534579125,
          -0.04033120785535746,
          0.03758776382935584,
          0.021739965225781453,
          0.032862604411438436,
          -0.0055874714317468085,
          0.009668322172325305,
          -0.008173142290002107,
          0.0022332677863701467,
          -0.015378967051151176,
          -0.005690281004577952,
          0.04097336719199012,
          -0.004018960785803429,
          -0.021860525892380626,
          -0.0007500632532784654,
          0.011182403932955921,
          -0.02628769602931687,
          -0.036030358222342025,
          -0.007522533925422046,
          0.015383513191161663,
          0.001954245073948282,
          0.008169647978907808,
          0.007721403848832379,
          -0.008106554346336739,
          0.03428599175089019,
          -0.011676880203602087,
          0.0030246145996321062,
          -0.0318553439412974,
          -0.002345184263356277,
          0.00934243599783143,
          -0.0042709062574718265,
          0.054127142248396966,
          -0.0033224186983570646,
          0.011761973589819797,
          0.023826476664542694,
          0.001427391629853536,
          0.006036647351196469,
          -0.005323619790688116,
          0.024264251193410656,
          0.027080389510072998,
          0.005396972300742324,
          -0.007767100246627185,
          -0.03168097535167068,
          0.009399973282699219,
          0.02228100206897143,
          -0.012963705991351415,
          0.005480229425384579,
          0.012558073139071473,
          0.0013447746487410546,
          0.006383072689708237,
          0.017251936922698517,
          -0.01792214507033781,
          0.012973050990324725
         ],
         "yaxis": "y"
        },
        {
         "hovertemplate": "Names=Banking/Bank of Shanghai<br>Time=%{x}<br>Log_R=%{y}<extra></extra>",
         "legendgroup": "Banking/Bank of Shanghai",
         "line": {
          "color": "#EF553B",
          "dash": "solid"
         },
         "mode": "lines",
         "name": "Banking/Bank of Shanghai",
         "orientation": "v",
         "showlegend": true,
         "type": "scatter",
         "x": [
          "2018-01-02T00:00:00",
          "2018-01-03T00:00:00",
          "2018-01-04T00:00:00",
          "2018-01-05T00:00:00",
          "2018-01-08T00:00:00",
          "2018-01-09T00:00:00",
          "2018-01-10T00:00:00",
          "2018-01-11T00:00:00",
          "2018-01-12T00:00:00",
          "2018-01-15T00:00:00",
          "2018-01-16T00:00:00",
          "2018-01-17T00:00:00",
          "2018-01-18T00:00:00",
          "2018-01-19T00:00:00",
          "2018-01-22T00:00:00",
          "2018-01-23T00:00:00",
          "2018-01-24T00:00:00",
          "2018-01-25T00:00:00",
          "2018-01-26T00:00:00",
          "2018-01-29T00:00:00",
          "2018-01-30T00:00:00",
          "2018-01-31T00:00:00",
          "2018-02-01T00:00:00",
          "2018-02-02T00:00:00",
          "2018-02-05T00:00:00",
          "2018-02-06T00:00:00",
          "2018-02-07T00:00:00",
          "2018-02-08T00:00:00",
          "2018-02-09T00:00:00",
          "2018-02-12T00:00:00",
          "2018-02-13T00:00:00",
          "2018-02-14T00:00:00",
          "2018-02-22T00:00:00",
          "2018-02-23T00:00:00",
          "2018-02-26T00:00:00",
          "2018-02-27T00:00:00",
          "2018-02-28T00:00:00",
          "2018-03-01T00:00:00",
          "2018-03-02T00:00:00",
          "2018-03-05T00:00:00",
          "2018-03-06T00:00:00",
          "2018-03-07T00:00:00",
          "2018-03-08T00:00:00",
          "2018-03-09T00:00:00",
          "2018-03-12T00:00:00",
          "2018-03-13T00:00:00",
          "2018-03-14T00:00:00",
          "2018-03-15T00:00:00",
          "2018-03-16T00:00:00",
          "2018-03-19T00:00:00",
          "2018-03-20T00:00:00",
          "2018-03-21T00:00:00",
          "2018-03-22T00:00:00",
          "2018-03-23T00:00:00",
          "2018-03-26T00:00:00",
          "2018-03-27T00:00:00",
          "2018-03-28T00:00:00",
          "2018-03-29T00:00:00",
          "2018-03-30T00:00:00",
          "2018-04-02T00:00:00",
          "2018-04-03T00:00:00",
          "2018-04-04T00:00:00",
          "2018-04-09T00:00:00",
          "2018-04-10T00:00:00",
          "2018-04-11T00:00:00",
          "2018-04-12T00:00:00",
          "2018-04-13T00:00:00",
          "2018-04-16T00:00:00",
          "2018-04-17T00:00:00",
          "2018-04-18T00:00:00",
          "2018-04-19T00:00:00",
          "2018-04-20T00:00:00",
          "2018-04-23T00:00:00",
          "2018-04-24T00:00:00",
          "2018-04-25T00:00:00",
          "2018-04-26T00:00:00",
          "2018-04-27T00:00:00",
          "2018-05-02T00:00:00",
          "2018-05-03T00:00:00",
          "2018-05-04T00:00:00",
          "2018-05-07T00:00:00",
          "2018-05-08T00:00:00",
          "2018-05-09T00:00:00",
          "2018-05-10T00:00:00",
          "2018-05-11T00:00:00",
          "2018-05-14T00:00:00",
          "2018-05-15T00:00:00",
          "2018-05-16T00:00:00",
          "2018-05-17T00:00:00",
          "2018-05-18T00:00:00",
          "2018-05-21T00:00:00",
          "2018-05-22T00:00:00",
          "2018-05-23T00:00:00",
          "2018-05-24T00:00:00",
          "2018-05-25T00:00:00",
          "2018-05-28T00:00:00",
          "2018-05-29T00:00:00",
          "2018-05-30T00:00:00",
          "2018-05-31T00:00:00",
          "2018-06-01T00:00:00",
          "2018-06-04T00:00:00",
          "2018-06-05T00:00:00",
          "2018-06-06T00:00:00",
          "2018-06-07T00:00:00",
          "2018-06-08T00:00:00",
          "2018-06-11T00:00:00",
          "2018-06-12T00:00:00",
          "2018-06-13T00:00:00",
          "2018-06-14T00:00:00",
          "2018-06-15T00:00:00",
          "2018-06-19T00:00:00",
          "2018-06-20T00:00:00",
          "2018-06-21T00:00:00",
          "2018-06-22T00:00:00",
          "2018-06-25T00:00:00",
          "2018-06-26T00:00:00",
          "2018-06-27T00:00:00",
          "2018-06-28T00:00:00",
          "2018-06-29T00:00:00",
          "2018-07-02T00:00:00",
          "2018-07-03T00:00:00",
          "2018-07-04T00:00:00",
          "2018-07-05T00:00:00",
          "2018-07-06T00:00:00",
          "2018-07-09T00:00:00",
          "2018-07-10T00:00:00",
          "2018-07-11T00:00:00",
          "2018-07-12T00:00:00",
          "2018-07-13T00:00:00",
          "2018-07-16T00:00:00",
          "2018-07-17T00:00:00",
          "2018-07-18T00:00:00",
          "2018-07-19T00:00:00",
          "2018-07-20T00:00:00",
          "2018-07-23T00:00:00",
          "2018-07-24T00:00:00",
          "2018-07-25T00:00:00",
          "2018-07-26T00:00:00",
          "2018-07-27T00:00:00",
          "2018-07-30T00:00:00",
          "2018-07-31T00:00:00",
          "2018-08-01T00:00:00",
          "2018-08-02T00:00:00",
          "2018-08-03T00:00:00",
          "2018-08-06T00:00:00",
          "2018-08-07T00:00:00",
          "2018-08-08T00:00:00",
          "2018-08-09T00:00:00",
          "2018-08-10T00:00:00",
          "2018-08-13T00:00:00",
          "2018-08-14T00:00:00",
          "2018-08-15T00:00:00",
          "2018-08-16T00:00:00",
          "2018-08-17T00:00:00",
          "2018-08-20T00:00:00",
          "2018-08-21T00:00:00",
          "2018-08-22T00:00:00",
          "2018-08-23T00:00:00",
          "2018-08-24T00:00:00",
          "2018-08-27T00:00:00",
          "2018-08-28T00:00:00",
          "2018-08-29T00:00:00",
          "2018-08-30T00:00:00",
          "2018-08-31T00:00:00",
          "2018-09-03T00:00:00",
          "2018-09-04T00:00:00",
          "2018-09-05T00:00:00",
          "2018-09-06T00:00:00",
          "2018-09-07T00:00:00",
          "2018-09-10T00:00:00",
          "2018-09-11T00:00:00",
          "2018-09-12T00:00:00",
          "2018-09-13T00:00:00",
          "2018-09-14T00:00:00",
          "2018-09-17T00:00:00",
          "2018-09-18T00:00:00",
          "2018-09-19T00:00:00",
          "2018-09-20T00:00:00",
          "2018-09-21T00:00:00",
          "2018-09-25T00:00:00",
          "2018-09-26T00:00:00",
          "2018-09-27T00:00:00",
          "2018-09-28T00:00:00",
          "2018-10-08T00:00:00",
          "2018-10-09T00:00:00",
          "2018-10-10T00:00:00",
          "2018-10-11T00:00:00",
          "2018-10-12T00:00:00",
          "2018-10-15T00:00:00",
          "2018-10-16T00:00:00",
          "2018-10-17T00:00:00",
          "2018-10-18T00:00:00",
          "2018-10-19T00:00:00",
          "2018-10-22T00:00:00",
          "2018-10-23T00:00:00",
          "2018-10-24T00:00:00",
          "2018-10-25T00:00:00",
          "2018-10-26T00:00:00",
          "2018-10-29T00:00:00",
          "2018-10-30T00:00:00",
          "2018-10-31T00:00:00",
          "2018-11-01T00:00:00",
          "2018-11-02T00:00:00",
          "2018-11-05T00:00:00",
          "2018-11-06T00:00:00",
          "2018-11-07T00:00:00",
          "2018-11-08T00:00:00",
          "2018-11-09T00:00:00",
          "2018-11-12T00:00:00",
          "2018-11-13T00:00:00",
          "2018-11-14T00:00:00",
          "2018-11-15T00:00:00",
          "2018-11-16T00:00:00",
          "2018-11-19T00:00:00",
          "2018-11-20T00:00:00",
          "2018-11-21T00:00:00",
          "2018-11-22T00:00:00",
          "2018-11-23T00:00:00",
          "2018-11-26T00:00:00",
          "2018-11-27T00:00:00",
          "2018-11-28T00:00:00",
          "2018-11-29T00:00:00",
          "2018-11-30T00:00:00",
          "2018-12-03T00:00:00",
          "2018-12-04T00:00:00",
          "2018-12-05T00:00:00",
          "2018-12-06T00:00:00",
          "2018-12-07T00:00:00",
          "2018-12-10T00:00:00",
          "2018-12-11T00:00:00",
          "2018-12-12T00:00:00",
          "2018-12-13T00:00:00",
          "2018-12-14T00:00:00",
          "2018-12-17T00:00:00",
          "2018-12-18T00:00:00",
          "2018-12-19T00:00:00",
          "2018-12-20T00:00:00",
          "2018-12-21T00:00:00",
          "2018-12-24T00:00:00",
          "2018-12-25T00:00:00",
          "2018-12-26T00:00:00",
          "2018-12-27T00:00:00",
          "2018-12-28T00:00:00"
         ],
         "xaxis": "x",
         "y": [
          null,
          0.011744954634700181,
          0.014996996638834754,
          0.005397392765026264,
          -0.0033701748018820587,
          -0.003381453705092102,
          0.003381453705092181,
          -0.000674813695672579,
          -0.001352404267471667,
          0.010766971776519602,
          0.02315715845087571,
          0.011056245555062875,
          0.007090005923917414,
          0.030985640141265456,
          -0.020760965867816755,
          0.016392981758478437,
          0.0043679841093383215,
          -0.020126036386972912,
          0.018880991384033038,
          0.02158490984900686,
          -0.025959543125479854,
          -0.0006258913407155622,
          -0.008178906916785482,
          0.023104798805310342,
          0.024993189866128956,
          -0.04494462803867251,
          0.011271115904147035,
          -0.011900555561290342,
          -0.05905056374657075,
          0.011300024555805388,
          0.01638807198345419,
          0.007126748927281162,
          0.020447443973742107,
          0.006305841138810432,
          0.0018833710924207104,
          -0.02412799841657395,
          -0.02012406221784144,
          -0.0019686696332978505,
          -0.005930746847995477,
          -0.0019856774143093762,
          0.009885093895602687,
          -0.004600520549644987,
          0.007220307200161454,
          0.003264432336663745,
          -0.0006514910387829408,
          -0.004577706277234315,
          -0.007234558842191194,
          -0.003305556724574429,
          0.007916424262304959,
          -0.001973809855736338,
          -0.0019765685742341456,
          -0.0006604891077598854,
          -0.0006597792162264717,
          -0.012629446771786297,
          -0.016182742900545645,
          0.0027145321466042547,
          -0.0006776775894930335,
          0.009452830058642114,
          -0.0053901178655740446,
          -0.006780385855652607,
          -0.014388080344756778,
          -0.0006910996262825798,
          -0.0027664801130997444,
          0.02056333374672364,
          0.018818295815915348,
          -0.01881829581591538,
          0.004737525888740738,
          -0.016338162109872535,
          -0.006886475528854881,
          0.011680333067589387,
          0.011544304571138107,
          -0.006774380445852049,
          0.014174411038788196,
          0.011330151661894522,
          -0.005981994382544354,
          0.0013325820548883498,
          0.01059583513691506,
          0.007220307200161454,
          -0.002619786650516411,
          -0.004600520549644987,
          0.011135919485531574,
          0.010370460895160798,
          -0.0032298276254682273,
          0.0038737603717399227,
          -0.0006439327462716892,
          0.010262798946257055,
          0.0069953171698259676,
          -0.010832034954506234,
          -0.003207878774783004,
          0.02098663617552715,
          0.002514401743636342,
          -0.0006286621300797387,
          -0.013278121047600034,
          -0.001912187403449099,
          0.0012748292781832149,
          -0.0025512858207598346,
          -0.0025565892172820133,
          -0.0239730837960174,
          0.02076603812949665,
          -0.007090005923917363,
          0.0185853485056665,
          0.0006342335964751914,
          0.0006338315991670237,
          0.006951116459727471,
          -0.008219181655369489,
          0.011363719425759181,
          0.0037585940244189847,
          -0.004387256154498835,
          -0.01010082369920427,
          0.0069555084017509415,
          0.0025175668325227636,
          -0.018395605745977227,
          0.0031955749812873093,
          0,
          -0.00640262064780797,
          -0.007090005923917363,
          0.0012929588845449224,
          0.0051550711277172385,
          0.012771552089879358,
          -0.028316161661070916,
          0.0006532753017471453,
          -0.01644322519011264,
          0.014483592351891023,
          -0.017804517982894157,
          0.030146827302160662,
          0.0070763175766406575,
          -0.009015689800503632,
          0.017314680197366265,
          -0.0012723954436203136,
          -0.016042284753745882,
          -0.04281792160045779,
          -0.013320541145431106,
          -0.01739156562477399,
          0.028820538087782368,
          0.03809044516707853,
          0.03052313475166356,
          -0.002656383989782443,
          -0.00177408025423351,
          0.0008874885505610397,
          0.0026587370326681186,
          0,
          -0.015158725446512079,
          -0.009932848264557469,
          0.006332471080995394,
          0.014324600160665921,
          0.009729662911151564,
          -0.007067305770739013,
          0.018446030025145714,
          -0.010499044312142398,
          -0.01060934285341581,
          -0.008033199067821899,
          -0.018995453695026712,
          0.009090553652324066,
          -0.006355467851092869,
          0.012670798685848911,
          0.008060864519320554,
          0.0017819857790976508,
          0.0017799179773502684,
          0.016747480551781456,
          0.006968803276015528,
          0,
          0.0060572753968035145,
          -0.0017265879550695269,
          0.012027470776781922,
          0.01019575078944569,
          0.005900056868652665,
          -0.01866027518448061,
          0.007675863699556815,
          -0.007675863699556711,
          0.005123431405769297,
          -0.013722714509477757,
          0.012870771009498483,
          0.012706173516322725,
          -0.009301797722556062,
          -0.012826746826333266,
          0.016218417411173965,
          -0.0008468923423855953,
          0.011795456440986517,
          0.016611017543493797,
          -0.016611017543493783,
          0.005844824892866121,
          0.002495225706060045,
          0.013200746155731385,
          -0.02573814642378577,
          -0.022109733144360585,
          0.000860331516167653,
          -0.03319104471942836,
          0.006196708807055453,
          -0.024118737415332134,
          0.014363182540803304,
          0.023778956346852505,
          -0.01314029973081513,
          0.026969761967755912,
          0.02626135131364964,
          -0.021978885986724647,
          0.031133591234439057,
          0.011533115958485248,
          -0.00739823157944425,
          0.0008244385596428118,
          0.013104552485056566,
          -0.006530759465254996,
          -0.015684034047723207,
          0.025464298787567848,
          -0.010600417004606639,
          -0.010712963693723288,
          0.0008289820977639227,
          0.0033059022812770918,
          -0.05077250651510713,
          0.011221565574702108,
          0.017021016279054873,
          -0.013593408426183706,
          0.00682038096411695,
          -0.004258103550257752,
          0.005955376770658342,
          -0.013664121350447986,
          -0.000859898696286002,
          -0.008642807565356963,
          -0.006968803276015436,
          -0.0017504397380113778,
          -0.001752312874381966,
          0.01047155588840866,
          -0.01663129813456243,
          0.01228177423473037,
          0.009543931488257124,
          0.01030962331320217,
          -0.004282465326924925,
          -0.011221565574702125,
          0.0026000398241926076,
          -0.0034681523982819018,
          0.005198800015823082,
          0.007748563164756845,
          0.005985927991432912,
          -0.004271487905790075,
          0.012760218315827946,
          -0.0008454594281559965,
          -0.007643270981881707,
          -0.028536734486332354,
          -0.015915297120682615,
          -0.01707856954259343,
          -0.010939296546505148,
          -0.019436243381909735,
          0.014842970143584249,
          0.029933419104765355
         ],
         "yaxis": "y"
        }
       ],
       "layout": {
        "legend": {
         "title": {
          "text": "Names"
         },
         "tracegroupgap": 0
        },
        "margin": {
         "t": 60
        },
        "template": {
         "data": {
          "bar": [
           {
            "error_x": {
             "color": "#2a3f5f"
            },
            "error_y": {
             "color": "#2a3f5f"
            },
            "marker": {
             "line": {
              "color": "#E5ECF6",
              "width": 0.5
             }
            },
            "type": "bar"
           }
          ],
          "barpolar": [
           {
            "marker": {
             "line": {
              "color": "#E5ECF6",
              "width": 0.5
             }
            },
            "type": "barpolar"
           }
          ],
          "carpet": [
           {
            "aaxis": {
             "endlinecolor": "#2a3f5f",
             "gridcolor": "white",
             "linecolor": "white",
             "minorgridcolor": "white",
             "startlinecolor": "#2a3f5f"
            },
            "baxis": {
             "endlinecolor": "#2a3f5f",
             "gridcolor": "white",
             "linecolor": "white",
             "minorgridcolor": "white",
             "startlinecolor": "#2a3f5f"
            },
            "type": "carpet"
           }
          ],
          "choropleth": [
           {
            "colorbar": {
             "outlinewidth": 0,
             "ticks": ""
            },
            "type": "choropleth"
           }
          ],
          "contour": [
           {
            "colorbar": {
             "outlinewidth": 0,
             "ticks": ""
            },
            "colorscale": [
             [
              0,
              "#0d0887"
             ],
             [
              0.1111111111111111,
              "#46039f"
             ],
             [
              0.2222222222222222,
              "#7201a8"
             ],
             [
              0.3333333333333333,
              "#9c179e"
             ],
             [
              0.4444444444444444,
              "#bd3786"
             ],
             [
              0.5555555555555556,
              "#d8576b"
             ],
             [
              0.6666666666666666,
              "#ed7953"
             ],
             [
              0.7777777777777778,
              "#fb9f3a"
             ],
             [
              0.8888888888888888,
              "#fdca26"
             ],
             [
              1,
              "#f0f921"
             ]
            ],
            "type": "contour"
           }
          ],
          "contourcarpet": [
           {
            "colorbar": {
             "outlinewidth": 0,
             "ticks": ""
            },
            "type": "contourcarpet"
           }
          ],
          "heatmap": [
           {
            "colorbar": {
             "outlinewidth": 0,
             "ticks": ""
            },
            "colorscale": [
             [
              0,
              "#0d0887"
             ],
             [
              0.1111111111111111,
              "#46039f"
             ],
             [
              0.2222222222222222,
              "#7201a8"
             ],
             [
              0.3333333333333333,
              "#9c179e"
             ],
             [
              0.4444444444444444,
              "#bd3786"
             ],
             [
              0.5555555555555556,
              "#d8576b"
             ],
             [
              0.6666666666666666,
              "#ed7953"
             ],
             [
              0.7777777777777778,
              "#fb9f3a"
             ],
             [
              0.8888888888888888,
              "#fdca26"
             ],
             [
              1,
              "#f0f921"
             ]
            ],
            "type": "heatmap"
           }
          ],
          "heatmapgl": [
           {
            "colorbar": {
             "outlinewidth": 0,
             "ticks": ""
            },
            "colorscale": [
             [
              0,
              "#0d0887"
             ],
             [
              0.1111111111111111,
              "#46039f"
             ],
             [
              0.2222222222222222,
              "#7201a8"
             ],
             [
              0.3333333333333333,
              "#9c179e"
             ],
             [
              0.4444444444444444,
              "#bd3786"
             ],
             [
              0.5555555555555556,
              "#d8576b"
             ],
             [
              0.6666666666666666,
              "#ed7953"
             ],
             [
              0.7777777777777778,
              "#fb9f3a"
             ],
             [
              0.8888888888888888,
              "#fdca26"
             ],
             [
              1,
              "#f0f921"
             ]
            ],
            "type": "heatmapgl"
           }
          ],
          "histogram": [
           {
            "marker": {
             "colorbar": {
              "outlinewidth": 0,
              "ticks": ""
             }
            },
            "type": "histogram"
           }
          ],
          "histogram2d": [
           {
            "colorbar": {
             "outlinewidth": 0,
             "ticks": ""
            },
            "colorscale": [
             [
              0,
              "#0d0887"
             ],
             [
              0.1111111111111111,
              "#46039f"
             ],
             [
              0.2222222222222222,
              "#7201a8"
             ],
             [
              0.3333333333333333,
              "#9c179e"
             ],
             [
              0.4444444444444444,
              "#bd3786"
             ],
             [
              0.5555555555555556,
              "#d8576b"
             ],
             [
              0.6666666666666666,
              "#ed7953"
             ],
             [
              0.7777777777777778,
              "#fb9f3a"
             ],
             [
              0.8888888888888888,
              "#fdca26"
             ],
             [
              1,
              "#f0f921"
             ]
            ],
            "type": "histogram2d"
           }
          ],
          "histogram2dcontour": [
           {
            "colorbar": {
             "outlinewidth": 0,
             "ticks": ""
            },
            "colorscale": [
             [
              0,
              "#0d0887"
             ],
             [
              0.1111111111111111,
              "#46039f"
             ],
             [
              0.2222222222222222,
              "#7201a8"
             ],
             [
              0.3333333333333333,
              "#9c179e"
             ],
             [
              0.4444444444444444,
              "#bd3786"
             ],
             [
              0.5555555555555556,
              "#d8576b"
             ],
             [
              0.6666666666666666,
              "#ed7953"
             ],
             [
              0.7777777777777778,
              "#fb9f3a"
             ],
             [
              0.8888888888888888,
              "#fdca26"
             ],
             [
              1,
              "#f0f921"
             ]
            ],
            "type": "histogram2dcontour"
           }
          ],
          "mesh3d": [
           {
            "colorbar": {
             "outlinewidth": 0,
             "ticks": ""
            },
            "type": "mesh3d"
           }
          ],
          "parcoords": [
           {
            "line": {
             "colorbar": {
              "outlinewidth": 0,
              "ticks": ""
             }
            },
            "type": "parcoords"
           }
          ],
          "pie": [
           {
            "automargin": true,
            "type": "pie"
           }
          ],
          "scatter": [
           {
            "marker": {
             "colorbar": {
              "outlinewidth": 0,
              "ticks": ""
             }
            },
            "type": "scatter"
           }
          ],
          "scatter3d": [
           {
            "line": {
             "colorbar": {
              "outlinewidth": 0,
              "ticks": ""
             }
            },
            "marker": {
             "colorbar": {
              "outlinewidth": 0,
              "ticks": ""
             }
            },
            "type": "scatter3d"
           }
          ],
          "scattercarpet": [
           {
            "marker": {
             "colorbar": {
              "outlinewidth": 0,
              "ticks": ""
             }
            },
            "type": "scattercarpet"
           }
          ],
          "scattergeo": [
           {
            "marker": {
             "colorbar": {
              "outlinewidth": 0,
              "ticks": ""
             }
            },
            "type": "scattergeo"
           }
          ],
          "scattergl": [
           {
            "marker": {
             "colorbar": {
              "outlinewidth": 0,
              "ticks": ""
             }
            },
            "type": "scattergl"
           }
          ],
          "scattermapbox": [
           {
            "marker": {
             "colorbar": {
              "outlinewidth": 0,
              "ticks": ""
             }
            },
            "type": "scattermapbox"
           }
          ],
          "scatterpolar": [
           {
            "marker": {
             "colorbar": {
              "outlinewidth": 0,
              "ticks": ""
             }
            },
            "type": "scatterpolar"
           }
          ],
          "scatterpolargl": [
           {
            "marker": {
             "colorbar": {
              "outlinewidth": 0,
              "ticks": ""
             }
            },
            "type": "scatterpolargl"
           }
          ],
          "scatterternary": [
           {
            "marker": {
             "colorbar": {
              "outlinewidth": 0,
              "ticks": ""
             }
            },
            "type": "scatterternary"
           }
          ],
          "surface": [
           {
            "colorbar": {
             "outlinewidth": 0,
             "ticks": ""
            },
            "colorscale": [
             [
              0,
              "#0d0887"
             ],
             [
              0.1111111111111111,
              "#46039f"
             ],
             [
              0.2222222222222222,
              "#7201a8"
             ],
             [
              0.3333333333333333,
              "#9c179e"
             ],
             [
              0.4444444444444444,
              "#bd3786"
             ],
             [
              0.5555555555555556,
              "#d8576b"
             ],
             [
              0.6666666666666666,
              "#ed7953"
             ],
             [
              0.7777777777777778,
              "#fb9f3a"
             ],
             [
              0.8888888888888888,
              "#fdca26"
             ],
             [
              1,
              "#f0f921"
             ]
            ],
            "type": "surface"
           }
          ],
          "table": [
           {
            "cells": {
             "fill": {
              "color": "#EBF0F8"
             },
             "line": {
              "color": "white"
             }
            },
            "header": {
             "fill": {
              "color": "#C8D4E3"
             },
             "line": {
              "color": "white"
             }
            },
            "type": "table"
           }
          ]
         },
         "layout": {
          "annotationdefaults": {
           "arrowcolor": "#2a3f5f",
           "arrowhead": 0,
           "arrowwidth": 1
          },
          "coloraxis": {
           "colorbar": {
            "outlinewidth": 0,
            "ticks": ""
           }
          },
          "colorscale": {
           "diverging": [
            [
             0,
             "#8e0152"
            ],
            [
             0.1,
             "#c51b7d"
            ],
            [
             0.2,
             "#de77ae"
            ],
            [
             0.3,
             "#f1b6da"
            ],
            [
             0.4,
             "#fde0ef"
            ],
            [
             0.5,
             "#f7f7f7"
            ],
            [
             0.6,
             "#e6f5d0"
            ],
            [
             0.7,
             "#b8e186"
            ],
            [
             0.8,
             "#7fbc41"
            ],
            [
             0.9,
             "#4d9221"
            ],
            [
             1,
             "#276419"
            ]
           ],
           "sequential": [
            [
             0,
             "#0d0887"
            ],
            [
             0.1111111111111111,
             "#46039f"
            ],
            [
             0.2222222222222222,
             "#7201a8"
            ],
            [
             0.3333333333333333,
             "#9c179e"
            ],
            [
             0.4444444444444444,
             "#bd3786"
            ],
            [
             0.5555555555555556,
             "#d8576b"
            ],
            [
             0.6666666666666666,
             "#ed7953"
            ],
            [
             0.7777777777777778,
             "#fb9f3a"
            ],
            [
             0.8888888888888888,
             "#fdca26"
            ],
            [
             1,
             "#f0f921"
            ]
           ],
           "sequentialminus": [
            [
             0,
             "#0d0887"
            ],
            [
             0.1111111111111111,
             "#46039f"
            ],
            [
             0.2222222222222222,
             "#7201a8"
            ],
            [
             0.3333333333333333,
             "#9c179e"
            ],
            [
             0.4444444444444444,
             "#bd3786"
            ],
            [
             0.5555555555555556,
             "#d8576b"
            ],
            [
             0.6666666666666666,
             "#ed7953"
            ],
            [
             0.7777777777777778,
             "#fb9f3a"
            ],
            [
             0.8888888888888888,
             "#fdca26"
            ],
            [
             1,
             "#f0f921"
            ]
           ]
          },
          "colorway": [
           "#636efa",
           "#EF553B",
           "#00cc96",
           "#ab63fa",
           "#FFA15A",
           "#19d3f3",
           "#FF6692",
           "#B6E880",
           "#FF97FF",
           "#FECB52"
          ],
          "font": {
           "color": "#2a3f5f"
          },
          "geo": {
           "bgcolor": "white",
           "lakecolor": "white",
           "landcolor": "#E5ECF6",
           "showlakes": true,
           "showland": true,
           "subunitcolor": "white"
          },
          "hoverlabel": {
           "align": "left"
          },
          "hovermode": "closest",
          "mapbox": {
           "style": "light"
          },
          "paper_bgcolor": "white",
          "plot_bgcolor": "#E5ECF6",
          "polar": {
           "angularaxis": {
            "gridcolor": "white",
            "linecolor": "white",
            "ticks": ""
           },
           "bgcolor": "#E5ECF6",
           "radialaxis": {
            "gridcolor": "white",
            "linecolor": "white",
            "ticks": ""
           }
          },
          "scene": {
           "xaxis": {
            "backgroundcolor": "#E5ECF6",
            "gridcolor": "white",
            "gridwidth": 2,
            "linecolor": "white",
            "showbackground": true,
            "ticks": "",
            "zerolinecolor": "white"
           },
           "yaxis": {
            "backgroundcolor": "#E5ECF6",
            "gridcolor": "white",
            "gridwidth": 2,
            "linecolor": "white",
            "showbackground": true,
            "ticks": "",
            "zerolinecolor": "white"
           },
           "zaxis": {
            "backgroundcolor": "#E5ECF6",
            "gridcolor": "white",
            "gridwidth": 2,
            "linecolor": "white",
            "showbackground": true,
            "ticks": "",
            "zerolinecolor": "white"
           }
          },
          "shapedefaults": {
           "line": {
            "color": "#2a3f5f"
           }
          },
          "ternary": {
           "aaxis": {
            "gridcolor": "white",
            "linecolor": "white",
            "ticks": ""
           },
           "baxis": {
            "gridcolor": "white",
            "linecolor": "white",
            "ticks": ""
           },
           "bgcolor": "#E5ECF6",
           "caxis": {
            "gridcolor": "white",
            "linecolor": "white",
            "ticks": ""
           }
          },
          "title": {
           "x": 0.05
          },
          "xaxis": {
           "automargin": true,
           "gridcolor": "white",
           "linecolor": "white",
           "ticks": "",
           "title": {
            "standoff": 15
           },
           "zerolinecolor": "white",
           "zerolinewidth": 2
          },
          "yaxis": {
           "automargin": true,
           "gridcolor": "white",
           "linecolor": "white",
           "ticks": "",
           "title": {
            "standoff": 15
           },
           "zerolinecolor": "white",
           "zerolinewidth": 2
          }
         }
        },
        "xaxis": {
         "anchor": "y",
         "domain": [
          0,
          1
         ],
         "title": {
          "text": "Time"
         }
        },
        "yaxis": {
         "anchor": "x",
         "domain": [
          0,
          1
         ],
         "title": {
          "text": "Log_R"
         }
        }
       }
      },
      "text/html": [
       "<div>\n",
       "        \n",
       "        \n",
       "            <div id=\"92d2a60c-c35e-4df9-9c06-ab2faceebcbc\" class=\"plotly-graph-div\" style=\"height:525px; width:100%;\"></div>\n",
       "            <script type=\"text/javascript\">\n",
       "                require([\"plotly\"], function(Plotly) {\n",
       "                    window.PLOTLYENV=window.PLOTLYENV || {};\n",
       "                    \n",
       "                if (document.getElementById(\"92d2a60c-c35e-4df9-9c06-ab2faceebcbc\")) {\n",
       "                    Plotly.newPlot(\n",
       "                        '92d2a60c-c35e-4df9-9c06-ab2faceebcbc',\n",
       "                        [{\"hovertemplate\": \"Names=Mining/Shandong Gold Mining<br>Time=%{x}<br>Log_R=%{y}<extra></extra>\", \"legendgroup\": \"Mining/Shandong Gold Mining\", \"line\": {\"color\": \"#636efa\", \"dash\": \"solid\"}, \"mode\": \"lines\", \"name\": \"Mining/Shandong Gold Mining\", \"orientation\": \"v\", \"showlegend\": true, \"type\": \"scatter\", \"x\": [\"2018-01-02T00:00:00\", \"2018-01-03T00:00:00\", \"2018-01-04T00:00:00\", \"2018-01-05T00:00:00\", \"2018-01-08T00:00:00\", \"2018-01-09T00:00:00\", \"2018-01-10T00:00:00\", \"2018-01-11T00:00:00\", \"2018-01-12T00:00:00\", \"2018-01-15T00:00:00\", \"2018-01-16T00:00:00\", \"2018-01-17T00:00:00\", \"2018-01-18T00:00:00\", \"2018-01-19T00:00:00\", \"2018-01-22T00:00:00\", \"2018-01-23T00:00:00\", \"2018-01-24T00:00:00\", \"2018-01-25T00:00:00\", \"2018-01-26T00:00:00\", \"2018-01-29T00:00:00\", \"2018-01-30T00:00:00\", \"2018-01-31T00:00:00\", \"2018-02-01T00:00:00\", \"2018-02-02T00:00:00\", \"2018-02-05T00:00:00\", \"2018-02-06T00:00:00\", \"2018-02-07T00:00:00\", \"2018-02-08T00:00:00\", \"2018-02-09T00:00:00\", \"2018-02-12T00:00:00\", \"2018-02-13T00:00:00\", \"2018-02-14T00:00:00\", \"2018-02-22T00:00:00\", \"2018-02-23T00:00:00\", \"2018-02-26T00:00:00\", \"2018-02-27T00:00:00\", \"2018-02-28T00:00:00\", \"2018-03-01T00:00:00\", \"2018-03-02T00:00:00\", \"2018-03-05T00:00:00\", \"2018-03-06T00:00:00\", \"2018-03-07T00:00:00\", \"2018-03-08T00:00:00\", \"2018-03-09T00:00:00\", \"2018-03-12T00:00:00\", \"2018-03-13T00:00:00\", \"2018-03-14T00:00:00\", \"2018-03-15T00:00:00\", \"2018-03-16T00:00:00\", \"2018-03-19T00:00:00\", \"2018-03-20T00:00:00\", \"2018-03-21T00:00:00\", \"2018-03-22T00:00:00\", \"2018-03-23T00:00:00\", \"2018-03-26T00:00:00\", \"2018-03-27T00:00:00\", \"2018-03-28T00:00:00\", \"2018-03-29T00:00:00\", \"2018-03-30T00:00:00\", \"2018-04-02T00:00:00\", \"2018-04-03T00:00:00\", \"2018-04-04T00:00:00\", \"2018-04-09T00:00:00\", \"2018-04-10T00:00:00\", \"2018-04-11T00:00:00\", \"2018-04-12T00:00:00\", \"2018-04-13T00:00:00\", \"2018-04-16T00:00:00\", \"2018-04-17T00:00:00\", \"2018-04-18T00:00:00\", \"2018-04-19T00:00:00\", \"2018-04-20T00:00:00\", \"2018-04-23T00:00:00\", \"2018-04-24T00:00:00\", \"2018-04-25T00:00:00\", \"2018-04-26T00:00:00\", \"2018-04-27T00:00:00\", \"2018-05-02T00:00:00\", \"2018-05-03T00:00:00\", \"2018-05-04T00:00:00\", \"2018-05-07T00:00:00\", \"2018-05-08T00:00:00\", \"2018-05-09T00:00:00\", \"2018-05-10T00:00:00\", \"2018-05-11T00:00:00\", \"2018-05-14T00:00:00\", \"2018-05-15T00:00:00\", \"2018-05-16T00:00:00\", \"2018-05-17T00:00:00\", \"2018-05-18T00:00:00\", \"2018-05-21T00:00:00\", \"2018-05-22T00:00:00\", \"2018-05-23T00:00:00\", \"2018-05-24T00:00:00\", \"2018-05-25T00:00:00\", \"2018-05-28T00:00:00\", \"2018-05-29T00:00:00\", \"2018-05-30T00:00:00\", \"2018-05-31T00:00:00\", \"2018-06-01T00:00:00\", \"2018-06-04T00:00:00\", \"2018-06-05T00:00:00\", \"2018-06-06T00:00:00\", \"2018-06-07T00:00:00\", \"2018-06-08T00:00:00\", \"2018-06-11T00:00:00\", \"2018-06-12T00:00:00\", \"2018-06-13T00:00:00\", \"2018-06-14T00:00:00\", \"2018-06-15T00:00:00\", \"2018-06-19T00:00:00\", \"2018-06-20T00:00:00\", \"2018-06-21T00:00:00\", \"2018-06-22T00:00:00\", \"2018-06-25T00:00:00\", \"2018-06-26T00:00:00\", \"2018-06-27T00:00:00\", \"2018-06-28T00:00:00\", \"2018-06-29T00:00:00\", \"2018-07-02T00:00:00\", \"2018-07-03T00:00:00\", \"2018-07-04T00:00:00\", \"2018-07-05T00:00:00\", \"2018-07-06T00:00:00\", \"2018-07-09T00:00:00\", \"2018-07-10T00:00:00\", \"2018-07-11T00:00:00\", \"2018-07-12T00:00:00\", \"2018-07-13T00:00:00\", \"2018-07-16T00:00:00\", \"2018-07-17T00:00:00\", \"2018-07-18T00:00:00\", \"2018-07-19T00:00:00\", \"2018-07-20T00:00:00\", \"2018-07-23T00:00:00\", \"2018-07-24T00:00:00\", \"2018-07-25T00:00:00\", \"2018-07-26T00:00:00\", \"2018-07-27T00:00:00\", \"2018-07-30T00:00:00\", \"2018-07-31T00:00:00\", \"2018-08-01T00:00:00\", \"2018-08-02T00:00:00\", \"2018-08-03T00:00:00\", \"2018-08-06T00:00:00\", \"2018-08-07T00:00:00\", \"2018-08-08T00:00:00\", \"2018-08-09T00:00:00\", \"2018-08-10T00:00:00\", \"2018-08-13T00:00:00\", \"2018-08-14T00:00:00\", \"2018-08-15T00:00:00\", \"2018-08-16T00:00:00\", \"2018-08-17T00:00:00\", \"2018-08-20T00:00:00\", \"2018-08-21T00:00:00\", \"2018-08-22T00:00:00\", \"2018-08-23T00:00:00\", \"2018-08-24T00:00:00\", \"2018-08-27T00:00:00\", \"2018-08-28T00:00:00\", \"2018-08-29T00:00:00\", \"2018-08-30T00:00:00\", \"2018-08-31T00:00:00\", \"2018-09-03T00:00:00\", \"2018-09-04T00:00:00\", \"2018-09-05T00:00:00\", \"2018-09-06T00:00:00\", \"2018-09-07T00:00:00\", \"2018-09-10T00:00:00\", \"2018-09-11T00:00:00\", \"2018-09-12T00:00:00\", \"2018-09-13T00:00:00\", \"2018-09-14T00:00:00\", \"2018-09-17T00:00:00\", \"2018-09-18T00:00:00\", \"2018-09-19T00:00:00\", \"2018-09-20T00:00:00\", \"2018-09-21T00:00:00\", \"2018-09-25T00:00:00\", \"2018-09-26T00:00:00\", \"2018-09-27T00:00:00\", \"2018-09-28T00:00:00\", \"2018-10-08T00:00:00\", \"2018-10-09T00:00:00\", \"2018-10-10T00:00:00\", \"2018-10-11T00:00:00\", \"2018-10-12T00:00:00\", \"2018-10-15T00:00:00\", \"2018-10-16T00:00:00\", \"2018-10-17T00:00:00\", \"2018-10-18T00:00:00\", \"2018-10-19T00:00:00\", \"2018-10-22T00:00:00\", \"2018-10-23T00:00:00\", \"2018-10-24T00:00:00\", \"2018-10-25T00:00:00\", \"2018-10-26T00:00:00\", \"2018-10-29T00:00:00\", \"2018-10-30T00:00:00\", \"2018-10-31T00:00:00\", \"2018-11-01T00:00:00\", \"2018-11-02T00:00:00\", \"2018-11-05T00:00:00\", \"2018-11-06T00:00:00\", \"2018-11-07T00:00:00\", \"2018-11-08T00:00:00\", \"2018-11-09T00:00:00\", \"2018-11-12T00:00:00\", \"2018-11-13T00:00:00\", \"2018-11-14T00:00:00\", \"2018-11-15T00:00:00\", \"2018-11-16T00:00:00\", \"2018-11-19T00:00:00\", \"2018-11-20T00:00:00\", \"2018-11-21T00:00:00\", \"2018-11-22T00:00:00\", \"2018-11-23T00:00:00\", \"2018-11-26T00:00:00\", \"2018-11-27T00:00:00\", \"2018-11-28T00:00:00\", \"2018-11-29T00:00:00\", \"2018-11-30T00:00:00\", \"2018-12-03T00:00:00\", \"2018-12-04T00:00:00\", \"2018-12-05T00:00:00\", \"2018-12-06T00:00:00\", \"2018-12-07T00:00:00\", \"2018-12-10T00:00:00\", \"2018-12-11T00:00:00\", \"2018-12-12T00:00:00\", \"2018-12-13T00:00:00\", \"2018-12-14T00:00:00\", \"2018-12-17T00:00:00\", \"2018-12-18T00:00:00\", \"2018-12-19T00:00:00\", \"2018-12-20T00:00:00\", \"2018-12-21T00:00:00\", \"2018-12-24T00:00:00\", \"2018-12-25T00:00:00\", \"2018-12-26T00:00:00\", \"2018-12-27T00:00:00\", \"2018-12-28T00:00:00\"], \"xaxis\": \"x\", \"y\": [null, 0.0022155033551178485, -0.0019006355255197908, 0.0122791006504109, 0.013055778170470224, -0.015248381812396253, -0.02027568350888874, 0.010504039775924743, 0.03148462796593991, 0.012198364299848524, 0.007849652823889088, -0.003919220542724378, -0.02909998157019658, 0.010820930258070781, -0.01019874910728144, 0.01632757874758956, 0.004576260466087325, 0.02848901206246566, -0.02091505085673531, -0.02259339900159299, -0.026919275024261544, 0.008214322184952605, -0.050662878508433325, 0.011518953772657207, -0.016829936192967788, 0.01977130750386972, -0.01744460257899431, -0.09977111537626128, -0.0647816066883936, 0.004684849015588465, 0.0085369914690148, 0.026678349274193568, -0.0067940347821443085, -0.008747670345711599, 0.01666773106172014, -0.012095361900225175, -0.013780412146901629, -0.0015447895897555478, 0.03378498010503335, -0.0026163967745364003, 0.0026163967745363296, 0.004843018360020782, 0.01328216383305102, -0.00588309985050155, 0.0022121607193650145, -0.0033175160612594276, 0.0055195984328398106, -0.018895534910705284, 0.000743466578575494, -0.003365636114044908, 0.013410723203644039, 0.0420365915240772, -0.023703017229958805, 0.05720164561781748, -0.004473327047543712, 0.03887935062826203, -0.02178799539745212, -0.022967210162016572, 0.0069129660356623945, 0.06110850694328018, 0.0064598372741996694, 0.017863263074345992, -0.01915273982047623, -0.02018501000255754, 0.05065321621679356, 0.00187570517966268, -0.02784236769080465, 0.001602172729951849, 0.010198999639910847, -0.021151084944513492, 0.010310651235604021, -0.017134394065005006, -0.07478205805144643, -0.0014079096035742526, -0.006355085412585831, -0.00035200338710399825, -0.011040584240445817, -0.017705954290755478, 0.010873253094077594, 0.01964216794873507, 0.0031780450239480983, 0.015041059298793898, -0.011523829495311744, 0.0, 0.009441152558832608, -0.02430339499605704, -0.006795962005530623, -0.022872603270980143, -0.0066338354736150355, 0.009934225208253513, -0.0029354614019435794, 0.00403151539532095, -0.007707860503273777, 0.008802714477460543, 0.006554049557999757, -0.033198123373682165, 0.00672525565274365, 0.06316378522914225, -0.008428580505991294, -0.012422519998557209, -0.024953815180717515, 0.009113998177062226, 0.01869076399053079, 0.003200746180055873, -0.021525817062073807, 0.01654357441203225, -0.005007189736164871, -0.0003564215771417092, 0.010345853963348185, -0.045016007613580634, -0.06878238396266606, -0.01563068898318981, -0.03244052800666017, 0.01737740236984538, -0.005349047219081485, -0.009111014368965227, 0.003739068458844595, -0.02095083734780789, 0.01262187252976902, -0.024973040777776005, 0.004705576683178832, 0.0640291911136682, -0.028001911910808627, 0.004931054404260755, 0.004901200083189993, -0.013127414769957138, -0.008708306034369917, 0.003323933007696673, -0.0074958706985458765, -0.0025150806756921527, -0.0004168088938960035, -0.006315226888445826, -0.020466394394993887, 0.013266138171210754, 0.01267529024650773, 0.012928718163958363, 0.01562361506908734, -0.010663751170113306, -0.012864227488804407, 0.011217531764933265, 0.010269201081322198, -0.015655790486689206, -0.0415490472698164, -0.031215513736195646, -0.035921917075823324, 0.018799908062065412, 0.019351811625864836, 0.004444625901742676, -0.006674428513849537, 0.023391093742112935, -0.011407857730920064, -0.016463982524712616, -0.013092984924888671, -0.01834818563741504, 0.012418811265169999, 0.023052789579659092, -0.002235733666790077, -0.0013425621651675633, -0.0017971698730083966, 0.015600940813869925, 0.008809409293195365, -0.009695212834956975, -0.0066595527240408065, 0.007105683662418793, -0.012918451940665487, 0.001793087537582221, -0.008991554717128602, 0.0280455589032931, 0.029413005199532098, -0.019366232868538766, 0.017664036930610017, -0.007717084146948059, 0.009419280084876828, 0.00042959073978269754, -0.05473284935370062, 0.013411881631529904, 0.01891772129891672, 0.0013046193391533902, 0.02237436210939113, 0.013103529847848017, 0.0071186783533823735, -0.011745014723844911, -0.001270825551371736, 0.005479651937651046, 0.046383926740007186, 0.04586813080454669, -0.011952365508421794, 0.010417054310477111, 0.015988207896815623, -0.03145562071768246, -0.0042975975534579125, -0.04033120785535746, 0.03758776382935584, 0.021739965225781453, 0.032862604411438436, -0.0055874714317468085, 0.009668322172325305, -0.008173142290002107, 0.0022332677863701467, -0.015378967051151176, -0.005690281004577952, 0.04097336719199012, -0.004018960785803429, -0.021860525892380626, -0.0007500632532784654, 0.011182403932955921, -0.02628769602931687, -0.036030358222342025, -0.007522533925422046, 0.015383513191161663, 0.001954245073948282, 0.008169647978907808, 0.007721403848832379, -0.008106554346336739, 0.03428599175089019, -0.011676880203602087, 0.0030246145996321062, -0.0318553439412974, -0.002345184263356277, 0.00934243599783143, -0.0042709062574718265, 0.054127142248396966, -0.0033224186983570646, 0.011761973589819797, 0.023826476664542694, 0.001427391629853536, 0.006036647351196469, -0.005323619790688116, 0.024264251193410656, 0.027080389510072998, 0.005396972300742324, -0.007767100246627185, -0.03168097535167068, 0.009399973282699219, 0.02228100206897143, -0.012963705991351415, 0.005480229425384579, 0.012558073139071473, 0.0013447746487410546, 0.006383072689708237, 0.017251936922698517, -0.01792214507033781, 0.012973050990324725], \"yaxis\": \"y\"}, {\"hovertemplate\": \"Names=Banking/Bank of Shanghai<br>Time=%{x}<br>Log_R=%{y}<extra></extra>\", \"legendgroup\": \"Banking/Bank of Shanghai\", \"line\": {\"color\": \"#EF553B\", \"dash\": \"solid\"}, \"mode\": \"lines\", \"name\": \"Banking/Bank of Shanghai\", \"orientation\": \"v\", \"showlegend\": true, \"type\": \"scatter\", \"x\": [\"2018-01-02T00:00:00\", \"2018-01-03T00:00:00\", \"2018-01-04T00:00:00\", \"2018-01-05T00:00:00\", \"2018-01-08T00:00:00\", \"2018-01-09T00:00:00\", \"2018-01-10T00:00:00\", \"2018-01-11T00:00:00\", \"2018-01-12T00:00:00\", \"2018-01-15T00:00:00\", \"2018-01-16T00:00:00\", \"2018-01-17T00:00:00\", \"2018-01-18T00:00:00\", \"2018-01-19T00:00:00\", \"2018-01-22T00:00:00\", \"2018-01-23T00:00:00\", \"2018-01-24T00:00:00\", \"2018-01-25T00:00:00\", \"2018-01-26T00:00:00\", \"2018-01-29T00:00:00\", \"2018-01-30T00:00:00\", \"2018-01-31T00:00:00\", \"2018-02-01T00:00:00\", \"2018-02-02T00:00:00\", \"2018-02-05T00:00:00\", \"2018-02-06T00:00:00\", \"2018-02-07T00:00:00\", \"2018-02-08T00:00:00\", \"2018-02-09T00:00:00\", \"2018-02-12T00:00:00\", \"2018-02-13T00:00:00\", \"2018-02-14T00:00:00\", \"2018-02-22T00:00:00\", \"2018-02-23T00:00:00\", \"2018-02-26T00:00:00\", \"2018-02-27T00:00:00\", \"2018-02-28T00:00:00\", \"2018-03-01T00:00:00\", \"2018-03-02T00:00:00\", \"2018-03-05T00:00:00\", \"2018-03-06T00:00:00\", \"2018-03-07T00:00:00\", \"2018-03-08T00:00:00\", \"2018-03-09T00:00:00\", \"2018-03-12T00:00:00\", \"2018-03-13T00:00:00\", \"2018-03-14T00:00:00\", \"2018-03-15T00:00:00\", \"2018-03-16T00:00:00\", \"2018-03-19T00:00:00\", \"2018-03-20T00:00:00\", \"2018-03-21T00:00:00\", \"2018-03-22T00:00:00\", \"2018-03-23T00:00:00\", \"2018-03-26T00:00:00\", \"2018-03-27T00:00:00\", \"2018-03-28T00:00:00\", \"2018-03-29T00:00:00\", \"2018-03-30T00:00:00\", \"2018-04-02T00:00:00\", \"2018-04-03T00:00:00\", \"2018-04-04T00:00:00\", \"2018-04-09T00:00:00\", \"2018-04-10T00:00:00\", \"2018-04-11T00:00:00\", \"2018-04-12T00:00:00\", \"2018-04-13T00:00:00\", \"2018-04-16T00:00:00\", \"2018-04-17T00:00:00\", \"2018-04-18T00:00:00\", \"2018-04-19T00:00:00\", \"2018-04-20T00:00:00\", \"2018-04-23T00:00:00\", \"2018-04-24T00:00:00\", \"2018-04-25T00:00:00\", \"2018-04-26T00:00:00\", \"2018-04-27T00:00:00\", \"2018-05-02T00:00:00\", \"2018-05-03T00:00:00\", \"2018-05-04T00:00:00\", \"2018-05-07T00:00:00\", \"2018-05-08T00:00:00\", \"2018-05-09T00:00:00\", \"2018-05-10T00:00:00\", \"2018-05-11T00:00:00\", \"2018-05-14T00:00:00\", \"2018-05-15T00:00:00\", \"2018-05-16T00:00:00\", \"2018-05-17T00:00:00\", \"2018-05-18T00:00:00\", \"2018-05-21T00:00:00\", \"2018-05-22T00:00:00\", \"2018-05-23T00:00:00\", \"2018-05-24T00:00:00\", \"2018-05-25T00:00:00\", \"2018-05-28T00:00:00\", \"2018-05-29T00:00:00\", \"2018-05-30T00:00:00\", \"2018-05-31T00:00:00\", \"2018-06-01T00:00:00\", \"2018-06-04T00:00:00\", \"2018-06-05T00:00:00\", \"2018-06-06T00:00:00\", \"2018-06-07T00:00:00\", \"2018-06-08T00:00:00\", \"2018-06-11T00:00:00\", \"2018-06-12T00:00:00\", \"2018-06-13T00:00:00\", \"2018-06-14T00:00:00\", \"2018-06-15T00:00:00\", \"2018-06-19T00:00:00\", \"2018-06-20T00:00:00\", \"2018-06-21T00:00:00\", \"2018-06-22T00:00:00\", \"2018-06-25T00:00:00\", \"2018-06-26T00:00:00\", \"2018-06-27T00:00:00\", \"2018-06-28T00:00:00\", \"2018-06-29T00:00:00\", \"2018-07-02T00:00:00\", \"2018-07-03T00:00:00\", \"2018-07-04T00:00:00\", \"2018-07-05T00:00:00\", \"2018-07-06T00:00:00\", \"2018-07-09T00:00:00\", \"2018-07-10T00:00:00\", \"2018-07-11T00:00:00\", \"2018-07-12T00:00:00\", \"2018-07-13T00:00:00\", \"2018-07-16T00:00:00\", \"2018-07-17T00:00:00\", \"2018-07-18T00:00:00\", \"2018-07-19T00:00:00\", \"2018-07-20T00:00:00\", \"2018-07-23T00:00:00\", \"2018-07-24T00:00:00\", \"2018-07-25T00:00:00\", \"2018-07-26T00:00:00\", \"2018-07-27T00:00:00\", \"2018-07-30T00:00:00\", \"2018-07-31T00:00:00\", \"2018-08-01T00:00:00\", \"2018-08-02T00:00:00\", \"2018-08-03T00:00:00\", \"2018-08-06T00:00:00\", \"2018-08-07T00:00:00\", \"2018-08-08T00:00:00\", \"2018-08-09T00:00:00\", \"2018-08-10T00:00:00\", \"2018-08-13T00:00:00\", \"2018-08-14T00:00:00\", \"2018-08-15T00:00:00\", \"2018-08-16T00:00:00\", \"2018-08-17T00:00:00\", \"2018-08-20T00:00:00\", \"2018-08-21T00:00:00\", \"2018-08-22T00:00:00\", \"2018-08-23T00:00:00\", \"2018-08-24T00:00:00\", \"2018-08-27T00:00:00\", \"2018-08-28T00:00:00\", \"2018-08-29T00:00:00\", \"2018-08-30T00:00:00\", \"2018-08-31T00:00:00\", \"2018-09-03T00:00:00\", \"2018-09-04T00:00:00\", \"2018-09-05T00:00:00\", \"2018-09-06T00:00:00\", \"2018-09-07T00:00:00\", \"2018-09-10T00:00:00\", \"2018-09-11T00:00:00\", \"2018-09-12T00:00:00\", \"2018-09-13T00:00:00\", \"2018-09-14T00:00:00\", \"2018-09-17T00:00:00\", \"2018-09-18T00:00:00\", \"2018-09-19T00:00:00\", \"2018-09-20T00:00:00\", \"2018-09-21T00:00:00\", \"2018-09-25T00:00:00\", \"2018-09-26T00:00:00\", \"2018-09-27T00:00:00\", \"2018-09-28T00:00:00\", \"2018-10-08T00:00:00\", \"2018-10-09T00:00:00\", \"2018-10-10T00:00:00\", \"2018-10-11T00:00:00\", \"2018-10-12T00:00:00\", \"2018-10-15T00:00:00\", \"2018-10-16T00:00:00\", \"2018-10-17T00:00:00\", \"2018-10-18T00:00:00\", \"2018-10-19T00:00:00\", \"2018-10-22T00:00:00\", \"2018-10-23T00:00:00\", \"2018-10-24T00:00:00\", \"2018-10-25T00:00:00\", \"2018-10-26T00:00:00\", \"2018-10-29T00:00:00\", \"2018-10-30T00:00:00\", \"2018-10-31T00:00:00\", \"2018-11-01T00:00:00\", \"2018-11-02T00:00:00\", \"2018-11-05T00:00:00\", \"2018-11-06T00:00:00\", \"2018-11-07T00:00:00\", \"2018-11-08T00:00:00\", \"2018-11-09T00:00:00\", \"2018-11-12T00:00:00\", \"2018-11-13T00:00:00\", \"2018-11-14T00:00:00\", \"2018-11-15T00:00:00\", \"2018-11-16T00:00:00\", \"2018-11-19T00:00:00\", \"2018-11-20T00:00:00\", \"2018-11-21T00:00:00\", \"2018-11-22T00:00:00\", \"2018-11-23T00:00:00\", \"2018-11-26T00:00:00\", \"2018-11-27T00:00:00\", \"2018-11-28T00:00:00\", \"2018-11-29T00:00:00\", \"2018-11-30T00:00:00\", \"2018-12-03T00:00:00\", \"2018-12-04T00:00:00\", \"2018-12-05T00:00:00\", \"2018-12-06T00:00:00\", \"2018-12-07T00:00:00\", \"2018-12-10T00:00:00\", \"2018-12-11T00:00:00\", \"2018-12-12T00:00:00\", \"2018-12-13T00:00:00\", \"2018-12-14T00:00:00\", \"2018-12-17T00:00:00\", \"2018-12-18T00:00:00\", \"2018-12-19T00:00:00\", \"2018-12-20T00:00:00\", \"2018-12-21T00:00:00\", \"2018-12-24T00:00:00\", \"2018-12-25T00:00:00\", \"2018-12-26T00:00:00\", \"2018-12-27T00:00:00\", \"2018-12-28T00:00:00\"], \"xaxis\": \"x\", \"y\": [null, 0.011744954634700181, 0.014996996638834754, 0.005397392765026264, -0.0033701748018820587, -0.003381453705092102, 0.003381453705092181, -0.000674813695672579, -0.001352404267471667, 0.010766971776519602, 0.02315715845087571, 0.011056245555062875, 0.007090005923917414, 0.030985640141265456, -0.020760965867816755, 0.016392981758478437, 0.0043679841093383215, -0.020126036386972912, 0.018880991384033038, 0.02158490984900686, -0.025959543125479854, -0.0006258913407155622, -0.008178906916785482, 0.023104798805310342, 0.024993189866128956, -0.04494462803867251, 0.011271115904147035, -0.011900555561290342, -0.05905056374657075, 0.011300024555805388, 0.01638807198345419, 0.007126748927281162, 0.020447443973742107, 0.006305841138810432, 0.0018833710924207104, -0.02412799841657395, -0.02012406221784144, -0.0019686696332978505, -0.005930746847995477, -0.0019856774143093762, 0.009885093895602687, -0.004600520549644987, 0.007220307200161454, 0.003264432336663745, -0.0006514910387829408, -0.004577706277234315, -0.007234558842191194, -0.003305556724574429, 0.007916424262304959, -0.001973809855736338, -0.0019765685742341456, -0.0006604891077598854, -0.0006597792162264717, -0.012629446771786297, -0.016182742900545645, 0.0027145321466042547, -0.0006776775894930335, 0.009452830058642114, -0.0053901178655740446, -0.006780385855652607, -0.014388080344756778, -0.0006910996262825798, -0.0027664801130997444, 0.02056333374672364, 0.018818295815915348, -0.01881829581591538, 0.004737525888740738, -0.016338162109872535, -0.006886475528854881, 0.011680333067589387, 0.011544304571138107, -0.006774380445852049, 0.014174411038788196, 0.011330151661894522, -0.005981994382544354, 0.0013325820548883498, 0.01059583513691506, 0.007220307200161454, -0.002619786650516411, -0.004600520549644987, 0.011135919485531574, 0.010370460895160798, -0.0032298276254682273, 0.0038737603717399227, -0.0006439327462716892, 0.010262798946257055, 0.0069953171698259676, -0.010832034954506234, -0.003207878774783004, 0.02098663617552715, 0.002514401743636342, -0.0006286621300797387, -0.013278121047600034, -0.001912187403449099, 0.0012748292781832149, -0.0025512858207598346, -0.0025565892172820133, -0.0239730837960174, 0.02076603812949665, -0.007090005923917363, 0.0185853485056665, 0.0006342335964751914, 0.0006338315991670237, 0.006951116459727471, -0.008219181655369489, 0.011363719425759181, 0.0037585940244189847, -0.004387256154498835, -0.01010082369920427, 0.0069555084017509415, 0.0025175668325227636, -0.018395605745977227, 0.0031955749812873093, 0.0, -0.00640262064780797, -0.007090005923917363, 0.0012929588845449224, 0.0051550711277172385, 0.012771552089879358, -0.028316161661070916, 0.0006532753017471453, -0.01644322519011264, 0.014483592351891023, -0.017804517982894157, 0.030146827302160662, 0.0070763175766406575, -0.009015689800503632, 0.017314680197366265, -0.0012723954436203136, -0.016042284753745882, -0.04281792160045779, -0.013320541145431106, -0.01739156562477399, 0.028820538087782368, 0.03809044516707853, 0.03052313475166356, -0.002656383989782443, -0.00177408025423351, 0.0008874885505610397, 0.0026587370326681186, 0.0, -0.015158725446512079, -0.009932848264557469, 0.006332471080995394, 0.014324600160665921, 0.009729662911151564, -0.007067305770739013, 0.018446030025145714, -0.010499044312142398, -0.01060934285341581, -0.008033199067821899, -0.018995453695026712, 0.009090553652324066, -0.006355467851092869, 0.012670798685848911, 0.008060864519320554, 0.0017819857790976508, 0.0017799179773502684, 0.016747480551781456, 0.006968803276015528, 0.0, 0.0060572753968035145, -0.0017265879550695269, 0.012027470776781922, 0.01019575078944569, 0.005900056868652665, -0.01866027518448061, 0.007675863699556815, -0.007675863699556711, 0.005123431405769297, -0.013722714509477757, 0.012870771009498483, 0.012706173516322725, -0.009301797722556062, -0.012826746826333266, 0.016218417411173965, -0.0008468923423855953, 0.011795456440986517, 0.016611017543493797, -0.016611017543493783, 0.005844824892866121, 0.002495225706060045, 0.013200746155731385, -0.02573814642378577, -0.022109733144360585, 0.000860331516167653, -0.03319104471942836, 0.006196708807055453, -0.024118737415332134, 0.014363182540803304, 0.023778956346852505, -0.01314029973081513, 0.026969761967755912, 0.02626135131364964, -0.021978885986724647, 0.031133591234439057, 0.011533115958485248, -0.00739823157944425, 0.0008244385596428118, 0.013104552485056566, -0.006530759465254996, -0.015684034047723207, 0.025464298787567848, -0.010600417004606639, -0.010712963693723288, 0.0008289820977639227, 0.0033059022812770918, -0.05077250651510713, 0.011221565574702108, 0.017021016279054873, -0.013593408426183706, 0.00682038096411695, -0.004258103550257752, 0.005955376770658342, -0.013664121350447986, -0.000859898696286002, -0.008642807565356963, -0.006968803276015436, -0.0017504397380113778, -0.001752312874381966, 0.01047155588840866, -0.01663129813456243, 0.01228177423473037, 0.009543931488257124, 0.01030962331320217, -0.004282465326924925, -0.011221565574702125, 0.0026000398241926076, -0.0034681523982819018, 0.005198800015823082, 0.007748563164756845, 0.005985927991432912, -0.004271487905790075, 0.012760218315827946, -0.0008454594281559965, -0.007643270981881707, -0.028536734486332354, -0.015915297120682615, -0.01707856954259343, -0.010939296546505148, -0.019436243381909735, 0.014842970143584249, 0.029933419104765355], \"yaxis\": \"y\"}],\n",
       "                        {\"legend\": {\"title\": {\"text\": \"Names\"}, \"tracegroupgap\": 0}, \"margin\": {\"t\": 60}, \"template\": {\"data\": {\"bar\": [{\"error_x\": {\"color\": \"#2a3f5f\"}, \"error_y\": {\"color\": \"#2a3f5f\"}, \"marker\": {\"line\": {\"color\": \"#E5ECF6\", \"width\": 0.5}}, \"type\": \"bar\"}], \"barpolar\": [{\"marker\": {\"line\": {\"color\": \"#E5ECF6\", \"width\": 0.5}}, \"type\": \"barpolar\"}], \"carpet\": [{\"aaxis\": {\"endlinecolor\": \"#2a3f5f\", \"gridcolor\": \"white\", \"linecolor\": \"white\", \"minorgridcolor\": \"white\", \"startlinecolor\": \"#2a3f5f\"}, \"baxis\": {\"endlinecolor\": \"#2a3f5f\", \"gridcolor\": \"white\", \"linecolor\": \"white\", \"minorgridcolor\": \"white\", \"startlinecolor\": \"#2a3f5f\"}, \"type\": \"carpet\"}], \"choropleth\": [{\"colorbar\": {\"outlinewidth\": 0, \"ticks\": \"\"}, \"type\": \"choropleth\"}], \"contour\": [{\"colorbar\": {\"outlinewidth\": 0, \"ticks\": \"\"}, \"colorscale\": [[0.0, \"#0d0887\"], [0.1111111111111111, \"#46039f\"], [0.2222222222222222, \"#7201a8\"], [0.3333333333333333, \"#9c179e\"], [0.4444444444444444, \"#bd3786\"], [0.5555555555555556, \"#d8576b\"], [0.6666666666666666, \"#ed7953\"], [0.7777777777777778, \"#fb9f3a\"], [0.8888888888888888, \"#fdca26\"], [1.0, \"#f0f921\"]], \"type\": \"contour\"}], \"contourcarpet\": [{\"colorbar\": {\"outlinewidth\": 0, \"ticks\": \"\"}, \"type\": \"contourcarpet\"}], \"heatmap\": [{\"colorbar\": {\"outlinewidth\": 0, \"ticks\": \"\"}, \"colorscale\": [[0.0, \"#0d0887\"], [0.1111111111111111, \"#46039f\"], [0.2222222222222222, \"#7201a8\"], [0.3333333333333333, \"#9c179e\"], [0.4444444444444444, \"#bd3786\"], [0.5555555555555556, \"#d8576b\"], [0.6666666666666666, \"#ed7953\"], [0.7777777777777778, \"#fb9f3a\"], [0.8888888888888888, \"#fdca26\"], [1.0, \"#f0f921\"]], \"type\": \"heatmap\"}], \"heatmapgl\": [{\"colorbar\": {\"outlinewidth\": 0, \"ticks\": \"\"}, \"colorscale\": [[0.0, \"#0d0887\"], [0.1111111111111111, \"#46039f\"], [0.2222222222222222, \"#7201a8\"], [0.3333333333333333, \"#9c179e\"], [0.4444444444444444, \"#bd3786\"], [0.5555555555555556, \"#d8576b\"], [0.6666666666666666, \"#ed7953\"], [0.7777777777777778, \"#fb9f3a\"], [0.8888888888888888, \"#fdca26\"], [1.0, \"#f0f921\"]], \"type\": \"heatmapgl\"}], \"histogram\": [{\"marker\": {\"colorbar\": {\"outlinewidth\": 0, \"ticks\": \"\"}}, \"type\": \"histogram\"}], \"histogram2d\": [{\"colorbar\": {\"outlinewidth\": 0, \"ticks\": \"\"}, \"colorscale\": [[0.0, \"#0d0887\"], [0.1111111111111111, \"#46039f\"], [0.2222222222222222, \"#7201a8\"], [0.3333333333333333, \"#9c179e\"], [0.4444444444444444, \"#bd3786\"], [0.5555555555555556, \"#d8576b\"], [0.6666666666666666, \"#ed7953\"], [0.7777777777777778, \"#fb9f3a\"], [0.8888888888888888, \"#fdca26\"], [1.0, \"#f0f921\"]], \"type\": \"histogram2d\"}], \"histogram2dcontour\": [{\"colorbar\": {\"outlinewidth\": 0, \"ticks\": \"\"}, \"colorscale\": [[0.0, \"#0d0887\"], [0.1111111111111111, \"#46039f\"], [0.2222222222222222, \"#7201a8\"], [0.3333333333333333, \"#9c179e\"], [0.4444444444444444, \"#bd3786\"], [0.5555555555555556, \"#d8576b\"], [0.6666666666666666, \"#ed7953\"], [0.7777777777777778, \"#fb9f3a\"], [0.8888888888888888, \"#fdca26\"], [1.0, \"#f0f921\"]], \"type\": \"histogram2dcontour\"}], \"mesh3d\": [{\"colorbar\": {\"outlinewidth\": 0, \"ticks\": \"\"}, \"type\": \"mesh3d\"}], \"parcoords\": [{\"line\": {\"colorbar\": {\"outlinewidth\": 0, \"ticks\": \"\"}}, \"type\": \"parcoords\"}], \"pie\": [{\"automargin\": true, \"type\": \"pie\"}], \"scatter\": [{\"marker\": {\"colorbar\": {\"outlinewidth\": 0, \"ticks\": \"\"}}, \"type\": \"scatter\"}], \"scatter3d\": [{\"line\": {\"colorbar\": {\"outlinewidth\": 0, \"ticks\": \"\"}}, \"marker\": {\"colorbar\": {\"outlinewidth\": 0, \"ticks\": \"\"}}, \"type\": \"scatter3d\"}], \"scattercarpet\": [{\"marker\": {\"colorbar\": {\"outlinewidth\": 0, \"ticks\": \"\"}}, \"type\": \"scattercarpet\"}], \"scattergeo\": [{\"marker\": {\"colorbar\": {\"outlinewidth\": 0, \"ticks\": \"\"}}, \"type\": \"scattergeo\"}], \"scattergl\": [{\"marker\": {\"colorbar\": {\"outlinewidth\": 0, \"ticks\": \"\"}}, \"type\": \"scattergl\"}], \"scattermapbox\": [{\"marker\": {\"colorbar\": {\"outlinewidth\": 0, \"ticks\": \"\"}}, \"type\": \"scattermapbox\"}], \"scatterpolar\": [{\"marker\": {\"colorbar\": {\"outlinewidth\": 0, \"ticks\": \"\"}}, \"type\": \"scatterpolar\"}], \"scatterpolargl\": [{\"marker\": {\"colorbar\": {\"outlinewidth\": 0, \"ticks\": \"\"}}, \"type\": \"scatterpolargl\"}], \"scatterternary\": [{\"marker\": {\"colorbar\": {\"outlinewidth\": 0, \"ticks\": \"\"}}, \"type\": \"scatterternary\"}], \"surface\": [{\"colorbar\": {\"outlinewidth\": 0, \"ticks\": \"\"}, \"colorscale\": [[0.0, \"#0d0887\"], [0.1111111111111111, \"#46039f\"], [0.2222222222222222, \"#7201a8\"], [0.3333333333333333, \"#9c179e\"], [0.4444444444444444, \"#bd3786\"], [0.5555555555555556, \"#d8576b\"], [0.6666666666666666, \"#ed7953\"], [0.7777777777777778, \"#fb9f3a\"], [0.8888888888888888, \"#fdca26\"], [1.0, \"#f0f921\"]], \"type\": \"surface\"}], \"table\": [{\"cells\": {\"fill\": {\"color\": \"#EBF0F8\"}, \"line\": {\"color\": \"white\"}}, \"header\": {\"fill\": {\"color\": \"#C8D4E3\"}, \"line\": {\"color\": \"white\"}}, \"type\": \"table\"}]}, \"layout\": {\"annotationdefaults\": {\"arrowcolor\": \"#2a3f5f\", \"arrowhead\": 0, \"arrowwidth\": 1}, \"coloraxis\": {\"colorbar\": {\"outlinewidth\": 0, \"ticks\": \"\"}}, \"colorscale\": {\"diverging\": [[0, \"#8e0152\"], [0.1, \"#c51b7d\"], [0.2, \"#de77ae\"], [0.3, \"#f1b6da\"], [0.4, \"#fde0ef\"], [0.5, \"#f7f7f7\"], [0.6, \"#e6f5d0\"], [0.7, \"#b8e186\"], [0.8, \"#7fbc41\"], [0.9, \"#4d9221\"], [1, \"#276419\"]], \"sequential\": [[0.0, \"#0d0887\"], [0.1111111111111111, \"#46039f\"], [0.2222222222222222, \"#7201a8\"], [0.3333333333333333, \"#9c179e\"], [0.4444444444444444, \"#bd3786\"], [0.5555555555555556, \"#d8576b\"], [0.6666666666666666, \"#ed7953\"], [0.7777777777777778, \"#fb9f3a\"], [0.8888888888888888, \"#fdca26\"], [1.0, \"#f0f921\"]], \"sequentialminus\": [[0.0, \"#0d0887\"], [0.1111111111111111, \"#46039f\"], [0.2222222222222222, \"#7201a8\"], [0.3333333333333333, \"#9c179e\"], [0.4444444444444444, \"#bd3786\"], [0.5555555555555556, \"#d8576b\"], [0.6666666666666666, \"#ed7953\"], [0.7777777777777778, \"#fb9f3a\"], [0.8888888888888888, \"#fdca26\"], [1.0, \"#f0f921\"]]}, \"colorway\": [\"#636efa\", \"#EF553B\", \"#00cc96\", \"#ab63fa\", \"#FFA15A\", \"#19d3f3\", \"#FF6692\", \"#B6E880\", \"#FF97FF\", \"#FECB52\"], \"font\": {\"color\": \"#2a3f5f\"}, \"geo\": {\"bgcolor\": \"white\", \"lakecolor\": \"white\", \"landcolor\": \"#E5ECF6\", \"showlakes\": true, \"showland\": true, \"subunitcolor\": \"white\"}, \"hoverlabel\": {\"align\": \"left\"}, \"hovermode\": \"closest\", \"mapbox\": {\"style\": \"light\"}, \"paper_bgcolor\": \"white\", \"plot_bgcolor\": \"#E5ECF6\", \"polar\": {\"angularaxis\": {\"gridcolor\": \"white\", \"linecolor\": \"white\", \"ticks\": \"\"}, \"bgcolor\": \"#E5ECF6\", \"radialaxis\": {\"gridcolor\": \"white\", \"linecolor\": \"white\", \"ticks\": \"\"}}, \"scene\": {\"xaxis\": {\"backgroundcolor\": \"#E5ECF6\", \"gridcolor\": \"white\", \"gridwidth\": 2, \"linecolor\": \"white\", \"showbackground\": true, \"ticks\": \"\", \"zerolinecolor\": \"white\"}, \"yaxis\": {\"backgroundcolor\": \"#E5ECF6\", \"gridcolor\": \"white\", \"gridwidth\": 2, \"linecolor\": \"white\", \"showbackground\": true, \"ticks\": \"\", \"zerolinecolor\": \"white\"}, \"zaxis\": {\"backgroundcolor\": \"#E5ECF6\", \"gridcolor\": \"white\", \"gridwidth\": 2, \"linecolor\": \"white\", \"showbackground\": true, \"ticks\": \"\", \"zerolinecolor\": \"white\"}}, \"shapedefaults\": {\"line\": {\"color\": \"#2a3f5f\"}}, \"ternary\": {\"aaxis\": {\"gridcolor\": \"white\", \"linecolor\": \"white\", \"ticks\": \"\"}, \"baxis\": {\"gridcolor\": \"white\", \"linecolor\": \"white\", \"ticks\": \"\"}, \"bgcolor\": \"#E5ECF6\", \"caxis\": {\"gridcolor\": \"white\", \"linecolor\": \"white\", \"ticks\": \"\"}}, \"title\": {\"x\": 0.05}, \"xaxis\": {\"automargin\": true, \"gridcolor\": \"white\", \"linecolor\": \"white\", \"ticks\": \"\", \"title\": {\"standoff\": 15}, \"zerolinecolor\": \"white\", \"zerolinewidth\": 2}, \"yaxis\": {\"automargin\": true, \"gridcolor\": \"white\", \"linecolor\": \"white\", \"ticks\": \"\", \"title\": {\"standoff\": 15}, \"zerolinecolor\": \"white\", \"zerolinewidth\": 2}}}, \"xaxis\": {\"anchor\": \"y\", \"domain\": [0.0, 1.0], \"title\": {\"text\": \"Time\"}}, \"yaxis\": {\"anchor\": \"x\", \"domain\": [0.0, 1.0], \"title\": {\"text\": \"Log_R\"}}},\n",
       "                        {\"responsive\": true}\n",
       "                    ).then(function(){\n",
       "                            \n",
       "var gd = document.getElementById('92d2a60c-c35e-4df9-9c06-ab2faceebcbc');\n",
       "var x = new MutationObserver(function (mutations, observer) {{\n",
       "        var display = window.getComputedStyle(gd).display;\n",
       "        if (!display || display === 'none') {{\n",
       "            console.log([gd, 'removed!']);\n",
       "            Plotly.purge(gd);\n",
       "            observer.disconnect();\n",
       "        }}\n",
       "}});\n",
       "\n",
       "// Listen for the removal of the full notebook cells\n",
       "var notebookContainer = gd.closest('#notebook-container');\n",
       "if (notebookContainer) {{\n",
       "    x.observe(notebookContainer, {childList: true});\n",
       "}}\n",
       "\n",
       "// Listen for the clearing of the current output cell\n",
       "var outputEl = gd.closest('.output');\n",
       "if (outputEl) {{\n",
       "    x.observe(outputEl, {childList: true});\n",
       "}}\n",
       "\n",
       "                        })\n",
       "                };\n",
       "                });\n",
       "            </script>\n",
       "        </div>"
      ]
     },
     "metadata": {},
     "output_type": "display_data"
    }
   ],
   "source": [
    "def plot_2_stock(labels, y):\n",
    "    n = 0\n",
    "    stock1, names1 = stocks[labels[0]], [labels[0]] * len(stocks[labels[0]])\n",
    "    stock2, names2 = stocks[labels[1]], [labels[1]] * len(stocks[labels[1]])\n",
    "    df = stock1.append(stock2)\n",
    "    df['Names'], df['Time'] = names1 + names2, df.index.values\n",
    "\n",
    "    fig = px.line(df, x=\"Time\", y=y, color='Names')\n",
    "    fig.show()\n",
    "\n",
    "plot_2_stock(['Mining/Shandong Gold Mining', 'Banking/Bank of Shanghai'], 'Log_R')"
   ]
  },
  {
   "cell_type": "code",
   "execution_count": 268,
   "metadata": {},
   "outputs": [
    {
     "data": {
      "application/vnd.plotly.v1+json": {
       "config": {
        "plotlyServerURL": "https://plot.ly"
       },
       "data": [
        {
         "hovertemplate": "Names=Mining/Shandong Gold Mining<br>Time=%{x}<br>Volume=%{y}<extra></extra>",
         "legendgroup": "Mining/Shandong Gold Mining",
         "line": {
          "color": "#636efa",
          "dash": "solid"
         },
         "mode": "lines",
         "name": "Mining/Shandong Gold Mining",
         "orientation": "v",
         "showlegend": true,
         "type": "scatter",
         "x": [
          "2018-01-02T00:00:00",
          "2018-01-03T00:00:00",
          "2018-01-04T00:00:00",
          "2018-01-05T00:00:00",
          "2018-01-08T00:00:00",
          "2018-01-09T00:00:00",
          "2018-01-10T00:00:00",
          "2018-01-11T00:00:00",
          "2018-01-12T00:00:00",
          "2018-01-15T00:00:00",
          "2018-01-16T00:00:00",
          "2018-01-17T00:00:00",
          "2018-01-18T00:00:00",
          "2018-01-19T00:00:00",
          "2018-01-22T00:00:00",
          "2018-01-23T00:00:00",
          "2018-01-24T00:00:00",
          "2018-01-25T00:00:00",
          "2018-01-26T00:00:00",
          "2018-01-29T00:00:00",
          "2018-01-30T00:00:00",
          "2018-01-31T00:00:00",
          "2018-02-01T00:00:00",
          "2018-02-02T00:00:00",
          "2018-02-05T00:00:00",
          "2018-02-06T00:00:00",
          "2018-02-07T00:00:00",
          "2018-02-08T00:00:00",
          "2018-02-09T00:00:00",
          "2018-02-12T00:00:00",
          "2018-02-13T00:00:00",
          "2018-02-14T00:00:00",
          "2018-02-22T00:00:00",
          "2018-02-23T00:00:00",
          "2018-02-26T00:00:00",
          "2018-02-27T00:00:00",
          "2018-02-28T00:00:00",
          "2018-03-01T00:00:00",
          "2018-03-02T00:00:00",
          "2018-03-05T00:00:00",
          "2018-03-06T00:00:00",
          "2018-03-07T00:00:00",
          "2018-03-08T00:00:00",
          "2018-03-09T00:00:00",
          "2018-03-12T00:00:00",
          "2018-03-13T00:00:00",
          "2018-03-14T00:00:00",
          "2018-03-15T00:00:00",
          "2018-03-16T00:00:00",
          "2018-03-19T00:00:00",
          "2018-03-20T00:00:00",
          "2018-03-21T00:00:00",
          "2018-03-22T00:00:00",
          "2018-03-23T00:00:00",
          "2018-03-26T00:00:00",
          "2018-03-27T00:00:00",
          "2018-03-28T00:00:00",
          "2018-03-29T00:00:00",
          "2018-03-30T00:00:00",
          "2018-04-02T00:00:00",
          "2018-04-03T00:00:00",
          "2018-04-04T00:00:00",
          "2018-04-09T00:00:00",
          "2018-04-10T00:00:00",
          "2018-04-11T00:00:00",
          "2018-04-12T00:00:00",
          "2018-04-13T00:00:00",
          "2018-04-16T00:00:00",
          "2018-04-17T00:00:00",
          "2018-04-18T00:00:00",
          "2018-04-19T00:00:00",
          "2018-04-20T00:00:00",
          "2018-04-23T00:00:00",
          "2018-04-24T00:00:00",
          "2018-04-25T00:00:00",
          "2018-04-26T00:00:00",
          "2018-04-27T00:00:00",
          "2018-05-02T00:00:00",
          "2018-05-03T00:00:00",
          "2018-05-04T00:00:00",
          "2018-05-07T00:00:00",
          "2018-05-08T00:00:00",
          "2018-05-09T00:00:00",
          "2018-05-10T00:00:00",
          "2018-05-11T00:00:00",
          "2018-05-14T00:00:00",
          "2018-05-15T00:00:00",
          "2018-05-16T00:00:00",
          "2018-05-17T00:00:00",
          "2018-05-18T00:00:00",
          "2018-05-21T00:00:00",
          "2018-05-22T00:00:00",
          "2018-05-23T00:00:00",
          "2018-05-24T00:00:00",
          "2018-05-25T00:00:00",
          "2018-05-28T00:00:00",
          "2018-05-29T00:00:00",
          "2018-05-30T00:00:00",
          "2018-05-31T00:00:00",
          "2018-06-01T00:00:00",
          "2018-06-04T00:00:00",
          "2018-06-05T00:00:00",
          "2018-06-06T00:00:00",
          "2018-06-07T00:00:00",
          "2018-06-08T00:00:00",
          "2018-06-11T00:00:00",
          "2018-06-12T00:00:00",
          "2018-06-13T00:00:00",
          "2018-06-14T00:00:00",
          "2018-06-15T00:00:00",
          "2018-06-19T00:00:00",
          "2018-06-20T00:00:00",
          "2018-06-21T00:00:00",
          "2018-06-22T00:00:00",
          "2018-06-25T00:00:00",
          "2018-06-26T00:00:00",
          "2018-06-27T00:00:00",
          "2018-06-28T00:00:00",
          "2018-06-29T00:00:00",
          "2018-07-02T00:00:00",
          "2018-07-03T00:00:00",
          "2018-07-04T00:00:00",
          "2018-07-05T00:00:00",
          "2018-07-06T00:00:00",
          "2018-07-09T00:00:00",
          "2018-07-10T00:00:00",
          "2018-07-11T00:00:00",
          "2018-07-12T00:00:00",
          "2018-07-13T00:00:00",
          "2018-07-16T00:00:00",
          "2018-07-17T00:00:00",
          "2018-07-18T00:00:00",
          "2018-07-19T00:00:00",
          "2018-07-20T00:00:00",
          "2018-07-23T00:00:00",
          "2018-07-24T00:00:00",
          "2018-07-25T00:00:00",
          "2018-07-26T00:00:00",
          "2018-07-27T00:00:00",
          "2018-07-30T00:00:00",
          "2018-07-31T00:00:00",
          "2018-08-01T00:00:00",
          "2018-08-02T00:00:00",
          "2018-08-03T00:00:00",
          "2018-08-06T00:00:00",
          "2018-08-07T00:00:00",
          "2018-08-08T00:00:00",
          "2018-08-09T00:00:00",
          "2018-08-10T00:00:00",
          "2018-08-13T00:00:00",
          "2018-08-14T00:00:00",
          "2018-08-15T00:00:00",
          "2018-08-16T00:00:00",
          "2018-08-17T00:00:00",
          "2018-08-20T00:00:00",
          "2018-08-21T00:00:00",
          "2018-08-22T00:00:00",
          "2018-08-23T00:00:00",
          "2018-08-24T00:00:00",
          "2018-08-27T00:00:00",
          "2018-08-28T00:00:00",
          "2018-08-29T00:00:00",
          "2018-08-30T00:00:00",
          "2018-08-31T00:00:00",
          "2018-09-03T00:00:00",
          "2018-09-04T00:00:00",
          "2018-09-05T00:00:00",
          "2018-09-06T00:00:00",
          "2018-09-07T00:00:00",
          "2018-09-10T00:00:00",
          "2018-09-11T00:00:00",
          "2018-09-12T00:00:00",
          "2018-09-13T00:00:00",
          "2018-09-14T00:00:00",
          "2018-09-17T00:00:00",
          "2018-09-18T00:00:00",
          "2018-09-19T00:00:00",
          "2018-09-20T00:00:00",
          "2018-09-21T00:00:00",
          "2018-09-25T00:00:00",
          "2018-09-26T00:00:00",
          "2018-09-27T00:00:00",
          "2018-09-28T00:00:00",
          "2018-10-08T00:00:00",
          "2018-10-09T00:00:00",
          "2018-10-10T00:00:00",
          "2018-10-11T00:00:00",
          "2018-10-12T00:00:00",
          "2018-10-15T00:00:00",
          "2018-10-16T00:00:00",
          "2018-10-17T00:00:00",
          "2018-10-18T00:00:00",
          "2018-10-19T00:00:00",
          "2018-10-22T00:00:00",
          "2018-10-23T00:00:00",
          "2018-10-24T00:00:00",
          "2018-10-25T00:00:00",
          "2018-10-26T00:00:00",
          "2018-10-29T00:00:00",
          "2018-10-30T00:00:00",
          "2018-10-31T00:00:00",
          "2018-11-01T00:00:00",
          "2018-11-02T00:00:00",
          "2018-11-05T00:00:00",
          "2018-11-06T00:00:00",
          "2018-11-07T00:00:00",
          "2018-11-08T00:00:00",
          "2018-11-09T00:00:00",
          "2018-11-12T00:00:00",
          "2018-11-13T00:00:00",
          "2018-11-14T00:00:00",
          "2018-11-15T00:00:00",
          "2018-11-16T00:00:00",
          "2018-11-19T00:00:00",
          "2018-11-20T00:00:00",
          "2018-11-21T00:00:00",
          "2018-11-22T00:00:00",
          "2018-11-23T00:00:00",
          "2018-11-26T00:00:00",
          "2018-11-27T00:00:00",
          "2018-11-28T00:00:00",
          "2018-11-29T00:00:00",
          "2018-11-30T00:00:00",
          "2018-12-03T00:00:00",
          "2018-12-04T00:00:00",
          "2018-12-05T00:00:00",
          "2018-12-06T00:00:00",
          "2018-12-07T00:00:00",
          "2018-12-10T00:00:00",
          "2018-12-11T00:00:00",
          "2018-12-12T00:00:00",
          "2018-12-13T00:00:00",
          "2018-12-14T00:00:00",
          "2018-12-17T00:00:00",
          "2018-12-18T00:00:00",
          "2018-12-19T00:00:00",
          "2018-12-20T00:00:00",
          "2018-12-21T00:00:00",
          "2018-12-24T00:00:00",
          "2018-12-25T00:00:00",
          "2018-12-26T00:00:00",
          "2018-12-27T00:00:00",
          "2018-12-28T00:00:00"
         ],
         "xaxis": "x",
         "y": [
          28749609,
          43288448,
          24045312,
          38391031,
          39251427,
          20508801,
          24741985,
          21401252,
          48548690,
          58703061,
          33162364,
          46841547,
          32770551,
          27214670,
          21253628,
          30590386,
          27485938,
          64209199,
          33711011,
          34455153,
          26379857,
          26011385,
          33950632,
          25022065,
          24526651,
          53354351,
          34848955,
          63830205,
          56057850,
          25593281,
          22563042,
          22152191,
          32436373,
          20778899,
          27813385,
          22987727,
          18808637,
          14079812,
          41930882,
          26028527,
          22475409,
          33621617,
          27075903,
          25987494,
          24706049,
          20096251,
          23231098,
          17997464,
          16220500,
          15646747,
          24032208,
          50963466,
          42384570,
          109152961,
          94717295,
          77239213,
          60373650,
          44376290,
          31705634,
          74739812,
          83120658,
          80956061,
          63328872,
          40903114,
          75659672,
          83933780,
          46877989,
          50132294,
          47259207,
          33955311,
          38305486,
          31006407,
          46244107,
          32810433,
          25019696,
          22096919,
          17167157,
          20395639,
          17190161,
          24666266,
          20649949,
          21412382,
          15822479,
          12583366,
          18807325,
          20869345,
          18674201,
          31246675,
          19432851,
          14142737,
          22177834,
          14952176,
          14236266,
          12620953,
          21249075,
          20174820,
          9498902,
          58197601,
          41524380,
          28498079,
          20693958,
          14539623,
          22563116,
          18345588,
          18624207,
          21422430,
          14155771,
          17766453,
          23301899,
          34558657,
          38864366,
          23298972,
          22927620,
          16207657,
          13016365,
          14146280,
          15567911,
          13674306,
          17719193,
          17097787,
          12581381,
          41660238,
          24252544,
          21628597,
          16577061,
          21066725,
          20936034,
          22402721,
          13292081,
          9535593,
          7495007,
          11741819,
          14310662,
          17507966,
          15135409,
          24986502,
          28566755,
          17121561,
          13183499,
          17808478,
          16738849,
          11893396,
          23953295,
          16988945,
          18017561,
          14618016,
          20324913,
          15829884,
          9776790,
          20963945,
          12412363,
          9501731,
          11338168,
          9637000,
          6380952,
          11311119,
          10422428,
          7632713,
          7614002,
          12332763,
          11481195,
          8181643,
          8106509,
          8096004,
          8100339,
          7095396,
          7530500,
          23794831,
          33556385,
          15782421,
          20404189,
          11117027,
          17820909,
          9649588,
          18540926,
          9373436,
          11489762,
          14506443,
          16716651,
          22103642,
          22604296,
          15242017,
          13132684,
          27759830,
          44306446,
          45579275,
          55561550,
          45084846,
          29426402,
          27224659,
          24143574,
          23911377,
          21548661,
          30291800,
          41544379,
          40159315,
          35939458,
          22274439,
          21956771,
          19164254,
          17940832,
          35974016,
          31849448,
          28243048,
          17937066,
          26439418,
          22875724,
          21044051,
          25972682,
          26829329,
          18816364,
          18723982,
          23769848,
          18741718,
          41990425,
          23140520,
          19669526,
          22768349,
          13667126,
          12749021,
          10432667,
          55803647,
          25991823,
          33461243,
          50669326,
          37496977,
          36709586,
          27352460,
          36884603,
          35031025,
          28605816,
          22331888,
          29833255,
          21039468,
          30106095,
          22215460,
          18709413,
          25853247,
          18740286,
          25693298,
          27542172,
          24151481,
          18204897
         ],
         "yaxis": "y"
        },
        {
         "hovertemplate": "Names=Banking/Bank of Shanghai<br>Time=%{x}<br>Volume=%{y}<extra></extra>",
         "legendgroup": "Banking/Bank of Shanghai",
         "line": {
          "color": "#EF553B",
          "dash": "solid"
         },
         "mode": "lines",
         "name": "Banking/Bank of Shanghai",
         "orientation": "v",
         "showlegend": true,
         "type": "scatter",
         "x": [
          "2018-01-02T00:00:00",
          "2018-01-03T00:00:00",
          "2018-01-04T00:00:00",
          "2018-01-05T00:00:00",
          "2018-01-08T00:00:00",
          "2018-01-09T00:00:00",
          "2018-01-10T00:00:00",
          "2018-01-11T00:00:00",
          "2018-01-12T00:00:00",
          "2018-01-15T00:00:00",
          "2018-01-16T00:00:00",
          "2018-01-17T00:00:00",
          "2018-01-18T00:00:00",
          "2018-01-19T00:00:00",
          "2018-01-22T00:00:00",
          "2018-01-23T00:00:00",
          "2018-01-24T00:00:00",
          "2018-01-25T00:00:00",
          "2018-01-26T00:00:00",
          "2018-01-29T00:00:00",
          "2018-01-30T00:00:00",
          "2018-01-31T00:00:00",
          "2018-02-01T00:00:00",
          "2018-02-02T00:00:00",
          "2018-02-05T00:00:00",
          "2018-02-06T00:00:00",
          "2018-02-07T00:00:00",
          "2018-02-08T00:00:00",
          "2018-02-09T00:00:00",
          "2018-02-12T00:00:00",
          "2018-02-13T00:00:00",
          "2018-02-14T00:00:00",
          "2018-02-22T00:00:00",
          "2018-02-23T00:00:00",
          "2018-02-26T00:00:00",
          "2018-02-27T00:00:00",
          "2018-02-28T00:00:00",
          "2018-03-01T00:00:00",
          "2018-03-02T00:00:00",
          "2018-03-05T00:00:00",
          "2018-03-06T00:00:00",
          "2018-03-07T00:00:00",
          "2018-03-08T00:00:00",
          "2018-03-09T00:00:00",
          "2018-03-12T00:00:00",
          "2018-03-13T00:00:00",
          "2018-03-14T00:00:00",
          "2018-03-15T00:00:00",
          "2018-03-16T00:00:00",
          "2018-03-19T00:00:00",
          "2018-03-20T00:00:00",
          "2018-03-21T00:00:00",
          "2018-03-22T00:00:00",
          "2018-03-23T00:00:00",
          "2018-03-26T00:00:00",
          "2018-03-27T00:00:00",
          "2018-03-28T00:00:00",
          "2018-03-29T00:00:00",
          "2018-03-30T00:00:00",
          "2018-04-02T00:00:00",
          "2018-04-03T00:00:00",
          "2018-04-04T00:00:00",
          "2018-04-09T00:00:00",
          "2018-04-10T00:00:00",
          "2018-04-11T00:00:00",
          "2018-04-12T00:00:00",
          "2018-04-13T00:00:00",
          "2018-04-16T00:00:00",
          "2018-04-17T00:00:00",
          "2018-04-18T00:00:00",
          "2018-04-19T00:00:00",
          "2018-04-20T00:00:00",
          "2018-04-23T00:00:00",
          "2018-04-24T00:00:00",
          "2018-04-25T00:00:00",
          "2018-04-26T00:00:00",
          "2018-04-27T00:00:00",
          "2018-05-02T00:00:00",
          "2018-05-03T00:00:00",
          "2018-05-04T00:00:00",
          "2018-05-07T00:00:00",
          "2018-05-08T00:00:00",
          "2018-05-09T00:00:00",
          "2018-05-10T00:00:00",
          "2018-05-11T00:00:00",
          "2018-05-14T00:00:00",
          "2018-05-15T00:00:00",
          "2018-05-16T00:00:00",
          "2018-05-17T00:00:00",
          "2018-05-18T00:00:00",
          "2018-05-21T00:00:00",
          "2018-05-22T00:00:00",
          "2018-05-23T00:00:00",
          "2018-05-24T00:00:00",
          "2018-05-25T00:00:00",
          "2018-05-28T00:00:00",
          "2018-05-29T00:00:00",
          "2018-05-30T00:00:00",
          "2018-05-31T00:00:00",
          "2018-06-01T00:00:00",
          "2018-06-04T00:00:00",
          "2018-06-05T00:00:00",
          "2018-06-06T00:00:00",
          "2018-06-07T00:00:00",
          "2018-06-08T00:00:00",
          "2018-06-11T00:00:00",
          "2018-06-12T00:00:00",
          "2018-06-13T00:00:00",
          "2018-06-14T00:00:00",
          "2018-06-15T00:00:00",
          "2018-06-19T00:00:00",
          "2018-06-20T00:00:00",
          "2018-06-21T00:00:00",
          "2018-06-22T00:00:00",
          "2018-06-25T00:00:00",
          "2018-06-26T00:00:00",
          "2018-06-27T00:00:00",
          "2018-06-28T00:00:00",
          "2018-06-29T00:00:00",
          "2018-07-02T00:00:00",
          "2018-07-03T00:00:00",
          "2018-07-04T00:00:00",
          "2018-07-05T00:00:00",
          "2018-07-06T00:00:00",
          "2018-07-09T00:00:00",
          "2018-07-10T00:00:00",
          "2018-07-11T00:00:00",
          "2018-07-12T00:00:00",
          "2018-07-13T00:00:00",
          "2018-07-16T00:00:00",
          "2018-07-17T00:00:00",
          "2018-07-18T00:00:00",
          "2018-07-19T00:00:00",
          "2018-07-20T00:00:00",
          "2018-07-23T00:00:00",
          "2018-07-24T00:00:00",
          "2018-07-25T00:00:00",
          "2018-07-26T00:00:00",
          "2018-07-27T00:00:00",
          "2018-07-30T00:00:00",
          "2018-07-31T00:00:00",
          "2018-08-01T00:00:00",
          "2018-08-02T00:00:00",
          "2018-08-03T00:00:00",
          "2018-08-06T00:00:00",
          "2018-08-07T00:00:00",
          "2018-08-08T00:00:00",
          "2018-08-09T00:00:00",
          "2018-08-10T00:00:00",
          "2018-08-13T00:00:00",
          "2018-08-14T00:00:00",
          "2018-08-15T00:00:00",
          "2018-08-16T00:00:00",
          "2018-08-17T00:00:00",
          "2018-08-20T00:00:00",
          "2018-08-21T00:00:00",
          "2018-08-22T00:00:00",
          "2018-08-23T00:00:00",
          "2018-08-24T00:00:00",
          "2018-08-27T00:00:00",
          "2018-08-28T00:00:00",
          "2018-08-29T00:00:00",
          "2018-08-30T00:00:00",
          "2018-08-31T00:00:00",
          "2018-09-03T00:00:00",
          "2018-09-04T00:00:00",
          "2018-09-05T00:00:00",
          "2018-09-06T00:00:00",
          "2018-09-07T00:00:00",
          "2018-09-10T00:00:00",
          "2018-09-11T00:00:00",
          "2018-09-12T00:00:00",
          "2018-09-13T00:00:00",
          "2018-09-14T00:00:00",
          "2018-09-17T00:00:00",
          "2018-09-18T00:00:00",
          "2018-09-19T00:00:00",
          "2018-09-20T00:00:00",
          "2018-09-21T00:00:00",
          "2018-09-25T00:00:00",
          "2018-09-26T00:00:00",
          "2018-09-27T00:00:00",
          "2018-09-28T00:00:00",
          "2018-10-08T00:00:00",
          "2018-10-09T00:00:00",
          "2018-10-10T00:00:00",
          "2018-10-11T00:00:00",
          "2018-10-12T00:00:00",
          "2018-10-15T00:00:00",
          "2018-10-16T00:00:00",
          "2018-10-17T00:00:00",
          "2018-10-18T00:00:00",
          "2018-10-19T00:00:00",
          "2018-10-22T00:00:00",
          "2018-10-23T00:00:00",
          "2018-10-24T00:00:00",
          "2018-10-25T00:00:00",
          "2018-10-26T00:00:00",
          "2018-10-29T00:00:00",
          "2018-10-30T00:00:00",
          "2018-10-31T00:00:00",
          "2018-11-01T00:00:00",
          "2018-11-02T00:00:00",
          "2018-11-05T00:00:00",
          "2018-11-06T00:00:00",
          "2018-11-07T00:00:00",
          "2018-11-08T00:00:00",
          "2018-11-09T00:00:00",
          "2018-11-12T00:00:00",
          "2018-11-13T00:00:00",
          "2018-11-14T00:00:00",
          "2018-11-15T00:00:00",
          "2018-11-16T00:00:00",
          "2018-11-19T00:00:00",
          "2018-11-20T00:00:00",
          "2018-11-21T00:00:00",
          "2018-11-22T00:00:00",
          "2018-11-23T00:00:00",
          "2018-11-26T00:00:00",
          "2018-11-27T00:00:00",
          "2018-11-28T00:00:00",
          "2018-11-29T00:00:00",
          "2018-11-30T00:00:00",
          "2018-12-03T00:00:00",
          "2018-12-04T00:00:00",
          "2018-12-05T00:00:00",
          "2018-12-06T00:00:00",
          "2018-12-07T00:00:00",
          "2018-12-10T00:00:00",
          "2018-12-11T00:00:00",
          "2018-12-12T00:00:00",
          "2018-12-13T00:00:00",
          "2018-12-14T00:00:00",
          "2018-12-17T00:00:00",
          "2018-12-18T00:00:00",
          "2018-12-19T00:00:00",
          "2018-12-20T00:00:00",
          "2018-12-21T00:00:00",
          "2018-12-24T00:00:00",
          "2018-12-25T00:00:00",
          "2018-12-26T00:00:00",
          "2018-12-27T00:00:00",
          "2018-12-28T00:00:00"
         ],
         "xaxis": "x",
         "y": [
          41051335,
          43716168,
          47081985,
          39453967,
          31095790,
          27402304,
          42840024,
          33832056,
          23998975,
          75638674,
          82161781,
          122878390,
          73982646,
          173264389,
          98625940,
          80900215,
          99494364,
          72056495,
          94123451,
          150251515,
          66973808,
          57961636,
          67635233,
          86023883,
          180589192,
          146271831,
          208702366,
          109813986,
          92394968,
          53907357,
          62138183,
          28472207,
          47486282,
          42692846,
          48909415,
          51631896,
          64027203,
          44467730,
          40862834,
          27544496,
          45189680,
          50324658,
          30962808,
          34258236,
          37487957,
          30675759,
          22475831,
          24071360,
          54886151,
          20556605,
          29396865,
          26629271,
          38728784,
          74600926,
          35702557,
          28110551,
          26170000,
          30028842,
          19369158,
          32771622,
          30155509,
          20102564,
          21323283,
          31968452,
          67056191,
          42067121,
          35817694,
          34800471,
          19851247,
          30725744,
          27775677,
          30566126,
          38293784,
          39559543,
          26154735,
          21208494,
          31935587,
          37063420,
          32810039,
          31911645,
          31863728,
          35135411,
          17895508,
          28021635,
          24304247,
          34001136,
          28848887,
          32019824,
          20896819,
          35292406,
          27099259,
          23454085,
          33916939,
          24718106,
          28473823,
          20352237,
          47706759,
          24235880,
          28898826,
          28412027,
          34410719,
          31710127,
          27988138,
          41368438,
          75198130,
          55655035,
          29286464,
          28458719,
          25835369,
          24449479,
          104478208,
          45434239,
          26740490,
          17058585,
          27753564,
          34361430,
          27167243,
          25889782,
          27324125,
          25136280,
          20976642,
          23452135,
          38057190,
          18636226,
          21477048,
          20131300,
          14653811,
          23512217,
          22175928,
          25620209,
          12777055,
          16979030,
          20188304,
          35268617,
          72793390,
          109453570,
          42192633,
          47161873,
          28607737,
          32582546,
          32868583,
          33702051,
          31112608,
          29125929,
          40849411,
          34342057,
          27325784,
          38331482,
          24158891,
          33070255,
          13738461,
          19113385,
          23524105,
          21200128,
          32470378,
          20185406,
          17489995,
          17180527,
          38537148,
          35673575,
          27396837,
          26283455,
          30839283,
          34516433,
          27274109,
          29523189,
          28999672,
          19685328,
          19651235,
          19994061,
          19972556,
          27444476,
          28027695,
          19838803,
          14925449,
          14628591,
          21152375,
          29431026,
          46442094,
          23734319,
          31848109,
          28433723,
          36142412,
          33817371,
          27877357,
          24041969,
          42424223,
          30399375,
          21717647,
          23701329,
          27546027,
          19733361,
          29334762,
          49911487,
          30612423,
          52994823,
          31461927,
          24651829,
          37575370,
          44580740,
          29218164,
          40778637,
          44497442,
          24003482,
          24368904,
          24030899,
          16780975,
          65231502,
          26140730,
          26825808,
          23805835,
          16107521,
          24205069,
          22368362,
          21651337,
          13912016,
          14320118,
          17767609,
          15252698,
          14404417,
          13847966,
          20074143,
          25474329,
          37267984,
          18975747,
          13706174,
          19327633,
          10028846,
          13659058,
          11943288,
          14553414,
          17155674,
          18690464,
          20024875,
          18165706,
          15657384,
          28181513,
          22351105,
          25097095,
          24778140,
          19477666,
          29339976,
          28021930
         ],
         "yaxis": "y"
        }
       ],
       "layout": {
        "legend": {
         "title": {
          "text": "Names"
         },
         "tracegroupgap": 0
        },
        "margin": {
         "t": 60
        },
        "template": {
         "data": {
          "bar": [
           {
            "error_x": {
             "color": "#2a3f5f"
            },
            "error_y": {
             "color": "#2a3f5f"
            },
            "marker": {
             "line": {
              "color": "#E5ECF6",
              "width": 0.5
             }
            },
            "type": "bar"
           }
          ],
          "barpolar": [
           {
            "marker": {
             "line": {
              "color": "#E5ECF6",
              "width": 0.5
             }
            },
            "type": "barpolar"
           }
          ],
          "carpet": [
           {
            "aaxis": {
             "endlinecolor": "#2a3f5f",
             "gridcolor": "white",
             "linecolor": "white",
             "minorgridcolor": "white",
             "startlinecolor": "#2a3f5f"
            },
            "baxis": {
             "endlinecolor": "#2a3f5f",
             "gridcolor": "white",
             "linecolor": "white",
             "minorgridcolor": "white",
             "startlinecolor": "#2a3f5f"
            },
            "type": "carpet"
           }
          ],
          "choropleth": [
           {
            "colorbar": {
             "outlinewidth": 0,
             "ticks": ""
            },
            "type": "choropleth"
           }
          ],
          "contour": [
           {
            "colorbar": {
             "outlinewidth": 0,
             "ticks": ""
            },
            "colorscale": [
             [
              0,
              "#0d0887"
             ],
             [
              0.1111111111111111,
              "#46039f"
             ],
             [
              0.2222222222222222,
              "#7201a8"
             ],
             [
              0.3333333333333333,
              "#9c179e"
             ],
             [
              0.4444444444444444,
              "#bd3786"
             ],
             [
              0.5555555555555556,
              "#d8576b"
             ],
             [
              0.6666666666666666,
              "#ed7953"
             ],
             [
              0.7777777777777778,
              "#fb9f3a"
             ],
             [
              0.8888888888888888,
              "#fdca26"
             ],
             [
              1,
              "#f0f921"
             ]
            ],
            "type": "contour"
           }
          ],
          "contourcarpet": [
           {
            "colorbar": {
             "outlinewidth": 0,
             "ticks": ""
            },
            "type": "contourcarpet"
           }
          ],
          "heatmap": [
           {
            "colorbar": {
             "outlinewidth": 0,
             "ticks": ""
            },
            "colorscale": [
             [
              0,
              "#0d0887"
             ],
             [
              0.1111111111111111,
              "#46039f"
             ],
             [
              0.2222222222222222,
              "#7201a8"
             ],
             [
              0.3333333333333333,
              "#9c179e"
             ],
             [
              0.4444444444444444,
              "#bd3786"
             ],
             [
              0.5555555555555556,
              "#d8576b"
             ],
             [
              0.6666666666666666,
              "#ed7953"
             ],
             [
              0.7777777777777778,
              "#fb9f3a"
             ],
             [
              0.8888888888888888,
              "#fdca26"
             ],
             [
              1,
              "#f0f921"
             ]
            ],
            "type": "heatmap"
           }
          ],
          "heatmapgl": [
           {
            "colorbar": {
             "outlinewidth": 0,
             "ticks": ""
            },
            "colorscale": [
             [
              0,
              "#0d0887"
             ],
             [
              0.1111111111111111,
              "#46039f"
             ],
             [
              0.2222222222222222,
              "#7201a8"
             ],
             [
              0.3333333333333333,
              "#9c179e"
             ],
             [
              0.4444444444444444,
              "#bd3786"
             ],
             [
              0.5555555555555556,
              "#d8576b"
             ],
             [
              0.6666666666666666,
              "#ed7953"
             ],
             [
              0.7777777777777778,
              "#fb9f3a"
             ],
             [
              0.8888888888888888,
              "#fdca26"
             ],
             [
              1,
              "#f0f921"
             ]
            ],
            "type": "heatmapgl"
           }
          ],
          "histogram": [
           {
            "marker": {
             "colorbar": {
              "outlinewidth": 0,
              "ticks": ""
             }
            },
            "type": "histogram"
           }
          ],
          "histogram2d": [
           {
            "colorbar": {
             "outlinewidth": 0,
             "ticks": ""
            },
            "colorscale": [
             [
              0,
              "#0d0887"
             ],
             [
              0.1111111111111111,
              "#46039f"
             ],
             [
              0.2222222222222222,
              "#7201a8"
             ],
             [
              0.3333333333333333,
              "#9c179e"
             ],
             [
              0.4444444444444444,
              "#bd3786"
             ],
             [
              0.5555555555555556,
              "#d8576b"
             ],
             [
              0.6666666666666666,
              "#ed7953"
             ],
             [
              0.7777777777777778,
              "#fb9f3a"
             ],
             [
              0.8888888888888888,
              "#fdca26"
             ],
             [
              1,
              "#f0f921"
             ]
            ],
            "type": "histogram2d"
           }
          ],
          "histogram2dcontour": [
           {
            "colorbar": {
             "outlinewidth": 0,
             "ticks": ""
            },
            "colorscale": [
             [
              0,
              "#0d0887"
             ],
             [
              0.1111111111111111,
              "#46039f"
             ],
             [
              0.2222222222222222,
              "#7201a8"
             ],
             [
              0.3333333333333333,
              "#9c179e"
             ],
             [
              0.4444444444444444,
              "#bd3786"
             ],
             [
              0.5555555555555556,
              "#d8576b"
             ],
             [
              0.6666666666666666,
              "#ed7953"
             ],
             [
              0.7777777777777778,
              "#fb9f3a"
             ],
             [
              0.8888888888888888,
              "#fdca26"
             ],
             [
              1,
              "#f0f921"
             ]
            ],
            "type": "histogram2dcontour"
           }
          ],
          "mesh3d": [
           {
            "colorbar": {
             "outlinewidth": 0,
             "ticks": ""
            },
            "type": "mesh3d"
           }
          ],
          "parcoords": [
           {
            "line": {
             "colorbar": {
              "outlinewidth": 0,
              "ticks": ""
             }
            },
            "type": "parcoords"
           }
          ],
          "pie": [
           {
            "automargin": true,
            "type": "pie"
           }
          ],
          "scatter": [
           {
            "marker": {
             "colorbar": {
              "outlinewidth": 0,
              "ticks": ""
             }
            },
            "type": "scatter"
           }
          ],
          "scatter3d": [
           {
            "line": {
             "colorbar": {
              "outlinewidth": 0,
              "ticks": ""
             }
            },
            "marker": {
             "colorbar": {
              "outlinewidth": 0,
              "ticks": ""
             }
            },
            "type": "scatter3d"
           }
          ],
          "scattercarpet": [
           {
            "marker": {
             "colorbar": {
              "outlinewidth": 0,
              "ticks": ""
             }
            },
            "type": "scattercarpet"
           }
          ],
          "scattergeo": [
           {
            "marker": {
             "colorbar": {
              "outlinewidth": 0,
              "ticks": ""
             }
            },
            "type": "scattergeo"
           }
          ],
          "scattergl": [
           {
            "marker": {
             "colorbar": {
              "outlinewidth": 0,
              "ticks": ""
             }
            },
            "type": "scattergl"
           }
          ],
          "scattermapbox": [
           {
            "marker": {
             "colorbar": {
              "outlinewidth": 0,
              "ticks": ""
             }
            },
            "type": "scattermapbox"
           }
          ],
          "scatterpolar": [
           {
            "marker": {
             "colorbar": {
              "outlinewidth": 0,
              "ticks": ""
             }
            },
            "type": "scatterpolar"
           }
          ],
          "scatterpolargl": [
           {
            "marker": {
             "colorbar": {
              "outlinewidth": 0,
              "ticks": ""
             }
            },
            "type": "scatterpolargl"
           }
          ],
          "scatterternary": [
           {
            "marker": {
             "colorbar": {
              "outlinewidth": 0,
              "ticks": ""
             }
            },
            "type": "scatterternary"
           }
          ],
          "surface": [
           {
            "colorbar": {
             "outlinewidth": 0,
             "ticks": ""
            },
            "colorscale": [
             [
              0,
              "#0d0887"
             ],
             [
              0.1111111111111111,
              "#46039f"
             ],
             [
              0.2222222222222222,
              "#7201a8"
             ],
             [
              0.3333333333333333,
              "#9c179e"
             ],
             [
              0.4444444444444444,
              "#bd3786"
             ],
             [
              0.5555555555555556,
              "#d8576b"
             ],
             [
              0.6666666666666666,
              "#ed7953"
             ],
             [
              0.7777777777777778,
              "#fb9f3a"
             ],
             [
              0.8888888888888888,
              "#fdca26"
             ],
             [
              1,
              "#f0f921"
             ]
            ],
            "type": "surface"
           }
          ],
          "table": [
           {
            "cells": {
             "fill": {
              "color": "#EBF0F8"
             },
             "line": {
              "color": "white"
             }
            },
            "header": {
             "fill": {
              "color": "#C8D4E3"
             },
             "line": {
              "color": "white"
             }
            },
            "type": "table"
           }
          ]
         },
         "layout": {
          "annotationdefaults": {
           "arrowcolor": "#2a3f5f",
           "arrowhead": 0,
           "arrowwidth": 1
          },
          "coloraxis": {
           "colorbar": {
            "outlinewidth": 0,
            "ticks": ""
           }
          },
          "colorscale": {
           "diverging": [
            [
             0,
             "#8e0152"
            ],
            [
             0.1,
             "#c51b7d"
            ],
            [
             0.2,
             "#de77ae"
            ],
            [
             0.3,
             "#f1b6da"
            ],
            [
             0.4,
             "#fde0ef"
            ],
            [
             0.5,
             "#f7f7f7"
            ],
            [
             0.6,
             "#e6f5d0"
            ],
            [
             0.7,
             "#b8e186"
            ],
            [
             0.8,
             "#7fbc41"
            ],
            [
             0.9,
             "#4d9221"
            ],
            [
             1,
             "#276419"
            ]
           ],
           "sequential": [
            [
             0,
             "#0d0887"
            ],
            [
             0.1111111111111111,
             "#46039f"
            ],
            [
             0.2222222222222222,
             "#7201a8"
            ],
            [
             0.3333333333333333,
             "#9c179e"
            ],
            [
             0.4444444444444444,
             "#bd3786"
            ],
            [
             0.5555555555555556,
             "#d8576b"
            ],
            [
             0.6666666666666666,
             "#ed7953"
            ],
            [
             0.7777777777777778,
             "#fb9f3a"
            ],
            [
             0.8888888888888888,
             "#fdca26"
            ],
            [
             1,
             "#f0f921"
            ]
           ],
           "sequentialminus": [
            [
             0,
             "#0d0887"
            ],
            [
             0.1111111111111111,
             "#46039f"
            ],
            [
             0.2222222222222222,
             "#7201a8"
            ],
            [
             0.3333333333333333,
             "#9c179e"
            ],
            [
             0.4444444444444444,
             "#bd3786"
            ],
            [
             0.5555555555555556,
             "#d8576b"
            ],
            [
             0.6666666666666666,
             "#ed7953"
            ],
            [
             0.7777777777777778,
             "#fb9f3a"
            ],
            [
             0.8888888888888888,
             "#fdca26"
            ],
            [
             1,
             "#f0f921"
            ]
           ]
          },
          "colorway": [
           "#636efa",
           "#EF553B",
           "#00cc96",
           "#ab63fa",
           "#FFA15A",
           "#19d3f3",
           "#FF6692",
           "#B6E880",
           "#FF97FF",
           "#FECB52"
          ],
          "font": {
           "color": "#2a3f5f"
          },
          "geo": {
           "bgcolor": "white",
           "lakecolor": "white",
           "landcolor": "#E5ECF6",
           "showlakes": true,
           "showland": true,
           "subunitcolor": "white"
          },
          "hoverlabel": {
           "align": "left"
          },
          "hovermode": "closest",
          "mapbox": {
           "style": "light"
          },
          "paper_bgcolor": "white",
          "plot_bgcolor": "#E5ECF6",
          "polar": {
           "angularaxis": {
            "gridcolor": "white",
            "linecolor": "white",
            "ticks": ""
           },
           "bgcolor": "#E5ECF6",
           "radialaxis": {
            "gridcolor": "white",
            "linecolor": "white",
            "ticks": ""
           }
          },
          "scene": {
           "xaxis": {
            "backgroundcolor": "#E5ECF6",
            "gridcolor": "white",
            "gridwidth": 2,
            "linecolor": "white",
            "showbackground": true,
            "ticks": "",
            "zerolinecolor": "white"
           },
           "yaxis": {
            "backgroundcolor": "#E5ECF6",
            "gridcolor": "white",
            "gridwidth": 2,
            "linecolor": "white",
            "showbackground": true,
            "ticks": "",
            "zerolinecolor": "white"
           },
           "zaxis": {
            "backgroundcolor": "#E5ECF6",
            "gridcolor": "white",
            "gridwidth": 2,
            "linecolor": "white",
            "showbackground": true,
            "ticks": "",
            "zerolinecolor": "white"
           }
          },
          "shapedefaults": {
           "line": {
            "color": "#2a3f5f"
           }
          },
          "ternary": {
           "aaxis": {
            "gridcolor": "white",
            "linecolor": "white",
            "ticks": ""
           },
           "baxis": {
            "gridcolor": "white",
            "linecolor": "white",
            "ticks": ""
           },
           "bgcolor": "#E5ECF6",
           "caxis": {
            "gridcolor": "white",
            "linecolor": "white",
            "ticks": ""
           }
          },
          "title": {
           "x": 0.05
          },
          "xaxis": {
           "automargin": true,
           "gridcolor": "white",
           "linecolor": "white",
           "ticks": "",
           "title": {
            "standoff": 15
           },
           "zerolinecolor": "white",
           "zerolinewidth": 2
          },
          "yaxis": {
           "automargin": true,
           "gridcolor": "white",
           "linecolor": "white",
           "ticks": "",
           "title": {
            "standoff": 15
           },
           "zerolinecolor": "white",
           "zerolinewidth": 2
          }
         }
        },
        "xaxis": {
         "anchor": "y",
         "domain": [
          0,
          1
         ],
         "title": {
          "text": "Time"
         }
        },
        "yaxis": {
         "anchor": "x",
         "domain": [
          0,
          1
         ],
         "title": {
          "text": "Volume"
         }
        }
       }
      },
      "text/html": [
       "<div>\n",
       "        \n",
       "        \n",
       "            <div id=\"d5cb9865-7571-4480-b6a3-7f592c541590\" class=\"plotly-graph-div\" style=\"height:525px; width:100%;\"></div>\n",
       "            <script type=\"text/javascript\">\n",
       "                require([\"plotly\"], function(Plotly) {\n",
       "                    window.PLOTLYENV=window.PLOTLYENV || {};\n",
       "                    \n",
       "                if (document.getElementById(\"d5cb9865-7571-4480-b6a3-7f592c541590\")) {\n",
       "                    Plotly.newPlot(\n",
       "                        'd5cb9865-7571-4480-b6a3-7f592c541590',\n",
       "                        [{\"hovertemplate\": \"Names=Mining/Shandong Gold Mining<br>Time=%{x}<br>Volume=%{y}<extra></extra>\", \"legendgroup\": \"Mining/Shandong Gold Mining\", \"line\": {\"color\": \"#636efa\", \"dash\": \"solid\"}, \"mode\": \"lines\", \"name\": \"Mining/Shandong Gold Mining\", \"orientation\": \"v\", \"showlegend\": true, \"type\": \"scatter\", \"x\": [\"2018-01-02T00:00:00\", \"2018-01-03T00:00:00\", \"2018-01-04T00:00:00\", \"2018-01-05T00:00:00\", \"2018-01-08T00:00:00\", \"2018-01-09T00:00:00\", \"2018-01-10T00:00:00\", \"2018-01-11T00:00:00\", \"2018-01-12T00:00:00\", \"2018-01-15T00:00:00\", \"2018-01-16T00:00:00\", \"2018-01-17T00:00:00\", \"2018-01-18T00:00:00\", \"2018-01-19T00:00:00\", \"2018-01-22T00:00:00\", \"2018-01-23T00:00:00\", \"2018-01-24T00:00:00\", \"2018-01-25T00:00:00\", \"2018-01-26T00:00:00\", \"2018-01-29T00:00:00\", \"2018-01-30T00:00:00\", \"2018-01-31T00:00:00\", \"2018-02-01T00:00:00\", \"2018-02-02T00:00:00\", \"2018-02-05T00:00:00\", \"2018-02-06T00:00:00\", \"2018-02-07T00:00:00\", \"2018-02-08T00:00:00\", \"2018-02-09T00:00:00\", \"2018-02-12T00:00:00\", \"2018-02-13T00:00:00\", \"2018-02-14T00:00:00\", \"2018-02-22T00:00:00\", \"2018-02-23T00:00:00\", \"2018-02-26T00:00:00\", \"2018-02-27T00:00:00\", \"2018-02-28T00:00:00\", \"2018-03-01T00:00:00\", \"2018-03-02T00:00:00\", \"2018-03-05T00:00:00\", \"2018-03-06T00:00:00\", \"2018-03-07T00:00:00\", \"2018-03-08T00:00:00\", \"2018-03-09T00:00:00\", \"2018-03-12T00:00:00\", \"2018-03-13T00:00:00\", \"2018-03-14T00:00:00\", \"2018-03-15T00:00:00\", \"2018-03-16T00:00:00\", \"2018-03-19T00:00:00\", \"2018-03-20T00:00:00\", \"2018-03-21T00:00:00\", \"2018-03-22T00:00:00\", \"2018-03-23T00:00:00\", \"2018-03-26T00:00:00\", \"2018-03-27T00:00:00\", \"2018-03-28T00:00:00\", \"2018-03-29T00:00:00\", \"2018-03-30T00:00:00\", \"2018-04-02T00:00:00\", \"2018-04-03T00:00:00\", \"2018-04-04T00:00:00\", \"2018-04-09T00:00:00\", \"2018-04-10T00:00:00\", \"2018-04-11T00:00:00\", \"2018-04-12T00:00:00\", \"2018-04-13T00:00:00\", \"2018-04-16T00:00:00\", \"2018-04-17T00:00:00\", \"2018-04-18T00:00:00\", \"2018-04-19T00:00:00\", \"2018-04-20T00:00:00\", \"2018-04-23T00:00:00\", \"2018-04-24T00:00:00\", \"2018-04-25T00:00:00\", \"2018-04-26T00:00:00\", \"2018-04-27T00:00:00\", \"2018-05-02T00:00:00\", \"2018-05-03T00:00:00\", \"2018-05-04T00:00:00\", \"2018-05-07T00:00:00\", \"2018-05-08T00:00:00\", \"2018-05-09T00:00:00\", \"2018-05-10T00:00:00\", \"2018-05-11T00:00:00\", \"2018-05-14T00:00:00\", \"2018-05-15T00:00:00\", \"2018-05-16T00:00:00\", \"2018-05-17T00:00:00\", \"2018-05-18T00:00:00\", \"2018-05-21T00:00:00\", \"2018-05-22T00:00:00\", \"2018-05-23T00:00:00\", \"2018-05-24T00:00:00\", \"2018-05-25T00:00:00\", \"2018-05-28T00:00:00\", \"2018-05-29T00:00:00\", \"2018-05-30T00:00:00\", \"2018-05-31T00:00:00\", \"2018-06-01T00:00:00\", \"2018-06-04T00:00:00\", \"2018-06-05T00:00:00\", \"2018-06-06T00:00:00\", \"2018-06-07T00:00:00\", \"2018-06-08T00:00:00\", \"2018-06-11T00:00:00\", \"2018-06-12T00:00:00\", \"2018-06-13T00:00:00\", \"2018-06-14T00:00:00\", \"2018-06-15T00:00:00\", \"2018-06-19T00:00:00\", \"2018-06-20T00:00:00\", \"2018-06-21T00:00:00\", \"2018-06-22T00:00:00\", \"2018-06-25T00:00:00\", \"2018-06-26T00:00:00\", \"2018-06-27T00:00:00\", \"2018-06-28T00:00:00\", \"2018-06-29T00:00:00\", \"2018-07-02T00:00:00\", \"2018-07-03T00:00:00\", \"2018-07-04T00:00:00\", \"2018-07-05T00:00:00\", \"2018-07-06T00:00:00\", \"2018-07-09T00:00:00\", \"2018-07-10T00:00:00\", \"2018-07-11T00:00:00\", \"2018-07-12T00:00:00\", \"2018-07-13T00:00:00\", \"2018-07-16T00:00:00\", \"2018-07-17T00:00:00\", \"2018-07-18T00:00:00\", \"2018-07-19T00:00:00\", \"2018-07-20T00:00:00\", \"2018-07-23T00:00:00\", \"2018-07-24T00:00:00\", \"2018-07-25T00:00:00\", \"2018-07-26T00:00:00\", \"2018-07-27T00:00:00\", \"2018-07-30T00:00:00\", \"2018-07-31T00:00:00\", \"2018-08-01T00:00:00\", \"2018-08-02T00:00:00\", \"2018-08-03T00:00:00\", \"2018-08-06T00:00:00\", \"2018-08-07T00:00:00\", \"2018-08-08T00:00:00\", \"2018-08-09T00:00:00\", \"2018-08-10T00:00:00\", \"2018-08-13T00:00:00\", \"2018-08-14T00:00:00\", \"2018-08-15T00:00:00\", \"2018-08-16T00:00:00\", \"2018-08-17T00:00:00\", \"2018-08-20T00:00:00\", \"2018-08-21T00:00:00\", \"2018-08-22T00:00:00\", \"2018-08-23T00:00:00\", \"2018-08-24T00:00:00\", \"2018-08-27T00:00:00\", \"2018-08-28T00:00:00\", \"2018-08-29T00:00:00\", \"2018-08-30T00:00:00\", \"2018-08-31T00:00:00\", \"2018-09-03T00:00:00\", \"2018-09-04T00:00:00\", \"2018-09-05T00:00:00\", \"2018-09-06T00:00:00\", \"2018-09-07T00:00:00\", \"2018-09-10T00:00:00\", \"2018-09-11T00:00:00\", \"2018-09-12T00:00:00\", \"2018-09-13T00:00:00\", \"2018-09-14T00:00:00\", \"2018-09-17T00:00:00\", \"2018-09-18T00:00:00\", \"2018-09-19T00:00:00\", \"2018-09-20T00:00:00\", \"2018-09-21T00:00:00\", \"2018-09-25T00:00:00\", \"2018-09-26T00:00:00\", \"2018-09-27T00:00:00\", \"2018-09-28T00:00:00\", \"2018-10-08T00:00:00\", \"2018-10-09T00:00:00\", \"2018-10-10T00:00:00\", \"2018-10-11T00:00:00\", \"2018-10-12T00:00:00\", \"2018-10-15T00:00:00\", \"2018-10-16T00:00:00\", \"2018-10-17T00:00:00\", \"2018-10-18T00:00:00\", \"2018-10-19T00:00:00\", \"2018-10-22T00:00:00\", \"2018-10-23T00:00:00\", \"2018-10-24T00:00:00\", \"2018-10-25T00:00:00\", \"2018-10-26T00:00:00\", \"2018-10-29T00:00:00\", \"2018-10-30T00:00:00\", \"2018-10-31T00:00:00\", \"2018-11-01T00:00:00\", \"2018-11-02T00:00:00\", \"2018-11-05T00:00:00\", \"2018-11-06T00:00:00\", \"2018-11-07T00:00:00\", \"2018-11-08T00:00:00\", \"2018-11-09T00:00:00\", \"2018-11-12T00:00:00\", \"2018-11-13T00:00:00\", \"2018-11-14T00:00:00\", \"2018-11-15T00:00:00\", \"2018-11-16T00:00:00\", \"2018-11-19T00:00:00\", \"2018-11-20T00:00:00\", \"2018-11-21T00:00:00\", \"2018-11-22T00:00:00\", \"2018-11-23T00:00:00\", \"2018-11-26T00:00:00\", \"2018-11-27T00:00:00\", \"2018-11-28T00:00:00\", \"2018-11-29T00:00:00\", \"2018-11-30T00:00:00\", \"2018-12-03T00:00:00\", \"2018-12-04T00:00:00\", \"2018-12-05T00:00:00\", \"2018-12-06T00:00:00\", \"2018-12-07T00:00:00\", \"2018-12-10T00:00:00\", \"2018-12-11T00:00:00\", \"2018-12-12T00:00:00\", \"2018-12-13T00:00:00\", \"2018-12-14T00:00:00\", \"2018-12-17T00:00:00\", \"2018-12-18T00:00:00\", \"2018-12-19T00:00:00\", \"2018-12-20T00:00:00\", \"2018-12-21T00:00:00\", \"2018-12-24T00:00:00\", \"2018-12-25T00:00:00\", \"2018-12-26T00:00:00\", \"2018-12-27T00:00:00\", \"2018-12-28T00:00:00\"], \"xaxis\": \"x\", \"y\": [28749609, 43288448, 24045312, 38391031, 39251427, 20508801, 24741985, 21401252, 48548690, 58703061, 33162364, 46841547, 32770551, 27214670, 21253628, 30590386, 27485938, 64209199, 33711011, 34455153, 26379857, 26011385, 33950632, 25022065, 24526651, 53354351, 34848955, 63830205, 56057850, 25593281, 22563042, 22152191, 32436373, 20778899, 27813385, 22987727, 18808637, 14079812, 41930882, 26028527, 22475409, 33621617, 27075903, 25987494, 24706049, 20096251, 23231098, 17997464, 16220500, 15646747, 24032208, 50963466, 42384570, 109152961, 94717295, 77239213, 60373650, 44376290, 31705634, 74739812, 83120658, 80956061, 63328872, 40903114, 75659672, 83933780, 46877989, 50132294, 47259207, 33955311, 38305486, 31006407, 46244107, 32810433, 25019696, 22096919, 17167157, 20395639, 17190161, 24666266, 20649949, 21412382, 15822479, 12583366, 18807325, 20869345, 18674201, 31246675, 19432851, 14142737, 22177834, 14952176, 14236266, 12620953, 21249075, 20174820, 9498902, 58197601, 41524380, 28498079, 20693958, 14539623, 22563116, 18345588, 18624207, 21422430, 14155771, 17766453, 23301899, 34558657, 38864366, 23298972, 22927620, 16207657, 13016365, 14146280, 15567911, 13674306, 17719193, 17097787, 12581381, 41660238, 24252544, 21628597, 16577061, 21066725, 20936034, 22402721, 13292081, 9535593, 7495007, 11741819, 14310662, 17507966, 15135409, 24986502, 28566755, 17121561, 13183499, 17808478, 16738849, 11893396, 23953295, 16988945, 18017561, 14618016, 20324913, 15829884, 9776790, 20963945, 12412363, 9501731, 11338168, 9637000, 6380952, 11311119, 10422428, 7632713, 7614002, 12332763, 11481195, 8181643, 8106509, 8096004, 8100339, 7095396, 7530500, 23794831, 33556385, 15782421, 20404189, 11117027, 17820909, 9649588, 18540926, 9373436, 11489762, 14506443, 16716651, 22103642, 22604296, 15242017, 13132684, 27759830, 44306446, 45579275, 55561550, 45084846, 29426402, 27224659, 24143574, 23911377, 21548661, 30291800, 41544379, 40159315, 35939458, 22274439, 21956771, 19164254, 17940832, 35974016, 31849448, 28243048, 17937066, 26439418, 22875724, 21044051, 25972682, 26829329, 18816364, 18723982, 23769848, 18741718, 41990425, 23140520, 19669526, 22768349, 13667126, 12749021, 10432667, 55803647, 25991823, 33461243, 50669326, 37496977, 36709586, 27352460, 36884603, 35031025, 28605816, 22331888, 29833255, 21039468, 30106095, 22215460, 18709413, 25853247, 18740286, 25693298, 27542172, 24151481, 18204897], \"yaxis\": \"y\"}, {\"hovertemplate\": \"Names=Banking/Bank of Shanghai<br>Time=%{x}<br>Volume=%{y}<extra></extra>\", \"legendgroup\": \"Banking/Bank of Shanghai\", \"line\": {\"color\": \"#EF553B\", \"dash\": \"solid\"}, \"mode\": \"lines\", \"name\": \"Banking/Bank of Shanghai\", \"orientation\": \"v\", \"showlegend\": true, \"type\": \"scatter\", \"x\": [\"2018-01-02T00:00:00\", \"2018-01-03T00:00:00\", \"2018-01-04T00:00:00\", \"2018-01-05T00:00:00\", \"2018-01-08T00:00:00\", \"2018-01-09T00:00:00\", \"2018-01-10T00:00:00\", \"2018-01-11T00:00:00\", \"2018-01-12T00:00:00\", \"2018-01-15T00:00:00\", \"2018-01-16T00:00:00\", \"2018-01-17T00:00:00\", \"2018-01-18T00:00:00\", \"2018-01-19T00:00:00\", \"2018-01-22T00:00:00\", \"2018-01-23T00:00:00\", \"2018-01-24T00:00:00\", \"2018-01-25T00:00:00\", \"2018-01-26T00:00:00\", \"2018-01-29T00:00:00\", \"2018-01-30T00:00:00\", \"2018-01-31T00:00:00\", \"2018-02-01T00:00:00\", \"2018-02-02T00:00:00\", \"2018-02-05T00:00:00\", \"2018-02-06T00:00:00\", \"2018-02-07T00:00:00\", \"2018-02-08T00:00:00\", \"2018-02-09T00:00:00\", \"2018-02-12T00:00:00\", \"2018-02-13T00:00:00\", \"2018-02-14T00:00:00\", \"2018-02-22T00:00:00\", \"2018-02-23T00:00:00\", \"2018-02-26T00:00:00\", \"2018-02-27T00:00:00\", \"2018-02-28T00:00:00\", \"2018-03-01T00:00:00\", \"2018-03-02T00:00:00\", \"2018-03-05T00:00:00\", \"2018-03-06T00:00:00\", \"2018-03-07T00:00:00\", \"2018-03-08T00:00:00\", \"2018-03-09T00:00:00\", \"2018-03-12T00:00:00\", \"2018-03-13T00:00:00\", \"2018-03-14T00:00:00\", \"2018-03-15T00:00:00\", \"2018-03-16T00:00:00\", \"2018-03-19T00:00:00\", \"2018-03-20T00:00:00\", \"2018-03-21T00:00:00\", \"2018-03-22T00:00:00\", \"2018-03-23T00:00:00\", \"2018-03-26T00:00:00\", \"2018-03-27T00:00:00\", \"2018-03-28T00:00:00\", \"2018-03-29T00:00:00\", \"2018-03-30T00:00:00\", \"2018-04-02T00:00:00\", \"2018-04-03T00:00:00\", \"2018-04-04T00:00:00\", \"2018-04-09T00:00:00\", \"2018-04-10T00:00:00\", \"2018-04-11T00:00:00\", \"2018-04-12T00:00:00\", \"2018-04-13T00:00:00\", \"2018-04-16T00:00:00\", \"2018-04-17T00:00:00\", \"2018-04-18T00:00:00\", \"2018-04-19T00:00:00\", \"2018-04-20T00:00:00\", \"2018-04-23T00:00:00\", \"2018-04-24T00:00:00\", \"2018-04-25T00:00:00\", \"2018-04-26T00:00:00\", \"2018-04-27T00:00:00\", \"2018-05-02T00:00:00\", \"2018-05-03T00:00:00\", \"2018-05-04T00:00:00\", \"2018-05-07T00:00:00\", \"2018-05-08T00:00:00\", \"2018-05-09T00:00:00\", \"2018-05-10T00:00:00\", \"2018-05-11T00:00:00\", \"2018-05-14T00:00:00\", \"2018-05-15T00:00:00\", \"2018-05-16T00:00:00\", \"2018-05-17T00:00:00\", \"2018-05-18T00:00:00\", \"2018-05-21T00:00:00\", \"2018-05-22T00:00:00\", \"2018-05-23T00:00:00\", \"2018-05-24T00:00:00\", \"2018-05-25T00:00:00\", \"2018-05-28T00:00:00\", \"2018-05-29T00:00:00\", \"2018-05-30T00:00:00\", \"2018-05-31T00:00:00\", \"2018-06-01T00:00:00\", \"2018-06-04T00:00:00\", \"2018-06-05T00:00:00\", \"2018-06-06T00:00:00\", \"2018-06-07T00:00:00\", \"2018-06-08T00:00:00\", \"2018-06-11T00:00:00\", \"2018-06-12T00:00:00\", \"2018-06-13T00:00:00\", \"2018-06-14T00:00:00\", \"2018-06-15T00:00:00\", \"2018-06-19T00:00:00\", \"2018-06-20T00:00:00\", \"2018-06-21T00:00:00\", \"2018-06-22T00:00:00\", \"2018-06-25T00:00:00\", \"2018-06-26T00:00:00\", \"2018-06-27T00:00:00\", \"2018-06-28T00:00:00\", \"2018-06-29T00:00:00\", \"2018-07-02T00:00:00\", \"2018-07-03T00:00:00\", \"2018-07-04T00:00:00\", \"2018-07-05T00:00:00\", \"2018-07-06T00:00:00\", \"2018-07-09T00:00:00\", \"2018-07-10T00:00:00\", \"2018-07-11T00:00:00\", \"2018-07-12T00:00:00\", \"2018-07-13T00:00:00\", \"2018-07-16T00:00:00\", \"2018-07-17T00:00:00\", \"2018-07-18T00:00:00\", \"2018-07-19T00:00:00\", \"2018-07-20T00:00:00\", \"2018-07-23T00:00:00\", \"2018-07-24T00:00:00\", \"2018-07-25T00:00:00\", \"2018-07-26T00:00:00\", \"2018-07-27T00:00:00\", \"2018-07-30T00:00:00\", \"2018-07-31T00:00:00\", \"2018-08-01T00:00:00\", \"2018-08-02T00:00:00\", \"2018-08-03T00:00:00\", \"2018-08-06T00:00:00\", \"2018-08-07T00:00:00\", \"2018-08-08T00:00:00\", \"2018-08-09T00:00:00\", \"2018-08-10T00:00:00\", \"2018-08-13T00:00:00\", \"2018-08-14T00:00:00\", \"2018-08-15T00:00:00\", \"2018-08-16T00:00:00\", \"2018-08-17T00:00:00\", \"2018-08-20T00:00:00\", \"2018-08-21T00:00:00\", \"2018-08-22T00:00:00\", \"2018-08-23T00:00:00\", \"2018-08-24T00:00:00\", \"2018-08-27T00:00:00\", \"2018-08-28T00:00:00\", \"2018-08-29T00:00:00\", \"2018-08-30T00:00:00\", \"2018-08-31T00:00:00\", \"2018-09-03T00:00:00\", \"2018-09-04T00:00:00\", \"2018-09-05T00:00:00\", \"2018-09-06T00:00:00\", \"2018-09-07T00:00:00\", \"2018-09-10T00:00:00\", \"2018-09-11T00:00:00\", \"2018-09-12T00:00:00\", \"2018-09-13T00:00:00\", \"2018-09-14T00:00:00\", \"2018-09-17T00:00:00\", \"2018-09-18T00:00:00\", \"2018-09-19T00:00:00\", \"2018-09-20T00:00:00\", \"2018-09-21T00:00:00\", \"2018-09-25T00:00:00\", \"2018-09-26T00:00:00\", \"2018-09-27T00:00:00\", \"2018-09-28T00:00:00\", \"2018-10-08T00:00:00\", \"2018-10-09T00:00:00\", \"2018-10-10T00:00:00\", \"2018-10-11T00:00:00\", \"2018-10-12T00:00:00\", \"2018-10-15T00:00:00\", \"2018-10-16T00:00:00\", \"2018-10-17T00:00:00\", \"2018-10-18T00:00:00\", \"2018-10-19T00:00:00\", \"2018-10-22T00:00:00\", \"2018-10-23T00:00:00\", \"2018-10-24T00:00:00\", \"2018-10-25T00:00:00\", \"2018-10-26T00:00:00\", \"2018-10-29T00:00:00\", \"2018-10-30T00:00:00\", \"2018-10-31T00:00:00\", \"2018-11-01T00:00:00\", \"2018-11-02T00:00:00\", \"2018-11-05T00:00:00\", \"2018-11-06T00:00:00\", \"2018-11-07T00:00:00\", \"2018-11-08T00:00:00\", \"2018-11-09T00:00:00\", \"2018-11-12T00:00:00\", \"2018-11-13T00:00:00\", \"2018-11-14T00:00:00\", \"2018-11-15T00:00:00\", \"2018-11-16T00:00:00\", \"2018-11-19T00:00:00\", \"2018-11-20T00:00:00\", \"2018-11-21T00:00:00\", \"2018-11-22T00:00:00\", \"2018-11-23T00:00:00\", \"2018-11-26T00:00:00\", \"2018-11-27T00:00:00\", \"2018-11-28T00:00:00\", \"2018-11-29T00:00:00\", \"2018-11-30T00:00:00\", \"2018-12-03T00:00:00\", \"2018-12-04T00:00:00\", \"2018-12-05T00:00:00\", \"2018-12-06T00:00:00\", \"2018-12-07T00:00:00\", \"2018-12-10T00:00:00\", \"2018-12-11T00:00:00\", \"2018-12-12T00:00:00\", \"2018-12-13T00:00:00\", \"2018-12-14T00:00:00\", \"2018-12-17T00:00:00\", \"2018-12-18T00:00:00\", \"2018-12-19T00:00:00\", \"2018-12-20T00:00:00\", \"2018-12-21T00:00:00\", \"2018-12-24T00:00:00\", \"2018-12-25T00:00:00\", \"2018-12-26T00:00:00\", \"2018-12-27T00:00:00\", \"2018-12-28T00:00:00\"], \"xaxis\": \"x\", \"y\": [41051335, 43716168, 47081985, 39453967, 31095790, 27402304, 42840024, 33832056, 23998975, 75638674, 82161781, 122878390, 73982646, 173264389, 98625940, 80900215, 99494364, 72056495, 94123451, 150251515, 66973808, 57961636, 67635233, 86023883, 180589192, 146271831, 208702366, 109813986, 92394968, 53907357, 62138183, 28472207, 47486282, 42692846, 48909415, 51631896, 64027203, 44467730, 40862834, 27544496, 45189680, 50324658, 30962808, 34258236, 37487957, 30675759, 22475831, 24071360, 54886151, 20556605, 29396865, 26629271, 38728784, 74600926, 35702557, 28110551, 26170000, 30028842, 19369158, 32771622, 30155509, 20102564, 21323283, 31968452, 67056191, 42067121, 35817694, 34800471, 19851247, 30725744, 27775677, 30566126, 38293784, 39559543, 26154735, 21208494, 31935587, 37063420, 32810039, 31911645, 31863728, 35135411, 17895508, 28021635, 24304247, 34001136, 28848887, 32019824, 20896819, 35292406, 27099259, 23454085, 33916939, 24718106, 28473823, 20352237, 47706759, 24235880, 28898826, 28412027, 34410719, 31710127, 27988138, 41368438, 75198130, 55655035, 29286464, 28458719, 25835369, 24449479, 104478208, 45434239, 26740490, 17058585, 27753564, 34361430, 27167243, 25889782, 27324125, 25136280, 20976642, 23452135, 38057190, 18636226, 21477048, 20131300, 14653811, 23512217, 22175928, 25620209, 12777055, 16979030, 20188304, 35268617, 72793390, 109453570, 42192633, 47161873, 28607737, 32582546, 32868583, 33702051, 31112608, 29125929, 40849411, 34342057, 27325784, 38331482, 24158891, 33070255, 13738461, 19113385, 23524105, 21200128, 32470378, 20185406, 17489995, 17180527, 38537148, 35673575, 27396837, 26283455, 30839283, 34516433, 27274109, 29523189, 28999672, 19685328, 19651235, 19994061, 19972556, 27444476, 28027695, 19838803, 14925449, 14628591, 21152375, 29431026, 46442094, 23734319, 31848109, 28433723, 36142412, 33817371, 27877357, 24041969, 42424223, 30399375, 21717647, 23701329, 27546027, 19733361, 29334762, 49911487, 30612423, 52994823, 31461927, 24651829, 37575370, 44580740, 29218164, 40778637, 44497442, 24003482, 24368904, 24030899, 16780975, 65231502, 26140730, 26825808, 23805835, 16107521, 24205069, 22368362, 21651337, 13912016, 14320118, 17767609, 15252698, 14404417, 13847966, 20074143, 25474329, 37267984, 18975747, 13706174, 19327633, 10028846, 13659058, 11943288, 14553414, 17155674, 18690464, 20024875, 18165706, 15657384, 28181513, 22351105, 25097095, 24778140, 19477666, 29339976, 28021930], \"yaxis\": \"y\"}],\n",
       "                        {\"legend\": {\"title\": {\"text\": \"Names\"}, \"tracegroupgap\": 0}, \"margin\": {\"t\": 60}, \"template\": {\"data\": {\"bar\": [{\"error_x\": {\"color\": \"#2a3f5f\"}, \"error_y\": {\"color\": \"#2a3f5f\"}, \"marker\": {\"line\": {\"color\": \"#E5ECF6\", \"width\": 0.5}}, \"type\": \"bar\"}], \"barpolar\": [{\"marker\": {\"line\": {\"color\": \"#E5ECF6\", \"width\": 0.5}}, \"type\": \"barpolar\"}], \"carpet\": [{\"aaxis\": {\"endlinecolor\": \"#2a3f5f\", \"gridcolor\": \"white\", \"linecolor\": \"white\", \"minorgridcolor\": \"white\", \"startlinecolor\": \"#2a3f5f\"}, \"baxis\": {\"endlinecolor\": \"#2a3f5f\", \"gridcolor\": \"white\", \"linecolor\": \"white\", \"minorgridcolor\": \"white\", \"startlinecolor\": \"#2a3f5f\"}, \"type\": \"carpet\"}], \"choropleth\": [{\"colorbar\": {\"outlinewidth\": 0, \"ticks\": \"\"}, \"type\": \"choropleth\"}], \"contour\": [{\"colorbar\": {\"outlinewidth\": 0, \"ticks\": \"\"}, \"colorscale\": [[0.0, \"#0d0887\"], [0.1111111111111111, \"#46039f\"], [0.2222222222222222, \"#7201a8\"], [0.3333333333333333, \"#9c179e\"], [0.4444444444444444, \"#bd3786\"], [0.5555555555555556, \"#d8576b\"], [0.6666666666666666, \"#ed7953\"], [0.7777777777777778, \"#fb9f3a\"], [0.8888888888888888, \"#fdca26\"], [1.0, \"#f0f921\"]], \"type\": \"contour\"}], \"contourcarpet\": [{\"colorbar\": {\"outlinewidth\": 0, \"ticks\": \"\"}, \"type\": \"contourcarpet\"}], \"heatmap\": [{\"colorbar\": {\"outlinewidth\": 0, \"ticks\": \"\"}, \"colorscale\": [[0.0, \"#0d0887\"], [0.1111111111111111, \"#46039f\"], [0.2222222222222222, \"#7201a8\"], [0.3333333333333333, \"#9c179e\"], [0.4444444444444444, \"#bd3786\"], [0.5555555555555556, \"#d8576b\"], [0.6666666666666666, \"#ed7953\"], [0.7777777777777778, \"#fb9f3a\"], [0.8888888888888888, \"#fdca26\"], [1.0, \"#f0f921\"]], \"type\": \"heatmap\"}], \"heatmapgl\": [{\"colorbar\": {\"outlinewidth\": 0, \"ticks\": \"\"}, \"colorscale\": [[0.0, \"#0d0887\"], [0.1111111111111111, \"#46039f\"], [0.2222222222222222, \"#7201a8\"], [0.3333333333333333, \"#9c179e\"], [0.4444444444444444, \"#bd3786\"], [0.5555555555555556, \"#d8576b\"], [0.6666666666666666, \"#ed7953\"], [0.7777777777777778, \"#fb9f3a\"], [0.8888888888888888, \"#fdca26\"], [1.0, \"#f0f921\"]], \"type\": \"heatmapgl\"}], \"histogram\": [{\"marker\": {\"colorbar\": {\"outlinewidth\": 0, \"ticks\": \"\"}}, \"type\": \"histogram\"}], \"histogram2d\": [{\"colorbar\": {\"outlinewidth\": 0, \"ticks\": \"\"}, \"colorscale\": [[0.0, \"#0d0887\"], [0.1111111111111111, \"#46039f\"], [0.2222222222222222, \"#7201a8\"], [0.3333333333333333, \"#9c179e\"], [0.4444444444444444, \"#bd3786\"], [0.5555555555555556, \"#d8576b\"], [0.6666666666666666, \"#ed7953\"], [0.7777777777777778, \"#fb9f3a\"], [0.8888888888888888, \"#fdca26\"], [1.0, \"#f0f921\"]], \"type\": \"histogram2d\"}], \"histogram2dcontour\": [{\"colorbar\": {\"outlinewidth\": 0, \"ticks\": \"\"}, \"colorscale\": [[0.0, \"#0d0887\"], [0.1111111111111111, \"#46039f\"], [0.2222222222222222, \"#7201a8\"], [0.3333333333333333, \"#9c179e\"], [0.4444444444444444, \"#bd3786\"], [0.5555555555555556, \"#d8576b\"], [0.6666666666666666, \"#ed7953\"], [0.7777777777777778, \"#fb9f3a\"], [0.8888888888888888, \"#fdca26\"], [1.0, \"#f0f921\"]], \"type\": \"histogram2dcontour\"}], \"mesh3d\": [{\"colorbar\": {\"outlinewidth\": 0, \"ticks\": \"\"}, \"type\": \"mesh3d\"}], \"parcoords\": [{\"line\": {\"colorbar\": {\"outlinewidth\": 0, \"ticks\": \"\"}}, \"type\": \"parcoords\"}], \"pie\": [{\"automargin\": true, \"type\": \"pie\"}], \"scatter\": [{\"marker\": {\"colorbar\": {\"outlinewidth\": 0, \"ticks\": \"\"}}, \"type\": \"scatter\"}], \"scatter3d\": [{\"line\": {\"colorbar\": {\"outlinewidth\": 0, \"ticks\": \"\"}}, \"marker\": {\"colorbar\": {\"outlinewidth\": 0, \"ticks\": \"\"}}, \"type\": \"scatter3d\"}], \"scattercarpet\": [{\"marker\": {\"colorbar\": {\"outlinewidth\": 0, \"ticks\": \"\"}}, \"type\": \"scattercarpet\"}], \"scattergeo\": [{\"marker\": {\"colorbar\": {\"outlinewidth\": 0, \"ticks\": \"\"}}, \"type\": \"scattergeo\"}], \"scattergl\": [{\"marker\": {\"colorbar\": {\"outlinewidth\": 0, \"ticks\": \"\"}}, \"type\": \"scattergl\"}], \"scattermapbox\": [{\"marker\": {\"colorbar\": {\"outlinewidth\": 0, \"ticks\": \"\"}}, \"type\": \"scattermapbox\"}], \"scatterpolar\": [{\"marker\": {\"colorbar\": {\"outlinewidth\": 0, \"ticks\": \"\"}}, \"type\": \"scatterpolar\"}], \"scatterpolargl\": [{\"marker\": {\"colorbar\": {\"outlinewidth\": 0, \"ticks\": \"\"}}, \"type\": \"scatterpolargl\"}], \"scatterternary\": [{\"marker\": {\"colorbar\": {\"outlinewidth\": 0, \"ticks\": \"\"}}, \"type\": \"scatterternary\"}], \"surface\": [{\"colorbar\": {\"outlinewidth\": 0, \"ticks\": \"\"}, \"colorscale\": [[0.0, \"#0d0887\"], [0.1111111111111111, \"#46039f\"], [0.2222222222222222, \"#7201a8\"], [0.3333333333333333, \"#9c179e\"], [0.4444444444444444, \"#bd3786\"], [0.5555555555555556, \"#d8576b\"], [0.6666666666666666, \"#ed7953\"], [0.7777777777777778, \"#fb9f3a\"], [0.8888888888888888, \"#fdca26\"], [1.0, \"#f0f921\"]], \"type\": \"surface\"}], \"table\": [{\"cells\": {\"fill\": {\"color\": \"#EBF0F8\"}, \"line\": {\"color\": \"white\"}}, \"header\": {\"fill\": {\"color\": \"#C8D4E3\"}, \"line\": {\"color\": \"white\"}}, \"type\": \"table\"}]}, \"layout\": {\"annotationdefaults\": {\"arrowcolor\": \"#2a3f5f\", \"arrowhead\": 0, \"arrowwidth\": 1}, \"coloraxis\": {\"colorbar\": {\"outlinewidth\": 0, \"ticks\": \"\"}}, \"colorscale\": {\"diverging\": [[0, \"#8e0152\"], [0.1, \"#c51b7d\"], [0.2, \"#de77ae\"], [0.3, \"#f1b6da\"], [0.4, \"#fde0ef\"], [0.5, \"#f7f7f7\"], [0.6, \"#e6f5d0\"], [0.7, \"#b8e186\"], [0.8, \"#7fbc41\"], [0.9, \"#4d9221\"], [1, \"#276419\"]], \"sequential\": [[0.0, \"#0d0887\"], [0.1111111111111111, \"#46039f\"], [0.2222222222222222, \"#7201a8\"], [0.3333333333333333, \"#9c179e\"], [0.4444444444444444, \"#bd3786\"], [0.5555555555555556, \"#d8576b\"], [0.6666666666666666, \"#ed7953\"], [0.7777777777777778, \"#fb9f3a\"], [0.8888888888888888, \"#fdca26\"], [1.0, \"#f0f921\"]], \"sequentialminus\": [[0.0, \"#0d0887\"], [0.1111111111111111, \"#46039f\"], [0.2222222222222222, \"#7201a8\"], [0.3333333333333333, \"#9c179e\"], [0.4444444444444444, \"#bd3786\"], [0.5555555555555556, \"#d8576b\"], [0.6666666666666666, \"#ed7953\"], [0.7777777777777778, \"#fb9f3a\"], [0.8888888888888888, \"#fdca26\"], [1.0, \"#f0f921\"]]}, \"colorway\": [\"#636efa\", \"#EF553B\", \"#00cc96\", \"#ab63fa\", \"#FFA15A\", \"#19d3f3\", \"#FF6692\", \"#B6E880\", \"#FF97FF\", \"#FECB52\"], \"font\": {\"color\": \"#2a3f5f\"}, \"geo\": {\"bgcolor\": \"white\", \"lakecolor\": \"white\", \"landcolor\": \"#E5ECF6\", \"showlakes\": true, \"showland\": true, \"subunitcolor\": \"white\"}, \"hoverlabel\": {\"align\": \"left\"}, \"hovermode\": \"closest\", \"mapbox\": {\"style\": \"light\"}, \"paper_bgcolor\": \"white\", \"plot_bgcolor\": \"#E5ECF6\", \"polar\": {\"angularaxis\": {\"gridcolor\": \"white\", \"linecolor\": \"white\", \"ticks\": \"\"}, \"bgcolor\": \"#E5ECF6\", \"radialaxis\": {\"gridcolor\": \"white\", \"linecolor\": \"white\", \"ticks\": \"\"}}, \"scene\": {\"xaxis\": {\"backgroundcolor\": \"#E5ECF6\", \"gridcolor\": \"white\", \"gridwidth\": 2, \"linecolor\": \"white\", \"showbackground\": true, \"ticks\": \"\", \"zerolinecolor\": \"white\"}, \"yaxis\": {\"backgroundcolor\": \"#E5ECF6\", \"gridcolor\": \"white\", \"gridwidth\": 2, \"linecolor\": \"white\", \"showbackground\": true, \"ticks\": \"\", \"zerolinecolor\": \"white\"}, \"zaxis\": {\"backgroundcolor\": \"#E5ECF6\", \"gridcolor\": \"white\", \"gridwidth\": 2, \"linecolor\": \"white\", \"showbackground\": true, \"ticks\": \"\", \"zerolinecolor\": \"white\"}}, \"shapedefaults\": {\"line\": {\"color\": \"#2a3f5f\"}}, \"ternary\": {\"aaxis\": {\"gridcolor\": \"white\", \"linecolor\": \"white\", \"ticks\": \"\"}, \"baxis\": {\"gridcolor\": \"white\", \"linecolor\": \"white\", \"ticks\": \"\"}, \"bgcolor\": \"#E5ECF6\", \"caxis\": {\"gridcolor\": \"white\", \"linecolor\": \"white\", \"ticks\": \"\"}}, \"title\": {\"x\": 0.05}, \"xaxis\": {\"automargin\": true, \"gridcolor\": \"white\", \"linecolor\": \"white\", \"ticks\": \"\", \"title\": {\"standoff\": 15}, \"zerolinecolor\": \"white\", \"zerolinewidth\": 2}, \"yaxis\": {\"automargin\": true, \"gridcolor\": \"white\", \"linecolor\": \"white\", \"ticks\": \"\", \"title\": {\"standoff\": 15}, \"zerolinecolor\": \"white\", \"zerolinewidth\": 2}}}, \"xaxis\": {\"anchor\": \"y\", \"domain\": [0.0, 1.0], \"title\": {\"text\": \"Time\"}}, \"yaxis\": {\"anchor\": \"x\", \"domain\": [0.0, 1.0], \"title\": {\"text\": \"Volume\"}}},\n",
       "                        {\"responsive\": true}\n",
       "                    ).then(function(){\n",
       "                            \n",
       "var gd = document.getElementById('d5cb9865-7571-4480-b6a3-7f592c541590');\n",
       "var x = new MutationObserver(function (mutations, observer) {{\n",
       "        var display = window.getComputedStyle(gd).display;\n",
       "        if (!display || display === 'none') {{\n",
       "            console.log([gd, 'removed!']);\n",
       "            Plotly.purge(gd);\n",
       "            observer.disconnect();\n",
       "        }}\n",
       "}});\n",
       "\n",
       "// Listen for the removal of the full notebook cells\n",
       "var notebookContainer = gd.closest('#notebook-container');\n",
       "if (notebookContainer) {{\n",
       "    x.observe(notebookContainer, {childList: true});\n",
       "}}\n",
       "\n",
       "// Listen for the clearing of the current output cell\n",
       "var outputEl = gd.closest('.output');\n",
       "if (outputEl) {{\n",
       "    x.observe(outputEl, {childList: true});\n",
       "}}\n",
       "\n",
       "                        })\n",
       "                };\n",
       "                });\n",
       "            </script>\n",
       "        </div>"
      ]
     },
     "metadata": {},
     "output_type": "display_data"
    }
   ],
   "source": [
    "plot_2_stock(['Mining/Shandong Gold Mining', 'Banking/Bank of Shanghai'], 'Volume')"
   ]
  }
 ],
 "metadata": {
  "kernelspec": {
   "display_name": "Python 3",
   "language": "python",
   "name": "python3"
  },
  "language_info": {
   "codemirror_mode": {
    "name": "ipython",
    "version": 3
   },
   "file_extension": ".py",
   "mimetype": "text/x-python",
   "name": "python",
   "nbconvert_exporter": "python",
   "pygments_lexer": "ipython3",
   "version": "3.6.10"
  }
 },
 "nbformat": 4,
 "nbformat_minor": 4
}
