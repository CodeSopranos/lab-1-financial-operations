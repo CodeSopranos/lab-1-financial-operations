{
 "cells": [
  {
   "cell_type": "code",
   "execution_count": 148,
   "metadata": {},
   "outputs": [],
   "source": [
    "import yfinance as yf\n",
    "import numpy as np\n",
    "import statistics\n",
    "import pandas as pd\n",
    "import matplotlib.pyplot as plt\n",
    "import plotly.graph_objects as go\n",
    "import plotly.express as px\n",
    "import plotly.io as pio\n",
    "import warnings\n",
    "warnings.filterwarnings('ignore')\n",
    "PATH_TO_STOCK = 'data/SSE50.csv'"
   ]
  },
  {
   "cell_type": "markdown",
   "metadata": {},
   "source": [
    "1. Собрать данные по дневным ценам активов (акций) и дневным объемам продаж на заданном фондовом рынке за указанный период. Добавить (если нет) данные по индексу рынка\n",
    "\n",
    "2. Преобразовать данные по ценам в данные по доходностям (используйте логарифмическую доходность). Вычислите оценки ожидаемых доходностей и стандартных отклонений и постройте «карту» активов в системе координат (σ, E).\n",
    "\n",
    "3. Рассмотрите портфель с равными долями капитала и отметьте его на карте активов в системе координат (σ, E). Дайте характеристику этому портфелю.\n",
    "\n",
    "4. Рассмотрите индекс рынка и отметьте его на карте активов в системе координат (σ,E). Дайте характеристику индексу рынка. PS σ - Risk, E - Expectation"
   ]
  },
  {
   "cell_type": "code",
   "execution_count": 18,
   "metadata": {},
   "outputs": [],
   "source": [
    "def get_descriptive_statistics(frame):\n",
    "    E = np.mean(frame[\"Log_R\"])\n",
    "    sigma = np.std(frame[\"Log_R\"])\n",
    "    frame['E'] = E\n",
    "    frame['sigma'] = sigma\n",
    "    return frame, E, sigma\n",
    "\n",
    "def get_log_R(frame):\n",
    "    frame['Log_R'] = np.log(frame['Close'] / frame['Close'].shift(1))\n",
    "    return frame"
   ]
  },
  {
   "cell_type": "code",
   "execution_count": null,
   "metadata": {},
   "outputs": [],
   "source": [
    "stocks_stat = pd.DataFrame(columns=['sigma', 'E', 'names', 'mean_vol', 'mean_log_R', 'industry'])\n",
    "stocks_info = pd.read_csv(PATH_TO_STOCK, names=['Name', 'Industry','Symbol'], delimiter=',')\n",
    "n_stocks = len(stocks_info)\n",
    "stocks = {}\n",
    "\n",
    "for index, row in stocks_info.iterrows():\n",
    "    name, industry, symbol = row\n",
    "    if name != 'Index':\n",
    "        symbol = str(symbol) + '.SS'\n",
    "    stock = yf.download(symbol, start=\"2018-01-01\", end=\"2018-12-31\")\n",
    "    stock = get_log_R(stock)\n",
    "    stock, E, s = get_descriptive_statistics(stock)\n",
    "    mean_vol = stock['Volume'].mean()\n",
    "        \n",
    "    stocks_stat.loc[index] = [s, E, name, mean_vol, stock['Log_R'].mean(), industry]\n",
    "    stocks[str(industry)+'/'+str(name)] = stock"
   ]
  },
  {
   "cell_type": "code",
   "execution_count": 91,
   "metadata": {
    "scrolled": true
   },
   "outputs": [
    {
     "data": {
      "application/vnd.plotly.v1+json": {
       "config": {
        "plotlyServerURL": "https://plot.ly"
       },
       "data": [
        {
         "customdata": [
          [
           "Tsinghua Tongfang"
          ]
         ],
         "hovertemplate": "industry= Other<br>sigma=%{x}<br>E=%{y}<br>mean_vol=%{marker.size}<br>names=%{customdata[0]}<extra></extra>",
         "legendgroup": " Other",
         "marker": {
          "color": "#636efa",
          "size": [
           15913101.868312757
          ],
          "sizemode": "area",
          "sizeref": 829375.9342695473,
          "symbol": "circle"
         },
         "mode": "markers",
         "name": " Other",
         "orientation": "v",
         "showlegend": true,
         "type": "scatter",
         "x": [
          0.023397727939211556
         ],
         "xaxis": "x",
         "y": [
          -4.2252385315912526e-05
         ],
         "yaxis": "y"
        },
        {
         "customdata": [
          [
           "Xinwei Group"
          ]
         ],
         "hovertemplate": "industry=Other<br>sigma=%{x}<br>E=%{y}<br>mean_vol=%{marker.size}<br>names=%{customdata[0]}<extra></extra>",
         "legendgroup": "Other",
         "marker": {
          "color": "#EF553B",
          "size": [
           0
          ],
          "sizemode": "area",
          "sizeref": 829375.9342695473,
          "symbol": "circle"
         },
         "mode": "markers",
         "name": "Other",
         "orientation": "v",
         "showlegend": true,
         "type": "scatter",
         "x": [
          0
         ],
         "xaxis": "x",
         "y": [
          0
         ],
         "yaxis": "y"
        },
        {
         "customdata": [
          [
           "China Southern Airlines"
          ]
         ],
         "hovertemplate": "industry=Airline<br>sigma=%{x}<br>E=%{y}<br>mean_vol=%{marker.size}<br>names=%{customdata[0]}<extra></extra>",
         "legendgroup": "Airline",
         "marker": {
          "color": "#00cc96",
          "size": [
           92775866.56378601
          ],
          "sizemode": "area",
          "sizeref": 829375.9342695473,
          "symbol": "circle"
         },
         "mode": "markers",
         "name": "Airline",
         "orientation": "v",
         "showlegend": true,
         "type": "scatter",
         "x": [
          0.02739833143572189
         ],
         "xaxis": "x",
         "y": [
          -0.0022334767708985176
         ],
         "yaxis": "y"
        },
        {
         "customdata": [
          [
           "SAIC Motor"
          ]
         ],
         "hovertemplate": "industry=Automotive<br>sigma=%{x}<br>E=%{y}<br>mean_vol=%{marker.size}<br>names=%{customdata[0]}<extra></extra>",
         "legendgroup": "Automotive",
         "marker": {
          "color": "#ab63fa",
          "size": [
           19809289.03292181
          ],
          "sizemode": "area",
          "sizeref": 829375.9342695473,
          "symbol": "circle"
         },
         "mode": "markers",
         "name": "Automotive",
         "orientation": "v",
         "showlegend": true,
         "type": "scatter",
         "x": [
          0.018883756554085928
         ],
         "xaxis": "x",
         "y": [
          -0.0007230707505599738
         ],
         "yaxis": "y"
        },
        {
         "customdata": [
          [
           "Shanghai Pudong Development Bank"
          ],
          [
           "China Minsheng Bank"
          ],
          [
           "China Merchants Bank"
          ],
          [
           "Bank of Jiangsu"
          ],
          [
           "Industrial Bank"
          ],
          [
           "Bank of Beijing"
          ],
          [
           "Bank of Shanghai"
          ],
          [
           "Agricultural Bank of China"
          ],
          [
           "Bank of Communications"
          ],
          [
           "Industrial and Commercial Bank of China"
          ],
          [
           "China Everbright Bank"
          ],
          [
           "Bank of China"
          ]
         ],
         "hovertemplate": "industry=Banking<br>sigma=%{x}<br>E=%{y}<br>mean_vol=%{marker.size}<br>names=%{customdata[0]}<extra></extra>",
         "legendgroup": "Banking",
         "marker": {
          "color": "#FFA15A",
          "size": [
           35868636.20576131,
           80091037.16460906,
           50532683.58436214,
           32556968.901234567,
           76390533.68724279,
           37562169.27983539,
           36946055.03703704,
           331750373.7078189,
           96920518.16049382,
           214667815.52263373,
           100711570.57613169,
           156081468.23868313
          ],
          "sizemode": "area",
          "sizeref": 829375.9342695473,
          "symbol": "circle"
         },
         "mode": "markers",
         "name": "Banking",
         "orientation": "v",
         "showlegend": true,
         "type": "scatter",
         "x": [
          0.013732922482684862,
          0.012233258891306721,
          0.01920665884582793,
          0.012118869896020948,
          0.013313086519065135,
          0.011457792204730657,
          0.014491379161511898,
          0.015354848500486032,
          0.012250891970607098,
          0.01649818332526671,
          0.014227043084449954,
          0.013034581104360609
         ],
         "xaxis": "x",
         "y": [
          -0.001077657742832811,
          -0.0008858646138838149,
          -0.0006677926131414701,
          -0.0009096031581619352,
          -0.0005916946295101731,
          -0.001019622379412805,
          0.0003510718436268873,
          -0.0002774351428009029,
          -0.0003356930945975166,
          -0.0006425620042711419,
          -0.00040398403792936074,
          -0.00040319868100503536
         ],
         "yaxis": "y"
        },
        {
         "customdata": [
          [
           "Kweichow Moutai"
          ]
         ],
         "hovertemplate": "industry= Beverages<br>sigma=%{x}<br>E=%{y}<br>mean_vol=%{marker.size}<br>names=%{customdata[0]}<extra></extra>",
         "legendgroup": " Beverages",
         "marker": {
          "color": "#19d3f3",
          "size": [
           4445038.864197531
          ],
          "sizemode": "area",
          "sizeref": 829375.9342695473,
          "symbol": "circle"
         },
         "mode": "markers",
         "name": " Beverages",
         "orientation": "v",
         "showlegend": true,
         "type": "scatter",
         "x": [
          0.02340618427187137
         ],
         "xaxis": "x",
         "y": [
          -0.0007290319344099985
         ],
         "yaxis": "y"
        },
        {
         "customdata": [
          [
           "China Railway Construction "
          ],
          [
           "China Railway [Engineering] "
          ],
          [
           "China State Construction Engineering "
          ],
          [
           "China Communications Construction "
          ]
         ],
         "hovertemplate": "industry=Construction<br>sigma=%{x}<br>E=%{y}<br>mean_vol=%{marker.size}<br>names=%{customdata[0]}<extra></extra>",
         "legendgroup": "Construction",
         "marker": {
          "color": "#FF6692",
          "size": [
           44348662.7654321,
           24202047.925925925,
           172508537.69547325,
           16605839.456790123
          ],
          "sizemode": "area",
          "sizeref": 829375.9342695473,
          "symbol": "circle"
         },
         "mode": "markers",
         "name": "Construction",
         "orientation": "v",
         "showlegend": true,
         "type": "scatter",
         "x": [
          0.02281055275905274,
          0.01380997042065194,
          0.01820243519747332,
          0.022946122675987196
         ],
         "xaxis": "x",
         "y": [
          -0.00020034487560263394,
          -0.0008130638263610723,
          -0.0005923604886360605,
          -0.0006443193027430556
         ],
         "yaxis": "y"
        },
        {
         "customdata": [
          [
           "Yili Group"
          ]
         ],
         "hovertemplate": "industry=Dairy<br>sigma=%{x}<br>E=%{y}<br>mean_vol=%{marker.size}<br>names=%{customdata[0]}<extra></extra>",
         "legendgroup": "Dairy",
         "marker": {
          "color": "#B6E880",
          "size": [
           60994414.37037037
          ],
          "sizemode": "area",
          "sizeref": 829375.9342695473,
          "symbol": "circle"
         },
         "mode": "markers",
         "name": "Dairy",
         "orientation": "v",
         "showlegend": true,
         "type": "scatter",
         "x": [
          0.025423775382228696
         ],
         "xaxis": "x",
         "y": [
          -0.0013797895655822243
         ],
         "yaxis": "y"
        },
        {
         "customdata": [
          [
           "China Shenhua Energy "
          ],
          [
           "China National Nuclear Power "
          ]
         ],
         "hovertemplate": "industry=Energy<br>sigma=%{x}<br>E=%{y}<br>mean_vol=%{marker.size}<br>names=%{customdata[0]}<extra></extra>",
         "legendgroup": "Energy",
         "marker": {
          "color": "#FF97FF",
          "size": [
           25894093.942386832,
           19626560.423868313
          ],
          "sizemode": "area",
          "sizeref": 829375.9342695473,
          "symbol": "circle"
         },
         "mode": "markers",
         "name": "Energy",
         "orientation": "v",
         "showlegend": true,
         "type": "scatter",
         "x": [
          0.0210134003241338,
          0.012881844381876272
         ],
         "xaxis": "x",
         "y": [
          -0.0011651182899613947,
          -0.0013970965204925408
         ],
         "yaxis": "y"
        },
        {
         "customdata": [
          [
           "CITIC Securities"
          ],
          [
           "Haitong Securities"
          ],
          [
           "Orient Securities"
          ],
          [
           "China Merchants Securities"
          ],
          [
           "Dongxing Securities"
          ],
          [
           "Guotai Junan Securities"
          ],
          [
           "Huatai Securities"
          ],
          [
           "Everbright Securities"
          ],
          [
           "China Galaxy Securities"
          ],
          [
           "Founder Securities"
          ]
         ],
         "hovertemplate": "industry=Financial services<br>sigma=%{x}<br>E=%{y}<br>mean_vol=%{marker.size}<br>names=%{customdata[0]}<extra></extra>",
         "legendgroup": "Financial services",
         "marker": {
          "color": "#FECB52",
          "size": [
           112478697.79012346,
           42101950.12345679,
           15328019.271604938,
           12851845.646090535,
           13236381.053497942,
           21158748.621399175,
           49804498.304526746,
           12813738.460905349,
           23539708.3127572,
           17415308.596707817
          ],
          "sizemode": "area",
          "sizeref": 829375.9342695473,
          "symbol": "circle"
         },
         "mode": "markers",
         "name": "Financial services",
         "orientation": "v",
         "showlegend": true,
         "type": "scatter",
         "x": [
          0.021268556796911472,
          0.01936497752688617,
          0.021780045772568195,
          0.019859295432691295,
          0.0257137088668738,
          0.017949265648675543,
          0.0227863561875066,
          0.0214391730117627,
          0.026516548945434943,
          0.020942084626392337
         ],
         "xaxis": "x",
         "y": [
          -0.000583920271841135,
          -0.0016377380042876272,
          -0.0023250343216514014,
          -0.0011125180192215016,
          -0.0017270217767223256,
          -0.0008304435852211166,
          -0.0004399627613632849,
          -0.0018190183212327092,
          -0.001822291487934173,
          -0.0011359037149738418
         ],
         "yaxis": "y"
        },
        {
         "customdata": [
          [
           "Ping An Insurance"
          ],
          [
           "New China Life Insurance"
          ],
          [
           "China Pacific Insurance"
          ],
          [
           "China Life Insurance"
          ]
         ],
         "hovertemplate": "industry=Insurance<br>sigma=%{x}<br>E=%{y}<br>mean_vol=%{marker.size}<br>names=%{customdata[0]}<extra></extra>",
         "legendgroup": "Insurance",
         "marker": {
          "color": "#636efa",
          "size": [
           74905882.98353909,
           17117463.238683127,
           24765406.596707817,
           11289268.732510287
          ],
          "sizemode": "area",
          "sizeref": 829375.9342695473,
          "symbol": "circle"
         },
         "mode": "markers",
         "name": "Insurance",
         "orientation": "v",
         "showlegend": true,
         "type": "scatter",
         "x": [
          0.01990338584762517,
          0.023704091564784757,
          0.024211201600951204,
          0.016884383117929797
         ],
         "xaxis": "x",
         "y": [
          -0.0010648402294137973,
          -0.002140094115393431,
          -0.0016036343880121383,
          -0.0016626206563672865
         ],
         "yaxis": "y"
        },
        {
         "customdata": [
          [
           "China Northern Rare Earth"
          ],
          [
           "Shandong Gold Mining"
          ]
         ],
         "hovertemplate": "industry=Mining<br>sigma=%{x}<br>E=%{y}<br>mean_vol=%{marker.size}<br>names=%{customdata[0]}<extra></extra>",
         "legendgroup": "Mining",
         "marker": {
          "color": "#EF553B",
          "size": [
           38641018.736625515,
           26886012.781893004
          ],
          "sizemode": "area",
          "sizeref": 829375.9342695473,
          "symbol": "circle"
         },
         "mode": "markers",
         "name": "Mining",
         "orientation": "v",
         "showlegend": true,
         "type": "scatter",
         "x": [
          0.020895859288782792,
          0.022105174718109473
         ],
         "xaxis": "x",
         "y": [
          -0.0021651479257537585,
          -0.00017519926244947178
         ],
         "yaxis": "y"
        },
        {
         "customdata": [
          [
           "Sinopec"
          ],
          [
           "PetroChina"
          ]
         ],
         "hovertemplate": "industry=Oil & gas<br>sigma=%{x}<br>E=%{y}<br>mean_vol=%{marker.size}<br>names=%{customdata[0]}<extra></extra>",
         "legendgroup": "Oil & gas",
         "marker": {
          "color": "#00cc96",
          "size": [
           154901071.28395063,
           48295997.0781893
          ],
          "sizemode": "area",
          "sizeref": 829375.9342695473,
          "symbol": "circle"
         },
         "mode": "markers",
         "name": "Oil & gas",
         "orientation": "v",
         "showlegend": true,
         "type": "scatter",
         "x": [
          0.01926795836440376,
          0.016499441668100263
         ],
         "xaxis": "x",
         "y": [
          -0.0009595502915781691,
          -0.0005567943956978943
         ],
         "yaxis": "y"
        },
        {
         "customdata": [
          [
           "Kangmei Pharmaceutical"
          ]
         ],
         "hovertemplate": "industry=Pharmaceutical<br>sigma=%{x}<br>E=%{y}<br>mean_vol=%{marker.size}<br>names=%{customdata[0]}<extra></extra>",
         "legendgroup": "Pharmaceutical",
         "marker": {
          "color": "#ab63fa",
          "size": [
           32556456.53909465
          ],
          "sizemode": "area",
          "sizeref": 829375.9342695473,
          "symbol": "circle"
         },
         "mode": "markers",
         "name": "Pharmaceutical",
         "orientation": "v",
         "showlegend": true,
         "type": "scatter",
         "x": [
          0.024368761009415388
         ],
         "xaxis": "x",
         "y": [
          -0.0036689165742784975
         ],
         "yaxis": "y"
        },
        {
         "customdata": [
          [
           "Daqin Railway"
          ]
         ],
         "hovertemplate": "industry=Rail transport<br>sigma=%{x}<br>E=%{y}<br>mean_vol=%{marker.size}<br>names=%{customdata[0]}<extra></extra>",
         "legendgroup": "Rail transport",
         "marker": {
          "color": "#FFA15A",
          "size": [
           41069439.251028806
          ],
          "sizemode": "area",
          "sizeref": 829375.9342695473,
          "symbol": "circle"
         },
         "mode": "markers",
         "name": "Rail transport",
         "orientation": "v",
         "showlegend": true,
         "type": "scatter",
         "x": [
          0.015457386925163722
         ],
         "xaxis": "x",
         "y": [
          -0.00042884193418945264
         ],
         "yaxis": "y"
        },
        {
         "customdata": [
          [
           "Poly Real Estate"
          ],
          [
           "China Fortune Land Development"
          ],
          [
           "Greenland Holdings"
          ]
         ],
         "hovertemplate": "industry=Real estate<br>sigma=%{x}<br>E=%{y}<br>mean_vol=%{marker.size}<br>names=%{customdata[0]}<extra></extra>",
         "legendgroup": "Real estate",
         "marker": {
          "color": "#19d3f3",
          "size": [
           104099820.02057613,
           22549787.436213993,
           72789839.00823045
          ],
          "sizemode": "area",
          "sizeref": 829375.9342695473,
          "symbol": "circle"
         },
         "mode": "markers",
         "name": "Real estate",
         "orientation": "v",
         "showlegend": true,
         "type": "scatter",
         "x": [
          0.02879438529916983,
          0.02892914103965568,
          0.02104545607178855
         ],
         "xaxis": "x",
         "y": [
          -0.0008890030379346753,
          -0.0009798026764182102,
          -0.0010407430925305488
         ],
         "yaxis": "y"
        },
        {
         "customdata": [
          [
           "CRRC"
          ]
         ],
         "hovertemplate": "industry=Rolling stock<br>sigma=%{x}<br>E=%{y}<br>mean_vol=%{marker.size}<br>names=%{customdata[0]}<extra></extra>",
         "legendgroup": "Rolling stock",
         "marker": {
          "color": "#FF6692",
          "size": [
           57124025.004115224
          ],
          "sizemode": "area",
          "sizeref": 829375.9342695473,
          "symbol": "circle"
         },
         "mode": "markers",
         "name": "Rolling stock",
         "orientation": "v",
         "showlegend": true,
         "type": "scatter",
         "x": [
          0.01849338614063459
         ],
         "xaxis": "x",
         "y": [
          -0.001430111102396903
         ],
         "yaxis": "y"
        },
        {
         "customdata": [
          [
           "China Shipbuilding Industry"
          ]
         ],
         "hovertemplate": "industry=Shipbuilding<br>sigma=%{x}<br>E=%{y}<br>mean_vol=%{marker.size}<br>names=%{customdata[0]}<extra></extra>",
         "legendgroup": "Shipbuilding",
         "marker": {
          "color": "#B6E880",
          "size": [
           74848669.50205761
          ],
          "sizemode": "area",
          "sizeref": 829375.9342695473,
          "symbol": "circle"
         },
         "mode": "markers",
         "name": "Shipbuilding",
         "orientation": "v",
         "showlegend": true,
         "type": "scatter",
         "x": [
          0.01644304021192835
         ],
         "xaxis": "x",
         "y": [
          -0.001452417449151541
         ],
         "yaxis": "y"
        },
        {
         "customdata": [
          [
           "China United Network Communications"
          ]
         ],
         "hovertemplate": "industry=Telecommunication<br>sigma=%{x}<br>E=%{y}<br>mean_vol=%{marker.size}<br>names=%{customdata[0]}<extra></extra>",
         "legendgroup": "Telecommunication",
         "marker": {
          "color": "#FF97FF",
          "size": [
           137923049.86419752
          ],
          "sizemode": "area",
          "sizeref": 829375.9342695473,
          "symbol": "circle"
         },
         "mode": "markers",
         "name": "Telecommunication",
         "orientation": "v",
         "showlegend": true,
         "type": "scatter",
         "x": [
          0.020964890111881438
         ],
         "xaxis": "x",
         "y": [
          -0.0009076687839836355
         ],
         "yaxis": "y"
        },
        {
         "customdata": [
          [
           "Index"
          ]
         ],
         "hovertemplate": "industry= index<br>sigma=%{x}<br>E=%{y}<br>mean_vol=%{marker.size}<br>names=%{customdata[0]}<extra></extra>",
         "legendgroup": " index",
         "marker": {
          "color": "#FECB52",
          "size": [
           41400
          ],
          "sizemode": "area",
          "sizeref": 829375.9342695473,
          "symbol": "circle"
         },
         "mode": "markers",
         "name": " index",
         "orientation": "v",
         "showlegend": true,
         "type": "scatter",
         "x": [
          0.01382184821428148
         ],
         "xaxis": "x",
         "y": [
          -0.0009826937875556342
         ],
         "yaxis": "y"
        },
        {
         "mode": "markers+text",
         "text": "Balanced portfolio",
         "textposition": "top center",
         "type": "scatter",
         "x": [
          0.0007151714682060492
         ],
         "y": [
          -0.0010259979006281886
         ]
        },
        {
         "mode": "markers+text",
         "text": "Index SSE50",
         "textposition": "top center",
         "type": "scatter",
         "x": [
          0.01382184821428148
         ],
         "y": [
          -0.0009826937875556342
         ]
        }
       ],
       "layout": {
        "legend": {
         "itemsizing": "constant",
         "title": {
          "text": "industry"
         },
         "tracegroupgap": 0
        },
        "template": {
         "data": {
          "bar": [
           {
            "error_x": {
             "color": "#2a3f5f"
            },
            "error_y": {
             "color": "#2a3f5f"
            },
            "marker": {
             "line": {
              "color": "#E5ECF6",
              "width": 0.5
             }
            },
            "type": "bar"
           }
          ],
          "barpolar": [
           {
            "marker": {
             "line": {
              "color": "#E5ECF6",
              "width": 0.5
             }
            },
            "type": "barpolar"
           }
          ],
          "carpet": [
           {
            "aaxis": {
             "endlinecolor": "#2a3f5f",
             "gridcolor": "white",
             "linecolor": "white",
             "minorgridcolor": "white",
             "startlinecolor": "#2a3f5f"
            },
            "baxis": {
             "endlinecolor": "#2a3f5f",
             "gridcolor": "white",
             "linecolor": "white",
             "minorgridcolor": "white",
             "startlinecolor": "#2a3f5f"
            },
            "type": "carpet"
           }
          ],
          "choropleth": [
           {
            "colorbar": {
             "outlinewidth": 0,
             "ticks": ""
            },
            "type": "choropleth"
           }
          ],
          "contour": [
           {
            "colorbar": {
             "outlinewidth": 0,
             "ticks": ""
            },
            "colorscale": [
             [
              0,
              "#0d0887"
             ],
             [
              0.1111111111111111,
              "#46039f"
             ],
             [
              0.2222222222222222,
              "#7201a8"
             ],
             [
              0.3333333333333333,
              "#9c179e"
             ],
             [
              0.4444444444444444,
              "#bd3786"
             ],
             [
              0.5555555555555556,
              "#d8576b"
             ],
             [
              0.6666666666666666,
              "#ed7953"
             ],
             [
              0.7777777777777778,
              "#fb9f3a"
             ],
             [
              0.8888888888888888,
              "#fdca26"
             ],
             [
              1,
              "#f0f921"
             ]
            ],
            "type": "contour"
           }
          ],
          "contourcarpet": [
           {
            "colorbar": {
             "outlinewidth": 0,
             "ticks": ""
            },
            "type": "contourcarpet"
           }
          ],
          "heatmap": [
           {
            "colorbar": {
             "outlinewidth": 0,
             "ticks": ""
            },
            "colorscale": [
             [
              0,
              "#0d0887"
             ],
             [
              0.1111111111111111,
              "#46039f"
             ],
             [
              0.2222222222222222,
              "#7201a8"
             ],
             [
              0.3333333333333333,
              "#9c179e"
             ],
             [
              0.4444444444444444,
              "#bd3786"
             ],
             [
              0.5555555555555556,
              "#d8576b"
             ],
             [
              0.6666666666666666,
              "#ed7953"
             ],
             [
              0.7777777777777778,
              "#fb9f3a"
             ],
             [
              0.8888888888888888,
              "#fdca26"
             ],
             [
              1,
              "#f0f921"
             ]
            ],
            "type": "heatmap"
           }
          ],
          "heatmapgl": [
           {
            "colorbar": {
             "outlinewidth": 0,
             "ticks": ""
            },
            "colorscale": [
             [
              0,
              "#0d0887"
             ],
             [
              0.1111111111111111,
              "#46039f"
             ],
             [
              0.2222222222222222,
              "#7201a8"
             ],
             [
              0.3333333333333333,
              "#9c179e"
             ],
             [
              0.4444444444444444,
              "#bd3786"
             ],
             [
              0.5555555555555556,
              "#d8576b"
             ],
             [
              0.6666666666666666,
              "#ed7953"
             ],
             [
              0.7777777777777778,
              "#fb9f3a"
             ],
             [
              0.8888888888888888,
              "#fdca26"
             ],
             [
              1,
              "#f0f921"
             ]
            ],
            "type": "heatmapgl"
           }
          ],
          "histogram": [
           {
            "marker": {
             "colorbar": {
              "outlinewidth": 0,
              "ticks": ""
             }
            },
            "type": "histogram"
           }
          ],
          "histogram2d": [
           {
            "colorbar": {
             "outlinewidth": 0,
             "ticks": ""
            },
            "colorscale": [
             [
              0,
              "#0d0887"
             ],
             [
              0.1111111111111111,
              "#46039f"
             ],
             [
              0.2222222222222222,
              "#7201a8"
             ],
             [
              0.3333333333333333,
              "#9c179e"
             ],
             [
              0.4444444444444444,
              "#bd3786"
             ],
             [
              0.5555555555555556,
              "#d8576b"
             ],
             [
              0.6666666666666666,
              "#ed7953"
             ],
             [
              0.7777777777777778,
              "#fb9f3a"
             ],
             [
              0.8888888888888888,
              "#fdca26"
             ],
             [
              1,
              "#f0f921"
             ]
            ],
            "type": "histogram2d"
           }
          ],
          "histogram2dcontour": [
           {
            "colorbar": {
             "outlinewidth": 0,
             "ticks": ""
            },
            "colorscale": [
             [
              0,
              "#0d0887"
             ],
             [
              0.1111111111111111,
              "#46039f"
             ],
             [
              0.2222222222222222,
              "#7201a8"
             ],
             [
              0.3333333333333333,
              "#9c179e"
             ],
             [
              0.4444444444444444,
              "#bd3786"
             ],
             [
              0.5555555555555556,
              "#d8576b"
             ],
             [
              0.6666666666666666,
              "#ed7953"
             ],
             [
              0.7777777777777778,
              "#fb9f3a"
             ],
             [
              0.8888888888888888,
              "#fdca26"
             ],
             [
              1,
              "#f0f921"
             ]
            ],
            "type": "histogram2dcontour"
           }
          ],
          "mesh3d": [
           {
            "colorbar": {
             "outlinewidth": 0,
             "ticks": ""
            },
            "type": "mesh3d"
           }
          ],
          "parcoords": [
           {
            "line": {
             "colorbar": {
              "outlinewidth": 0,
              "ticks": ""
             }
            },
            "type": "parcoords"
           }
          ],
          "pie": [
           {
            "automargin": true,
            "type": "pie"
           }
          ],
          "scatter": [
           {
            "marker": {
             "colorbar": {
              "outlinewidth": 0,
              "ticks": ""
             }
            },
            "type": "scatter"
           }
          ],
          "scatter3d": [
           {
            "line": {
             "colorbar": {
              "outlinewidth": 0,
              "ticks": ""
             }
            },
            "marker": {
             "colorbar": {
              "outlinewidth": 0,
              "ticks": ""
             }
            },
            "type": "scatter3d"
           }
          ],
          "scattercarpet": [
           {
            "marker": {
             "colorbar": {
              "outlinewidth": 0,
              "ticks": ""
             }
            },
            "type": "scattercarpet"
           }
          ],
          "scattergeo": [
           {
            "marker": {
             "colorbar": {
              "outlinewidth": 0,
              "ticks": ""
             }
            },
            "type": "scattergeo"
           }
          ],
          "scattergl": [
           {
            "marker": {
             "colorbar": {
              "outlinewidth": 0,
              "ticks": ""
             }
            },
            "type": "scattergl"
           }
          ],
          "scattermapbox": [
           {
            "marker": {
             "colorbar": {
              "outlinewidth": 0,
              "ticks": ""
             }
            },
            "type": "scattermapbox"
           }
          ],
          "scatterpolar": [
           {
            "marker": {
             "colorbar": {
              "outlinewidth": 0,
              "ticks": ""
             }
            },
            "type": "scatterpolar"
           }
          ],
          "scatterpolargl": [
           {
            "marker": {
             "colorbar": {
              "outlinewidth": 0,
              "ticks": ""
             }
            },
            "type": "scatterpolargl"
           }
          ],
          "scatterternary": [
           {
            "marker": {
             "colorbar": {
              "outlinewidth": 0,
              "ticks": ""
             }
            },
            "type": "scatterternary"
           }
          ],
          "surface": [
           {
            "colorbar": {
             "outlinewidth": 0,
             "ticks": ""
            },
            "colorscale": [
             [
              0,
              "#0d0887"
             ],
             [
              0.1111111111111111,
              "#46039f"
             ],
             [
              0.2222222222222222,
              "#7201a8"
             ],
             [
              0.3333333333333333,
              "#9c179e"
             ],
             [
              0.4444444444444444,
              "#bd3786"
             ],
             [
              0.5555555555555556,
              "#d8576b"
             ],
             [
              0.6666666666666666,
              "#ed7953"
             ],
             [
              0.7777777777777778,
              "#fb9f3a"
             ],
             [
              0.8888888888888888,
              "#fdca26"
             ],
             [
              1,
              "#f0f921"
             ]
            ],
            "type": "surface"
           }
          ],
          "table": [
           {
            "cells": {
             "fill": {
              "color": "#EBF0F8"
             },
             "line": {
              "color": "white"
             }
            },
            "header": {
             "fill": {
              "color": "#C8D4E3"
             },
             "line": {
              "color": "white"
             }
            },
            "type": "table"
           }
          ]
         },
         "layout": {
          "annotationdefaults": {
           "arrowcolor": "#2a3f5f",
           "arrowhead": 0,
           "arrowwidth": 1
          },
          "coloraxis": {
           "colorbar": {
            "outlinewidth": 0,
            "ticks": ""
           }
          },
          "colorscale": {
           "diverging": [
            [
             0,
             "#8e0152"
            ],
            [
             0.1,
             "#c51b7d"
            ],
            [
             0.2,
             "#de77ae"
            ],
            [
             0.3,
             "#f1b6da"
            ],
            [
             0.4,
             "#fde0ef"
            ],
            [
             0.5,
             "#f7f7f7"
            ],
            [
             0.6,
             "#e6f5d0"
            ],
            [
             0.7,
             "#b8e186"
            ],
            [
             0.8,
             "#7fbc41"
            ],
            [
             0.9,
             "#4d9221"
            ],
            [
             1,
             "#276419"
            ]
           ],
           "sequential": [
            [
             0,
             "#0d0887"
            ],
            [
             0.1111111111111111,
             "#46039f"
            ],
            [
             0.2222222222222222,
             "#7201a8"
            ],
            [
             0.3333333333333333,
             "#9c179e"
            ],
            [
             0.4444444444444444,
             "#bd3786"
            ],
            [
             0.5555555555555556,
             "#d8576b"
            ],
            [
             0.6666666666666666,
             "#ed7953"
            ],
            [
             0.7777777777777778,
             "#fb9f3a"
            ],
            [
             0.8888888888888888,
             "#fdca26"
            ],
            [
             1,
             "#f0f921"
            ]
           ],
           "sequentialminus": [
            [
             0,
             "#0d0887"
            ],
            [
             0.1111111111111111,
             "#46039f"
            ],
            [
             0.2222222222222222,
             "#7201a8"
            ],
            [
             0.3333333333333333,
             "#9c179e"
            ],
            [
             0.4444444444444444,
             "#bd3786"
            ],
            [
             0.5555555555555556,
             "#d8576b"
            ],
            [
             0.6666666666666666,
             "#ed7953"
            ],
            [
             0.7777777777777778,
             "#fb9f3a"
            ],
            [
             0.8888888888888888,
             "#fdca26"
            ],
            [
             1,
             "#f0f921"
            ]
           ]
          },
          "colorway": [
           "#636efa",
           "#EF553B",
           "#00cc96",
           "#ab63fa",
           "#FFA15A",
           "#19d3f3",
           "#FF6692",
           "#B6E880",
           "#FF97FF",
           "#FECB52"
          ],
          "font": {
           "color": "#2a3f5f"
          },
          "geo": {
           "bgcolor": "white",
           "lakecolor": "white",
           "landcolor": "#E5ECF6",
           "showlakes": true,
           "showland": true,
           "subunitcolor": "white"
          },
          "hoverlabel": {
           "align": "left"
          },
          "hovermode": "closest",
          "mapbox": {
           "style": "light"
          },
          "paper_bgcolor": "white",
          "plot_bgcolor": "#E5ECF6",
          "polar": {
           "angularaxis": {
            "gridcolor": "white",
            "linecolor": "white",
            "ticks": ""
           },
           "bgcolor": "#E5ECF6",
           "radialaxis": {
            "gridcolor": "white",
            "linecolor": "white",
            "ticks": ""
           }
          },
          "scene": {
           "xaxis": {
            "backgroundcolor": "#E5ECF6",
            "gridcolor": "white",
            "gridwidth": 2,
            "linecolor": "white",
            "showbackground": true,
            "ticks": "",
            "zerolinecolor": "white"
           },
           "yaxis": {
            "backgroundcolor": "#E5ECF6",
            "gridcolor": "white",
            "gridwidth": 2,
            "linecolor": "white",
            "showbackground": true,
            "ticks": "",
            "zerolinecolor": "white"
           },
           "zaxis": {
            "backgroundcolor": "#E5ECF6",
            "gridcolor": "white",
            "gridwidth": 2,
            "linecolor": "white",
            "showbackground": true,
            "ticks": "",
            "zerolinecolor": "white"
           }
          },
          "shapedefaults": {
           "line": {
            "color": "#2a3f5f"
           }
          },
          "ternary": {
           "aaxis": {
            "gridcolor": "white",
            "linecolor": "white",
            "ticks": ""
           },
           "baxis": {
            "gridcolor": "white",
            "linecolor": "white",
            "ticks": ""
           },
           "bgcolor": "#E5ECF6",
           "caxis": {
            "gridcolor": "white",
            "linecolor": "white",
            "ticks": ""
           }
          },
          "title": {
           "x": 0.05
          },
          "xaxis": {
           "automargin": true,
           "gridcolor": "white",
           "linecolor": "white",
           "ticks": "",
           "title": {
            "standoff": 15
           },
           "zerolinecolor": "white",
           "zerolinewidth": 2
          },
          "yaxis": {
           "automargin": true,
           "gridcolor": "white",
           "linecolor": "white",
           "ticks": "",
           "title": {
            "standoff": 15
           },
           "zerolinecolor": "white",
           "zerolinewidth": 2
          }
         }
        },
        "title": {
         "text": "E, Risk"
        },
        "xaxis": {
         "anchor": "y",
         "domain": [
          0,
          1
         ],
         "title": {
          "text": "sigma"
         }
        },
        "yaxis": {
         "anchor": "x",
         "domain": [
          0,
          1
         ],
         "title": {
          "text": "E"
         }
        }
       }
      },
      "text/html": [
       "<div>\n",
       "        \n",
       "        \n",
       "            <div id=\"f78acf99-ab2a-4794-8472-e5477fda0c4d\" class=\"plotly-graph-div\" style=\"height:525px; width:100%;\"></div>\n",
       "            <script type=\"text/javascript\">\n",
       "                require([\"plotly\"], function(Plotly) {\n",
       "                    window.PLOTLYENV=window.PLOTLYENV || {};\n",
       "                    \n",
       "                if (document.getElementById(\"f78acf99-ab2a-4794-8472-e5477fda0c4d\")) {\n",
       "                    Plotly.newPlot(\n",
       "                        'f78acf99-ab2a-4794-8472-e5477fda0c4d',\n",
       "                        [{\"customdata\": [[\"Tsinghua Tongfang\"]], \"hovertemplate\": \"industry= Other<br>sigma=%{x}<br>E=%{y}<br>mean_vol=%{marker.size}<br>names=%{customdata[0]}<extra></extra>\", \"legendgroup\": \" Other\", \"marker\": {\"color\": \"#636efa\", \"size\": [15913101.868312757], \"sizemode\": \"area\", \"sizeref\": 829375.9342695473, \"symbol\": \"circle\"}, \"mode\": \"markers\", \"name\": \" Other\", \"orientation\": \"v\", \"showlegend\": true, \"type\": \"scatter\", \"x\": [0.023397727939211556], \"xaxis\": \"x\", \"y\": [-4.2252385315912526e-05], \"yaxis\": \"y\"}, {\"customdata\": [[\"Xinwei Group\"]], \"hovertemplate\": \"industry=Other<br>sigma=%{x}<br>E=%{y}<br>mean_vol=%{marker.size}<br>names=%{customdata[0]}<extra></extra>\", \"legendgroup\": \"Other\", \"marker\": {\"color\": \"#EF553B\", \"size\": [0.0], \"sizemode\": \"area\", \"sizeref\": 829375.9342695473, \"symbol\": \"circle\"}, \"mode\": \"markers\", \"name\": \"Other\", \"orientation\": \"v\", \"showlegend\": true, \"type\": \"scatter\", \"x\": [0.0], \"xaxis\": \"x\", \"y\": [0.0], \"yaxis\": \"y\"}, {\"customdata\": [[\"China Southern Airlines\"]], \"hovertemplate\": \"industry=Airline<br>sigma=%{x}<br>E=%{y}<br>mean_vol=%{marker.size}<br>names=%{customdata[0]}<extra></extra>\", \"legendgroup\": \"Airline\", \"marker\": {\"color\": \"#00cc96\", \"size\": [92775866.56378601], \"sizemode\": \"area\", \"sizeref\": 829375.9342695473, \"symbol\": \"circle\"}, \"mode\": \"markers\", \"name\": \"Airline\", \"orientation\": \"v\", \"showlegend\": true, \"type\": \"scatter\", \"x\": [0.02739833143572189], \"xaxis\": \"x\", \"y\": [-0.0022334767708985176], \"yaxis\": \"y\"}, {\"customdata\": [[\"SAIC Motor\"]], \"hovertemplate\": \"industry=Automotive<br>sigma=%{x}<br>E=%{y}<br>mean_vol=%{marker.size}<br>names=%{customdata[0]}<extra></extra>\", \"legendgroup\": \"Automotive\", \"marker\": {\"color\": \"#ab63fa\", \"size\": [19809289.03292181], \"sizemode\": \"area\", \"sizeref\": 829375.9342695473, \"symbol\": \"circle\"}, \"mode\": \"markers\", \"name\": \"Automotive\", \"orientation\": \"v\", \"showlegend\": true, \"type\": \"scatter\", \"x\": [0.018883756554085928], \"xaxis\": \"x\", \"y\": [-0.0007230707505599738], \"yaxis\": \"y\"}, {\"customdata\": [[\"Shanghai Pudong Development Bank\"], [\"China Minsheng Bank\"], [\"China Merchants Bank\"], [\"Bank of Jiangsu\"], [\"Industrial Bank\"], [\"Bank of Beijing\"], [\"Bank of Shanghai\"], [\"Agricultural Bank of China\"], [\"Bank of Communications\"], [\"Industrial and Commercial Bank of China\"], [\"China Everbright Bank\"], [\"Bank of China\"]], \"hovertemplate\": \"industry=Banking<br>sigma=%{x}<br>E=%{y}<br>mean_vol=%{marker.size}<br>names=%{customdata[0]}<extra></extra>\", \"legendgroup\": \"Banking\", \"marker\": {\"color\": \"#FFA15A\", \"size\": [35868636.20576131, 80091037.16460906, 50532683.58436214, 32556968.901234567, 76390533.68724279, 37562169.27983539, 36946055.03703704, 331750373.7078189, 96920518.16049382, 214667815.52263373, 100711570.57613169, 156081468.23868313], \"sizemode\": \"area\", \"sizeref\": 829375.9342695473, \"symbol\": \"circle\"}, \"mode\": \"markers\", \"name\": \"Banking\", \"orientation\": \"v\", \"showlegend\": true, \"type\": \"scatter\", \"x\": [0.013732922482684862, 0.012233258891306721, 0.01920665884582793, 0.012118869896020948, 0.013313086519065135, 0.011457792204730657, 0.014491379161511898, 0.015354848500486032, 0.012250891970607098, 0.01649818332526671, 0.014227043084449954, 0.013034581104360609], \"xaxis\": \"x\", \"y\": [-0.001077657742832811, -0.0008858646138838149, -0.0006677926131414701, -0.0009096031581619352, -0.0005916946295101731, -0.001019622379412805, 0.0003510718436268873, -0.0002774351428009029, -0.0003356930945975166, -0.0006425620042711419, -0.00040398403792936074, -0.00040319868100503536], \"yaxis\": \"y\"}, {\"customdata\": [[\"Kweichow Moutai\"]], \"hovertemplate\": \"industry= Beverages<br>sigma=%{x}<br>E=%{y}<br>mean_vol=%{marker.size}<br>names=%{customdata[0]}<extra></extra>\", \"legendgroup\": \" Beverages\", \"marker\": {\"color\": \"#19d3f3\", \"size\": [4445038.864197531], \"sizemode\": \"area\", \"sizeref\": 829375.9342695473, \"symbol\": \"circle\"}, \"mode\": \"markers\", \"name\": \" Beverages\", \"orientation\": \"v\", \"showlegend\": true, \"type\": \"scatter\", \"x\": [0.02340618427187137], \"xaxis\": \"x\", \"y\": [-0.0007290319344099985], \"yaxis\": \"y\"}, {\"customdata\": [[\"China Railway Construction \"], [\"China Railway [Engineering] \"], [\"China State Construction Engineering \"], [\"China Communications Construction \"]], \"hovertemplate\": \"industry=Construction<br>sigma=%{x}<br>E=%{y}<br>mean_vol=%{marker.size}<br>names=%{customdata[0]}<extra></extra>\", \"legendgroup\": \"Construction\", \"marker\": {\"color\": \"#FF6692\", \"size\": [44348662.7654321, 24202047.925925925, 172508537.69547325, 16605839.456790123], \"sizemode\": \"area\", \"sizeref\": 829375.9342695473, \"symbol\": \"circle\"}, \"mode\": \"markers\", \"name\": \"Construction\", \"orientation\": \"v\", \"showlegend\": true, \"type\": \"scatter\", \"x\": [0.02281055275905274, 0.01380997042065194, 0.01820243519747332, 0.022946122675987196], \"xaxis\": \"x\", \"y\": [-0.00020034487560263394, -0.0008130638263610723, -0.0005923604886360605, -0.0006443193027430556], \"yaxis\": \"y\"}, {\"customdata\": [[\"Yili Group\"]], \"hovertemplate\": \"industry=Dairy<br>sigma=%{x}<br>E=%{y}<br>mean_vol=%{marker.size}<br>names=%{customdata[0]}<extra></extra>\", \"legendgroup\": \"Dairy\", \"marker\": {\"color\": \"#B6E880\", \"size\": [60994414.37037037], \"sizemode\": \"area\", \"sizeref\": 829375.9342695473, \"symbol\": \"circle\"}, \"mode\": \"markers\", \"name\": \"Dairy\", \"orientation\": \"v\", \"showlegend\": true, \"type\": \"scatter\", \"x\": [0.025423775382228696], \"xaxis\": \"x\", \"y\": [-0.0013797895655822243], \"yaxis\": \"y\"}, {\"customdata\": [[\"China Shenhua Energy \"], [\"China National Nuclear Power \"]], \"hovertemplate\": \"industry=Energy<br>sigma=%{x}<br>E=%{y}<br>mean_vol=%{marker.size}<br>names=%{customdata[0]}<extra></extra>\", \"legendgroup\": \"Energy\", \"marker\": {\"color\": \"#FF97FF\", \"size\": [25894093.942386832, 19626560.423868313], \"sizemode\": \"area\", \"sizeref\": 829375.9342695473, \"symbol\": \"circle\"}, \"mode\": \"markers\", \"name\": \"Energy\", \"orientation\": \"v\", \"showlegend\": true, \"type\": \"scatter\", \"x\": [0.0210134003241338, 0.012881844381876272], \"xaxis\": \"x\", \"y\": [-0.0011651182899613947, -0.0013970965204925408], \"yaxis\": \"y\"}, {\"customdata\": [[\"CITIC Securities\"], [\"Haitong Securities\"], [\"Orient Securities\"], [\"China Merchants Securities\"], [\"Dongxing Securities\"], [\"Guotai Junan Securities\"], [\"Huatai Securities\"], [\"Everbright Securities\"], [\"China Galaxy Securities\"], [\"Founder Securities\"]], \"hovertemplate\": \"industry=Financial services<br>sigma=%{x}<br>E=%{y}<br>mean_vol=%{marker.size}<br>names=%{customdata[0]}<extra></extra>\", \"legendgroup\": \"Financial services\", \"marker\": {\"color\": \"#FECB52\", \"size\": [112478697.79012346, 42101950.12345679, 15328019.271604938, 12851845.646090535, 13236381.053497942, 21158748.621399175, 49804498.304526746, 12813738.460905349, 23539708.3127572, 17415308.596707817], \"sizemode\": \"area\", \"sizeref\": 829375.9342695473, \"symbol\": \"circle\"}, \"mode\": \"markers\", \"name\": \"Financial services\", \"orientation\": \"v\", \"showlegend\": true, \"type\": \"scatter\", \"x\": [0.021268556796911472, 0.01936497752688617, 0.021780045772568195, 0.019859295432691295, 0.0257137088668738, 0.017949265648675543, 0.0227863561875066, 0.0214391730117627, 0.026516548945434943, 0.020942084626392337], \"xaxis\": \"x\", \"y\": [-0.000583920271841135, -0.0016377380042876272, -0.0023250343216514014, -0.0011125180192215016, -0.0017270217767223256, -0.0008304435852211166, -0.0004399627613632849, -0.0018190183212327092, -0.001822291487934173, -0.0011359037149738418], \"yaxis\": \"y\"}, {\"customdata\": [[\"Ping An Insurance\"], [\"New China Life Insurance\"], [\"China Pacific Insurance\"], [\"China Life Insurance\"]], \"hovertemplate\": \"industry=Insurance<br>sigma=%{x}<br>E=%{y}<br>mean_vol=%{marker.size}<br>names=%{customdata[0]}<extra></extra>\", \"legendgroup\": \"Insurance\", \"marker\": {\"color\": \"#636efa\", \"size\": [74905882.98353909, 17117463.238683127, 24765406.596707817, 11289268.732510287], \"sizemode\": \"area\", \"sizeref\": 829375.9342695473, \"symbol\": \"circle\"}, \"mode\": \"markers\", \"name\": \"Insurance\", \"orientation\": \"v\", \"showlegend\": true, \"type\": \"scatter\", \"x\": [0.01990338584762517, 0.023704091564784757, 0.024211201600951204, 0.016884383117929797], \"xaxis\": \"x\", \"y\": [-0.0010648402294137973, -0.002140094115393431, -0.0016036343880121383, -0.0016626206563672865], \"yaxis\": \"y\"}, {\"customdata\": [[\"China Northern Rare Earth\"], [\"Shandong Gold Mining\"]], \"hovertemplate\": \"industry=Mining<br>sigma=%{x}<br>E=%{y}<br>mean_vol=%{marker.size}<br>names=%{customdata[0]}<extra></extra>\", \"legendgroup\": \"Mining\", \"marker\": {\"color\": \"#EF553B\", \"size\": [38641018.736625515, 26886012.781893004], \"sizemode\": \"area\", \"sizeref\": 829375.9342695473, \"symbol\": \"circle\"}, \"mode\": \"markers\", \"name\": \"Mining\", \"orientation\": \"v\", \"showlegend\": true, \"type\": \"scatter\", \"x\": [0.020895859288782792, 0.022105174718109473], \"xaxis\": \"x\", \"y\": [-0.0021651479257537585, -0.00017519926244947178], \"yaxis\": \"y\"}, {\"customdata\": [[\"Sinopec\"], [\"PetroChina\"]], \"hovertemplate\": \"industry=Oil & gas<br>sigma=%{x}<br>E=%{y}<br>mean_vol=%{marker.size}<br>names=%{customdata[0]}<extra></extra>\", \"legendgroup\": \"Oil & gas\", \"marker\": {\"color\": \"#00cc96\", \"size\": [154901071.28395063, 48295997.0781893], \"sizemode\": \"area\", \"sizeref\": 829375.9342695473, \"symbol\": \"circle\"}, \"mode\": \"markers\", \"name\": \"Oil & gas\", \"orientation\": \"v\", \"showlegend\": true, \"type\": \"scatter\", \"x\": [0.01926795836440376, 0.016499441668100263], \"xaxis\": \"x\", \"y\": [-0.0009595502915781691, -0.0005567943956978943], \"yaxis\": \"y\"}, {\"customdata\": [[\"Kangmei Pharmaceutical\"]], \"hovertemplate\": \"industry=Pharmaceutical<br>sigma=%{x}<br>E=%{y}<br>mean_vol=%{marker.size}<br>names=%{customdata[0]}<extra></extra>\", \"legendgroup\": \"Pharmaceutical\", \"marker\": {\"color\": \"#ab63fa\", \"size\": [32556456.53909465], \"sizemode\": \"area\", \"sizeref\": 829375.9342695473, \"symbol\": \"circle\"}, \"mode\": \"markers\", \"name\": \"Pharmaceutical\", \"orientation\": \"v\", \"showlegend\": true, \"type\": \"scatter\", \"x\": [0.024368761009415388], \"xaxis\": \"x\", \"y\": [-0.0036689165742784975], \"yaxis\": \"y\"}, {\"customdata\": [[\"Daqin Railway\"]], \"hovertemplate\": \"industry=Rail transport<br>sigma=%{x}<br>E=%{y}<br>mean_vol=%{marker.size}<br>names=%{customdata[0]}<extra></extra>\", \"legendgroup\": \"Rail transport\", \"marker\": {\"color\": \"#FFA15A\", \"size\": [41069439.251028806], \"sizemode\": \"area\", \"sizeref\": 829375.9342695473, \"symbol\": \"circle\"}, \"mode\": \"markers\", \"name\": \"Rail transport\", \"orientation\": \"v\", \"showlegend\": true, \"type\": \"scatter\", \"x\": [0.015457386925163722], \"xaxis\": \"x\", \"y\": [-0.00042884193418945264], \"yaxis\": \"y\"}, {\"customdata\": [[\"Poly Real Estate\"], [\"China Fortune Land Development\"], [\"Greenland Holdings\"]], \"hovertemplate\": \"industry=Real estate<br>sigma=%{x}<br>E=%{y}<br>mean_vol=%{marker.size}<br>names=%{customdata[0]}<extra></extra>\", \"legendgroup\": \"Real estate\", \"marker\": {\"color\": \"#19d3f3\", \"size\": [104099820.02057613, 22549787.436213993, 72789839.00823045], \"sizemode\": \"area\", \"sizeref\": 829375.9342695473, \"symbol\": \"circle\"}, \"mode\": \"markers\", \"name\": \"Real estate\", \"orientation\": \"v\", \"showlegend\": true, \"type\": \"scatter\", \"x\": [0.02879438529916983, 0.02892914103965568, 0.02104545607178855], \"xaxis\": \"x\", \"y\": [-0.0008890030379346753, -0.0009798026764182102, -0.0010407430925305488], \"yaxis\": \"y\"}, {\"customdata\": [[\"CRRC\"]], \"hovertemplate\": \"industry=Rolling stock<br>sigma=%{x}<br>E=%{y}<br>mean_vol=%{marker.size}<br>names=%{customdata[0]}<extra></extra>\", \"legendgroup\": \"Rolling stock\", \"marker\": {\"color\": \"#FF6692\", \"size\": [57124025.004115224], \"sizemode\": \"area\", \"sizeref\": 829375.9342695473, \"symbol\": \"circle\"}, \"mode\": \"markers\", \"name\": \"Rolling stock\", \"orientation\": \"v\", \"showlegend\": true, \"type\": \"scatter\", \"x\": [0.01849338614063459], \"xaxis\": \"x\", \"y\": [-0.001430111102396903], \"yaxis\": \"y\"}, {\"customdata\": [[\"China Shipbuilding Industry\"]], \"hovertemplate\": \"industry=Shipbuilding<br>sigma=%{x}<br>E=%{y}<br>mean_vol=%{marker.size}<br>names=%{customdata[0]}<extra></extra>\", \"legendgroup\": \"Shipbuilding\", \"marker\": {\"color\": \"#B6E880\", \"size\": [74848669.50205761], \"sizemode\": \"area\", \"sizeref\": 829375.9342695473, \"symbol\": \"circle\"}, \"mode\": \"markers\", \"name\": \"Shipbuilding\", \"orientation\": \"v\", \"showlegend\": true, \"type\": \"scatter\", \"x\": [0.01644304021192835], \"xaxis\": \"x\", \"y\": [-0.001452417449151541], \"yaxis\": \"y\"}, {\"customdata\": [[\"China United Network Communications\"]], \"hovertemplate\": \"industry=Telecommunication<br>sigma=%{x}<br>E=%{y}<br>mean_vol=%{marker.size}<br>names=%{customdata[0]}<extra></extra>\", \"legendgroup\": \"Telecommunication\", \"marker\": {\"color\": \"#FF97FF\", \"size\": [137923049.86419752], \"sizemode\": \"area\", \"sizeref\": 829375.9342695473, \"symbol\": \"circle\"}, \"mode\": \"markers\", \"name\": \"Telecommunication\", \"orientation\": \"v\", \"showlegend\": true, \"type\": \"scatter\", \"x\": [0.020964890111881438], \"xaxis\": \"x\", \"y\": [-0.0009076687839836355], \"yaxis\": \"y\"}, {\"customdata\": [[\"Index\"]], \"hovertemplate\": \"industry= index<br>sigma=%{x}<br>E=%{y}<br>mean_vol=%{marker.size}<br>names=%{customdata[0]}<extra></extra>\", \"legendgroup\": \" index\", \"marker\": {\"color\": \"#FECB52\", \"size\": [41400.0], \"sizemode\": \"area\", \"sizeref\": 829375.9342695473, \"symbol\": \"circle\"}, \"mode\": \"markers\", \"name\": \" index\", \"orientation\": \"v\", \"showlegend\": true, \"type\": \"scatter\", \"x\": [0.01382184821428148], \"xaxis\": \"x\", \"y\": [-0.0009826937875556342], \"yaxis\": \"y\"}, {\"mode\": \"markers+text\", \"text\": \"Balanced portfolio\", \"textposition\": \"top center\", \"type\": \"scatter\", \"x\": [0.0007151714682060492], \"y\": [-0.0010259979006281886]}, {\"mode\": \"markers+text\", \"text\": \"Index SSE50\", \"textposition\": \"top center\", \"type\": \"scatter\", \"x\": [0.01382184821428148], \"y\": [-0.0009826937875556342]}],\n",
       "                        {\"legend\": {\"itemsizing\": \"constant\", \"title\": {\"text\": \"industry\"}, \"tracegroupgap\": 0}, \"template\": {\"data\": {\"bar\": [{\"error_x\": {\"color\": \"#2a3f5f\"}, \"error_y\": {\"color\": \"#2a3f5f\"}, \"marker\": {\"line\": {\"color\": \"#E5ECF6\", \"width\": 0.5}}, \"type\": \"bar\"}], \"barpolar\": [{\"marker\": {\"line\": {\"color\": \"#E5ECF6\", \"width\": 0.5}}, \"type\": \"barpolar\"}], \"carpet\": [{\"aaxis\": {\"endlinecolor\": \"#2a3f5f\", \"gridcolor\": \"white\", \"linecolor\": \"white\", \"minorgridcolor\": \"white\", \"startlinecolor\": \"#2a3f5f\"}, \"baxis\": {\"endlinecolor\": \"#2a3f5f\", \"gridcolor\": \"white\", \"linecolor\": \"white\", \"minorgridcolor\": \"white\", \"startlinecolor\": \"#2a3f5f\"}, \"type\": \"carpet\"}], \"choropleth\": [{\"colorbar\": {\"outlinewidth\": 0, \"ticks\": \"\"}, \"type\": \"choropleth\"}], \"contour\": [{\"colorbar\": {\"outlinewidth\": 0, \"ticks\": \"\"}, \"colorscale\": [[0.0, \"#0d0887\"], [0.1111111111111111, \"#46039f\"], [0.2222222222222222, \"#7201a8\"], [0.3333333333333333, \"#9c179e\"], [0.4444444444444444, \"#bd3786\"], [0.5555555555555556, \"#d8576b\"], [0.6666666666666666, \"#ed7953\"], [0.7777777777777778, \"#fb9f3a\"], [0.8888888888888888, \"#fdca26\"], [1.0, \"#f0f921\"]], \"type\": \"contour\"}], \"contourcarpet\": [{\"colorbar\": {\"outlinewidth\": 0, \"ticks\": \"\"}, \"type\": \"contourcarpet\"}], \"heatmap\": [{\"colorbar\": {\"outlinewidth\": 0, \"ticks\": \"\"}, \"colorscale\": [[0.0, \"#0d0887\"], [0.1111111111111111, \"#46039f\"], [0.2222222222222222, \"#7201a8\"], [0.3333333333333333, \"#9c179e\"], [0.4444444444444444, \"#bd3786\"], [0.5555555555555556, \"#d8576b\"], [0.6666666666666666, \"#ed7953\"], [0.7777777777777778, \"#fb9f3a\"], [0.8888888888888888, \"#fdca26\"], [1.0, \"#f0f921\"]], \"type\": \"heatmap\"}], \"heatmapgl\": [{\"colorbar\": {\"outlinewidth\": 0, \"ticks\": \"\"}, \"colorscale\": [[0.0, \"#0d0887\"], [0.1111111111111111, \"#46039f\"], [0.2222222222222222, \"#7201a8\"], [0.3333333333333333, \"#9c179e\"], [0.4444444444444444, \"#bd3786\"], [0.5555555555555556, \"#d8576b\"], [0.6666666666666666, \"#ed7953\"], [0.7777777777777778, \"#fb9f3a\"], [0.8888888888888888, \"#fdca26\"], [1.0, \"#f0f921\"]], \"type\": \"heatmapgl\"}], \"histogram\": [{\"marker\": {\"colorbar\": {\"outlinewidth\": 0, \"ticks\": \"\"}}, \"type\": \"histogram\"}], \"histogram2d\": [{\"colorbar\": {\"outlinewidth\": 0, \"ticks\": \"\"}, \"colorscale\": [[0.0, \"#0d0887\"], [0.1111111111111111, \"#46039f\"], [0.2222222222222222, \"#7201a8\"], [0.3333333333333333, \"#9c179e\"], [0.4444444444444444, \"#bd3786\"], [0.5555555555555556, \"#d8576b\"], [0.6666666666666666, \"#ed7953\"], [0.7777777777777778, \"#fb9f3a\"], [0.8888888888888888, \"#fdca26\"], [1.0, \"#f0f921\"]], \"type\": \"histogram2d\"}], \"histogram2dcontour\": [{\"colorbar\": {\"outlinewidth\": 0, \"ticks\": \"\"}, \"colorscale\": [[0.0, \"#0d0887\"], [0.1111111111111111, \"#46039f\"], [0.2222222222222222, \"#7201a8\"], [0.3333333333333333, \"#9c179e\"], [0.4444444444444444, \"#bd3786\"], [0.5555555555555556, \"#d8576b\"], [0.6666666666666666, \"#ed7953\"], [0.7777777777777778, \"#fb9f3a\"], [0.8888888888888888, \"#fdca26\"], [1.0, \"#f0f921\"]], \"type\": \"histogram2dcontour\"}], \"mesh3d\": [{\"colorbar\": {\"outlinewidth\": 0, \"ticks\": \"\"}, \"type\": \"mesh3d\"}], \"parcoords\": [{\"line\": {\"colorbar\": {\"outlinewidth\": 0, \"ticks\": \"\"}}, \"type\": \"parcoords\"}], \"pie\": [{\"automargin\": true, \"type\": \"pie\"}], \"scatter\": [{\"marker\": {\"colorbar\": {\"outlinewidth\": 0, \"ticks\": \"\"}}, \"type\": \"scatter\"}], \"scatter3d\": [{\"line\": {\"colorbar\": {\"outlinewidth\": 0, \"ticks\": \"\"}}, \"marker\": {\"colorbar\": {\"outlinewidth\": 0, \"ticks\": \"\"}}, \"type\": \"scatter3d\"}], \"scattercarpet\": [{\"marker\": {\"colorbar\": {\"outlinewidth\": 0, \"ticks\": \"\"}}, \"type\": \"scattercarpet\"}], \"scattergeo\": [{\"marker\": {\"colorbar\": {\"outlinewidth\": 0, \"ticks\": \"\"}}, \"type\": \"scattergeo\"}], \"scattergl\": [{\"marker\": {\"colorbar\": {\"outlinewidth\": 0, \"ticks\": \"\"}}, \"type\": \"scattergl\"}], \"scattermapbox\": [{\"marker\": {\"colorbar\": {\"outlinewidth\": 0, \"ticks\": \"\"}}, \"type\": \"scattermapbox\"}], \"scatterpolar\": [{\"marker\": {\"colorbar\": {\"outlinewidth\": 0, \"ticks\": \"\"}}, \"type\": \"scatterpolar\"}], \"scatterpolargl\": [{\"marker\": {\"colorbar\": {\"outlinewidth\": 0, \"ticks\": \"\"}}, \"type\": \"scatterpolargl\"}], \"scatterternary\": [{\"marker\": {\"colorbar\": {\"outlinewidth\": 0, \"ticks\": \"\"}}, \"type\": \"scatterternary\"}], \"surface\": [{\"colorbar\": {\"outlinewidth\": 0, \"ticks\": \"\"}, \"colorscale\": [[0.0, \"#0d0887\"], [0.1111111111111111, \"#46039f\"], [0.2222222222222222, \"#7201a8\"], [0.3333333333333333, \"#9c179e\"], [0.4444444444444444, \"#bd3786\"], [0.5555555555555556, \"#d8576b\"], [0.6666666666666666, \"#ed7953\"], [0.7777777777777778, \"#fb9f3a\"], [0.8888888888888888, \"#fdca26\"], [1.0, \"#f0f921\"]], \"type\": \"surface\"}], \"table\": [{\"cells\": {\"fill\": {\"color\": \"#EBF0F8\"}, \"line\": {\"color\": \"white\"}}, \"header\": {\"fill\": {\"color\": \"#C8D4E3\"}, \"line\": {\"color\": \"white\"}}, \"type\": \"table\"}]}, \"layout\": {\"annotationdefaults\": {\"arrowcolor\": \"#2a3f5f\", \"arrowhead\": 0, \"arrowwidth\": 1}, \"coloraxis\": {\"colorbar\": {\"outlinewidth\": 0, \"ticks\": \"\"}}, \"colorscale\": {\"diverging\": [[0, \"#8e0152\"], [0.1, \"#c51b7d\"], [0.2, \"#de77ae\"], [0.3, \"#f1b6da\"], [0.4, \"#fde0ef\"], [0.5, \"#f7f7f7\"], [0.6, \"#e6f5d0\"], [0.7, \"#b8e186\"], [0.8, \"#7fbc41\"], [0.9, \"#4d9221\"], [1, \"#276419\"]], \"sequential\": [[0.0, \"#0d0887\"], [0.1111111111111111, \"#46039f\"], [0.2222222222222222, \"#7201a8\"], [0.3333333333333333, \"#9c179e\"], [0.4444444444444444, \"#bd3786\"], [0.5555555555555556, \"#d8576b\"], [0.6666666666666666, \"#ed7953\"], [0.7777777777777778, \"#fb9f3a\"], [0.8888888888888888, \"#fdca26\"], [1.0, \"#f0f921\"]], \"sequentialminus\": [[0.0, \"#0d0887\"], [0.1111111111111111, \"#46039f\"], [0.2222222222222222, \"#7201a8\"], [0.3333333333333333, \"#9c179e\"], [0.4444444444444444, \"#bd3786\"], [0.5555555555555556, \"#d8576b\"], [0.6666666666666666, \"#ed7953\"], [0.7777777777777778, \"#fb9f3a\"], [0.8888888888888888, \"#fdca26\"], [1.0, \"#f0f921\"]]}, \"colorway\": [\"#636efa\", \"#EF553B\", \"#00cc96\", \"#ab63fa\", \"#FFA15A\", \"#19d3f3\", \"#FF6692\", \"#B6E880\", \"#FF97FF\", \"#FECB52\"], \"font\": {\"color\": \"#2a3f5f\"}, \"geo\": {\"bgcolor\": \"white\", \"lakecolor\": \"white\", \"landcolor\": \"#E5ECF6\", \"showlakes\": true, \"showland\": true, \"subunitcolor\": \"white\"}, \"hoverlabel\": {\"align\": \"left\"}, \"hovermode\": \"closest\", \"mapbox\": {\"style\": \"light\"}, \"paper_bgcolor\": \"white\", \"plot_bgcolor\": \"#E5ECF6\", \"polar\": {\"angularaxis\": {\"gridcolor\": \"white\", \"linecolor\": \"white\", \"ticks\": \"\"}, \"bgcolor\": \"#E5ECF6\", \"radialaxis\": {\"gridcolor\": \"white\", \"linecolor\": \"white\", \"ticks\": \"\"}}, \"scene\": {\"xaxis\": {\"backgroundcolor\": \"#E5ECF6\", \"gridcolor\": \"white\", \"gridwidth\": 2, \"linecolor\": \"white\", \"showbackground\": true, \"ticks\": \"\", \"zerolinecolor\": \"white\"}, \"yaxis\": {\"backgroundcolor\": \"#E5ECF6\", \"gridcolor\": \"white\", \"gridwidth\": 2, \"linecolor\": \"white\", \"showbackground\": true, \"ticks\": \"\", \"zerolinecolor\": \"white\"}, \"zaxis\": {\"backgroundcolor\": \"#E5ECF6\", \"gridcolor\": \"white\", \"gridwidth\": 2, \"linecolor\": \"white\", \"showbackground\": true, \"ticks\": \"\", \"zerolinecolor\": \"white\"}}, \"shapedefaults\": {\"line\": {\"color\": \"#2a3f5f\"}}, \"ternary\": {\"aaxis\": {\"gridcolor\": \"white\", \"linecolor\": \"white\", \"ticks\": \"\"}, \"baxis\": {\"gridcolor\": \"white\", \"linecolor\": \"white\", \"ticks\": \"\"}, \"bgcolor\": \"#E5ECF6\", \"caxis\": {\"gridcolor\": \"white\", \"linecolor\": \"white\", \"ticks\": \"\"}}, \"title\": {\"x\": 0.05}, \"xaxis\": {\"automargin\": true, \"gridcolor\": \"white\", \"linecolor\": \"white\", \"ticks\": \"\", \"title\": {\"standoff\": 15}, \"zerolinecolor\": \"white\", \"zerolinewidth\": 2}, \"yaxis\": {\"automargin\": true, \"gridcolor\": \"white\", \"linecolor\": \"white\", \"ticks\": \"\", \"title\": {\"standoff\": 15}, \"zerolinecolor\": \"white\", \"zerolinewidth\": 2}}}, \"title\": {\"text\": \"E, Risk\"}, \"xaxis\": {\"anchor\": \"y\", \"domain\": [0.0, 1.0], \"title\": {\"text\": \"sigma\"}}, \"yaxis\": {\"anchor\": \"x\", \"domain\": [0.0, 1.0], \"title\": {\"text\": \"E\"}}},\n",
       "                        {\"responsive\": true}\n",
       "                    ).then(function(){\n",
       "                            \n",
       "var gd = document.getElementById('f78acf99-ab2a-4794-8472-e5477fda0c4d');\n",
       "var x = new MutationObserver(function (mutations, observer) {{\n",
       "        var display = window.getComputedStyle(gd).display;\n",
       "        if (!display || display === 'none') {{\n",
       "            console.log([gd, 'removed!']);\n",
       "            Plotly.purge(gd);\n",
       "            observer.disconnect();\n",
       "        }}\n",
       "}});\n",
       "\n",
       "// Listen for the removal of the full notebook cells\n",
       "var notebookContainer = gd.closest('#notebook-container');\n",
       "if (notebookContainer) {{\n",
       "    x.observe(notebookContainer, {childList: true});\n",
       "}}\n",
       "\n",
       "// Listen for the clearing of the current output cell\n",
       "var outputEl = gd.closest('.output');\n",
       "if (outputEl) {{\n",
       "    x.observe(outputEl, {childList: true});\n",
       "}}\n",
       "\n",
       "                        })\n",
       "                };\n",
       "                });\n",
       "            </script>\n",
       "        </div>"
      ]
     },
     "metadata": {},
     "output_type": "display_data"
    }
   ],
   "source": [
    "fig = px.scatter(stocks_stat, x=\"sigma\", y=\"E\", hover_data=[\"names\"], color=\"industry\",title=\"E, Risk\", size=\"mean_vol\")\n",
    "\n",
    "E_balanced = stocks_stat['E'].mean()\n",
    "sigma_balanced = abs(np.sqrt(np.cov(stocks_stat['mean_log_R'])))\n",
    "vol_balanced = stocks_stat['mean_vol'].mean()\n",
    "\n",
    "fig.add_trace(go.Scatter(\n",
    "    x=[sigma_balanced],\n",
    "    y=[E_balanced],\n",
    "    mode=\"markers+text\",\n",
    "    #name=\"index\",\n",
    "    text='Balanced portfolio',\n",
    "    textposition=\"top center\"\n",
    "))\n",
    "fig.add_trace(go.Scatter(\n",
    "    x=stocks_stat[stocks_stat.names == 'Index']['sigma'].values,\n",
    "    y=stocks_stat[stocks_stat.names == 'Index']['E'].values,\n",
    "    mode=\"markers+text\",\n",
    "    #name=\"index\",\n",
    "    text='Index SSE50',\n",
    "    textposition=\"top center\"\n",
    "))\n",
    "fig.show()\n",
    "# pio.write_html(fig, file='report/fig1.html', auto_open=True)"
   ]
  },
  {
   "cell_type": "markdown",
   "metadata": {},
   "source": [
    "## Задание 3-4 (Характеристика индекса рынка  сбалансированного портфеля)\n",
    "\n",
    "- Индекс рынка SSE50 - индекс топ-50 компаний Shanghai Stock Exchange, отобранных по \"отрегулированной\" (float-adjusted) капитализации и другим признакам. На графике (fig1.htaml) можно заметить, что индекс (точка Index SSE50) находится в зоне наибольшей концентрации активов ($\\sigma [0.01, 0.02], E [-0.0015, 0]$) и тем самым отражает поведение наиболее значимых активов рынка (рамер точки - средний объём продаж за 2018 год), которые принадлежат банкам (см. легенду графика).\n",
    "\n",
    "- Сбалансированный портфель представляет собой равнодолевой портфель из всех активов индекса SSE50. Стоит отметить, что равнодолевой портфель с успехом деверсифицирует риск акций SSE50 и вложение в него более выгодно, чем в индекс рынка. Для объяснения этого предположения обратимся к определению индекса SSE50: \"SSE 50 Index is the stock index of Shanghai Stock Exchange, representing the top 50 companies by \"float-adjusted\" capitalization and other criteria. In order to qualify as a constituent of SSE 50 Index, it must be a constituent of SSE 180 Index, thus SSE 50 is a subindex of SSE 180 Index.\"(Wiki). Т.е веса, которые даны активам в SSE50, которые должны отражать тенденции SSE180 и всего SSE нацелены на отражение тенденций, что и показано на графике. Если же мы рассматриваем целесообразность инвестиций, то для нас больший интерес представляет равнодолевой портфель, т.к он находится на одном уровне доходности с индексом SSE50, но имеет практически минимальный риск.\n",
    "\n"
   ]
  },
  {
   "cell_type": "markdown",
   "metadata": {},
   "source": [
    "7. Выберите несколько интересных (значимых) активов рынка из разных производственных секторов. В предположении, что наблюдаемые доходности (объемы продаж) являются повторной выборкой из некоторого распределения исследовать (выборочно) распределения доходностей и объемов продаж выбранных активов. Сделать выводы."
   ]
  },
  {
   "cell_type": "code",
   "execution_count": 146,
   "metadata": {},
   "outputs": [],
   "source": [
    "from scipy.stats import norm\n",
    "stocks_names = ['Banking/Bank of Jiangsu', \n",
    "                'Automotive/SAIC Motor', \n",
    "                'Construction/China Railway Construction ', \n",
    "                'Oil & gas/PetroChina',\n",
    "                'Telecommunication/China United Network Communications']\n",
    "def plot_R_vs_Norm_distribution(label):\n",
    "    stock = stocks[label]\n",
    "    stock['Log_R'].hist(bins=30, normed=True,histtype=\"stepfilled\",alpha=0.5)\n",
    "    E = stock['E'].values[0]\n",
    "    sigma = stock['sigma'].values[0]\n",
    "    x = np.linspace(E - 3*sigma, E+3*sigma,100)\n",
    "    plt.plot(x, scipy.stats.norm.pdf(x, E, sigma), \"r\")\n",
    "    plt.title(\"{} returns ({} industry) vs. normal distribution\".format(label.split('/')[1], label.split('/')[0]))\n",
    "    plt.show()"
   ]
  },
  {
   "cell_type": "code",
   "execution_count": 149,
   "metadata": {},
   "outputs": [
    {
     "data": {
      "image/png": "[encoded data removed]",
      "text/plain": [
       "<Figure size 432x288 with 1 Axes>"
      ]
     },
     "metadata": {
      "needs_background": "light"
     },
     "output_type": "display_data"
    },
    {
     "data": {
      "image/png": "[encoded data removed]",
      "text/plain": [
       "<Figure size 432x288 with 1 Axes>"
      ]
     },
     "metadata": {
      "needs_background": "light"
     },
     "output_type": "display_data"
    },
    {
     "data": {
      "image/png": "[encoded data removed]",
      "text/plain": [
       "<Figure size 432x288 with 1 Axes>"
      ]
     },
     "metadata": {
      "needs_background": "light"
     },
     "output_type": "display_data"
    },
    {
     "data": {
      "image/png": "[encoded data removed]",
      "text/plain": [
       "<Figure size 432x288 with 1 Axes>"
      ]
     },
     "metadata": {
      "needs_background": "light"
     },
     "output_type": "display_data"
    },
    {
     "data": {
      "image/png": "[encoded data removed]",
      "text/plain": [
       "<Figure size 432x288 with 1 Axes>"
      ]
     },
     "metadata": {
      "needs_background": "light"
     },
     "output_type": "display_data"
    }
   ],
   "source": [
    "for label in stocks_names:\n",
    "    plot_R_vs_Norm_distribution(label)"
   ]
  },
  {
   "cell_type": "code",
   "execution_count": 130,
   "metadata": {},
   "outputs": [
    {
     "ename": "KeyError",
     "evalue": "'Construction/China Railway Construction'",
     "output_type": "error",
     "traceback": [
      "\u001b[1;31m---------------------------------------------------------------------------\u001b[0m",
      "\u001b[1;31mKeyError\u001b[0m                                  Traceback (most recent call last)",
      "\u001b[1;32m<ipython-input-130-1e32df83116d>\u001b[0m in \u001b[0;36m<module>\u001b[1;34m\u001b[0m\n\u001b[0;32m      4\u001b[0m                 \u001b[1;34m'Oil & gas/PetroChina'\u001b[0m\u001b[1;33m,\u001b[0m\u001b[1;33m\u001b[0m\u001b[1;33m\u001b[0m\u001b[0m\n\u001b[0;32m      5\u001b[0m                 'Telecommunication/China United Network Communications']\n\u001b[1;32m----> 6\u001b[1;33m \u001b[0mstocks\u001b[0m\u001b[1;33m[\u001b[0m\u001b[0mstocks_names\u001b[0m\u001b[1;33m[\u001b[0m\u001b[1;36m2\u001b[0m\u001b[1;33m]\u001b[0m\u001b[1;33m]\u001b[0m\u001b[1;33m\u001b[0m\u001b[1;33m\u001b[0m\u001b[0m\n\u001b[0m",
      "\u001b[1;31mKeyError\u001b[0m: 'Construction/China Railway Construction'"
     ]
    }
   ],
   "source": [
    "\n",
    "stocks[stocks_names[2]]"
   ]
  },
  {
   "cell_type": "code",
   "execution_count": 132,
   "metadata": {},
   "outputs": [
    {
     "data": {
      "text/plain": [
       "dict_keys([' Other/Tsinghua Tongfang', 'Other/Xinwei Group', 'Airline/China Southern Airlines', 'Automotive/SAIC Motor', 'Banking/Shanghai Pudong Development Bank', 'Banking/China Minsheng Bank', 'Banking/China Merchants Bank', 'Banking/Bank of Jiangsu', 'Banking/Industrial Bank', 'Banking/Bank of Beijing', 'Banking/Bank of Shanghai', 'Banking/Agricultural Bank of China', 'Banking/Bank of Communications', 'Banking/Industrial and Commercial Bank of China', 'Banking/China Everbright Bank', 'Banking/Bank of China', ' Beverages/Kweichow Moutai', 'Construction/China Railway Construction ', 'Construction/China Railway [Engineering] ', 'Construction/China State Construction Engineering ', 'Construction/China Communications Construction ', 'Dairy/Yili Group', 'Energy/China Shenhua Energy ', 'Energy/China National Nuclear Power ', 'Financial services/CITIC Securities', 'Financial services/Haitong Securities', 'Financial services/Orient Securities', 'Financial services/China Merchants Securities', 'Financial services/Dongxing Securities', 'Financial services/Guotai Junan Securities', 'Financial services/Huatai Securities', 'Financial services/Everbright Securities', 'Financial services/China Galaxy Securities', 'Financial services/Founder Securities', 'Insurance/Ping An Insurance', 'Insurance/New China Life Insurance', 'Insurance/China Pacific Insurance', 'Insurance/China Life Insurance', 'Mining/China Northern Rare Earth', 'Mining/Shandong Gold Mining', 'Oil & gas/Sinopec', 'Oil & gas/PetroChina', 'Pharmaceutical/Kangmei Pharmaceutical', 'Rail transport/Daqin Railway', 'Real estate/Poly Real Estate', 'Real estate/China Fortune Land Development', 'Real estate/Greenland Holdings', 'Rolling stock/CRRC', 'Shipbuilding/China Shipbuilding Industry', 'Telecommunication/China United Network Communications', ' index/Index'])"
      ]
     },
     "execution_count": 132,
     "metadata": {},
     "output_type": "execute_result"
    }
   ],
   "source": [
    "stocks.keys()"
   ]
  }
 ],
 "metadata": {
  "kernelspec": {
   "display_name": "Python 3",
   "language": "python",
   "name": "python3"
  },
  "language_info": {
   "codemirror_mode": {
    "name": "ipython",
    "version": 3
   },
   "file_extension": ".py",
   "mimetype": "text/x-python",
   "name": "python",
   "nbconvert_exporter": "python",
   "pygments_lexer": "ipython3",
   "version": "3.6.10"
  }
 },
 "nbformat": 4,
 "nbformat_minor": 4
}
