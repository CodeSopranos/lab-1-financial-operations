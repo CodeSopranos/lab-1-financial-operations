{
 "cells": [
  {
   "cell_type": "code",
   "execution_count": 123,
   "metadata": {},
   "outputs": [],
   "source": [
    "import yfinance as yf\n",
    "import numpy as np\n",
    "import statistics\n",
    "import pandas as pd\n",
    "import matplotlib.pyplot as plt\n",
    "import plotly.graph_objects as go\n",
    "import plotly.express as px\n",
    "import plotly.io as pio\n",
    "import warnings\n",
    "warnings.simplefilter('ignore')\n",
    "PATH_TO_STOCK = 'data/SSE50.csv'"
   ]
  },
  {
   "cell_type": "markdown",
   "metadata": {},
   "source": [
    "1. Собрать данные по дневным ценам активов (акций) и дневным объемам продаж на заданном фондовом рынке за указанный период. Добавить (если нет) данные по индексу рынка\n",
    "\n",
    "2. Преобразовать данные по ценам в данные по доходностям (используйте логарифмическую доходность). Вычислите оценки ожидаемых доходностей и стандартных отклонений и постройте «карту» активов в системе координат (σ, E).\n",
    "\n",
    "3. Рассмотрите портфель с равными долями капитала и отметьте его на карте активов в системе координат (σ, E). Дайте характеристику этому портфелю.\n",
    "\n",
    "4. Рассмотрите индекс рынка и отметьте его на карте активов в системе координат (σ,E). Дайте характеристику индексу рынка. PS σ - Risk, E - Expectation"
   ]
  },
  {
   "cell_type": "code",
   "execution_count": 2,
   "metadata": {},
   "outputs": [],
   "source": [
    "def get_descriptive_statistics(frame):\n",
    "    E = np.mean(frame[\"Log_R\"])\n",
    "    sigma = np.std(frame[\"Log_R\"])\n",
    "    frame['E'] = E\n",
    "    frame['sigma'] = sigma\n",
    "    return frame, E, sigma\n",
    "\n",
    "def get_log_R(frame):\n",
    "    frame['Log_R'] = np.log(frame['Close'] / frame['Close'].shift(1))\n",
    "    return frame"
   ]
  },
  {
   "cell_type": "code",
   "execution_count": null,
   "metadata": {
    "scrolled": true
   },
   "outputs": [],
   "source": [
    "stocks_stat = pd.DataFrame(columns=['sigma', 'E', 'names', 'mean_vol', 'mean_log_R', 'industry'])\n",
    "stocks_info = pd.read_csv(PATH_TO_STOCK, names=['Name', 'Industry','Symbol'], delimiter=',')\n",
    "n_stocks = len(stocks_info)\n",
    "stocks = {}\n",
    "\n",
    "for index, row in stocks_info.iterrows():\n",
    "    name, industry, symbol = row\n",
    "    if name != 'Index':\n",
    "        symbol = str(symbol) + '.SS'\n",
    "    stock = yf.download(symbol, start=\"2018-01-01\", end=\"2018-12-31\")\n",
    "    stock = get_log_R(stock)\n",
    "    stock, E, s = get_descriptive_statistics(stock)\n",
    "    mean_vol = stock['Volume'].mean()\n",
    "        \n",
    "    stocks_stat.loc[index] = [s, E, name, mean_vol, stock['Log_R'].mean(), industry]\n",
    "    stocks[str(name)] = stock"
   ]
  },
  {
   "cell_type": "code",
   "execution_count": null,
   "metadata": {},
   "outputs": [],
   "source": [
    "fig = px.scatter(stocks_stat, x=\"sigma\", y=\"E\", hover_data=[\"names\"], color=\"industry\",title=\"E, Risk\", size=\"mean_vol\")\n",
    "\n",
    "E_balanced = stocks_stat['E'].mean()\n",
    "sigma_balanced = abs(np.sqrt(np.cov(stocks_stat['mean_log_R'])))\n",
    "vol_balanced = stocks_stat['mean_vol'].mean()\n",
    "\n",
    "fig.add_trace(go.Scatter(\n",
    "    x=[sigma_balanced],\n",
    "    y=[E_balanced],\n",
    "    mode=\"markers+text\",\n",
    "    #name=\"index\",\n",
    "    text='Balanced portfolio',\n",
    "    textposition=\"top center\"\n",
    "))\n",
    "fig.add_trace(go.Scatter(\n",
    "    x=stocks_stat[stocks_stat.names == 'Index']['sigma'].values,\n",
    "    y=stocks_stat[stocks_stat.names == 'Index']['E'].values,\n",
    "    mode=\"markers+text\",\n",
    "    #name=\"index\",\n",
    "    text='Index SSE50',\n",
    "    textposition=\"top center\"\n",
    "))\n",
    "fig.show()\n",
    "# pio.write_html(fig, file='report/fig1.html', auto_open=True)"
   ]
  },
  {
   "cell_type": "markdown",
   "metadata": {},
   "source": [
    "## 5. Value at Risk\n",
    "\n",
    "---\n",
    "    - Задайте уровень риска и оцените VaR (Value at Risk = Сумма под Риском) для активов вашего рынка. \n",
    "    - Какой из активов наиболее предпочтителен по этой характеристике? \n",
    "    - Где он расположен на карте активов? Дайте характеристику VaR портфеля с равными долями и индекса рынка.\n",
    "    \n",
    "---\n"
   ]
  },
  {
   "cell_type": "markdown",
   "metadata": {},
   "source": [
    "**Замечание перед рассчетом VaR**: \n",
    "1. Расчет VaR полагается на предположение о том, что данные доходностей акций нормально распределены.\n",
    "2. Следовательно, перед вычислением VaR проанализируем распределение доходностей с помощью *гистограммы+нормальной кривой* и с помощью статистического *теста на нормальность Шапиро-Вилка*. \n",
    "3. Также можно посмотреть на описательные статистики распределления, например, среднее и медиана (у нормального распределения эти статистики должны быть близки."
   ]
  },
  {
   "cell_type": "code",
   "execution_count": 200,
   "metadata": {},
   "outputs": [
    {
     "name": "stdout",
     "output_type": "stream",
     "text": [
      "Xinwei Group: **Statistics=1.000, p-value=1.000**\n",
      "Ping An Insurance: **Statistics=0.992, p-value=0.248**\n",
      "New China Life Insurance: **Statistics=0.990, p-value=0.102**\n",
      "China Pacific Insurance: **Statistics=0.990, p-value=0.087**\n"
     ]
    }
   ],
   "source": [
    "from scipy import stats\n",
    "\n",
    "\n",
    "assets = list(stocks.keys())\n",
    "for asset in assets:\n",
    "    sample = stocks[asset]\n",
    "    stat, p= stats.shapiro(sample['Log_R'].iloc[1:])\n",
    "    if p > 0.049:\n",
    "        print('%s: **Statistics=%.3f, p-value=%.3f**' % (asset, stat, p))"
   ]
  },
  {
   "cell_type": "code",
   "execution_count": 202,
   "metadata": {},
   "outputs": [
    {
     "name": "stdout",
     "output_type": "stream",
     "text": [
      "Statistics=0.992, p-value=0.248\n"
     ]
    }
   ],
   "source": [
    "chosen_asset = 'Ping An Insurance'\n",
    "sample = stocks[chosen_asset]\n",
    "stat, p= stats.shapiro(sample['Log_R'].iloc[1:])\n",
    "print('Statistics=%.3f, p-value=%.3f' % (stat, p))"
   ]
  },
  {
   "cell_type": "code",
   "execution_count": 203,
   "metadata": {},
   "outputs": [
    {
     "data": {
      "text/plain": [
       "count    242.000000\n",
       "mean      -0.001065\n",
       "std        0.019945\n",
       "min       -0.068382\n",
       "25%       -0.012542\n",
       "50%       -0.000782\n",
       "75%        0.011682\n",
       "max        0.049514\n",
       "Name: Log_R, dtype: float64"
      ]
     },
     "execution_count": 203,
     "metadata": {},
     "output_type": "execute_result"
    }
   ],
   "source": [
    "sample['Log_R'].describe()"
   ]
  },
  {
   "cell_type": "code",
   "execution_count": 204,
   "metadata": {},
   "outputs": [
    {
     "data": {
      "image/png": "[encoded data removed]",
      "text/plain": [
       "<Figure size 432x288 with 1 Axes>"
      ]
     },
     "metadata": {
      "needs_background": "light"
     },
     "output_type": "display_data"
    }
   ],
   "source": [
    "import seaborn as sns\n",
    "plt.grid()\n",
    "sns.distplot(sample['Log_R'], bins=10)\n",
    "plt.show()"
   ]
  },
  {
   "cell_type": "markdown",
   "metadata": {},
   "source": [
    "**1.  Variance-Covariance approach for one asset**"
   ]
  },
  {
   "cell_type": "code",
   "execution_count": 205,
   "metadata": {},
   "outputs": [
    {
     "name": "stdout",
     "output_type": "stream",
     "text": [
      "VaR for Ping An Insurance:\n",
      " - Loss will not exceed -0.0266  with 0.90% confidence.\n",
      " - Loss will not exceed -0.0339  with 0.95% confidence.\n",
      " - Loss will not exceed -0.0475  with 0.99% confidence.\n"
     ]
    }
   ],
   "source": [
    "from scipy.stats import norm\n",
    "\n",
    "confidence_lvl = [0.9, 0.95, 0.99]\n",
    "\n",
    "VaR = {}\n",
    "\n",
    "print('VaR for %s:' % chosen_asset)\n",
    "for clvl in confidence_lvl:\n",
    "    VaR[clvl] = norm.ppf(1-clvl, sample['Log_R'].mean(), sample['Log_R'].std())\n",
    "    print(' - Loss will not exceed %.4f  with %.2f%s confidence.' % (VaR[clvl], clvl, '%'))"
   ]
  },
  {
   "cell_type": "markdown",
   "metadata": {},
   "source": [
    "**Комментарий**: \n",
    "1. Итак, видим, что для того, чтобы рассчитать VaR методом Variance-Covariance достаточно использовать point percentile function (ppf) нормального распределения, которая посчитая нам по заданной вероятности точку на оси абсцисс графика нормального распределения с заданными средним и дисперсией (полученными по выборке).\n",
    "2. Более подробное объяснение есть в [Методы-и-алгоритмы-финансовой-математики](https://vk.com/doc136761433_569070591?hash=bfb7543c4fc46de90d&dl=8a67bf04c0efe170cd) на стр. **599**"
   ]
  },
  {
   "cell_type": "code",
   "execution_count": 218,
   "metadata": {},
   "outputs": [],
   "source": [
    "# посчитаем VaR для всех активов (данным методом), предполагая, что они нормально распределены\n",
    "\n",
    "for asset in assets:\n",
    "    sample = stocks[asset]\n",
    "    for clvl in confidence_lvl:\n",
    "        ind = stocks_stat[stocks_stat.names == asset ].index[0]\n",
    "        stocks_stat.at[ind, 'VaR_'+str(clvl)] = norm.ppf(1-clvl, \n",
    "                                                                               sample['Log_R'].mean(), \n",
    "                                                                               sample['Log_R'].std())"
   ]
  },
  {
   "cell_type": "code",
   "execution_count": 232,
   "metadata": {},
   "outputs": [
    {
     "data": {
      "text/html": [
       "<div>\n",
       "<style scoped>\n",
       "    .dataframe tbody tr th:only-of-type {\n",
       "        vertical-align: middle;\n",
       "    }\n",
       "\n",
       "    .dataframe tbody tr th {\n",
       "        vertical-align: top;\n",
       "    }\n",
       "\n",
       "    .dataframe thead th {\n",
       "        text-align: right;\n",
       "    }\n",
       "</style>\n",
       "<table border=\"1\" class=\"dataframe\">\n",
       "  <thead>\n",
       "    <tr style=\"text-align: right;\">\n",
       "      <th></th>\n",
       "      <th>sigma</th>\n",
       "      <th>E</th>\n",
       "      <th>names</th>\n",
       "      <th>mean_vol</th>\n",
       "      <th>mean_log_R</th>\n",
       "      <th>industry</th>\n",
       "      <th>VaR_0.9</th>\n",
       "      <th>VaR_0.95</th>\n",
       "      <th>VaR_0.99</th>\n",
       "    </tr>\n",
       "  </thead>\n",
       "  <tbody>\n",
       "    <tr>\n",
       "      <th>9</th>\n",
       "      <td>0.011458</td>\n",
       "      <td>-0.001020</td>\n",
       "      <td>Bank of Beijing</td>\n",
       "      <td>3.756217e+07</td>\n",
       "      <td>-0.001020</td>\n",
       "      <td>Banking</td>\n",
       "      <td>-0.015734</td>\n",
       "      <td>-0.019905</td>\n",
       "      <td>-0.027730</td>\n",
       "    </tr>\n",
       "    <tr>\n",
       "      <th>12</th>\n",
       "      <td>0.012251</td>\n",
       "      <td>-0.000336</td>\n",
       "      <td>Bank of Communications</td>\n",
       "      <td>9.692052e+07</td>\n",
       "      <td>-0.000336</td>\n",
       "      <td>Banking</td>\n",
       "      <td>-0.016068</td>\n",
       "      <td>-0.020528</td>\n",
       "      <td>-0.028895</td>\n",
       "    </tr>\n",
       "    <tr>\n",
       "      <th>7</th>\n",
       "      <td>0.012119</td>\n",
       "      <td>-0.000910</td>\n",
       "      <td>Bank of Jiangsu</td>\n",
       "      <td>3.255697e+07</td>\n",
       "      <td>-0.000910</td>\n",
       "      <td>Banking</td>\n",
       "      <td>-0.016473</td>\n",
       "      <td>-0.020885</td>\n",
       "      <td>-0.029161</td>\n",
       "    </tr>\n",
       "    <tr>\n",
       "      <th>5</th>\n",
       "      <td>0.012233</td>\n",
       "      <td>-0.000886</td>\n",
       "      <td>China Minsheng Bank</td>\n",
       "      <td>8.009104e+07</td>\n",
       "      <td>-0.000886</td>\n",
       "      <td>Banking</td>\n",
       "      <td>-0.016596</td>\n",
       "      <td>-0.021049</td>\n",
       "      <td>-0.029404</td>\n",
       "    </tr>\n",
       "    <tr>\n",
       "      <th>15</th>\n",
       "      <td>0.013035</td>\n",
       "      <td>-0.000403</td>\n",
       "      <td>Bank of China</td>\n",
       "      <td>1.560815e+08</td>\n",
       "      <td>-0.000403</td>\n",
       "      <td>Banking</td>\n",
       "      <td>-0.017142</td>\n",
       "      <td>-0.021888</td>\n",
       "      <td>-0.030789</td>\n",
       "    </tr>\n",
       "  </tbody>\n",
       "</table>\n",
       "</div>"
      ],
      "text/plain": [
       "       sigma         E                   names      mean_vol  mean_log_R  \\\n",
       "9   0.011458 -0.001020         Bank of Beijing  3.756217e+07   -0.001020   \n",
       "12  0.012251 -0.000336  Bank of Communications  9.692052e+07   -0.000336   \n",
       "7   0.012119 -0.000910         Bank of Jiangsu  3.255697e+07   -0.000910   \n",
       "5   0.012233 -0.000886     China Minsheng Bank  8.009104e+07   -0.000886   \n",
       "15  0.013035 -0.000403           Bank of China  1.560815e+08   -0.000403   \n",
       "\n",
       "   industry   VaR_0.9  VaR_0.95  VaR_0.99  \n",
       "9   Banking -0.015734 -0.019905 -0.027730  \n",
       "12  Banking -0.016068 -0.020528 -0.028895  \n",
       "7   Banking -0.016473 -0.020885 -0.029161  \n",
       "5   Banking -0.016596 -0.021049 -0.029404  \n",
       "15  Banking -0.017142 -0.021888 -0.030789  "
      ]
     },
     "execution_count": 232,
     "metadata": {},
     "output_type": "execute_result"
    }
   ],
   "source": [
    "# получим самые привлекательные активы, основываясь на VaR (у них наименьшие предполагаемые потери)\n",
    "\n",
    "stocks_stat.sort_values(['VaR_0.95'], ascending=[False]).head(5)"
   ]
  },
  {
   "cell_type": "markdown",
   "metadata": {},
   "source": [
    "![](img/bestVaR.png)"
   ]
  },
  {
   "cell_type": "markdown",
   "metadata": {},
   "source": [
    "**2. Historical Simulation approach**\n",
    "\n",
    "подход заключается в следующем: \n",
    " 1. Вычисляем доходности \n",
    " 2. Сортируем доходности от худшего к лучшему\n",
    " 3. Вычисляем кумулятивную функцию\n",
    "  <br> *=>* VaR с 90% уровнем это 10%\n"
   ]
  },
  {
   "cell_type": "code",
   "execution_count": 233,
   "metadata": {},
   "outputs": [],
   "source": [
    "chosen_asset = 'Ping An Insurance'\n",
    "sample = stocks[chosen_asset]\n",
    "\n",
    "sample = sample.sort_values(['Log_R'], ascending=[True]).dropna()"
   ]
  },
  {
   "cell_type": "code",
   "execution_count": 238,
   "metadata": {},
   "outputs": [
    {
     "name": "stdout",
     "output_type": "stream",
     "text": [
      "VaR for Ping An Insurance:\n",
      " - Loss will not exceed -0.0259  with 0.90% confidence.\n",
      " - Loss will not exceed -0.0348  with 0.95% confidence.\n",
      " - Loss will not exceed -0.0557  with 0.99% confidence.\n"
     ]
    }
   ],
   "source": [
    "print('VaR for %s:' % chosen_asset)\n",
    "for clvl in confidence_lvl:\n",
    "    VaR[clvl] = sample.Log_R.quantile(1-clvl)\n",
    "    print(' - Loss will not exceed %.4f  with %.2f%s confidence.' % (VaR[clvl], clvl, '%'))"
   ]
  },
  {
   "cell_type": "markdown",
   "metadata": {},
   "source": [
    "**Замечание**: \n",
    "    1. Как вы можете увидеть здесь есть значительная разница между посчитанными VaR по методу двум методам, это может говорить о том, что распределение не нормальное."
   ]
  }
 ],
 "metadata": {
  "kernelspec": {
   "display_name": "Python 3",
   "language": "python",
   "name": "python3"
  },
  "language_info": {
   "codemirror_mode": {
    "name": "ipython",
    "version": 3
   },
   "file_extension": ".py",
   "mimetype": "text/x-python",
   "name": "python",
   "nbconvert_exporter": "python",
   "pygments_lexer": "ipython3",
   "version": "3.7.7"
  }
 },
 "nbformat": 4,
 "nbformat_minor": 4
}
