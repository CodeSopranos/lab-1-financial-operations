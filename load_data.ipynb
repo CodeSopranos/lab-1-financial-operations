{
  "nbformat": 4,
  "nbformat_minor": 0,
  "metadata": {
    "colab": {
      "name": "load_data.ipynb",
      "provenance": []
    },
    "kernelspec": {
      "name": "python3",
      "display_name": "Python 3"
    }
  },
  "cells": [
    {
      "cell_type": "code",
      "metadata": {
        "id": "hBprSK2F-Enu",
        "colab_type": "code",
        "colab": {}
      },
      "source": [
        "pip install yfinance"
      ],
      "execution_count": null,
      "outputs": []
    },
    {
      "cell_type": "code",
      "metadata": {
        "id": "CMXwLprvSQMz",
        "colab_type": "code",
        "colab": {}
      },
      "source": [
        "import yfinance as yf\n",
        "import numpy as np\n",
        "import statistics"
      ],
      "execution_count": 3,
      "outputs": []
    },
    {
      "cell_type": "markdown",
      "metadata": {
        "id": "zce0gaLJRN-a",
        "colab_type": "text"
      },
      "source": [
        "1. Собрать данные по дневным ценам активов (акций) и дневным объемам продаж на заданном фондовом рынке за указанный период. Добавить (если нет) данные по индексу рынка"
      ]
    },
    {
      "cell_type": "markdown",
      "metadata": {
        "id": "ubeAU9HgMyi_",
        "colab_type": "text"
      },
      "source": [
        "Данные по Китайской автомобильной компании $Lifan$ за 2018 год\n",
        "\n",
        "### [Lifan](https://finance.yahoo.com/quote/601777.SS?p=601777.SS&.tsrc=fin-srch) Industry (Group) Co., Ltd (601777.SS)\n",
        "#### Shanghai - Shanghai Delayed Price. Currency in CNY"
      ]
    },
    {
      "cell_type": "code",
      "metadata": {
        "id": "1qKVlIHT-XGS",
        "colab_type": "code",
        "colab": {
          "base_uri": "https://localhost:8080/",
          "height": 34
        },
        "outputId": "6556f58f-1b41-4a7b-ac5b-a0790bf941dc"
      },
      "source": [
        "lifan = yf.download(\"601777.SS\", start=\"2017-12-29\", end=\"2018-12-31\")"
      ],
      "execution_count": 4,
      "outputs": [
        {
          "output_type": "stream",
          "text": [
            "\r[*********************100%***********************]  1 of 1 completed\n"
          ],
          "name": "stdout"
        }
      ]
    },
    {
      "cell_type": "code",
      "metadata": {
        "id": "YRjTJxOE-yf_",
        "colab_type": "code",
        "colab": {
          "base_uri": "https://localhost:8080/",
          "height": 431
        },
        "outputId": "bc36848f-580d-409e-d8c5-a1b9c08a359b"
      },
      "source": [
        "lifan"
      ],
      "execution_count": 5,
      "outputs": [
        {
          "output_type": "execute_result",
          "data": {
            "text/html": [
              "<div>\n",
              "<style scoped>\n",
              "    .dataframe tbody tr th:only-of-type {\n",
              "        vertical-align: middle;\n",
              "    }\n",
              "\n",
              "    .dataframe tbody tr th {\n",
              "        vertical-align: top;\n",
              "    }\n",
              "\n",
              "    .dataframe thead th {\n",
              "        text-align: right;\n",
              "    }\n",
              "</style>\n",
              "<table border=\"1\" class=\"dataframe\">\n",
              "  <thead>\n",
              "    <tr style=\"text-align: right;\">\n",
              "      <th></th>\n",
              "      <th>Open</th>\n",
              "      <th>High</th>\n",
              "      <th>Low</th>\n",
              "      <th>Close</th>\n",
              "      <th>Adj Close</th>\n",
              "      <th>Volume</th>\n",
              "    </tr>\n",
              "    <tr>\n",
              "      <th>Date</th>\n",
              "      <th></th>\n",
              "      <th></th>\n",
              "      <th></th>\n",
              "      <th></th>\n",
              "      <th></th>\n",
              "      <th></th>\n",
              "    </tr>\n",
              "  </thead>\n",
              "  <tbody>\n",
              "    <tr>\n",
              "      <th>2017-12-29</th>\n",
              "      <td>7.21</td>\n",
              "      <td>7.27</td>\n",
              "      <td>7.17</td>\n",
              "      <td>7.26</td>\n",
              "      <td>7.26</td>\n",
              "      <td>4059468</td>\n",
              "    </tr>\n",
              "    <tr>\n",
              "      <th>2018-01-02</th>\n",
              "      <td>7.27</td>\n",
              "      <td>7.35</td>\n",
              "      <td>7.25</td>\n",
              "      <td>7.33</td>\n",
              "      <td>7.33</td>\n",
              "      <td>4667429</td>\n",
              "    </tr>\n",
              "    <tr>\n",
              "      <th>2018-01-03</th>\n",
              "      <td>7.32</td>\n",
              "      <td>7.36</td>\n",
              "      <td>7.26</td>\n",
              "      <td>7.34</td>\n",
              "      <td>7.34</td>\n",
              "      <td>6049583</td>\n",
              "    </tr>\n",
              "    <tr>\n",
              "      <th>2018-01-04</th>\n",
              "      <td>7.30</td>\n",
              "      <td>7.34</td>\n",
              "      <td>7.26</td>\n",
              "      <td>7.29</td>\n",
              "      <td>7.29</td>\n",
              "      <td>4343089</td>\n",
              "    </tr>\n",
              "    <tr>\n",
              "      <th>2018-01-05</th>\n",
              "      <td>7.32</td>\n",
              "      <td>7.35</td>\n",
              "      <td>7.28</td>\n",
              "      <td>7.31</td>\n",
              "      <td>7.31</td>\n",
              "      <td>4891203</td>\n",
              "    </tr>\n",
              "    <tr>\n",
              "      <th>...</th>\n",
              "      <td>...</td>\n",
              "      <td>...</td>\n",
              "      <td>...</td>\n",
              "      <td>...</td>\n",
              "      <td>...</td>\n",
              "      <td>...</td>\n",
              "    </tr>\n",
              "    <tr>\n",
              "      <th>2018-12-24</th>\n",
              "      <td>3.91</td>\n",
              "      <td>3.96</td>\n",
              "      <td>3.88</td>\n",
              "      <td>3.93</td>\n",
              "      <td>3.93</td>\n",
              "      <td>4023444</td>\n",
              "    </tr>\n",
              "    <tr>\n",
              "      <th>2018-12-25</th>\n",
              "      <td>3.89</td>\n",
              "      <td>3.89</td>\n",
              "      <td>3.76</td>\n",
              "      <td>3.86</td>\n",
              "      <td>3.86</td>\n",
              "      <td>6438724</td>\n",
              "    </tr>\n",
              "    <tr>\n",
              "      <th>2018-12-26</th>\n",
              "      <td>3.86</td>\n",
              "      <td>3.87</td>\n",
              "      <td>3.83</td>\n",
              "      <td>3.85</td>\n",
              "      <td>3.85</td>\n",
              "      <td>2944340</td>\n",
              "    </tr>\n",
              "    <tr>\n",
              "      <th>2018-12-27</th>\n",
              "      <td>3.91</td>\n",
              "      <td>3.93</td>\n",
              "      <td>3.73</td>\n",
              "      <td>3.73</td>\n",
              "      <td>3.73</td>\n",
              "      <td>4128800</td>\n",
              "    </tr>\n",
              "    <tr>\n",
              "      <th>2018-12-28</th>\n",
              "      <td>3.76</td>\n",
              "      <td>3.83</td>\n",
              "      <td>3.75</td>\n",
              "      <td>3.81</td>\n",
              "      <td>3.81</td>\n",
              "      <td>5080650</td>\n",
              "    </tr>\n",
              "  </tbody>\n",
              "</table>\n",
              "<p>244 rows × 6 columns</p>\n",
              "</div>"
            ],
            "text/plain": [
              "            Open  High   Low  Close  Adj Close   Volume\n",
              "Date                                                   \n",
              "2017-12-29  7.21  7.27  7.17   7.26       7.26  4059468\n",
              "2018-01-02  7.27  7.35  7.25   7.33       7.33  4667429\n",
              "2018-01-03  7.32  7.36  7.26   7.34       7.34  6049583\n",
              "2018-01-04  7.30  7.34  7.26   7.29       7.29  4343089\n",
              "2018-01-05  7.32  7.35  7.28   7.31       7.31  4891203\n",
              "...          ...   ...   ...    ...        ...      ...\n",
              "2018-12-24  3.91  3.96  3.88   3.93       3.93  4023444\n",
              "2018-12-25  3.89  3.89  3.76   3.86       3.86  6438724\n",
              "2018-12-26  3.86  3.87  3.83   3.85       3.85  2944340\n",
              "2018-12-27  3.91  3.93  3.73   3.73       3.73  4128800\n",
              "2018-12-28  3.76  3.83  3.75   3.81       3.81  5080650\n",
              "\n",
              "[244 rows x 6 columns]"
            ]
          },
          "metadata": {
            "tags": []
          },
          "execution_count": 5
        }
      ]
    },
    {
      "cell_type": "markdown",
      "metadata": {
        "id": "dxOpoO3MN3fN",
        "colab_type": "text"
      },
      "source": [
        "\" Индекс SSE Composite (Shanghai Stock Exchange Composite Index (SHCOMP) , кит. – 上海证券交易所综合股价指数, аббревиатура 上证综指) — один из ведущих индексов Шанхайской фондовой биржи (Shanghai Stock Exchange, SSE). Он включает в себя 1075 компаний, торгующихся по спискам «А» и «В».\" - Добавить (если нет) данные по индексу рынка. (Как я понимаю - это данные можно считать за индекс китайского рынка)\n",
        "\n",
        "## SSE Composite Index (000001.SS)\n",
        "### [Shanghai](https://finance.yahoo.com/quote/000001.SS?p=000001.SS&.tsrc=fin-srch) - Shanghai Delayed Price. Currency in CNY"
      ]
    },
    {
      "cell_type": "code",
      "metadata": {
        "id": "8hS2aVTRNW7s",
        "colab_type": "code",
        "colab": {
          "base_uri": "https://localhost:8080/",
          "height": 34
        },
        "outputId": "241db826-7f01-4510-a501-40696bbd4dc0"
      },
      "source": [
        "shanghai = yf.download(\"601777.SS\", start=\"2017-12-29\", end=\"2018-12-31\")"
      ],
      "execution_count": null,
      "outputs": [
        {
          "output_type": "stream",
          "text": [
            "\r[*********************100%***********************]  1 of 1 completed\n"
          ],
          "name": "stdout"
        }
      ]
    },
    {
      "cell_type": "code",
      "metadata": {
        "id": "Q5gqca20PAFN",
        "colab_type": "code",
        "colab": {
          "base_uri": "https://localhost:8080/",
          "height": 431
        },
        "outputId": "845c8c59-d46b-4b60-a3e5-f4a859d1023b"
      },
      "source": [
        "shanghai"
      ],
      "execution_count": null,
      "outputs": [
        {
          "output_type": "execute_result",
          "data": {
            "text/html": [
              "<div>\n",
              "<style scoped>\n",
              "    .dataframe tbody tr th:only-of-type {\n",
              "        vertical-align: middle;\n",
              "    }\n",
              "\n",
              "    .dataframe tbody tr th {\n",
              "        vertical-align: top;\n",
              "    }\n",
              "\n",
              "    .dataframe thead th {\n",
              "        text-align: right;\n",
              "    }\n",
              "</style>\n",
              "<table border=\"1\" class=\"dataframe\">\n",
              "  <thead>\n",
              "    <tr style=\"text-align: right;\">\n",
              "      <th></th>\n",
              "      <th>Open</th>\n",
              "      <th>High</th>\n",
              "      <th>Low</th>\n",
              "      <th>Close</th>\n",
              "      <th>Adj Close</th>\n",
              "      <th>Volume</th>\n",
              "    </tr>\n",
              "    <tr>\n",
              "      <th>Date</th>\n",
              "      <th></th>\n",
              "      <th></th>\n",
              "      <th></th>\n",
              "      <th></th>\n",
              "      <th></th>\n",
              "      <th></th>\n",
              "    </tr>\n",
              "  </thead>\n",
              "  <tbody>\n",
              "    <tr>\n",
              "      <th>2017-12-29</th>\n",
              "      <td>7.21</td>\n",
              "      <td>7.27</td>\n",
              "      <td>7.17</td>\n",
              "      <td>7.26</td>\n",
              "      <td>7.26</td>\n",
              "      <td>4059468</td>\n",
              "    </tr>\n",
              "    <tr>\n",
              "      <th>2018-01-02</th>\n",
              "      <td>7.27</td>\n",
              "      <td>7.35</td>\n",
              "      <td>7.25</td>\n",
              "      <td>7.33</td>\n",
              "      <td>7.33</td>\n",
              "      <td>4667429</td>\n",
              "    </tr>\n",
              "    <tr>\n",
              "      <th>2018-01-03</th>\n",
              "      <td>7.32</td>\n",
              "      <td>7.36</td>\n",
              "      <td>7.26</td>\n",
              "      <td>7.34</td>\n",
              "      <td>7.34</td>\n",
              "      <td>6049583</td>\n",
              "    </tr>\n",
              "    <tr>\n",
              "      <th>2018-01-04</th>\n",
              "      <td>7.30</td>\n",
              "      <td>7.34</td>\n",
              "      <td>7.26</td>\n",
              "      <td>7.29</td>\n",
              "      <td>7.29</td>\n",
              "      <td>4343089</td>\n",
              "    </tr>\n",
              "    <tr>\n",
              "      <th>2018-01-05</th>\n",
              "      <td>7.32</td>\n",
              "      <td>7.35</td>\n",
              "      <td>7.28</td>\n",
              "      <td>7.31</td>\n",
              "      <td>7.31</td>\n",
              "      <td>4891203</td>\n",
              "    </tr>\n",
              "    <tr>\n",
              "      <th>...</th>\n",
              "      <td>...</td>\n",
              "      <td>...</td>\n",
              "      <td>...</td>\n",
              "      <td>...</td>\n",
              "      <td>...</td>\n",
              "      <td>...</td>\n",
              "    </tr>\n",
              "    <tr>\n",
              "      <th>2018-12-24</th>\n",
              "      <td>3.91</td>\n",
              "      <td>3.96</td>\n",
              "      <td>3.88</td>\n",
              "      <td>3.93</td>\n",
              "      <td>3.93</td>\n",
              "      <td>4023444</td>\n",
              "    </tr>\n",
              "    <tr>\n",
              "      <th>2018-12-25</th>\n",
              "      <td>3.89</td>\n",
              "      <td>3.89</td>\n",
              "      <td>3.76</td>\n",
              "      <td>3.86</td>\n",
              "      <td>3.86</td>\n",
              "      <td>6438724</td>\n",
              "    </tr>\n",
              "    <tr>\n",
              "      <th>2018-12-26</th>\n",
              "      <td>3.86</td>\n",
              "      <td>3.87</td>\n",
              "      <td>3.83</td>\n",
              "      <td>3.85</td>\n",
              "      <td>3.85</td>\n",
              "      <td>2944340</td>\n",
              "    </tr>\n",
              "    <tr>\n",
              "      <th>2018-12-27</th>\n",
              "      <td>3.91</td>\n",
              "      <td>3.93</td>\n",
              "      <td>3.73</td>\n",
              "      <td>3.73</td>\n",
              "      <td>3.73</td>\n",
              "      <td>4128800</td>\n",
              "    </tr>\n",
              "    <tr>\n",
              "      <th>2018-12-28</th>\n",
              "      <td>3.76</td>\n",
              "      <td>3.83</td>\n",
              "      <td>3.75</td>\n",
              "      <td>3.81</td>\n",
              "      <td>3.81</td>\n",
              "      <td>5080650</td>\n",
              "    </tr>\n",
              "  </tbody>\n",
              "</table>\n",
              "<p>244 rows × 6 columns</p>\n",
              "</div>"
            ],
            "text/plain": [
              "            Open  High   Low  Close  Adj Close   Volume\n",
              "Date                                                   \n",
              "2017-12-29  7.21  7.27  7.17   7.26       7.26  4059468\n",
              "2018-01-02  7.27  7.35  7.25   7.33       7.33  4667429\n",
              "2018-01-03  7.32  7.36  7.26   7.34       7.34  6049583\n",
              "2018-01-04  7.30  7.34  7.26   7.29       7.29  4343089\n",
              "2018-01-05  7.32  7.35  7.28   7.31       7.31  4891203\n",
              "...          ...   ...   ...    ...        ...      ...\n",
              "2018-12-24  3.91  3.96  3.88   3.93       3.93  4023444\n",
              "2018-12-25  3.89  3.89  3.76   3.86       3.86  6438724\n",
              "2018-12-26  3.86  3.87  3.83   3.85       3.85  2944340\n",
              "2018-12-27  3.91  3.93  3.73   3.73       3.73  4128800\n",
              "2018-12-28  3.76  3.83  3.75   3.81       3.81  5080650\n",
              "\n",
              "[244 rows x 6 columns]"
            ]
          },
          "metadata": {
            "tags": []
          },
          "execution_count": 46
        }
      ]
    },
    {
      "cell_type": "markdown",
      "metadata": {
        "id": "7p4n0lnRRSIC",
        "colab_type": "text"
      },
      "source": [
        "2. Преобразовать данные по ценам в данные по доходностям (используйте логарифмическую доходность). Вычислите оценки ожидаемых доходностей и стандартных отклонений и постройте «карту» активов в системе координат (σ, E).\n",
        "\n",
        "PS σ - Risk, E - Expectation"
      ]
    },
    {
      "cell_type": "markdown",
      "metadata": {
        "id": "nfiLPYrfRejz",
        "colab_type": "text"
      },
      "source": [
        "$R_{log} (t + \\Delta t) = \\frac{P(t)}{P(t - \\Delta t)}$\n",
        "\n",
        "$\\sigma(R) = \\sqrt{\\frac{\\sum^n_{i=1} (r_i - \\overline{r})^2}{n - 1}}$   \n",
        "\n",
        "[NOTE ON SIMPLE AND LOGARITHMIC RETURN](https://core.ac.uk/download/pdf/161062652.pdf)"
      ]
    },
    {
      "cell_type": "code",
      "metadata": {
        "id": "BrCtnhFiRJJ7",
        "colab_type": "code",
        "colab": {}
      },
      "source": [
        "lifan['Log_R'] = np.log(lifan['Close'] / lifan['Close'].shift(1))\n",
        "lifan = lifan.iloc[1:] ## удаляем лишнюю строку\n",
        "n_rows = len(lifan)"
      ],
      "execution_count": 6,
      "outputs": []
    },
    {
      "cell_type": "code",
      "metadata": {
        "id": "YyvFvpHaVIwG",
        "colab_type": "code",
        "colab": {
          "base_uri": "https://localhost:8080/",
          "height": 431
        },
        "outputId": "fea06826-1258-47dd-b676-5026f8ab37a0"
      },
      "source": [
        "lifan"
      ],
      "execution_count": 7,
      "outputs": [
        {
          "output_type": "execute_result",
          "data": {
            "text/html": [
              "<div>\n",
              "<style scoped>\n",
              "    .dataframe tbody tr th:only-of-type {\n",
              "        vertical-align: middle;\n",
              "    }\n",
              "\n",
              "    .dataframe tbody tr th {\n",
              "        vertical-align: top;\n",
              "    }\n",
              "\n",
              "    .dataframe thead th {\n",
              "        text-align: right;\n",
              "    }\n",
              "</style>\n",
              "<table border=\"1\" class=\"dataframe\">\n",
              "  <thead>\n",
              "    <tr style=\"text-align: right;\">\n",
              "      <th></th>\n",
              "      <th>Open</th>\n",
              "      <th>High</th>\n",
              "      <th>Low</th>\n",
              "      <th>Close</th>\n",
              "      <th>Adj Close</th>\n",
              "      <th>Volume</th>\n",
              "      <th>Log_R</th>\n",
              "    </tr>\n",
              "    <tr>\n",
              "      <th>Date</th>\n",
              "      <th></th>\n",
              "      <th></th>\n",
              "      <th></th>\n",
              "      <th></th>\n",
              "      <th></th>\n",
              "      <th></th>\n",
              "      <th></th>\n",
              "    </tr>\n",
              "  </thead>\n",
              "  <tbody>\n",
              "    <tr>\n",
              "      <th>2018-01-02</th>\n",
              "      <td>7.27</td>\n",
              "      <td>7.35</td>\n",
              "      <td>7.25</td>\n",
              "      <td>7.33</td>\n",
              "      <td>7.33</td>\n",
              "      <td>4667429</td>\n",
              "      <td>0.009596</td>\n",
              "    </tr>\n",
              "    <tr>\n",
              "      <th>2018-01-03</th>\n",
              "      <td>7.32</td>\n",
              "      <td>7.36</td>\n",
              "      <td>7.26</td>\n",
              "      <td>7.34</td>\n",
              "      <td>7.34</td>\n",
              "      <td>6049583</td>\n",
              "      <td>0.001363</td>\n",
              "    </tr>\n",
              "    <tr>\n",
              "      <th>2018-01-04</th>\n",
              "      <td>7.30</td>\n",
              "      <td>7.34</td>\n",
              "      <td>7.26</td>\n",
              "      <td>7.29</td>\n",
              "      <td>7.29</td>\n",
              "      <td>4343089</td>\n",
              "      <td>-0.006835</td>\n",
              "    </tr>\n",
              "    <tr>\n",
              "      <th>2018-01-05</th>\n",
              "      <td>7.32</td>\n",
              "      <td>7.35</td>\n",
              "      <td>7.28</td>\n",
              "      <td>7.31</td>\n",
              "      <td>7.31</td>\n",
              "      <td>4891203</td>\n",
              "      <td>0.002740</td>\n",
              "    </tr>\n",
              "    <tr>\n",
              "      <th>2018-01-08</th>\n",
              "      <td>7.37</td>\n",
              "      <td>7.55</td>\n",
              "      <td>7.37</td>\n",
              "      <td>7.46</td>\n",
              "      <td>7.46</td>\n",
              "      <td>11431439</td>\n",
              "      <td>0.020312</td>\n",
              "    </tr>\n",
              "    <tr>\n",
              "      <th>...</th>\n",
              "      <td>...</td>\n",
              "      <td>...</td>\n",
              "      <td>...</td>\n",
              "      <td>...</td>\n",
              "      <td>...</td>\n",
              "      <td>...</td>\n",
              "      <td>...</td>\n",
              "    </tr>\n",
              "    <tr>\n",
              "      <th>2018-12-24</th>\n",
              "      <td>3.91</td>\n",
              "      <td>3.96</td>\n",
              "      <td>3.88</td>\n",
              "      <td>3.93</td>\n",
              "      <td>3.93</td>\n",
              "      <td>4023444</td>\n",
              "      <td>0.002548</td>\n",
              "    </tr>\n",
              "    <tr>\n",
              "      <th>2018-12-25</th>\n",
              "      <td>3.89</td>\n",
              "      <td>3.89</td>\n",
              "      <td>3.76</td>\n",
              "      <td>3.86</td>\n",
              "      <td>3.86</td>\n",
              "      <td>6438724</td>\n",
              "      <td>-0.017972</td>\n",
              "    </tr>\n",
              "    <tr>\n",
              "      <th>2018-12-26</th>\n",
              "      <td>3.86</td>\n",
              "      <td>3.87</td>\n",
              "      <td>3.83</td>\n",
              "      <td>3.85</td>\n",
              "      <td>3.85</td>\n",
              "      <td>2944340</td>\n",
              "      <td>-0.002594</td>\n",
              "    </tr>\n",
              "    <tr>\n",
              "      <th>2018-12-27</th>\n",
              "      <td>3.91</td>\n",
              "      <td>3.93</td>\n",
              "      <td>3.73</td>\n",
              "      <td>3.73</td>\n",
              "      <td>3.73</td>\n",
              "      <td>4128800</td>\n",
              "      <td>-0.031665</td>\n",
              "    </tr>\n",
              "    <tr>\n",
              "      <th>2018-12-28</th>\n",
              "      <td>3.76</td>\n",
              "      <td>3.83</td>\n",
              "      <td>3.75</td>\n",
              "      <td>3.81</td>\n",
              "      <td>3.81</td>\n",
              "      <td>5080650</td>\n",
              "      <td>0.021221</td>\n",
              "    </tr>\n",
              "  </tbody>\n",
              "</table>\n",
              "<p>243 rows × 7 columns</p>\n",
              "</div>"
            ],
            "text/plain": [
              "            Open  High   Low  Close  Adj Close    Volume     Log_R\n",
              "Date                                                              \n",
              "2018-01-02  7.27  7.35  7.25   7.33       7.33   4667429  0.009596\n",
              "2018-01-03  7.32  7.36  7.26   7.34       7.34   6049583  0.001363\n",
              "2018-01-04  7.30  7.34  7.26   7.29       7.29   4343089 -0.006835\n",
              "2018-01-05  7.32  7.35  7.28   7.31       7.31   4891203  0.002740\n",
              "2018-01-08  7.37  7.55  7.37   7.46       7.46  11431439  0.020312\n",
              "...          ...   ...   ...    ...        ...       ...       ...\n",
              "2018-12-24  3.91  3.96  3.88   3.93       3.93   4023444  0.002548\n",
              "2018-12-25  3.89  3.89  3.76   3.86       3.86   6438724 -0.017972\n",
              "2018-12-26  3.86  3.87  3.83   3.85       3.85   2944340 -0.002594\n",
              "2018-12-27  3.91  3.93  3.73   3.73       3.73   4128800 -0.031665\n",
              "2018-12-28  3.76  3.83  3.75   3.81       3.81   5080650  0.021221\n",
              "\n",
              "[243 rows x 7 columns]"
            ]
          },
          "metadata": {
            "tags": []
          },
          "execution_count": 7
        }
      ]
    }
  ]
}